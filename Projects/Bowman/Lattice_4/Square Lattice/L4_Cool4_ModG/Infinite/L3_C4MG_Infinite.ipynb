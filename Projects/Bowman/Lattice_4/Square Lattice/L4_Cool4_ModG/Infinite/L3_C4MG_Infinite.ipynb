{
 "cells": [
  {
   "cell_type": "code",
   "execution_count": 1,
   "id": "d222d07d-7e8f-4831-bcc2-5b47e6bc32f8",
   "metadata": {},
   "outputs": [],
   "source": [
    "%matplotlib inline\n",
    "from math import pi, sin, cos\n",
    "import numpy as np\n",
    "import openmc\n",
    "import openmc.deplete\n",
    "from matplotlib import pyplot"
   ]
  },
  {
   "cell_type": "code",
   "execution_count": 2,
   "id": "b5d018ce-2e32-4e8c-86b0-cfaa7ee58ae5",
   "metadata": {},
   "outputs": [
    {
     "name": "stderr",
     "output_type": "stream",
     "text": [
      "/home/m240600/.conda/envs/openmc-env/lib/python3.11/site-packages/openmc/material.py:740: UserWarning: A uranium enrichment of 19.75 was given for Material ID=\"1\". OpenMC assumes the U234/U235 mass ratio is constant at 0.008, which is only valid at low enrichments. Consider setting the isotopic composition manually for enrichments over 5%.\n",
      "  warnings.warn(msg)\n"
     ]
    }
   ],
   "source": [
    "fuel = openmc.Material(name='uo2')\n",
    "fuel.add_element('U',1, percent_type = \"ao\", enrichment=19.75)\n",
    "fuel.add_element('O',2)\n",
    "fuel.set_density(\"g/cc\",10.5)\n",
    "fuel.depletable = True\n",
    "\n",
    "clad_in = openmc.Material(name='graphite')\n",
    "clad_in.add_element('C',1.0)\n",
    "clad_in.set_density(\"g/cm3\",1.5)\n",
    "clad_in.add_s_alpha_beta('c_Graphite')\n",
    "clad_in.depletable = False\n",
    "\n",
    "clad_out = openmc.Material(name='SiC')\n",
    "clad_out.add_element('C',.5)\n",
    "clad_out.add_element('Si',.5)\n",
    "clad_out.set_density(\"g/cm3\",2.58)\n",
    "clad_out.add_s_alpha_beta('c_C_in_SiC')\n",
    "clad_out.depletable = False\n",
    "\n",
    "naoh = openmc.Material(name='NaOH')\n",
    "naoh.set_density(\"g/cm3\", 1.76)\n",
    "naoh.add_nuclide('Na23', 0.57478656, 'wo')\n",
    "naoh.add_nuclide('O16',  0.39984656, 'wo')\n",
    "naoh.add_nuclide('O17',  0.00016150, 'wo')\n",
    "naoh.add_nuclide('H1',   0.02519782, 'wo')\n",
    "naoh.add_nuclide('H2',   0.00000755, 'wo')\n",
    "\n",
    "\n",
    "lioh = openmc.Material(name='LiOH')\n",
    "lioh.set_density(\"g/cm3\", 1.39)\n",
    "lioh.add_nuclide('Li6', 0.00001251904, 'wo')\n",
    "lioh.add_nuclide('Li7', 0.2929339,'wo')\n",
    "lioh.add_nuclide('O16', 0.6657193, 'wo')\n",
    "lioh.add_nuclide('O17', 0.0002688907, 'wo')\n",
    "lioh.add_nuclide('H1',  0.04195279, 'wo')\n",
    "lioh.add_nuclide('H2',  0.00001257524, 'wo')\n",
    "\n",
    "coolant = openmc.Material.mix_materials([lioh, naoh], [.24562, .75438],'vo')\n",
    "coolant.set_density(\"g/cc\", 1.670)\n",
    "\n",
    "#coolant = openmc.Material(name='LiOH+NaOH')\n",
    "#coolant.set_density(\"g/cm3\",1.67)\n",
    "#coolant.add_nuclide('Li6', 2.2e-8,      'wo')\n",
    "#coolant.add_nuclide('Li7', 0.059659065, 'wo')\n",
    "#coolant.add_nuclide('H1',  0.028405824, 'wo')\n",
    "#coolant.add_nuclide('H2',  0.000006534, 'wo')\n",
    "#coolant.add_nuclide('O16', 0.453590909, 'wo')\n",
    "#coolant.add_nuclide('Na23',0.457386364, 'wo')\n",
    "\n",
    "                    \n",
    "moderator = openmc.Material(name='graphite')\n",
    "moderator.add_element('C',1.0)\n",
    "moderator.set_density(\"g/cc\",1.5)\n",
    "moderator.add_s_alpha_beta('c_Graphite')\n",
    "moderator.depletable = False\n",
    "\n",
    "materials = openmc.Materials([fuel,clad_in,clad_out,coolant,moderator])\n",
    "materials.export_to_xml()"
   ]
  },
  {
   "cell_type": "code",
   "execution_count": 3,
   "id": "4b54f5de-ccdf-4c6f-8a9d-65a04f321c7e",
   "metadata": {},
   "outputs": [],
   "source": [
    "r_fuel   = 0.35\n",
    "r_clad_1 = 0.5\n",
    "r_clad_2 = 0.6\n",
    "\n",
    "r_pt_in  = 5.8 #inner radius of the graphite pressure tube\n",
    "r_pt_out = 6.8 #outer radius of the graphite pressure tube\n",
    "\n",
    "lattice_pitch = 16\n",
    "\n",
    "H=163.345 #core height in cm\n",
    "D=H #core diameter in cm\n",
    "\n",
    "ring_radii = np.array([0.0, 1.6, 3.2, 4.8])\n",
    "\n",
    "surf_fuel = openmc.model.RightCircularCylinder((0,0,-81.6725),163.345,r_fuel)\n",
    "\n",
    "surf_clad_1 = openmc.model.RightCircularCylinder((0,0,-81.6725),163.345,r_clad_1)\n",
    "surf_clad_2 = openmc.model.RightCircularCylinder((0,0,-81.6725),163.345,r_clad_2)\n",
    "\n",
    "surf_pt_1 = openmc.model.RightCircularCylinder((0,0,-81.6725),163.345,r_pt_in)\n",
    "surf_pt_2 = openmc.model.RightCircularCylinder((0,0,-81.6725),163.345,r_pt_out)"
   ]
  },
  {
   "cell_type": "code",
   "execution_count": 4,
   "id": "e1f7589a-6b72-4e54-a37f-7111795b4ccc",
   "metadata": {},
   "outputs": [],
   "source": [
    "radial_surf = [openmc.model.RightCircularCylinder((0,0,-81.6725),163.345,r) for r in\n",
    "               (ring_radii[:-1] + ring_radii[1:])/2]\n",
    "\n",
    "coolant_cells = []\n",
    "for i in range(ring_radii.size):\n",
    "    if i == 0:\n",
    "        coolant_region = -radial_surf[i]\n",
    "    elif i == ring_radii.size - 1:\n",
    "        coolant_region = +radial_surf[i-1] & -surf_pt_1\n",
    "    else:\n",
    "        coolant_region = +radial_surf[i-1] & -radial_surf[i]\n",
    "\n",
    "    coolant_cells.append(openmc.Cell(fill=coolant, region=coolant_region))"
   ]
  },
  {
   "cell_type": "code",
   "execution_count": 5,
   "id": "0cd947f1-69e7-434f-a736-9fd98112be54",
   "metadata": {},
   "outputs": [
    {
     "data": {
      "text/plain": [
       "<matplotlib.image.AxesImage at 0x7fc03c0f26d0>"
      ]
     },
     "execution_count": 5,
     "metadata": {},
     "output_type": "execute_result"
    },
    {
     "data": {
      "image/png": "[encoded data removed]",
      "text/plain": [
       "<Figure size 258.065x259.74 with 1 Axes>"
      ]
     },
     "metadata": {},
     "output_type": "display_data"
    }
   ],
   "source": [
    "plot_args = {'width':(lattice_pitch,lattice_pitch)}\n",
    "bundle_universe = openmc.Universe(cells=coolant_cells)\n",
    "bundle_universe.plot(**plot_args)"
   ]
  },
  {
   "cell_type": "code",
   "execution_count": 6,
   "id": "6749981f-154f-46be-8659-e8804db4ac64",
   "metadata": {},
   "outputs": [],
   "source": [
    "coolant.temperature = 973\n",
    "\n",
    "fuel_cell = openmc.Cell(fill=fuel, region=-surf_fuel)\n",
    "fuel_cell.temperature = 1473\n",
    "\n",
    "clad_cell_1 = openmc.Cell(fill=clad_in, region=+surf_fuel & -surf_clad_1)\n",
    "clad_cell_1.temperature = 1273\n",
    "\n",
    "clad_cell_2 = openmc.Cell(fill=clad_out, region=+surf_clad_1 & -surf_clad_2)\n",
    "clad_cell_2.temperature = 973\n",
    "\n",
    "pin_universe = openmc.Universe(cells=(fuel_cell,clad_cell_1,clad_cell_2))"
   ]
  },
  {
   "cell_type": "code",
   "execution_count": 7,
   "id": "bd5e349b-4a12-4be2-ba1c-e3b108cc8ede",
   "metadata": {},
   "outputs": [
    {
     "data": {
      "text/plain": [
       "<matplotlib.image.AxesImage at 0x7fc038434c90>"
      ]
     },
     "execution_count": 7,
     "metadata": {},
     "output_type": "execute_result"
    },
    {
     "data": {
      "image/png": "[encoded data removed]",
      "text/plain": [
       "<Figure size 258.065x259.74 with 1 Axes>"
      ]
     },
     "metadata": {},
     "output_type": "display_data"
    }
   ],
   "source": [
    "pin_universe.plot(**{'width':(2*r_clad_2,2*r_clad_2)})"
   ]
  },
  {
   "cell_type": "code",
   "execution_count": 8,
   "id": "5f936801-db5a-4b7c-8236-900c94afb214",
   "metadata": {},
   "outputs": [],
   "source": [
    "num_pins = [1, 6, 12, 18]\n",
    "angles = [0, 0, 15, 0]\n",
    "\n",
    "for i, (r, n, a) in enumerate(zip(ring_radii, num_pins, angles)):\n",
    "    for j in range(n):\n",
    "        theta = (a + j/n*360)*pi/180.\n",
    "        x = r*cos(theta)\n",
    "        y = r*sin(theta)\n",
    "\n",
    "        pin_boundary = openmc.ZCylinder(x0=x,y0=y,r=r_clad_2)\n",
    "        coolant_cells[i].region &= +pin_boundary\n",
    "\n",
    "        pin = openmc.Cell(fill=pin_universe, region=-pin_boundary)\n",
    "        pin.translation = (x, y, 0)\n",
    "        pin.id = (i + 1)*100 + j\n",
    "        bundle_universe.add_cell(pin)"
   ]
  },
  {
   "cell_type": "code",
   "execution_count": 9,
   "id": "b010f535-2e30-41a5-8363-4b4fcc79b038",
   "metadata": {},
   "outputs": [
    {
     "data": {
      "text/plain": [
       "<matplotlib.image.AxesImage at 0x7fc0384e0c10>"
      ]
     },
     "execution_count": 9,
     "metadata": {},
     "output_type": "execute_result"
    },
    {
     "data": {
      "image/png": "[encoded data removed]",
      "text/plain": [
       "<Figure size 258.065x259.74 with 1 Axes>"
      ]
     },
     "metadata": {},
     "output_type": "display_data"
    }
   ],
   "source": [
    "bundle_universe.plot(**plot_args)"
   ]
  },
  {
   "cell_type": "code",
   "execution_count": 10,
   "id": "cd3bed0b-ab96-4e67-985a-e3ce922f4794",
   "metadata": {},
   "outputs": [],
   "source": [
    "lattice_boundary = openmc.model.RectangularParallelepiped(-lattice_pitch/2,lattice_pitch/2,-lattice_pitch/2,lattice_pitch/2,-81.6726,81.6726,boundary_type = 'reflective')\n",
    "\n",
    "pt=openmc.Cell(fill=clad_in, region= +surf_pt_1 & -surf_pt_2)\n",
    "pt.temperature = 973\n",
    "\n",
    "bundle_universe.add_cell(pt)\n",
    "moderator_cell=openmc.Cell(fill=moderator, region=-lattice_boundary & +surf_pt_2)\n",
    "moderator_cell.temperature = 973\n",
    "\n",
    "bundle_universe.add_cell(moderator_cell)"
   ]
  },
  {
   "cell_type": "code",
   "execution_count": 11,
   "id": "c413764d-fd86-4d61-9393-f2452314802b",
   "metadata": {},
   "outputs": [
    {
     "data": {
      "text/plain": [
       "<matplotlib.image.AxesImage at 0x7fc03036f950>"
      ]
     },
     "execution_count": 11,
     "metadata": {},
     "output_type": "execute_result"
    },
    {
     "data": {
      "image/png": "[encoded data removed]",
      "text/plain": [
       "<Figure size 258.065x259.74 with 1 Axes>"
      ]
     },
     "metadata": {},
     "output_type": "display_data"
    }
   ],
   "source": [
    "bdu=bundle_universe\n",
    "bdu.plot(**plot_args)"
   ]
  },
  {
   "cell_type": "code",
   "execution_count": 12,
   "id": "a2d91042-26ea-471d-98b9-e077550b4bcb",
   "metadata": {},
   "outputs": [],
   "source": [
    "geometry = openmc.Geometry(bdu)\n",
    "geometry.export_to_xml()\n",
    "\n",
    "materials=openmc.Materials(geometry.get_all_materials().values())\n",
    "materials.export_to_xml()"
   ]
  },
  {
   "cell_type": "code",
   "execution_count": 13,
   "id": "d55a5d5f-dc6c-4461-8f5e-31a5ae5bad49",
   "metadata": {},
   "outputs": [
    {
     "data": {
      "image/png": "[encoded data removed]",
      "text/plain": [
       "<IPython.core.display.Image object>"
      ]
     },
     "execution_count": 13,
     "metadata": {},
     "output_type": "execute_result"
    }
   ],
   "source": [
    "plot = openmc.Plot.from_geometry(geometry)\n",
    "#plot.basis='xz'\n",
    "#plot.origin=(0,0,-81.6725)\n",
    "plot.color_by = 'material'\n",
    "plot.colors = {\n",
    "    fuel: 'yellow',\n",
    "    clad_in: 'grey',\n",
    "    clad_out: 'pink',\n",
    "    coolant: 'blue',\n",
    "    moderator: 'green',\n",
    "}\n",
    "plot.to_ipython_image()"
   ]
  },
  {
   "cell_type": "code",
   "execution_count": 14,
   "id": "60207a52-6388-4e35-8747-c7ea07461fe8",
   "metadata": {},
   "outputs": [],
   "source": [
    "settings = openmc.Settings()\n",
    "settings.particles = 10000\n",
    "settings.batches = 100\n",
    "settings.inactive = 15\n",
    "settings.temperature={'method':'interpolation','range':(250, 2500)}\n",
    "box = openmc.stats.Box(lower_left = (-lattice_pitch/2,-lattice_pitch/2,-H/2),\n",
    "                      upper_right = (lattice_pitch/2,lattice_pitch/2,H/2),\n",
    "                      only_fissionable=True);\n",
    "src = openmc.Source(space=box);\n",
    "settings.source = src\n",
    "settings.export_to_xml()"
   ]
  },
  {
   "cell_type": "code",
   "execution_count": 15,
   "id": "0a569b4b-f1f5-4438-909e-3690b201dd39",
   "metadata": {},
   "outputs": [],
   "source": [
    "tallies_file = openmc.Tallies()"
   ]
  },
  {
   "cell_type": "code",
   "execution_count": 16,
   "id": "468cff32-332f-4d8d-818e-8ef90627c8f3",
   "metadata": {},
   "outputs": [
    {
     "name": "stderr",
     "output_type": "stream",
     "text": [
      "/home/m240600/.conda/envs/openmc-env/lib/python3.11/site-packages/openmc/mixin.py:70: IDWarning: Another Filter instance already exists with id=1.\n",
      "  warn(msg, IDWarning)\n"
     ]
    }
   ],
   "source": [
    "therm_abs_rate = openmc.Tally(name = 'therm. abs. rate')\n",
    "therm_abs_rate.scores = ['absorption']\n",
    "therm_abs_rate.filters = [openmc.EnergyFilter([0., 0.625])]\n",
    "tallies_file.append(therm_abs_rate)\n",
    "\n",
    "fuel_therm_abs_rate = openmc.Tally(name='fuel therm. abs.rate')\n",
    "fuel_therm_abs_rate.scores = ['absorption']\n",
    "fuel_therm_abs_rate.filters = [openmc.EnergyFilter([0., 0.625]),openmc.CellFilter([fuel_cell])]\n",
    "tallies_file.append(fuel_therm_abs_rate)\n",
    "\n",
    "tallies_file.export_to_xml()"
   ]
  },
  {
   "cell_type": "code",
   "execution_count": 17,
   "id": "a3afca27-22ad-4e67-9d5e-6f6f86c3a91d",
   "metadata": {},
   "outputs": [
    {
     "name": "stdout",
     "output_type": "stream",
     "text": [
      "                                %%%%%%%%%%%%%%%\n",
      "                           %%%%%%%%%%%%%%%%%%%%%%%%\n",
      "                        %%%%%%%%%%%%%%%%%%%%%%%%%%%%%%\n",
      "                      %%%%%%%%%%%%%%%%%%%%%%%%%%%%%%%%%%\n",
      "                    %%%%%%%%%%%%%%%%%%%%%%%%%%%%%%%%%%%%%%\n",
      "                   %%%%%%%%%%%%%%%%%%%%%%%%%%%%%%%%%%%%%%%%\n",
      "                                    %%%%%%%%%%%%%%%%%%%%%%%%\n",
      "                                     %%%%%%%%%%%%%%%%%%%%%%%%\n",
      "                 ###############      %%%%%%%%%%%%%%%%%%%%%%%%\n",
      "                ##################     %%%%%%%%%%%%%%%%%%%%%%%\n",
      "                ###################     %%%%%%%%%%%%%%%%%%%%%%%\n",
      "                ####################     %%%%%%%%%%%%%%%%%%%%%%\n",
      "                #####################     %%%%%%%%%%%%%%%%%%%%%\n",
      "                ######################     %%%%%%%%%%%%%%%%%%%%\n",
      "                #######################     %%%%%%%%%%%%%%%%%%\n",
      "                 #######################     %%%%%%%%%%%%%%%%%\n",
      "                 ######################     %%%%%%%%%%%%%%%%%\n",
      "                  ####################     %%%%%%%%%%%%%%%%%\n",
      "                    #################     %%%%%%%%%%%%%%%%%\n",
      "                     ###############     %%%%%%%%%%%%%%%%\n",
      "                       ############     %%%%%%%%%%%%%%%\n",
      "                          ########     %%%%%%%%%%%%%%\n",
      "                                      %%%%%%%%%%%\n",
      "\n",
      "                 | The OpenMC Monte Carlo Code\n",
      "       Copyright | 2011-2023 MIT, UChicago Argonne LLC, and contributors\n",
      "         License | https://docs.openmc.org/en/latest/license.html\n",
      "         Version | 0.13.3\n",
      "        Git SHA1 | 50e39a4e20dc9e0f3d7ccf07333f6a5e6c797c8c\n",
      "       Date/Time | 2023-11-13 17:48:09\n",
      "  OpenMP Threads | 192\n",
      "\n",
      " Reading settings XML file...\n",
      " Reading cross sections XML file...\n",
      " Reading materials XML file...\n",
      " Reading geometry XML file...\n",
      " Reading U234 from /home/m240600/OpenMC_CrossSections/lib80x_hdf5/U234.h5\n",
      " Reading U235 from /home/m240600/OpenMC_CrossSections/lib80x_hdf5/U235.h5\n",
      " Reading U238 from /home/m240600/OpenMC_CrossSections/lib80x_hdf5/U238.h5\n",
      " Reading U236 from /home/m240600/OpenMC_CrossSections/lib80x_hdf5/U236.h5\n",
      " Reading O16 from /home/m240600/OpenMC_CrossSections/lib80x_hdf5/O16.h5\n",
      " Reading O17 from /home/m240600/OpenMC_CrossSections/lib80x_hdf5/O17.h5\n",
      " Reading O18 from /home/m240600/OpenMC_CrossSections/lib80x_hdf5/O18.h5\n",
      " Reading C12 from /home/m240600/OpenMC_CrossSections/lib80x_hdf5/C12.h5\n",
      " Reading C13 from /home/m240600/OpenMC_CrossSections/lib80x_hdf5/C13.h5\n",
      " Reading Si28 from /home/m240600/OpenMC_CrossSections/lib80x_hdf5/Si28.h5\n",
      " Reading Si29 from /home/m240600/OpenMC_CrossSections/lib80x_hdf5/Si29.h5\n",
      " Reading Si30 from /home/m240600/OpenMC_CrossSections/lib80x_hdf5/Si30.h5\n",
      " Reading Li6 from /home/m240600/OpenMC_CrossSections/lib80x_hdf5/Li6.h5\n",
      " Reading Li7 from /home/m240600/OpenMC_CrossSections/lib80x_hdf5/Li7.h5\n",
      " Reading H1 from /home/m240600/OpenMC_CrossSections/lib80x_hdf5/H1.h5\n",
      " Reading H2 from /home/m240600/OpenMC_CrossSections/lib80x_hdf5/H2.h5\n",
      " Reading Na23 from /home/m240600/OpenMC_CrossSections/lib80x_hdf5/Na23.h5\n",
      " Reading c_Graphite from\n",
      " /home/m240600/OpenMC_CrossSections/lib80x_hdf5/c_Graphite.h5\n",
      " Reading c_C_in_SiC from\n",
      " /home/m240600/OpenMC_CrossSections/lib80x_hdf5/c_C_in_SiC.h5\n",
      " Minimum neutron data temperature: 250 K\n",
      " Maximum neutron data temperature: 2500 K\n",
      " Reading tallies XML file...\n",
      " Preparing distributed cell instances...\n",
      " Reading plot XML file...\n",
      " Writing summary.h5 file...\n",
      " Maximum neutron transport energy: 20000000 eV for O17\n",
      " Initializing source particles...\n",
      "\n",
      " ====================>     K EIGENVALUE SIMULATION     <====================\n",
      "\n",
      "  Bat./Gen.      k            Average k\n",
      "  =========   ========   ====================\n",
      "        1/1    1.57540\n",
      "        2/1    1.56358\n",
      "        3/1    1.59044\n",
      "        4/1    1.57150\n",
      "        5/1    1.60013\n",
      "        6/1    1.55791\n",
      "        7/1    1.55695\n",
      "        8/1    1.57669\n",
      "        9/1    1.59703\n",
      "       10/1    1.56636\n",
      "       11/1    1.58352\n",
      "       12/1    1.61874\n",
      "       13/1    1.58765\n",
      "       14/1    1.58423\n",
      "       15/1    1.59645\n",
      "       16/1    1.60607\n",
      "       17/1    1.58452    1.59530 +/- 0.01078\n",
      "       18/1    1.59974    1.59678 +/- 0.00640\n",
      "       19/1    1.59316    1.59588 +/- 0.00461\n",
      "       20/1    1.57743    1.59219 +/- 0.00513\n",
      "       21/1    1.55390    1.58581 +/- 0.00764\n",
      "       22/1    1.57863    1.58478 +/- 0.00653\n",
      "       23/1    1.59316    1.58583 +/- 0.00575\n",
      "       24/1    1.57316    1.58442 +/- 0.00527\n",
      "       25/1    1.58525    1.58450 +/- 0.00471\n",
      "       26/1    1.56750    1.58296 +/- 0.00453\n",
      "       27/1    1.54272    1.57960 +/- 0.00533\n",
      "       28/1    1.59137    1.58051 +/- 0.00498\n",
      "       29/1    1.58068    1.58052 +/- 0.00461\n",
      "       30/1    1.60663    1.58226 +/- 0.00463\n",
      "       31/1    1.58815    1.58263 +/- 0.00435\n",
      "       32/1    1.57311    1.58207 +/- 0.00412\n",
      "       33/1    1.57181    1.58150 +/- 0.00393\n",
      "       34/1    1.60799    1.58289 +/- 0.00397\n",
      "       35/1    1.57499    1.58250 +/- 0.00379\n",
      "       36/1    1.59213    1.58296 +/- 0.00363\n",
      "       37/1    1.58080    1.58286 +/- 0.00346\n",
      "       38/1    1.61093    1.58408 +/- 0.00353\n",
      "       39/1    1.57775    1.58382 +/- 0.00339\n",
      "       40/1    1.55780    1.58277 +/- 0.00341\n",
      "       41/1    1.59386    1.58320 +/- 0.00331\n",
      "       42/1    1.58480    1.58326 +/- 0.00318\n",
      "       43/1    1.59890    1.58382 +/- 0.00312\n",
      "       44/1    1.58792    1.58396 +/- 0.00301\n",
      "       45/1    1.58558    1.58401 +/- 0.00291\n",
      "       46/1    1.55598    1.58311 +/- 0.00295\n",
      "       47/1    1.58695    1.58323 +/- 0.00286\n",
      "       48/1    1.56028    1.58253 +/- 0.00286\n",
      "       49/1    1.61049    1.58336 +/- 0.00290\n",
      "       50/1    1.58228    1.58333 +/- 0.00281\n",
      "       51/1    1.55988    1.58267 +/- 0.00281\n",
      "       52/1    1.56696    1.58225 +/- 0.00276\n",
      "       53/1    1.56586    1.58182 +/- 0.00273\n",
      "       54/1    1.56874    1.58148 +/- 0.00268\n",
      "       55/1    1.56712    1.58112 +/- 0.00263\n",
      "       56/1    1.61749    1.58201 +/- 0.00272\n",
      "       57/1    1.60658    1.58260 +/- 0.00271\n",
      "       58/1    1.55344    1.58192 +/- 0.00274\n",
      "       59/1    1.58625    1.58202 +/- 0.00267\n",
      "       60/1    1.55108    1.58133 +/- 0.00270\n",
      "       61/1    1.60049    1.58175 +/- 0.00268\n",
      "       62/1    1.55519    1.58118 +/- 0.00268\n",
      "       63/1    1.61110    1.58180 +/- 0.00270\n",
      "       64/1    1.59909    1.58216 +/- 0.00266\n",
      "       65/1    1.62186    1.58295 +/- 0.00273\n",
      "       66/1    1.54474    1.58220 +/- 0.00278\n",
      "       67/1    1.60746    1.58269 +/- 0.00277\n",
      "       68/1    1.56406    1.58234 +/- 0.00274\n",
      "       69/1    1.57011    1.58211 +/- 0.00269\n",
      "       70/1    1.59579    1.58236 +/- 0.00266\n",
      "       71/1    1.57723    1.58227 +/- 0.00261\n",
      "       72/1    1.56570    1.58198 +/- 0.00258\n",
      "       73/1    1.57993    1.58194 +/- 0.00254\n",
      "       74/1    1.57272    1.58178 +/- 0.00250\n",
      "       75/1    1.54753    1.58121 +/- 0.00252\n",
      "       76/1    1.55487    1.58078 +/- 0.00252\n",
      "       77/1    1.61428    1.58132 +/- 0.00253\n",
      "       78/1    1.56706    1.58110 +/- 0.00250\n",
      "       79/1    1.60504    1.58147 +/- 0.00249\n",
      "       80/1    1.57275    1.58134 +/- 0.00246\n",
      "       81/1    1.59342    1.58152 +/- 0.00243\n",
      "       82/1    1.57473    1.58142 +/- 0.00239\n",
      "       83/1    1.58333    1.58145 +/- 0.00236\n",
      "       84/1    1.57405    1.58134 +/- 0.00233\n",
      "       85/1    1.57622    1.58126 +/- 0.00229\n",
      "       86/1    1.59217    1.58142 +/- 0.00227\n",
      "       87/1    1.58198    1.58143 +/- 0.00223\n",
      "       88/1    1.59352    1.58159 +/- 0.00221\n",
      "       89/1    1.54869    1.58115 +/- 0.00222\n",
      "       90/1    1.59792    1.58137 +/- 0.00221\n",
      "       91/1    1.55734    1.58105 +/- 0.00220\n",
      "       92/1    1.59151    1.58119 +/- 0.00218\n",
      "       93/1    1.60847    1.58154 +/- 0.00218\n",
      "       94/1    1.59024    1.58165 +/- 0.00215\n",
      "       95/1    1.54682    1.58121 +/- 0.00217\n",
      "       96/1    1.57642    1.58116 +/- 0.00214\n",
      "       97/1    1.60461    1.58144 +/- 0.00213\n",
      "       98/1    1.58679    1.58151 +/- 0.00211\n",
      "       99/1    1.56346    1.58129 +/- 0.00210\n",
      "      100/1    1.58744    1.58136 +/- 0.00207\n",
      " Creating state point statepoint.100.h5...\n",
      "\n",
      " =======================>     TIMING STATISTICS     <=======================\n",
      "\n",
      " Total time for initialization     = 1.5102e+01 seconds\n",
      "   Reading cross sections          = 1.4936e+01 seconds\n",
      " Total time in simulation          = 1.6802e+01 seconds\n",
      "   Time in transport only          = 1.0349e+01 seconds\n",
      "   Time in inactive batches        = 1.3175e+00 seconds\n",
      "   Time in active batches          = 1.5484e+01 seconds\n",
      "   Time synchronizing fission bank = 1.0166e-01 seconds\n",
      "     Sampling source sites         = 8.7215e-02 seconds\n",
      "     SEND/RECV source sites        = 1.3679e-02 seconds\n",
      "   Time accumulating tallies       = 6.1946e+00 seconds\n",
      "   Time writing statepoints        = 1.2164e-02 seconds\n",
      " Total time for finalization       = 3.0464e-04 seconds\n",
      " Total time elapsed                = 3.2130e+01 seconds\n",
      " Calculation Rate (inactive)       = 113853 particles/second\n",
      " Calculation Rate (active)         = 54894.7 particles/second\n",
      "\n",
      " ============================>     RESULTS     <============================\n",
      "\n",
      " k-effective (Collision)     = 1.58161 +/- 0.00152\n",
      " k-effective (Track-length)  = 1.58136 +/- 0.00207\n",
      " k-effective (Absorption)    = 1.58095 +/- 0.00087\n",
      " Combined k-effective        = 1.58096 +/- 0.00086\n",
      " Leakage Fraction            = 0.00000 +/- 0.00000\n",
      "\n"
     ]
    }
   ],
   "source": [
    "openmc.run()"
   ]
  },
  {
   "cell_type": "code",
   "execution_count": 18,
   "id": "8c5e1742-a550-4103-a86a-3ac5154e9e6a",
   "metadata": {},
   "outputs": [],
   "source": [
    "sp = openmc.StatePoint('statepoint.100.h5')"
   ]
  },
  {
   "cell_type": "code",
   "execution_count": 19,
   "id": "a7fe930e-739a-480c-9378-3d368ca338fe",
   "metadata": {},
   "outputs": [
    {
     "data": {
      "text/html": [
       "<div>\n",
       "<style scoped>\n",
       "    .dataframe tbody tr th:only-of-type {\n",
       "        vertical-align: middle;\n",
       "    }\n",
       "\n",
       "    .dataframe tbody tr th {\n",
       "        vertical-align: top;\n",
       "    }\n",
       "\n",
       "    .dataframe thead th {\n",
       "        text-align: right;\n",
       "    }\n",
       "</style>\n",
       "<table border=\"1\" class=\"dataframe\">\n",
       "  <thead>\n",
       "    <tr style=\"text-align: right;\">\n",
       "      <th></th>\n",
       "      <th>energy low [eV]</th>\n",
       "      <th>energy high [eV]</th>\n",
       "      <th>cell</th>\n",
       "      <th>nuclide</th>\n",
       "      <th>score</th>\n",
       "      <th>mean</th>\n",
       "      <th>std. dev.</th>\n",
       "    </tr>\n",
       "  </thead>\n",
       "  <tbody>\n",
       "    <tr>\n",
       "      <th>0</th>\n",
       "      <td>0.0</td>\n",
       "      <td>0.625</td>\n",
       "      <td>5</td>\n",
       "      <td>total</td>\n",
       "      <td>(absorption / absorption)</td>\n",
       "      <td>0.943686</td>\n",
       "      <td>0.002549</td>\n",
       "    </tr>\n",
       "  </tbody>\n",
       "</table>\n",
       "</div>"
      ],
      "text/plain": [
       "   energy low [eV]  energy high [eV]  cell nuclide                      score  \\\n",
       "0         0.00e+00          6.25e-01     5   total  (absorption / absorption)   \n",
       "\n",
       "      mean  std. dev.  \n",
       "0 9.44e-01   2.55e-03  "
      ]
     },
     "execution_count": 19,
     "metadata": {},
     "output_type": "execute_result"
    }
   ],
   "source": [
    "therm_abs_rate = sp.get_tally(name='therm. abs. rate')\n",
    "fuel_therm_abs_rate = sp.get_tally(name='fuel therm. abs.rate')\n",
    "therm_util = fuel_therm_abs_rate /therm_abs_rate\n",
    "therm_util.get_pandas_dataframe()"
   ]
  },
  {
   "cell_type": "code",
   "execution_count": null,
   "id": "f81e7aa2-6aae-4f49-a597-a774fb4f3d79",
   "metadata": {},
   "outputs": [],
   "source": [
    "fuel.volume = pi*r_fuel**2*H*37 #cm^3 for 37 fuel pins"
   ]
  },
  {
   "cell_type": "code",
   "execution_count": null,
   "id": "0c8cecd4-0cbd-4c91-be13-5b83f1290c46",
   "metadata": {},
   "outputs": [],
   "source": [
    "model=openmc.model.Model(geometry,materials,settings)\n",
    "operator = openmc.deplete.CoupledOperator(model,\"chain_endfb80_pwr.xml\")\n",
    "\n",
    "power_density = 35 #MW/kg\n",
    "\n",
    "days = 3600*24; #number of seconds in a day\n",
    "\n",
    "time_steps = [0.1*days,0.1*days, 0.1*days, 0.1*days, 0.1*days,\n",
    "              0.25*days, 0.25*days, 0.25*days, 0.25*days, 0.25*days, 0.25*days,\n",
    "              0.5*days, 0.5*days, 0.5*days,0.5*days,\n",
    "              0.75*days, 0.75*days, 0.75*days, 0.75*days,\n",
    "              1*days, 1*days, 1*days, 1*days, 1*days, 1*days, 1*days, 1*days, 1*days, 1*days, 1*days, 1*days, 1*days, 1*days, 1*days, 1*days,\n",
    "              1.5*days, 1.5*days, 1.5*days, 1.5*days, 1.5*days, 1.5*days, 1.5*days, 1.5*days, 1.5*days, 1.5*days,\n",
    "              2*days, 2*days, 2*days, 2*days, 2*days, 2*days, 2*days, 2*days, 2*days, 2*days, 2*days,\n",
    "              5*days, 5*days, 5*days, 5*days,5*days, 5*days, 5*days, 5*days, 5*days, 5*days,5*days, 5*days,\n",
    "              10*days, 10*days, 10*days, 10*days, 10*days, 10*days, 10*days, 10*days, 10*days, 10*days, 10*days, 10*days, 10*days, 10*days,\n",
    "              15*days, 15*days, 15*days, 15*days, 15*days, 15*days, 15*days, 15*days,\n",
    "              20*days, 20*days, 20*days, 20*days, 20*days, 20*days, 20*days, 20*days, 20*days, 20*days, 20*days, 20*days,\n",
    "              30*days, 30*days, 30*days, 30*days, 30*days, 30*days, 30*days, 30*days, 30*days, 30*days, 30*days, 30*days,\n",
    "              30*days, 30*days, 30*days, 30*days, 30*days, 30*days, 30*days, 30*days, 30*days, 30*days, 30*days, 30*days,\n",
    "              30*days, 30*days, 30*days, 30*days, 30*days, 30*days, 30*days, 30*days, 30*days, 30*days, 30*days, 30*days,\n",
    "              40*days, 40*days, 40*days, 40*days, 40*days, 40*days, 40*days, 40*days, 40*days, 40*days,\n",
    "              50*days, 50*days, 50*days, 50*days, 50*days, 50*days, 50*days, 50*days, 50*days, 50*days, 50*days, 50*days,\n",
    "              60*days, 60*days, 60*days, 60*days, 60*days, 60*days, 60*days, 60*days, 60*days, 60*days, 60*days, 60*days,\n",
    "              60*days, 60*days, 60*days, 60*days, 60*days, 60*days, 60*days, 60*days, 60*days, 60*days, 60*days, 60*days,\n",
    "              60*days, 60*days, 60*days, 60*days, 60*days, 60*days, 60*days, 60*days, 60*days, 60*days, 60*days, 60*days,\n",
    "              60*days, 60*days, 60*days, 60*days]\n",
    "\n",
    "\n",
    "cemc = openmc.deplete.CECMIntegrator(operator,time_steps,power_density = power_density,timestep_units='s')\n",
    "\n",
    "#repeat_depletion = False;\n",
    "\n",
    "#if(repeat_depletion):\n",
    "#    cecm.integrate()"
   ]
  },
  {
   "cell_type": "code",
   "execution_count": null,
   "id": "d0db934f-c8e3-45da-b4e7-0df3a08810ea",
   "metadata": {},
   "outputs": [],
   "source": [
    "#emc.integrate()"
   ]
  },
  {
   "cell_type": "code",
   "execution_count": null,
   "id": "05b6a2c6-81f0-4358-bb61-2277f695c2a6",
   "metadata": {},
   "outputs": [],
   "source": [
    "#results = openmc.deplete.Results(\"./depletion_results.h5\")"
   ]
  },
  {
   "cell_type": "code",
   "execution_count": null,
   "id": "8e2d705e-09ad-458e-ada3-8218dce18ff9",
   "metadata": {},
   "outputs": [],
   "source": [
    "#time, k =results.get_keff()"
   ]
  },
  {
   "cell_type": "code",
   "execution_count": null,
   "id": "8cd63c3b-7dbc-4bfb-b475-d08b390465e4",
   "metadata": {},
   "outputs": [],
   "source": [
    "#time /=(24*3600*1392)/48.72 #converts to MWd/kgHM\n",
    "#time"
   ]
  },
  {
   "cell_type": "code",
   "execution_count": null,
   "id": "c6d1b7ba-16dc-4d28-b350-939c8ab1541a",
   "metadata": {},
   "outputs": [],
   "source": [
    "k"
   ]
  },
  {
   "cell_type": "code",
   "execution_count": null,
   "id": "1fd93a0c-5bf0-4bc6-a0cb-32298a5b6d84",
   "metadata": {},
   "outputs": [],
   "source": [
    "eff=[1]*201"
   ]
  },
  {
   "cell_type": "code",
   "execution_count": null,
   "id": "0ae9fe6f-9ed9-4303-abaf-7987acbbaa98",
   "metadata": {},
   "outputs": [],
   "source": [
    "def find_roots(x,y):\n",
    "    s = np.abs(np.diff(np.sign(y))).astype(bool)\n",
    "    return x[:-1][s] + np.diff(x)[s]/(np.abs(y[1:][s]/y[:-1][s])+1)\n",
    "\n",
    "z = find_roots(time,eff-k[:,0])\n",
    "z"
   ]
  },
  {
   "cell_type": "code",
   "execution_count": null,
   "id": "cf58e073-0868-452b-89c6-8a0eb812d116",
   "metadata": {},
   "outputs": [],
   "source": [
    "pyplot.plot(time, k[:, 0],color='green',marker='o',markersize=3)\n",
    "eff=[1]*201\n",
    "pyplot.plot(time,eff,color='red')\n",
    "pyplot.xlabel(\"MWd/kg\")\n",
    "pyplot.ylabel(\"$k_{eff}\\pm \\sigma$\");\n",
    "\n",
    "pyplot.show()"
   ]
  },
  {
   "cell_type": "code",
   "execution_count": null,
   "id": "11b1ecdb-8eba-4463-b8e5-74f2e09beff0",
   "metadata": {},
   "outputs": [],
   "source": []
  }
 ],
 "metadata": {
  "kernelspec": {
   "display_name": "Python 3 (ipykernel)",
   "language": "python",
   "name": "python3"
  },
  "language_info": {
   "codemirror_mode": {
    "name": "ipython",
    "version": 3
   },
   "file_extension": ".py",
   "mimetype": "text/x-python",
   "name": "python",
   "nbconvert_exporter": "python",
   "pygments_lexer": "ipython3",
   "version": "3.11.5"
  }
 },
 "nbformat": 4,
 "nbformat_minor": 5
}
