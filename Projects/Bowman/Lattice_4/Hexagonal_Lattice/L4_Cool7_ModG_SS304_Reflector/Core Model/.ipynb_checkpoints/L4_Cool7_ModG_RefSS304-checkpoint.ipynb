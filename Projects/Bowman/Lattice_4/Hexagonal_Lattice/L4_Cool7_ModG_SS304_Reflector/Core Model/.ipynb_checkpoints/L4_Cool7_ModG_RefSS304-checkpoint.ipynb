{
 "cells": [
  {
   "cell_type": "code",
   "execution_count": 1,
   "id": "d222d07d-7e8f-4831-bcc2-5b47e6bc32f8",
   "metadata": {},
   "outputs": [],
   "source": [
    "%matplotlib inline\n",
    "from math import pi, sin, cos\n",
    "import numpy as np\n",
    "import openmc\n",
    "import openmc.deplete\n",
    "from matplotlib import pyplot"
   ]
  },
  {
   "cell_type": "code",
   "execution_count": 2,
   "id": "b5d018ce-2e32-4e8c-86b0-cfaa7ee58ae5",
   "metadata": {},
   "outputs": [
    {
     "name": "stderr",
     "output_type": "stream",
     "text": [
      "/home/m240600/.conda/envs/openmc-env/lib/python3.11/site-packages/openmc/material.py:740: UserWarning: A uranium enrichment of 19.75 was given for Material ID=\"1\". OpenMC assumes the U234/U235 mass ratio is constant at 0.008, which is only valid at low enrichments. Consider setting the isotopic composition manually for enrichments over 5%.\n",
      "  warnings.warn(msg)\n"
     ]
    }
   ],
   "source": [
    "fuel = openmc.Material(name='uo2')\n",
    "fuel.add_element('U',1, percent_type = \"ao\", enrichment=19.75)\n",
    "fuel.add_element('O',2)\n",
    "fuel.set_density(\"g/cc\",10.5)\n",
    "fuel.depletable = True\n",
    "\n",
    "clad_in = openmc.Material(name='graphite')\n",
    "clad_in.add_element('C',1.0)\n",
    "clad_in.set_density(\"g/cm3\",1.5)\n",
    "clad_in.add_s_alpha_beta('c_Graphite')\n",
    "clad_in.depletable = False\n",
    "\n",
    "clad_out = openmc.Material(name='SiC')\n",
    "clad_out.add_element('C',1)\n",
    "clad_out.add_element('Si',1)\n",
    "clad_out.set_density(\"g/cm3\",2.58)\n",
    "clad_out.add_s_alpha_beta('c_C_in_SiC')\n",
    "clad_out.depletable = False\n",
    "\n",
    "coolant = openmc.Material(name='FLiBe')\n",
    "coolant.set_density(\"g/cc\", 1.94);\n",
    "coolant.add_nuclide('Be9', 9.027871e-2,'wo')\n",
    "coolant.add_nuclide('F19', 7.670254e-1,'wo')\n",
    "coolant.add_nuclide('Li7', 1.426898e-1,'wo')\n",
    "coolant.add_nuclide('Li6', 6.116890e-6,'wo')\n",
    "coolant.depletable = False\n",
    "\n",
    "reflector1 = openmc.Material(name='SS304')\n",
    "reflector1.set_density(\"g/cm3\", 8.03)\n",
    "reflector1.add_element('C',    .0008, 'wo')\n",
    "reflector1.add_nuclide('Mn55', .02,   'wo')\n",
    "reflector1.add_nuclide('P31',  .00045,'wo')\n",
    "reflector1.add_element('S',    .0003, 'wo')\n",
    "reflector1.add_element('Si',   .01,   'wo')\n",
    "reflector1.add_element('Cr',   .19,   'wo')\n",
    "reflector1.add_element('Ni',   .095,  'wo')\n",
    "reflector1.add_element('Fe',   .68345,'wo')\n",
    "reflector1.depletable = False\n",
    "                    \n",
    "moderator = openmc.Material(name='graphite')\n",
    "moderator.add_element('C',1.0)\n",
    "moderator.set_density(\"g/cc\",1.5)\n",
    "moderator.add_s_alpha_beta('c_Graphite')\n",
    "moderator.depletable = False\n",
    "\n",
    "e_moderator = openmc.Material(name='graphite')\n",
    "e_moderator.add_element('C',1.0)\n",
    "e_moderator.set_density(\"g/cc\",1.5)\n",
    "e_moderator.add_s_alpha_beta('c_Graphite')\n",
    "e_moderator.depletable = False\n",
    "\n",
    "materials = openmc.Materials([fuel,clad_in,clad_out,coolant,moderator,e_moderator,reflector1])\n",
    "materials.export_to_xml()"
   ]
  },
  {
   "cell_type": "code",
   "execution_count": 3,
   "id": "4b54f5de-ccdf-4c6f-8a9d-65a04f321c7e",
   "metadata": {},
   "outputs": [],
   "source": [
    "r_fuel   = 0.35\n",
    "r_clad_1 = 0.5\n",
    "r_clad_2 = 0.6\n",
    "\n",
    "r_pt_in  = 5.8 #inner radius of the graphite pressure tube\n",
    "r_pt_out = 6.8 #outer radius of the graphite pressure tube\n",
    "\n",
    "lattice_pitch = 16\n",
    "\n",
    "H= 166.5 #core height in cm\n",
    "D= 180 #core diameter in cm\n",
    "\n",
    "ring_radii = np.array([0.0, 1.6, 3.2, 4.8])\n",
    "\n",
    "surf_fuel = openmc.model.RightCircularCylinder((0,0,-H/2),H,r_fuel)\n",
    "\n",
    "surf_clad_1 = openmc.model.RightCircularCylinder((0,0,-H/2),H,r_clad_1)\n",
    "surf_clad_2 = openmc.model.RightCircularCylinder((0,0,-H/2),H,r_clad_2)\n",
    "\n",
    "surf_pt_1 = openmc.model.RightCircularCylinder((0,0,-H/2),H,r_pt_in)\n",
    "surf_pt_2 = openmc.model.RightCircularCylinder((0,0,-H/2),H,r_pt_out)"
   ]
  },
  {
   "cell_type": "code",
   "execution_count": 4,
   "id": "e1f7589a-6b72-4e54-a37f-7111795b4ccc",
   "metadata": {},
   "outputs": [],
   "source": [
    "radial_surf = [openmc.model.RightCircularCylinder((0,0,-H/2),H,r) for r in\n",
    "               (ring_radii[:-1] + ring_radii[1:])/2]\n",
    "\n",
    "coolant_cells = []\n",
    "for i in range(ring_radii.size):\n",
    "    if i == 0:\n",
    "        coolant_region = -radial_surf[i]\n",
    "    elif i == ring_radii.size - 1:\n",
    "        coolant_region = +radial_surf[i-1] & -surf_pt_1\n",
    "    else:\n",
    "        coolant_region = +radial_surf[i-1] & -radial_surf[i]\n",
    "\n",
    "    coolant_cells.append(openmc.Cell(fill=coolant, region=coolant_region))"
   ]
  },
  {
   "cell_type": "code",
   "execution_count": 5,
   "id": "0cd947f1-69e7-434f-a736-9fd98112be54",
   "metadata": {},
   "outputs": [
    {
     "data": {
      "text/plain": [
       "<matplotlib.image.AxesImage at 0x7f7f4cbca790>"
      ]
     },
     "execution_count": 5,
     "metadata": {},
     "output_type": "execute_result"
    },
    {
     "data": {
      "image/png": "[encoded data removed]",
      "text/plain": [
       "<Figure size 258.065x259.74 with 1 Axes>"
      ]
     },
     "metadata": {},
     "output_type": "display_data"
    }
   ],
   "source": [
    "plot_args = {'width':(lattice_pitch,lattice_pitch)}\n",
    "bundle_universe = openmc.Universe(cells=coolant_cells)\n",
    "bundle_universe.plot(**plot_args)"
   ]
  },
  {
   "cell_type": "code",
   "execution_count": 6,
   "id": "6749981f-154f-46be-8659-e8804db4ac64",
   "metadata": {},
   "outputs": [],
   "source": [
    "coolant_cells[0-4].temperature = 973\n",
    "\n",
    "fuel_cell = openmc.Cell(fill=fuel, region=-surf_fuel)\n",
    "fuel_cell.temperature = 1473\n",
    "\n",
    "clad_cell_1 = openmc.Cell(fill=clad_in, region=+surf_fuel & -surf_clad_1)\n",
    "clad_cell_1.temperature = 1273\n",
    "\n",
    "clad_cell_2 = openmc.Cell(fill=clad_out, region=+surf_clad_1 & -surf_clad_2)\n",
    "clad_cell_2.temperature = 973\n",
    "\n",
    "pin_universe = openmc.Universe(cells=(fuel_cell,clad_cell_1,clad_cell_2))"
   ]
  },
  {
   "cell_type": "code",
   "execution_count": 7,
   "id": "bd5e349b-4a12-4be2-ba1c-e3b108cc8ede",
   "metadata": {},
   "outputs": [
    {
     "data": {
      "text/plain": [
       "<matplotlib.image.AxesImage at 0x7f7f48952090>"
      ]
     },
     "execution_count": 7,
     "metadata": {},
     "output_type": "execute_result"
    },
    {
     "data": {
      "image/png": "[encoded data removed]",
      "text/plain": [
       "<Figure size 258.065x259.74 with 1 Axes>"
      ]
     },
     "metadata": {},
     "output_type": "display_data"
    }
   ],
   "source": [
    "pin_universe.plot(**{'width':(2*r_clad_2,2*r_clad_2)})"
   ]
  },
  {
   "cell_type": "code",
   "execution_count": 8,
   "id": "5f936801-db5a-4b7c-8236-900c94afb214",
   "metadata": {},
   "outputs": [],
   "source": [
    "num_pins = [1, 6, 12, 18]\n",
    "angles = [0, 0, 15, 0]\n",
    "\n",
    "for i, (r, n, a) in enumerate(zip(ring_radii, num_pins, angles)):\n",
    "    for j in range(n):\n",
    "        theta = (a + j/n*360)*pi/180.\n",
    "        x = r*cos(theta)\n",
    "        y = r*sin(theta)\n",
    "\n",
    "        pin_boundary = openmc.ZCylinder(x0=x,y0=y,r=r_clad_2)\n",
    "        coolant_cells[i].region &= +pin_boundary\n",
    "\n",
    "        pin = openmc.Cell(fill=pin_universe, region=-pin_boundary)\n",
    "        pin.translation = (x, y, 0)\n",
    "        pin.id = (i + 1)*100 + j\n",
    "        bundle_universe.add_cell(pin)"
   ]
  },
  {
   "cell_type": "code",
   "execution_count": 9,
   "id": "b010f535-2e30-41a5-8363-4b4fcc79b038",
   "metadata": {},
   "outputs": [
    {
     "data": {
      "text/plain": [
       "<matplotlib.image.AxesImage at 0x7f7f488d6250>"
      ]
     },
     "execution_count": 9,
     "metadata": {},
     "output_type": "execute_result"
    },
    {
     "data": {
      "image/png": "[encoded data removed]",
      "text/plain": [
       "<Figure size 258.065x259.74 with 1 Axes>"
      ]
     },
     "metadata": {},
     "output_type": "display_data"
    }
   ],
   "source": [
    "bundle_universe.plot(**plot_args)"
   ]
  },
  {
   "cell_type": "code",
   "execution_count": 10,
   "id": "cd3bed0b-ab96-4e67-985a-e3ce922f4794",
   "metadata": {},
   "outputs": [],
   "source": [
    "pt=openmc.Cell(fill=clad_in, region= +surf_pt_1 & -surf_pt_2)\n",
    "pt.temperature = 973\n",
    "\n",
    "bundle_universe.add_cell(pt)\n",
    "moderator_cell=openmc.Cell(fill = moderator,region=+surf_pt_2)\n",
    "moderator_cell.temperature = 973\n",
    "\n",
    "bundle_universe.add_cell(moderator_cell)"
   ]
  },
  {
   "cell_type": "code",
   "execution_count": 11,
   "id": "c413764d-fd86-4d61-9393-f2452314802b",
   "metadata": {},
   "outputs": [
    {
     "data": {
      "text/plain": [
       "<matplotlib.image.AxesImage at 0x7f7f40735b50>"
      ]
     },
     "execution_count": 11,
     "metadata": {},
     "output_type": "execute_result"
    },
    {
     "data": {
      "image/png": "[encoded data removed]",
      "text/plain": [
       "<Figure size 258.065x259.74 with 1 Axes>"
      ]
     },
     "metadata": {},
     "output_type": "display_data"
    }
   ],
   "source": [
    "bdu=bundle_universe\n",
    "bdu.plot(**plot_args)"
   ]
  },
  {
   "cell_type": "code",
   "execution_count": 12,
   "id": "bec70538-4d3e-4dc4-a5fe-19fe7e7cf958",
   "metadata": {},
   "outputs": [],
   "source": [
    "external_moderator=openmc.Cell(fill=e_moderator)\n",
    "external_moderator.temperature = 973\n",
    "emu = openmc.Universe(cells=[external_moderator])"
   ]
  },
  {
   "cell_type": "code",
   "execution_count": 13,
   "id": "68add457-8564-491a-868a-3295a2ddc7da",
   "metadata": {},
   "outputs": [],
   "source": [
    "lattice = openmc.HexLattice()"
   ]
  },
  {
   "cell_type": "code",
   "execution_count": 14,
   "id": "7750be42-660b-4d05-a214-da38df027316",
   "metadata": {},
   "outputs": [],
   "source": [
    "lattice.center = (0,0)\n",
    "lattice.pitch = (16,)\n",
    "lattice.outer = emu"
   ]
  },
  {
   "cell_type": "code",
   "execution_count": 15,
   "id": "fbb03bf4-61a0-4183-996b-205737064913",
   "metadata": {},
   "outputs": [],
   "source": [
    "outer_ring2 =[bdu]*30\n",
    "outer_ring =[bdu]*24\n",
    "ring_1 = [bdu]*18\n",
    "ring_2 = [bdu]*12\n",
    "ring_3 = [bdu]*6\n",
    "inner_ring = [bdu]"
   ]
  },
  {
   "cell_type": "code",
   "execution_count": 16,
   "id": "51778b55-ff8f-4be2-895a-7b4986f16fce",
   "metadata": {},
   "outputs": [],
   "source": [
    "lattice.universes = [outer_ring2,\n",
    "                     outer_ring,\n",
    "                     ring_1,\n",
    "                     ring_2,\n",
    "                     ring_3,\n",
    "                     inner_ring]"
   ]
  },
  {
   "cell_type": "code",
   "execution_count": 17,
   "id": "3b45f453-c9dc-49d0-adfc-acc58300dece",
   "metadata": {},
   "outputs": [],
   "source": [
    "core_body = openmc.ZCylinder(x0=0,y0=0,r=D/2)\n",
    "core_top = openmc.ZPlane(z0=H/2, boundary_type='vacuum')\n",
    "core_bottom = openmc.ZPlane(z0=-H/2,boundary_type='vacuum')\n",
    "main_cell = openmc.Cell(fill=lattice, region=-core_body & -core_top & +core_bottom)\n",
    "\n",
    "reflector_container = openmc.ZCylinder(x0=0,y0=0,r=(D/2)+5, boundary_type='vacuum')\n",
    "reflector_cell = openmc.Cell(fill=reflector1, region=+core_body & -reflector_container & -core_top & +core_bottom)\n",
    "reflector_cell.temperature = 973\n",
    "\n",
    "geometry = openmc.Geometry([main_cell,reflector_cell])\n",
    "lattice.orientation='x'\n",
    "geometry.export_to_xml()\n",
    "\n",
    "materials=openmc.Materials(geometry.get_all_materials().values())\n",
    "materials.export_to_xml()"
   ]
  },
  {
   "cell_type": "code",
   "execution_count": 18,
   "id": "d55a5d5f-dc6c-4461-8f5e-31a5ae5bad49",
   "metadata": {},
   "outputs": [
    {
     "data": {
      "image/png": "[encoded data removed]",
      "text/plain": [
       "<IPython.core.display.Image object>"
      ]
     },
     "execution_count": 18,
     "metadata": {},
     "output_type": "execute_result"
    }
   ],
   "source": [
    "plot = openmc.Plot.from_geometry(geometry)\n",
    "#plot.basis='yz'\n",
    "#plot.origin=(0,0,(H/2))\n",
    "plot.color_by = 'material'\n",
    "plot.colors = {\n",
    "    fuel: 'yellow',\n",
    "    clad_in: 'grey',\n",
    "    clad_out: 'white',\n",
    "    coolant: 'blue',\n",
    "    moderator: 'green',\n",
    "    e_moderator: 'green',\n",
    "    reflector1: 'red'\n",
    "}\n",
    "plot.to_ipython_image()"
   ]
  },
  {
   "cell_type": "code",
   "execution_count": 19,
   "id": "60207a52-6388-4e35-8747-c7ea07461fe8",
   "metadata": {},
   "outputs": [],
   "source": [
    "settings = openmc.Settings()\n",
    "settings.particles = 10000\n",
    "settings.batches = 100\n",
    "settings.inactive = 15\n",
    "settings.temperature={'method':'interpolation','range':(250, 2500)}\n",
    "box = openmc.stats.Box(lower_left = (-D/2,-D/2,-H/2),\n",
    "                      upper_right = (D/2,D/2,H/2),\n",
    "                      only_fissionable=True);\n",
    "src = openmc.Source(space=box);\n",
    "settings.source = src\n",
    "settings.export_to_xml()"
   ]
  },
  {
   "cell_type": "code",
   "execution_count": 20,
   "id": "3b1552af-b1a8-44ab-a437-3336ef7bb462",
   "metadata": {},
   "outputs": [],
   "source": [
    "fuel_tally = openmc.Tally()\n",
    "fuel_tally.filters = [openmc.DistribcellFilter(fuel_cell)]"
   ]
  },
  {
   "cell_type": "code",
   "execution_count": 21,
   "id": "a3afca27-22ad-4e67-9d5e-6f6f86c3a91d",
   "metadata": {},
   "outputs": [
    {
     "name": "stdout",
     "output_type": "stream",
     "text": [
      "                                %%%%%%%%%%%%%%%\n",
      "                           %%%%%%%%%%%%%%%%%%%%%%%%\n",
      "                        %%%%%%%%%%%%%%%%%%%%%%%%%%%%%%\n",
      "                      %%%%%%%%%%%%%%%%%%%%%%%%%%%%%%%%%%\n",
      "                    %%%%%%%%%%%%%%%%%%%%%%%%%%%%%%%%%%%%%%\n",
      "                   %%%%%%%%%%%%%%%%%%%%%%%%%%%%%%%%%%%%%%%%\n",
      "                                    %%%%%%%%%%%%%%%%%%%%%%%%\n",
      "                                     %%%%%%%%%%%%%%%%%%%%%%%%\n",
      "                 ###############      %%%%%%%%%%%%%%%%%%%%%%%%\n",
      "                ##################     %%%%%%%%%%%%%%%%%%%%%%%\n",
      "                ###################     %%%%%%%%%%%%%%%%%%%%%%%\n",
      "                ####################     %%%%%%%%%%%%%%%%%%%%%%\n",
      "                #####################     %%%%%%%%%%%%%%%%%%%%%\n",
      "                ######################     %%%%%%%%%%%%%%%%%%%%\n",
      "                #######################     %%%%%%%%%%%%%%%%%%\n",
      "                 #######################     %%%%%%%%%%%%%%%%%\n",
      "                 ######################     %%%%%%%%%%%%%%%%%\n",
      "                  ####################     %%%%%%%%%%%%%%%%%\n",
      "                    #################     %%%%%%%%%%%%%%%%%\n",
      "                     ###############     %%%%%%%%%%%%%%%%\n",
      "                       ############     %%%%%%%%%%%%%%%\n",
      "                          ########     %%%%%%%%%%%%%%\n",
      "                                      %%%%%%%%%%%\n",
      "\n",
      "                 | The OpenMC Monte Carlo Code\n",
      "       Copyright | 2011-2023 MIT, UChicago Argonne LLC, and contributors\n",
      "         License | https://docs.openmc.org/en/latest/license.html\n",
      "         Version | 0.13.3\n",
      "        Git SHA1 | 50e39a4e20dc9e0f3d7ccf07333f6a5e6c797c8c\n",
      "       Date/Time | 2024-02-07 18:16:14\n",
      "  OpenMP Threads | 192\n",
      "\n",
      " Reading settings XML file...\n",
      " Reading cross sections XML file...\n",
      " Reading materials XML file...\n",
      " Reading geometry XML file...\n",
      " Reading U234 from /home/m240600/OpenMC_CrossSections/lib80x_hdf5/U234.h5\n",
      " Reading U235 from /home/m240600/OpenMC_CrossSections/lib80x_hdf5/U235.h5\n",
      " Reading U238 from /home/m240600/OpenMC_CrossSections/lib80x_hdf5/U238.h5\n",
      " Reading U236 from /home/m240600/OpenMC_CrossSections/lib80x_hdf5/U236.h5\n",
      " Reading O16 from /home/m240600/OpenMC_CrossSections/lib80x_hdf5/O16.h5\n",
      " Reading O17 from /home/m240600/OpenMC_CrossSections/lib80x_hdf5/O17.h5\n",
      " Reading O18 from /home/m240600/OpenMC_CrossSections/lib80x_hdf5/O18.h5\n",
      " Reading C12 from /home/m240600/OpenMC_CrossSections/lib80x_hdf5/C12.h5\n",
      " Reading C13 from /home/m240600/OpenMC_CrossSections/lib80x_hdf5/C13.h5\n",
      " Reading Si28 from /home/m240600/OpenMC_CrossSections/lib80x_hdf5/Si28.h5\n",
      " Reading Si29 from /home/m240600/OpenMC_CrossSections/lib80x_hdf5/Si29.h5\n",
      " Reading Si30 from /home/m240600/OpenMC_CrossSections/lib80x_hdf5/Si30.h5\n",
      " Reading Be9 from /home/m240600/OpenMC_CrossSections/lib80x_hdf5/Be9.h5\n",
      " Reading F19 from /home/m240600/OpenMC_CrossSections/lib80x_hdf5/F19.h5\n",
      " Reading Li7 from /home/m240600/OpenMC_CrossSections/lib80x_hdf5/Li7.h5\n",
      " Reading Li6 from /home/m240600/OpenMC_CrossSections/lib80x_hdf5/Li6.h5\n",
      " Reading Mn55 from /home/m240600/OpenMC_CrossSections/lib80x_hdf5/Mn55.h5\n",
      " Reading P31 from /home/m240600/OpenMC_CrossSections/lib80x_hdf5/P31.h5\n",
      " Reading S32 from /home/m240600/OpenMC_CrossSections/lib80x_hdf5/S32.h5\n",
      " Reading S33 from /home/m240600/OpenMC_CrossSections/lib80x_hdf5/S33.h5\n",
      " Reading S34 from /home/m240600/OpenMC_CrossSections/lib80x_hdf5/S34.h5\n",
      " Reading S36 from /home/m240600/OpenMC_CrossSections/lib80x_hdf5/S36.h5\n",
      " Reading Cr50 from /home/m240600/OpenMC_CrossSections/lib80x_hdf5/Cr50.h5\n",
      " Reading Cr52 from /home/m240600/OpenMC_CrossSections/lib80x_hdf5/Cr52.h5\n",
      " Reading Cr53 from /home/m240600/OpenMC_CrossSections/lib80x_hdf5/Cr53.h5\n",
      " Reading Cr54 from /home/m240600/OpenMC_CrossSections/lib80x_hdf5/Cr54.h5\n",
      " Reading Ni58 from /home/m240600/OpenMC_CrossSections/lib80x_hdf5/Ni58.h5\n",
      " Reading Ni60 from /home/m240600/OpenMC_CrossSections/lib80x_hdf5/Ni60.h5\n",
      " Reading Ni61 from /home/m240600/OpenMC_CrossSections/lib80x_hdf5/Ni61.h5\n",
      " Reading Ni62 from /home/m240600/OpenMC_CrossSections/lib80x_hdf5/Ni62.h5\n",
      " Reading Ni64 from /home/m240600/OpenMC_CrossSections/lib80x_hdf5/Ni64.h5\n",
      " Reading Fe54 from /home/m240600/OpenMC_CrossSections/lib80x_hdf5/Fe54.h5\n",
      " Reading Fe56 from /home/m240600/OpenMC_CrossSections/lib80x_hdf5/Fe56.h5\n",
      " Reading Fe57 from /home/m240600/OpenMC_CrossSections/lib80x_hdf5/Fe57.h5\n",
      " Reading Fe58 from /home/m240600/OpenMC_CrossSections/lib80x_hdf5/Fe58.h5\n",
      " Reading c_Graphite from\n",
      " /home/m240600/OpenMC_CrossSections/lib80x_hdf5/c_Graphite.h5\n",
      " Reading c_C_in_SiC from\n",
      " /home/m240600/OpenMC_CrossSections/lib80x_hdf5/c_C_in_SiC.h5\n",
      " Minimum neutron data temperature: 250 K\n",
      " Maximum neutron data temperature: 2500 K\n",
      " Preparing distributed cell instances...\n",
      " Reading plot XML file...\n",
      " Writing summary.h5 file...\n",
      " Maximum neutron transport energy: 20000000 eV for O17\n",
      " Initializing source particles...\n",
      "\n",
      " ====================>     K EIGENVALUE SIMULATION     <====================\n",
      "\n",
      "  Bat./Gen.      k            Average k\n",
      "  =========   ========   ====================\n",
      "        1/1    0.88352\n",
      "        2/1    0.96579\n",
      "        3/1    0.97922\n",
      "        4/1    0.99970\n",
      "        5/1    1.02772\n",
      "        6/1    1.00831\n",
      "        7/1    1.01975\n",
      "        8/1    1.02216\n",
      "        9/1    1.03329\n",
      "       10/1    1.01712\n",
      "       11/1    1.03949\n",
      "       12/1    1.03099\n",
      "       13/1    1.02463\n",
      "       14/1    1.02002\n",
      "       15/1    1.03577\n",
      "       16/1    1.03981\n",
      "       17/1    1.00403    1.02192 +/- 0.01789\n",
      "       18/1    0.98787    1.01057 +/- 0.01535\n",
      "       19/1    1.04315    1.01872 +/- 0.01357\n",
      "       20/1    1.02263    1.01950 +/- 0.01054\n",
      "       21/1    1.02322    1.02012 +/- 0.00863\n",
      "       22/1    1.04178    1.02321 +/- 0.00792\n",
      "       23/1    1.03756    1.02501 +/- 0.00709\n",
      "       24/1    1.01420    1.02381 +/- 0.00637\n",
      "       25/1    1.00765    1.02219 +/- 0.00592\n",
      "       26/1    1.06287    1.02589 +/- 0.00651\n",
      "       27/1    1.01779    1.02521 +/- 0.00598\n",
      "       28/1    1.01562    1.02448 +/- 0.00555\n",
      "       29/1    1.02605    1.02459 +/- 0.00514\n",
      "       30/1    1.02623    1.02470 +/- 0.00479\n",
      "       31/1    1.03033    1.02505 +/- 0.00449\n",
      "       32/1    1.01763    1.02461 +/- 0.00424\n",
      "       33/1    1.03673    1.02529 +/- 0.00405\n",
      "       34/1    1.01428    1.02471 +/- 0.00388\n",
      "       35/1    0.99428    1.02319 +/- 0.00398\n",
      "       36/1    1.02086    1.02308 +/- 0.00379\n",
      "       37/1    1.04469    1.02406 +/- 0.00374\n",
      "       38/1    1.02124    1.02394 +/- 0.00358\n",
      "       39/1    1.00712    1.02324 +/- 0.00350\n",
      "       40/1    1.02684    1.02338 +/- 0.00336\n",
      "       41/1    1.01292    1.02298 +/- 0.00325\n",
      "       42/1    1.03516    1.02343 +/- 0.00316\n",
      "       43/1    1.01564    1.02315 +/- 0.00306\n",
      "       44/1    1.01864    1.02299 +/- 0.00296\n",
      "       45/1    1.02073    1.02292 +/- 0.00286\n",
      "       46/1    1.01254    1.02258 +/- 0.00278\n",
      "       47/1    1.02678    1.02272 +/- 0.00270\n",
      "       48/1    1.02480    1.02278 +/- 0.00262\n",
      "       49/1    1.03182    1.02304 +/- 0.00255\n",
      "       50/1    1.04499    1.02367 +/- 0.00256\n",
      "       51/1    0.99554    1.02289 +/- 0.00260\n",
      "       52/1    1.02267    1.02288 +/- 0.00253\n",
      "       53/1    1.00772    1.02249 +/- 0.00250\n",
      "       54/1    1.01727    1.02235 +/- 0.00244\n",
      "       55/1    1.01460    1.02216 +/- 0.00238\n",
      "       56/1    1.02552    1.02224 +/- 0.00232\n",
      "       57/1    1.00980    1.02194 +/- 0.00229\n",
      "       58/1    1.00085    1.02145 +/- 0.00229\n",
      "       59/1    1.01659    1.02134 +/- 0.00224\n",
      "       60/1    1.02400    1.02140 +/- 0.00219\n",
      "       61/1    1.02771    1.02154 +/- 0.00214\n",
      "       62/1    1.02394    1.02159 +/- 0.00210\n",
      "       63/1    1.01751    1.02150 +/- 0.00206\n",
      "       64/1    1.02125    1.02150 +/- 0.00201\n",
      "       65/1    0.99578    1.02099 +/- 0.00204\n",
      "       66/1    1.01990    1.02096 +/- 0.00200\n",
      "       67/1    1.05318    1.02158 +/- 0.00206\n",
      "       68/1    1.00240    1.02122 +/- 0.00205\n",
      "       69/1    1.01993    1.02120 +/- 0.00201\n",
      "       70/1    1.04952    1.02171 +/- 0.00204\n",
      "       71/1    1.04293    1.02209 +/- 0.00204\n",
      "       72/1    1.03564    1.02233 +/- 0.00202\n",
      "       73/1    1.01469    1.02220 +/- 0.00199\n",
      "       74/1    1.03392    1.02240 +/- 0.00196\n",
      "       75/1    1.02565    1.02245 +/- 0.00193\n",
      "       76/1    1.03085    1.02259 +/- 0.00190\n",
      "       77/1    1.00844    1.02236 +/- 0.00189\n",
      "       78/1    1.02972    1.02248 +/- 0.00186\n",
      "       79/1    1.00967    1.02228 +/- 0.00184\n",
      "       80/1    1.01010    1.02209 +/- 0.00182\n",
      "       81/1    1.02973    1.02220 +/- 0.00180\n",
      "       82/1    1.01810    1.02214 +/- 0.00177\n",
      "       83/1    1.03277    1.02230 +/- 0.00175\n",
      "       84/1    1.00023    1.02198 +/- 0.00176\n",
      "       85/1    1.02114    1.02197 +/- 0.00173\n",
      "       86/1    1.03634    1.02217 +/- 0.00172\n",
      "       87/1    1.01499    1.02207 +/- 0.00170\n",
      "       88/1    1.01242    1.02194 +/- 0.00168\n",
      "       89/1    1.02958    1.02204 +/- 0.00166\n",
      "       90/1    1.04085    1.02229 +/- 0.00166\n",
      "       91/1    1.01426    1.02219 +/- 0.00164\n",
      "       92/1    1.02393    1.02221 +/- 0.00162\n",
      "       93/1    1.00899    1.02204 +/- 0.00160\n",
      "       94/1    1.01368    1.02193 +/- 0.00159\n",
      "       95/1    1.02811    1.02201 +/- 0.00157\n",
      "       96/1    1.03008    1.02211 +/- 0.00155\n",
      "       97/1    1.02404    1.02213 +/- 0.00153\n",
      "       98/1    1.01905    1.02210 +/- 0.00152\n",
      "       99/1    1.03947    1.02230 +/- 0.00151\n",
      "      100/1    1.04100    1.02252 +/- 0.00151\n",
      " Creating state point statepoint.100.h5...\n",
      "\n",
      " =======================>     TIMING STATISTICS     <=======================\n",
      "\n",
      " Total time for initialization     = 1.0060e+01 seconds\n",
      "   Reading cross sections          = 9.9092e+00 seconds\n",
      " Total time in simulation          = 1.0133e+01 seconds\n",
      "   Time in transport only          = 9.8932e+00 seconds\n",
      "   Time in inactive batches        = 1.4754e+00 seconds\n",
      "   Time in active batches          = 8.6578e+00 seconds\n",
      "   Time synchronizing fission bank = 1.2134e-01 seconds\n",
      "     Sampling source sites         = 9.2569e-02 seconds\n",
      "     SEND/RECV source sites        = 2.8071e-02 seconds\n",
      "   Time accumulating tallies       = 1.2232e-04 seconds\n",
      "   Time writing statepoints        = 9.2931e-03 seconds\n",
      " Total time for finalization       = 1.9360e-06 seconds\n",
      " Total time elapsed                = 2.0416e+01 seconds\n",
      " Calculation Rate (inactive)       = 101669 particles/second\n",
      " Calculation Rate (active)         = 98177.5 particles/second\n",
      "\n",
      " ============================>     RESULTS     <============================\n",
      "\n",
      " k-effective (Collision)     = 1.02163 +/- 0.00128\n",
      " k-effective (Track-length)  = 1.02252 +/- 0.00151\n",
      " k-effective (Absorption)    = 1.02147 +/- 0.00095\n",
      " Combined k-effective        = 1.02156 +/- 0.00089\n",
      " Leakage Fraction            = 0.16720 +/- 0.00040\n",
      "\n"
     ]
    }
   ],
   "source": [
    "openmc.run()"
   ]
  },
  {
   "cell_type": "code",
   "execution_count": 22,
   "id": "0c8cecd4-0cbd-4c91-be13-5b83f1290c46",
   "metadata": {},
   "outputs": [],
   "source": [
    "fuel.volume = pi*r_fuel**2*H*(37*91) #cm^3 for 37 fuel pins and 69 FA"
   ]
  },
  {
   "cell_type": "code",
   "execution_count": 23,
   "id": "a81a3467-a406-44cb-a71a-4d2477e8d4bd",
   "metadata": {},
   "outputs": [],
   "source": [
    "model=openmc.model.Model(geometry,materials,settings)\n",
    "operator = openmc.deplete.CoupledOperator(model,\"chain_endfb80_pwr.xml\")\n",
    "\n",
    "power_density = 35 #MW/kg\n",
    "\n",
    "days = 3600*24; #number of seconds in a day\n",
    "\n",
    "time_steps = [0.1*days,0.1*days, 0.1*days, 0.1*days, 0.1*days,\n",
    "              0.25*days, 0.25*days, 0.25*days, 0.25*days, 0.25*days, 0.25*days,\n",
    "              0.5*days, 0.5*days, 0.5*days,0.5*days,\n",
    "              0.75*days, 0.75*days, 0.75*days, 0.75*days,\n",
    "              1*days, 1*days, 1*days, 1*days, 1*days, 1*days, 1*days, 1*days, 1*days, 1*days, 1*days, 1*days, 1*days, 1*days, 1*days, 1*days,\n",
    "              1.5*days, 1.5*days, 1.5*days, 1.5*days, 1.5*days, 1.5*days, 1.5*days, 1.5*days, 1.5*days, 1.5*days,\n",
    "              2*days, 2*days, 2*days, 2*days, 2*days, 2*days, 2*days, 2*days, 2*days, 2*days, 2*days,\n",
    "              5*days, 5*days, 5*days, 5*days,5*days, 5*days, 5*days, 5*days, 5*days, 5*days,5*days, 5*days,\n",
    "              10*days, 10*days, 10*days, 10*days, 10*days, 10*days, 10*days, 10*days, 10*days, 10*days, 10*days, 10*days, 10*days, 10*days,\n",
    "              15*days, 15*days, 15*days, 15*days, 15*days, 15*days, 15*days, 15*days,\n",
    "              20*days, 20*days, 20*days, 20*days, 20*days, 20*days, 20*days, 20*days, 20*days, 20*days, 20*days, 20*days,\n",
    "              30*days, 30*days, 30*days, 30*days, 30*days, 30*days, 30*days, 30*days, 30*days, 30*days, 30*days, 30*days,\n",
    "              30*days, 30*days, 30*days, 30*days, 30*days, 30*days, 30*days, 30*days, 30*days, 30*days, 30*days, 30*days,\n",
    "              30*days, 30*days, 30*days, 30*days, 30*days, 30*days, 30*days, 30*days, 30*days, 30*days, 30*days, 30*days,\n",
    "              40*days, 40*days, 40*days, 40*days, 40*days, 40*days, 40*days, 40*days, 40*days, 40*days,\n",
    "              50*days, 50*days, 50*days, 50*days, 50*days, 50*days, 50*days, 50*days, 50*days, 50*days, 50*days, 50*days,\n",
    "              60*days, 60*days, 60*days, 60*days, 60*days, 60*days, 60*days, 60*days, 60*days, 60*days, 60*days, 60*days,\n",
    "              60*days, 60*days, 60*days, 60*days, 60*days, 60*days, 60*days, 60*days, 60*days, 60*days, 60*days, 60*days,\n",
    "              60*days, 60*days, 60*days, 60*days, 60*days, 60*days, 60*days, 60*days, 60*days, 60*days, 60*days, 60*days,\n",
    "              60*days, 60*days, 60*days, 60*days]\n",
    "\n",
    "\n",
    "cemc = openmc.deplete.CECMIntegrator(operator,time_steps,power_density = power_density,timestep_units='s')\n",
    "\n",
    "#repeat_depletion = False;\n",
    "\n",
    "#if(repeat_depletion):\n",
    "#    cecm.integrate()"
   ]
  },
  {
   "cell_type": "code",
   "execution_count": null,
   "id": "478095d6-c753-4af0-b17b-3f45fe403b2c",
   "metadata": {},
   "outputs": [
    {
     "name": "stdout",
     "output_type": "stream",
     "text": [
      "                                %%%%%%%%%%%%%%%\n",
      "                           %%%%%%%%%%%%%%%%%%%%%%%%\n",
      "                        %%%%%%%%%%%%%%%%%%%%%%%%%%%%%%\n",
      "                      %%%%%%%%%%%%%%%%%%%%%%%%%%%%%%%%%%\n",
      "                    %%%%%%%%%%%%%%%%%%%%%%%%%%%%%%%%%%%%%%\n",
      "                   %%%%%%%%%%%%%%%%%%%%%%%%%%%%%%%%%%%%%%%%\n",
      "                                    %%%%%%%%%%%%%%%%%%%%%%%%\n",
      "                                     %%%%%%%%%%%%%%%%%%%%%%%%\n",
      "                 ###############      %%%%%%%%%%%%%%%%%%%%%%%%\n",
      "                ##################     %%%%%%%%%%%%%%%%%%%%%%%\n",
      "                ###################     %%%%%%%%%%%%%%%%%%%%%%%\n",
      "                ####################     %%%%%%%%%%%%%%%%%%%%%%\n",
      "                #####################     %%%%%%%%%%%%%%%%%%%%%\n",
      "                ######################     %%%%%%%%%%%%%%%%%%%%\n",
      "                #######################     %%%%%%%%%%%%%%%%%%\n",
      "                 #######################     %%%%%%%%%%%%%%%%%\n",
      "                 ######################     %%%%%%%%%%%%%%%%%\n",
      "                  ####################     %%%%%%%%%%%%%%%%%\n",
      "                    #################     %%%%%%%%%%%%%%%%%\n",
      "                     ###############     %%%%%%%%%%%%%%%%\n",
      "                       ############     %%%%%%%%%%%%%%%\n",
      "                          ########     %%%%%%%%%%%%%%\n",
      "                                      %%%%%%%%%%%\n",
      "\n",
      "                 | The OpenMC Monte Carlo Code\n",
      "       Copyright | 2011-2023 MIT, UChicago Argonne LLC, and contributors\n",
      "         License | https://docs.openmc.org/en/latest/license.html\n",
      "         Version | 0.13.3\n",
      "        Git SHA1 | 50e39a4e20dc9e0f3d7ccf07333f6a5e6c797c8c\n",
      "       Date/Time | 2024-02-07 11:48:03\n",
      "  OpenMP Threads | 192\n",
      "\n",
      " Reading settings XML file...\n",
      " Reading cross sections XML file...\n",
      " Reading materials XML file...\n",
      " Reading geometry XML file...\n",
      " Reading O16 from /home/m240600/OpenMC_CrossSections/lib80x_hdf5/O16.h5\n",
      " Reading O17 from /home/m240600/OpenMC_CrossSections/lib80x_hdf5/O17.h5\n",
      " Reading O18 from /home/m240600/OpenMC_CrossSections/lib80x_hdf5/O18.h5\n",
      " Reading U234 from /home/m240600/OpenMC_CrossSections/lib80x_hdf5/U234.h5\n",
      " Reading U235 from /home/m240600/OpenMC_CrossSections/lib80x_hdf5/U235.h5\n",
      " Reading U236 from /home/m240600/OpenMC_CrossSections/lib80x_hdf5/U236.h5\n",
      " Reading U238 from /home/m240600/OpenMC_CrossSections/lib80x_hdf5/U238.h5\n",
      " Reading C12 from /home/m240600/OpenMC_CrossSections/lib80x_hdf5/C12.h5\n",
      " Reading C13 from /home/m240600/OpenMC_CrossSections/lib80x_hdf5/C13.h5\n",
      " Reading Si28 from /home/m240600/OpenMC_CrossSections/lib80x_hdf5/Si28.h5\n",
      " Reading Si29 from /home/m240600/OpenMC_CrossSections/lib80x_hdf5/Si29.h5\n",
      " Reading Si30 from /home/m240600/OpenMC_CrossSections/lib80x_hdf5/Si30.h5\n",
      " Reading Li6 from /home/m240600/OpenMC_CrossSections/lib80x_hdf5/Li6.h5\n",
      " Reading Li7 from /home/m240600/OpenMC_CrossSections/lib80x_hdf5/Li7.h5\n",
      " Reading Be9 from /home/m240600/OpenMC_CrossSections/lib80x_hdf5/Be9.h5\n",
      " Reading F19 from /home/m240600/OpenMC_CrossSections/lib80x_hdf5/F19.h5\n",
      " Reading P31 from /home/m240600/OpenMC_CrossSections/lib80x_hdf5/P31.h5\n",
      " Reading S32 from /home/m240600/OpenMC_CrossSections/lib80x_hdf5/S32.h5\n",
      " Reading S33 from /home/m240600/OpenMC_CrossSections/lib80x_hdf5/S33.h5\n",
      " Reading S34 from /home/m240600/OpenMC_CrossSections/lib80x_hdf5/S34.h5\n",
      " Reading S36 from /home/m240600/OpenMC_CrossSections/lib80x_hdf5/S36.h5\n",
      " Reading Cr50 from /home/m240600/OpenMC_CrossSections/lib80x_hdf5/Cr50.h5\n",
      " Reading Cr52 from /home/m240600/OpenMC_CrossSections/lib80x_hdf5/Cr52.h5\n",
      " Reading Cr53 from /home/m240600/OpenMC_CrossSections/lib80x_hdf5/Cr53.h5\n",
      " Reading Cr54 from /home/m240600/OpenMC_CrossSections/lib80x_hdf5/Cr54.h5\n",
      " Reading Mn55 from /home/m240600/OpenMC_CrossSections/lib80x_hdf5/Mn55.h5\n",
      " Reading Fe54 from /home/m240600/OpenMC_CrossSections/lib80x_hdf5/Fe54.h5\n",
      " Reading Fe56 from /home/m240600/OpenMC_CrossSections/lib80x_hdf5/Fe56.h5\n",
      " Reading Fe57 from /home/m240600/OpenMC_CrossSections/lib80x_hdf5/Fe57.h5\n",
      " Reading Fe58 from /home/m240600/OpenMC_CrossSections/lib80x_hdf5/Fe58.h5\n",
      " Reading Ni58 from /home/m240600/OpenMC_CrossSections/lib80x_hdf5/Ni58.h5\n",
      " Reading Ni60 from /home/m240600/OpenMC_CrossSections/lib80x_hdf5/Ni60.h5\n",
      " Reading Ni61 from /home/m240600/OpenMC_CrossSections/lib80x_hdf5/Ni61.h5\n",
      " Reading Ni62 from /home/m240600/OpenMC_CrossSections/lib80x_hdf5/Ni62.h5\n",
      " Reading Ni64 from /home/m240600/OpenMC_CrossSections/lib80x_hdf5/Ni64.h5\n",
      " Reading c_Graphite from\n",
      " /home/m240600/OpenMC_CrossSections/lib80x_hdf5/c_Graphite.h5\n",
      " Reading c_C_in_SiC from\n",
      " /home/m240600/OpenMC_CrossSections/lib80x_hdf5/c_C_in_SiC.h5\n",
      " Minimum neutron data temperature: 250 K\n",
      " Maximum neutron data temperature: 2500 K\n",
      " Preparing distributed cell instances...\n",
      " Reading plot XML file...\n",
      " Writing summary.h5 file...\n",
      "[openmc.deplete] t=0.0 s, dt=8640.0 s, source=52978886.2310397\n",
      " Reading H1 from /home/m240600/OpenMC_CrossSections/lib80x_hdf5/H1.h5\n",
      " Reading H2 from /home/m240600/OpenMC_CrossSections/lib80x_hdf5/H2.h5\n",
      " Reading H3 from /home/m240600/OpenMC_CrossSections/lib80x_hdf5/H3.h5\n",
      " Reading He3 from /home/m240600/OpenMC_CrossSections/lib80x_hdf5/He3.h5\n",
      " Reading He4 from /home/m240600/OpenMC_CrossSections/lib80x_hdf5/He4.h5\n",
      " Reading Be7 from /home/m240600/OpenMC_CrossSections/lib80x_hdf5/Be7.h5\n",
      " Reading B10 from /home/m240600/OpenMC_CrossSections/lib80x_hdf5/B10.h5\n",
      " Reading B11 from /home/m240600/OpenMC_CrossSections/lib80x_hdf5/B11.h5\n",
      " Reading N14 from /home/m240600/OpenMC_CrossSections/lib80x_hdf5/N14.h5\n",
      " Reading N15 from /home/m240600/OpenMC_CrossSections/lib80x_hdf5/N15.h5\n",
      " Reading Ne20 from /home/m240600/OpenMC_CrossSections/lib80x_hdf5/Ne20.h5\n",
      " Reading Ne21 from /home/m240600/OpenMC_CrossSections/lib80x_hdf5/Ne21.h5\n",
      " Reading Ne22 from /home/m240600/OpenMC_CrossSections/lib80x_hdf5/Ne22.h5\n"
     ]
    }
   ],
   "source": [
    "cemc.integrate()"
   ]
  },
  {
   "cell_type": "code",
   "execution_count": null,
   "id": "11bb26d5-e55f-47d7-8c7d-a98fb2f24886",
   "metadata": {},
   "outputs": [],
   "source": [
    "results = openmc.deplete.Results(\"./depletion_results.h5\")"
   ]
  },
  {
   "cell_type": "code",
   "execution_count": null,
   "id": "f65d31f9-bead-4039-b4d3-fd9a160c2581",
   "metadata": {},
   "outputs": [],
   "source": [
    "time, k =results.get_keff()"
   ]
  },
  {
   "cell_type": "code",
   "execution_count": null,
   "id": "465b0786-2a86-4b4e-840d-82ec6b0be3bf",
   "metadata": {},
   "outputs": [],
   "source": [
    "time /=(24*3600*1938.48)/67.85#converts to MWd/kgHM"
   ]
  },
  {
   "cell_type": "code",
   "execution_count": null,
   "id": "b670fc63-6edc-4328-9ed6-b476c1dc7f18",
   "metadata": {},
   "outputs": [],
   "source": [
    "eff=[1]*201"
   ]
  },
  {
   "cell_type": "code",
   "execution_count": null,
   "id": "21938e87-a42f-420f-aa43-c3e304c5578f",
   "metadata": {},
   "outputs": [],
   "source": [
    "def find_roots(x,y):\n",
    "    s = np.abs(np.diff(np.sign(y))).astype(bool)\n",
    "    return x[:-1][s] + np.diff(x)[s]/(np.abs(y[1:][s]/y[:-1][s])+1)\n",
    "\n",
    "z = find_roots(time,eff-k[:,0])\n",
    "z"
   ]
  },
  {
   "cell_type": "code",
   "execution_count": null,
   "id": "4bad4b0e-dcc1-4680-8a23-bdfe0f13aa9d",
   "metadata": {},
   "outputs": [],
   "source": [
    "pyplot.plot(time, k[:, 0],color='orange',marker='o',markersize=3)\n",
    "eff=[1]*201\n",
    "pyplot.plot(time,eff,color='red')\n",
    "pyplot.xlabel(\"MWd/kg\")\n",
    "pyplot.ylabel(\"$k_{eff}\\pm \\sigma$\");\n",
    "pyplot.xlim(0,160)\n",
    "pyplot.ylim(.8,1.5)\n",
    "\n",
    "pyplot.show()"
   ]
  },
  {
   "cell_type": "code",
   "execution_count": null,
   "id": "5d9b0fe0-4742-4547-9ffd-fdc277837385",
   "metadata": {},
   "outputs": [],
   "source": []
  }
 ],
 "metadata": {
  "kernelspec": {
   "display_name": "Python 3 (ipykernel)",
   "language": "python",
   "name": "python3"
  },
  "language_info": {
   "codemirror_mode": {
    "name": "ipython",
    "version": 3
   },
   "file_extension": ".py",
   "mimetype": "text/x-python",
   "name": "python",
   "nbconvert_exporter": "python",
   "pygments_lexer": "ipython3",
   "version": "3.11.5"
  }
 },
 "nbformat": 4,
 "nbformat_minor": 5
}
