{
 "cells": [
  {
   "cell_type": "code",
   "execution_count": 1,
   "id": "3821db13-754d-4124-9ac1-3a3f8a74f679",
   "metadata": {},
   "outputs": [],
   "source": [
    "%matplotlib inline\n",
    "from math import pi, sin, cos\n",
    "import numpy as np\n",
    "import openmc\n",
    "import openmc.deplete\n",
    "from matplotlib import pyplot"
   ]
  },
  {
   "cell_type": "code",
   "execution_count": null,
   "id": "f15befdf-5f84-46e0-a753-4172d7894b9c",
   "metadata": {},
   "outputs": [],
   "source": [
    "results1 = openmc.deplete.Results(\"./depletion_results-1.h5\")\n",
    "time, k1 =results1.get_keff()\n",
    "\n",
    "results2 = openmc.deplete.Results(\"./depletion_results-2.h5\")\n",
    "time, k2 =results2.get_keff()\n",
    "\n",
    "results3 = openmc.deplete.Results(\"./depletion_results-3.h5\")\n",
    "time, k3 =results3.get_keff()\n",
    "\n",
    "results4 = openmc.deplete.Results(\"./depletion_results-4.h5\")\n",
    "time, k4 =results4.get_keff()\n",
    "\n",
    "results5 = openmc.deplete.Results(\"./depletion_results-5.h5\")\n",
    "time, k5 =results5.get_keff()"
   ]
  },
  {
   "cell_type": "code",
   "execution_count": null,
   "id": "355898e2-8bdd-4df3-bd9e-1b5bc2fde786",
   "metadata": {},
   "outputs": [],
   "source": [
    "time /=(24*3600*643.93)/22.54#converts to MWd/kgHM\n",
    "eff=[1]*201"
   ]
  },
  {
   "cell_type": "code",
   "execution_count": null,
   "id": "a9974aed-f462-4f04-951c-fc0b078c8e67",
   "metadata": {},
   "outputs": [],
   "source": [
    "pyplot.plot(time, k1[:, 0],color='orange',marker='o',markersize=3, label='Lat4-ModG-Cool4')\n",
    "pyplot.plot(time, k2[:, 0],color='green',marker='o',markersize=3,  label='Lat4-Mod7LiOH-Cool4')\n",
    "pyplot.plot(time, k3[:, 0],color='black',marker='o',markersize=3,  label='Lat4-ModZrOD-Cool4')\n",
    "pyplot.plot(time, k4[:, 0],color='pink',marker='o',markersize=3,   label='Lat4-Mod7LiOH-Cool7')\n",
    "pyplot.plot(time, k5[:, 0],color='purple',marker='o',markersize=3, label='Lat4-ModG-Cool7')\n",
    "pyplot.plot(time,eff,color='red')        \n",
    "pyplot.xlabel(\"Burnup (MWd/kg)\")\n",
    "pyplot.ylabel(\"$k_{eff}$\");\n",
    "pyplot.xlim(0,160)\n",
    "pyplot.ylim(.8,1.4)\n",
    "pyplot.grid()\n",
    "pyplot.legend(loc='upper right')\n",
    "pyplot.savefig(\"Lattice_4_Results.png\",dpi=300)\n",
    "pyplot.show()"
   ]
  },
  {
   "cell_type": "code",
   "execution_count": null,
   "id": "8ab42259-fff1-4a04-bfc4-b7b822b0c231",
   "metadata": {},
   "outputs": [],
   "source": []
  }
 ],
 "metadata": {
  "kernelspec": {
   "display_name": "Python 3 (ipykernel)",
   "language": "python",
   "name": "python3"
  },
  "language_info": {
   "codemirror_mode": {
    "name": "ipython",
    "version": 3
   },
   "file_extension": ".py",
   "mimetype": "text/x-python",
   "name": "python",
   "nbconvert_exporter": "python",
   "pygments_lexer": "ipython3",
   "version": "3.11.5"
  }
 },
 "nbformat": 4,
 "nbformat_minor": 5
}
