{
 "cells": [
  {
   "cell_type": "code",
   "execution_count": 1,
   "id": "d222d07d-7e8f-4831-bcc2-5b47e6bc32f8",
   "metadata": {},
   "outputs": [],
   "source": [
    "%matplotlib inline\n",
    "from math import pi, sin, cos\n",
    "import numpy as np\n",
    "import openmc\n",
    "import openmc.deplete\n",
    "from matplotlib import pyplot"
   ]
  },
  {
   "cell_type": "code",
   "execution_count": 2,
   "id": "b5d018ce-2e32-4e8c-86b0-cfaa7ee58ae5",
   "metadata": {},
   "outputs": [
    {
     "name": "stderr",
     "output_type": "stream",
     "text": [
      "/home/m240600/.conda/envs/openmc-env/lib/python3.11/site-packages/openmc/material.py:740: UserWarning: A uranium enrichment of 19.75 was given for Material ID=\"1\". OpenMC assumes the U234/U235 mass ratio is constant at 0.008, which is only valid at low enrichments. Consider setting the isotopic composition manually for enrichments over 5%.\n",
      "  warnings.warn(msg)\n"
     ]
    }
   ],
   "source": [
    "fuel = openmc.Material(name='uo2')\n",
    "fuel.add_element('U',1, percent_type = \"ao\", enrichment=19.75)\n",
    "fuel.add_element('O',2)\n",
    "fuel.set_density(\"g/cc\",10.5)\n",
    "fuel.depletable = True\n",
    "\n",
    "clad_in = openmc.Material(name='graphite')\n",
    "clad_in.add_element('C',1.0)\n",
    "clad_in.set_density(\"g/cm3\",1.5)\n",
    "clad_in.add_s_alpha_beta('c_Graphite')\n",
    "clad_in.depletable = False\n",
    "\n",
    "clad_out = openmc.Material(name='SiC')\n",
    "clad_out.add_element('C',.5)\n",
    "clad_out.add_element('Si',.5)\n",
    "clad_out.set_density(\"g/cm3\",2.58)\n",
    "clad_out.add_s_alpha_beta('c_C_in_SiC')\n",
    "clad_out.depletable = False\n",
    "\n",
    "naoh = openmc.Material(name='NaOH')\n",
    "naoh.set_density(\"g/cm3\", 1.76)\n",
    "naoh.add_nuclide('Na23', 0.57478656, 'wo')\n",
    "naoh.add_nuclide('O16',  0.39984656, 'wo')\n",
    "naoh.add_nuclide('O17',  0.00016150, 'wo')\n",
    "naoh.add_nuclide('H1',   0.02519782, 'wo')\n",
    "naoh.add_nuclide('H2',   0.00000755, 'wo')\n",
    "\n",
    "\n",
    "lioh = openmc.Material(name='LiOH')\n",
    "lioh.set_density(\"g/cm3\", 1.39)\n",
    "lioh.add_nuclide('Li6', 0.00001251904, 'wo')\n",
    "lioh.add_nuclide('Li7', 0.2929339,'wo')\n",
    "lioh.add_nuclide('O16', 0.6657193, 'wo')\n",
    "lioh.add_nuclide('O17', 0.0002688907, 'wo')\n",
    "lioh.add_nuclide('H1',  0.04195279, 'wo')\n",
    "lioh.add_nuclide('H2',  0.00001257524, 'wo')\n",
    "\n",
    "coolant = openmc.Material.mix_materials([lioh, naoh], [.24562, .75438],'vo')\n",
    "coolant.set_density(\"g/cc\", 1.670)\n",
    "                    \n",
    "moderator = openmc.Material(name='graphite')\n",
    "moderator.add_element('C',1.0)\n",
    "moderator.set_density(\"g/cc\",1.5)\n",
    "moderator.add_s_alpha_beta('c_Graphite')\n",
    "moderator.depletable = False\n",
    "\n",
    "reflector1 = openmc.Material(name='SS304')\n",
    "reflector1.set_density(\"g/cm3\", 8.03)\n",
    "reflector1.add_element('C',    .0008, 'wo')\n",
    "reflector1.add_nuclide('Mn55', .02,   'wo')\n",
    "reflector1.add_nuclide('P31',  .00045,'wo')\n",
    "reflector1.add_element('S',    .0003, 'wo')\n",
    "reflector1.add_element('Si',   .01,   'wo')\n",
    "reflector1.add_element('Cr',   .19,   'wo')\n",
    "reflector1.add_element('Ni',   .095,  'wo')\n",
    "reflector1.add_element('Fe',   .68345,'wo')\n",
    "reflector1.depletable = False\n",
    "\n",
    "reflector2 = openmc.Material(name='Iron')\n",
    "reflector2.set_density(\"g/cm3\", 7.874)\n",
    "reflector2.add_element('Fe',1)\n",
    "reflector2.depletable = False\n",
    "\n",
    "reflector3 = openmc.Material(name='BeO')\n",
    "reflector3.set_density(\"g/cm3\", 3.01)\n",
    "reflector3.add_element('Be',1)\n",
    "reflector3.add_element('O',1)\n",
    "reflector3.depletable = False\n",
    "\n",
    "e_moderator = openmc.Material(name='graphite')\n",
    "e_moderator.add_element('C',1.0)\n",
    "e_moderator.set_density(\"g/cc\",1.5)\n",
    "e_moderator.add_s_alpha_beta('c_Graphite')\n",
    "e_moderator.depletable = False\n",
    "\n",
    "materials = openmc.Materials([fuel,clad_in,clad_out,coolant,moderator,e_moderator,reflector1])\n",
    "materials.export_to_xml()"
   ]
  },
  {
   "cell_type": "code",
   "execution_count": 3,
   "id": "4b54f5de-ccdf-4c6f-8a9d-65a04f321c7e",
   "metadata": {},
   "outputs": [],
   "source": [
    "r_fuel   = 0.35\n",
    "r_clad_1 = 0.5\n",
    "r_clad_2 = 0.6\n",
    "\n",
    "r_pt_in  = 5.8 #inner radius of the graphite pressure tube\n",
    "r_pt_out = 6.8 #outer radius of the graphite pressure tube\n",
    "\n",
    "lattice_pitch = 16\n",
    "\n",
    "H= 166.5 #core height in cm\n",
    "D= 180 #core diameter in cm\n",
    "\n",
    "ring_radii = np.array([0.0, 1.6, 3.2, 4.8])\n",
    "\n",
    "surf_fuel = openmc.model.RightCircularCylinder((0,0,-H/2),H,r_fuel)\n",
    "\n",
    "surf_clad_1 = openmc.model.RightCircularCylinder((0,0,-H/2),H,r_clad_1)\n",
    "surf_clad_2 = openmc.model.RightCircularCylinder((0,0,-H/2),H,r_clad_2)\n",
    "\n",
    "surf_pt_1 = openmc.model.RightCircularCylinder((0,0,-H/2),H,r_pt_in)\n",
    "surf_pt_2 = openmc.model.RightCircularCylinder((0,0,-H/2),H,r_pt_out)"
   ]
  },
  {
   "cell_type": "code",
   "execution_count": 4,
   "id": "e1f7589a-6b72-4e54-a37f-7111795b4ccc",
   "metadata": {},
   "outputs": [],
   "source": [
    "radial_surf = [openmc.model.RightCircularCylinder((0,0,-H/2),H,r) for r in\n",
    "               (ring_radii[:-1] + ring_radii[1:])/2]\n",
    "\n",
    "coolant_cells = []\n",
    "for i in range(ring_radii.size):\n",
    "    if i == 0:\n",
    "        coolant_region = -radial_surf[i]\n",
    "    elif i == ring_radii.size - 1:\n",
    "        coolant_region = +radial_surf[i-1] & -surf_pt_1\n",
    "    else:\n",
    "        coolant_region = +radial_surf[i-1] & -radial_surf[i]\n",
    "\n",
    "    coolant_cells.append(openmc.Cell(fill=coolant, region=coolant_region))"
   ]
  },
  {
   "cell_type": "code",
   "execution_count": 5,
   "id": "0cd947f1-69e7-434f-a736-9fd98112be54",
   "metadata": {},
   "outputs": [
    {
     "data": {
      "text/plain": [
       "<matplotlib.image.AxesImage at 0x7efa764ee050>"
      ]
     },
     "execution_count": 5,
     "metadata": {},
     "output_type": "execute_result"
    },
    {
     "data": {
      "image/png": "[encoded data removed]",
      "text/plain": [
       "<Figure size 258.065x259.74 with 1 Axes>"
      ]
     },
     "metadata": {},
     "output_type": "display_data"
    }
   ],
   "source": [
    "plot_args = {'width':(lattice_pitch,lattice_pitch)}\n",
    "bundle_universe = openmc.Universe(cells=coolant_cells)\n",
    "bundle_universe.plot(**plot_args)"
   ]
  },
  {
   "cell_type": "code",
   "execution_count": 6,
   "id": "6749981f-154f-46be-8659-e8804db4ac64",
   "metadata": {},
   "outputs": [],
   "source": [
    "coolant_cells[0-4].temperature = 973\n",
    "\n",
    "fuel_cell = openmc.Cell(fill=fuel, region=-surf_fuel)\n",
    "fuel_cell.temperature = 1473\n",
    "\n",
    "clad_cell_1 = openmc.Cell(fill=clad_in, region=+surf_fuel & -surf_clad_1)\n",
    "clad_cell_1.temperature = 1273\n",
    "\n",
    "clad_cell_2 = openmc.Cell(fill=clad_out, region=+surf_clad_1 & -surf_clad_2)\n",
    "clad_cell_2.temperature = 973\n",
    "\n",
    "pin_universe = openmc.Universe(cells=(fuel_cell,clad_cell_1,clad_cell_2))"
   ]
  },
  {
   "cell_type": "code",
   "execution_count": 7,
   "id": "bd5e349b-4a12-4be2-ba1c-e3b108cc8ede",
   "metadata": {},
   "outputs": [
    {
     "data": {
      "text/plain": [
       "<matplotlib.image.AxesImage at 0x7efa764d3790>"
      ]
     },
     "execution_count": 7,
     "metadata": {},
     "output_type": "execute_result"
    },
    {
     "data": {
      "image/png": "[encoded data removed]",
      "text/plain": [
       "<Figure size 258.065x259.74 with 1 Axes>"
      ]
     },
     "metadata": {},
     "output_type": "display_data"
    }
   ],
   "source": [
    "pin_universe.plot(**{'width':(2*r_clad_2,2*r_clad_2)})"
   ]
  },
  {
   "cell_type": "code",
   "execution_count": 8,
   "id": "5f936801-db5a-4b7c-8236-900c94afb214",
   "metadata": {},
   "outputs": [],
   "source": [
    "num_pins = [1, 6, 12, 18]\n",
    "angles = [0, 0, 15, 0]\n",
    "\n",
    "for i, (r, n, a) in enumerate(zip(ring_radii, num_pins, angles)):\n",
    "    for j in range(n):\n",
    "        theta = (a + j/n*360)*pi/180.\n",
    "        x = r*cos(theta)\n",
    "        y = r*sin(theta)\n",
    "\n",
    "        pin_boundary = openmc.ZCylinder(x0=x,y0=y,r=r_clad_2)\n",
    "        coolant_cells[i].region &= +pin_boundary\n",
    "\n",
    "        pin = openmc.Cell(fill=pin_universe, region=-pin_boundary)\n",
    "        pin.translation = (x, y, 0)\n",
    "        pin.id = (i + 1)*100 + j\n",
    "        bundle_universe.add_cell(pin)"
   ]
  },
  {
   "cell_type": "code",
   "execution_count": 9,
   "id": "b010f535-2e30-41a5-8363-4b4fcc79b038",
   "metadata": {},
   "outputs": [
    {
     "data": {
      "text/plain": [
       "<matplotlib.image.AxesImage at 0x7efa6e273090>"
      ]
     },
     "execution_count": 9,
     "metadata": {},
     "output_type": "execute_result"
    },
    {
     "data": {
      "image/png": "[encoded data removed]",
      "text/plain": [
       "<Figure size 258.065x259.74 with 1 Axes>"
      ]
     },
     "metadata": {},
     "output_type": "display_data"
    }
   ],
   "source": [
    "bundle_universe.plot(**plot_args)"
   ]
  },
  {
   "cell_type": "code",
   "execution_count": 10,
   "id": "cd3bed0b-ab96-4e67-985a-e3ce922f4794",
   "metadata": {},
   "outputs": [],
   "source": [
    "pt=openmc.Cell(fill=clad_in, region= +surf_pt_1 & -surf_pt_2)\n",
    "pt.temperature = 973\n",
    "\n",
    "bundle_universe.add_cell(pt)\n",
    "moderator_cell=openmc.Cell(fill = moderator,region=+surf_pt_2)\n",
    "moderator_cell.temperature = 973\n",
    "\n",
    "bundle_universe.add_cell(moderator_cell)"
   ]
  },
  {
   "cell_type": "code",
   "execution_count": 11,
   "id": "c413764d-fd86-4d61-9393-f2452314802b",
   "metadata": {},
   "outputs": [
    {
     "data": {
      "text/plain": [
       "<matplotlib.image.AxesImage at 0x7efa6e3055d0>"
      ]
     },
     "execution_count": 11,
     "metadata": {},
     "output_type": "execute_result"
    },
    {
     "data": {
      "image/png": "[encoded data removed]",
      "text/plain": [
       "<Figure size 258.065x259.74 with 1 Axes>"
      ]
     },
     "metadata": {},
     "output_type": "display_data"
    }
   ],
   "source": [
    "bdu=bundle_universe\n",
    "bdu.plot(**plot_args)"
   ]
  },
  {
   "cell_type": "code",
   "execution_count": 12,
   "id": "bec70538-4d3e-4dc4-a5fe-19fe7e7cf958",
   "metadata": {},
   "outputs": [],
   "source": [
    "external_moderator=openmc.Cell(fill=e_moderator)\n",
    "external_moderator.temperature = 973\n",
    "emu = openmc.Universe(cells=[external_moderator])"
   ]
  },
  {
   "cell_type": "code",
   "execution_count": 13,
   "id": "68add457-8564-491a-868a-3295a2ddc7da",
   "metadata": {},
   "outputs": [],
   "source": [
    "lattice = openmc.HexLattice()"
   ]
  },
  {
   "cell_type": "code",
   "execution_count": 14,
   "id": "7750be42-660b-4d05-a214-da38df027316",
   "metadata": {},
   "outputs": [],
   "source": [
    "lattice.center = (0,0)\n",
    "lattice.pitch = (16,)\n",
    "lattice.outer = emu"
   ]
  },
  {
   "cell_type": "code",
   "execution_count": 15,
   "id": "fbb03bf4-61a0-4183-996b-205737064913",
   "metadata": {},
   "outputs": [],
   "source": [
    "outer_ring2 =[bdu]*30\n",
    "outer_ring =[bdu]*24\n",
    "ring_1 = [bdu]*18\n",
    "ring_2 = [bdu]*12\n",
    "ring_3 = [bdu]*6\n",
    "inner_ring = [bdu]"
   ]
  },
  {
   "cell_type": "code",
   "execution_count": 16,
   "id": "51778b55-ff8f-4be2-895a-7b4986f16fce",
   "metadata": {},
   "outputs": [],
   "source": [
    "lattice.universes = [outer_ring2,\n",
    "                     outer_ring,\n",
    "                     ring_1,\n",
    "                     ring_2,\n",
    "                     ring_3,\n",
    "                     inner_ring]"
   ]
  },
  {
   "cell_type": "code",
   "execution_count": 17,
   "id": "3b45f453-c9dc-49d0-adfc-acc58300dece",
   "metadata": {},
   "outputs": [],
   "source": [
    "core_body = openmc.ZCylinder(x0=0,y0=0,r=D/2)\n",
    "core_top = openmc.ZPlane(z0=H/2, boundary_type='vacuum')\n",
    "core_bottom = openmc.ZPlane(z0=-H/2,boundary_type='vacuum')\n",
    "main_cell = openmc.Cell(fill=lattice, region=-core_body & -core_top & +core_bottom)\n",
    "\n",
    "reflector_container = openmc.ZCylinder(x0=0,y0=0,r=(D/2)+5, boundary_type='vacuum')\n",
    "reflector_cell = openmc.Cell(fill=reflector1, region=+core_body & -reflector_container & -core_top & +core_bottom)\n",
    "reflector_cell.temperature = 973\n",
    "\n",
    "geometry = openmc.Geometry([main_cell,reflector_cell])\n",
    "lattice.orientation='x'\n",
    "geometry.export_to_xml()\n",
    "\n",
    "materials=openmc.Materials(geometry.get_all_materials().values())\n",
    "materials.export_to_xml()"
   ]
  },
  {
   "cell_type": "code",
   "execution_count": 18,
   "id": "d55a5d5f-dc6c-4461-8f5e-31a5ae5bad49",
   "metadata": {},
   "outputs": [
    {
     "data": {
      "image/png": "[encoded data removed]",
      "text/plain": [
       "<IPython.core.display.Image object>"
      ]
     },
     "execution_count": 18,
     "metadata": {},
     "output_type": "execute_result"
    }
   ],
   "source": [
    "plot = openmc.Plot.from_geometry(geometry)\n",
    "#plot.basis='yz'\n",
    "#plot.origin=(0,0,(H/2))\n",
    "plot.color_by = 'material'\n",
    "plot.colors = {\n",
    "    fuel: 'yellow',\n",
    "    clad_in: 'grey',\n",
    "    clad_out: 'white',\n",
    "    coolant: 'blue',\n",
    "    moderator: 'green',\n",
    "    e_moderator: 'green',\n",
    "}\n",
    "plot.to_ipython_image()"
   ]
  },
  {
   "cell_type": "code",
   "execution_count": 19,
   "id": "60207a52-6388-4e35-8747-c7ea07461fe8",
   "metadata": {},
   "outputs": [],
   "source": [
    "settings = openmc.Settings()\n",
    "settings.particles = 10000\n",
    "settings.batches = 100\n",
    "settings.inactive = 15\n",
    "settings.temperature={'method':'interpolation','range':(250, 2500)}\n",
    "box = openmc.stats.Box(lower_left = (-D/2,-D/2,-H/2),\n",
    "                      upper_right = (D/2,D/2,H/2),\n",
    "                      only_fissionable=True);\n",
    "src = openmc.Source(space=box);\n",
    "settings.source = src\n",
    "settings.export_to_xml()"
   ]
  },
  {
   "cell_type": "code",
   "execution_count": 20,
   "id": "3b1552af-b1a8-44ab-a437-3336ef7bb462",
   "metadata": {},
   "outputs": [],
   "source": [
    "fuel_tally = openmc.Tally()\n",
    "fuel_tally.filters = [openmc.DistribcellFilter(fuel_cell)]"
   ]
  },
  {
   "cell_type": "code",
   "execution_count": 21,
   "id": "a3afca27-22ad-4e67-9d5e-6f6f86c3a91d",
   "metadata": {},
   "outputs": [
    {
     "name": "stdout",
     "output_type": "stream",
     "text": [
      "                                %%%%%%%%%%%%%%%\n",
      "                           %%%%%%%%%%%%%%%%%%%%%%%%\n",
      "                        %%%%%%%%%%%%%%%%%%%%%%%%%%%%%%\n",
      "                      %%%%%%%%%%%%%%%%%%%%%%%%%%%%%%%%%%\n",
      "                    %%%%%%%%%%%%%%%%%%%%%%%%%%%%%%%%%%%%%%\n",
      "                   %%%%%%%%%%%%%%%%%%%%%%%%%%%%%%%%%%%%%%%%\n",
      "                                    %%%%%%%%%%%%%%%%%%%%%%%%\n",
      "                                     %%%%%%%%%%%%%%%%%%%%%%%%\n",
      "                 ###############      %%%%%%%%%%%%%%%%%%%%%%%%\n",
      "                ##################     %%%%%%%%%%%%%%%%%%%%%%%\n",
      "                ###################     %%%%%%%%%%%%%%%%%%%%%%%\n",
      "                ####################     %%%%%%%%%%%%%%%%%%%%%%\n",
      "                #####################     %%%%%%%%%%%%%%%%%%%%%\n",
      "                ######################     %%%%%%%%%%%%%%%%%%%%\n",
      "                #######################     %%%%%%%%%%%%%%%%%%\n",
      "                 #######################     %%%%%%%%%%%%%%%%%\n",
      "                 ######################     %%%%%%%%%%%%%%%%%\n",
      "                  ####################     %%%%%%%%%%%%%%%%%\n",
      "                    #################     %%%%%%%%%%%%%%%%%\n",
      "                     ###############     %%%%%%%%%%%%%%%%\n",
      "                       ############     %%%%%%%%%%%%%%%\n",
      "                          ########     %%%%%%%%%%%%%%\n",
      "                                      %%%%%%%%%%%\n",
      "\n",
      "                 | The OpenMC Monte Carlo Code\n",
      "       Copyright | 2011-2023 MIT, UChicago Argonne LLC, and contributors\n",
      "         License | https://docs.openmc.org/en/latest/license.html\n",
      "         Version | 0.13.3\n",
      "        Git SHA1 | 50e39a4e20dc9e0f3d7ccf07333f6a5e6c797c8c\n",
      "       Date/Time | 2024-02-07 11:47:33\n",
      "  OpenMP Threads | 192\n",
      "\n",
      " Reading settings XML file...\n",
      " Reading cross sections XML file...\n",
      " Reading materials XML file...\n",
      " Reading geometry XML file...\n",
      " Reading U234 from /home/m240600/OpenMC_CrossSections/lib80x_hdf5/U234.h5\n",
      " Reading U235 from /home/m240600/OpenMC_CrossSections/lib80x_hdf5/U235.h5\n",
      " Reading U238 from /home/m240600/OpenMC_CrossSections/lib80x_hdf5/U238.h5\n",
      " Reading U236 from /home/m240600/OpenMC_CrossSections/lib80x_hdf5/U236.h5\n",
      " Reading O16 from /home/m240600/OpenMC_CrossSections/lib80x_hdf5/O16.h5\n",
      " Reading O17 from /home/m240600/OpenMC_CrossSections/lib80x_hdf5/O17.h5\n",
      " Reading O18 from /home/m240600/OpenMC_CrossSections/lib80x_hdf5/O18.h5\n",
      " Reading C12 from /home/m240600/OpenMC_CrossSections/lib80x_hdf5/C12.h5\n",
      " Reading C13 from /home/m240600/OpenMC_CrossSections/lib80x_hdf5/C13.h5\n",
      " Reading Si28 from /home/m240600/OpenMC_CrossSections/lib80x_hdf5/Si28.h5\n",
      " Reading Si29 from /home/m240600/OpenMC_CrossSections/lib80x_hdf5/Si29.h5\n",
      " Reading Si30 from /home/m240600/OpenMC_CrossSections/lib80x_hdf5/Si30.h5\n",
      " Reading Li6 from /home/m240600/OpenMC_CrossSections/lib80x_hdf5/Li6.h5\n",
      " Reading Li7 from /home/m240600/OpenMC_CrossSections/lib80x_hdf5/Li7.h5\n",
      " Reading H1 from /home/m240600/OpenMC_CrossSections/lib80x_hdf5/H1.h5\n",
      " Reading H2 from /home/m240600/OpenMC_CrossSections/lib80x_hdf5/H2.h5\n",
      " Reading Na23 from /home/m240600/OpenMC_CrossSections/lib80x_hdf5/Na23.h5\n",
      " Reading Mn55 from /home/m240600/OpenMC_CrossSections/lib80x_hdf5/Mn55.h5\n",
      " Reading P31 from /home/m240600/OpenMC_CrossSections/lib80x_hdf5/P31.h5\n",
      " Reading S32 from /home/m240600/OpenMC_CrossSections/lib80x_hdf5/S32.h5\n",
      " Reading S33 from /home/m240600/OpenMC_CrossSections/lib80x_hdf5/S33.h5\n",
      " Reading S34 from /home/m240600/OpenMC_CrossSections/lib80x_hdf5/S34.h5\n",
      " Reading S36 from /home/m240600/OpenMC_CrossSections/lib80x_hdf5/S36.h5\n",
      " Reading Cr50 from /home/m240600/OpenMC_CrossSections/lib80x_hdf5/Cr50.h5\n",
      " Reading Cr52 from /home/m240600/OpenMC_CrossSections/lib80x_hdf5/Cr52.h5\n",
      " Reading Cr53 from /home/m240600/OpenMC_CrossSections/lib80x_hdf5/Cr53.h5\n",
      " Reading Cr54 from /home/m240600/OpenMC_CrossSections/lib80x_hdf5/Cr54.h5\n",
      " Reading Ni58 from /home/m240600/OpenMC_CrossSections/lib80x_hdf5/Ni58.h5\n",
      " Reading Ni60 from /home/m240600/OpenMC_CrossSections/lib80x_hdf5/Ni60.h5\n",
      " Reading Ni61 from /home/m240600/OpenMC_CrossSections/lib80x_hdf5/Ni61.h5\n",
      " Reading Ni62 from /home/m240600/OpenMC_CrossSections/lib80x_hdf5/Ni62.h5\n",
      " Reading Ni64 from /home/m240600/OpenMC_CrossSections/lib80x_hdf5/Ni64.h5\n",
      " Reading Fe54 from /home/m240600/OpenMC_CrossSections/lib80x_hdf5/Fe54.h5\n",
      " Reading Fe56 from /home/m240600/OpenMC_CrossSections/lib80x_hdf5/Fe56.h5\n",
      " Reading Fe57 from /home/m240600/OpenMC_CrossSections/lib80x_hdf5/Fe57.h5\n",
      " Reading Fe58 from /home/m240600/OpenMC_CrossSections/lib80x_hdf5/Fe58.h5\n",
      " Reading c_Graphite from\n",
      " /home/m240600/OpenMC_CrossSections/lib80x_hdf5/c_Graphite.h5\n",
      " Reading c_C_in_SiC from\n",
      " /home/m240600/OpenMC_CrossSections/lib80x_hdf5/c_C_in_SiC.h5\n",
      " Minimum neutron data temperature: 250 K\n",
      " Maximum neutron data temperature: 2500 K\n",
      " Preparing distributed cell instances...\n",
      " Reading plot XML file...\n",
      " Writing summary.h5 file...\n",
      " Maximum neutron transport energy: 20000000 eV for O17\n",
      " Initializing source particles...\n",
      "\n",
      " ====================>     K EIGENVALUE SIMULATION     <====================\n",
      "\n",
      "  Bat./Gen.      k            Average k\n",
      "  =========   ========   ====================\n",
      "        1/1    1.25579\n",
      "        2/1    1.33777\n",
      "        3/1    1.35395\n",
      "        4/1    1.37203\n",
      "        5/1    1.36719\n",
      "        6/1    1.38968\n",
      "        7/1    1.36366\n",
      "        8/1    1.39025\n",
      "        9/1    1.38966\n",
      "       10/1    1.42158\n",
      "       11/1    1.41277\n",
      "       12/1    1.39685\n",
      "       13/1    1.40156\n",
      "       14/1    1.40755\n",
      "       15/1    1.41129\n",
      "       16/1    1.39133\n",
      "       17/1    1.37621    1.38377 +/- 0.00756\n",
      "       18/1    1.38537    1.38430 +/- 0.00440\n",
      "       19/1    1.39422    1.38678 +/- 0.00398\n",
      "       20/1    1.39855    1.38913 +/- 0.00388\n",
      "       21/1    1.36497    1.38511 +/- 0.00512\n",
      "       22/1    1.41020    1.38869 +/- 0.00562\n",
      "       23/1    1.40925    1.39126 +/- 0.00550\n",
      "       24/1    1.39067    1.39120 +/- 0.00485\n",
      "       25/1    1.40466    1.39254 +/- 0.00455\n",
      "       26/1    1.37118    1.39060 +/- 0.00455\n",
      "       27/1    1.38052    1.38976 +/- 0.00424\n",
      "       28/1    1.39340    1.39004 +/- 0.00391\n",
      "       29/1    1.40302    1.39097 +/- 0.00373\n",
      "       30/1    1.39535    1.39126 +/- 0.00349\n",
      "       31/1    1.41195    1.39255 +/- 0.00351\n",
      "       32/1    1.36325    1.39083 +/- 0.00372\n",
      "       33/1    1.38235    1.39036 +/- 0.00354\n",
      "       34/1    1.37712    1.38966 +/- 0.00342\n",
      "       35/1    1.39442    1.38990 +/- 0.00325\n",
      "       36/1    1.37621    1.38925 +/- 0.00316\n",
      "       37/1    1.39373    1.38945 +/- 0.00302\n",
      "       38/1    1.38902    1.38943 +/- 0.00289\n",
      "       39/1    1.39406    1.38962 +/- 0.00277\n",
      "       40/1    1.40739    1.39034 +/- 0.00275\n",
      "       41/1    1.37368    1.38970 +/- 0.00272\n",
      "       42/1    1.36820    1.38890 +/- 0.00274\n",
      "       43/1    1.41065    1.38968 +/- 0.00275\n",
      "       44/1    1.41123    1.39042 +/- 0.00275\n",
      "       45/1    1.37760    1.38999 +/- 0.00269\n",
      "       46/1    1.38440    1.38981 +/- 0.00261\n",
      "       47/1    1.38928    1.38979 +/- 0.00253\n",
      "       48/1    1.38495    1.38965 +/- 0.00246\n",
      "       49/1    1.37614    1.38925 +/- 0.00242\n",
      "       50/1    1.39636    1.38945 +/- 0.00235\n",
      "       51/1    1.37278    1.38899 +/- 0.00233\n",
      "       52/1    1.39803    1.38923 +/- 0.00228\n",
      "       53/1    1.41347    1.38987 +/- 0.00231\n",
      "       54/1    1.37353    1.38945 +/- 0.00229\n",
      "       55/1    1.38153    1.38926 +/- 0.00224\n",
      "       56/1    1.36387    1.38864 +/- 0.00227\n",
      "       57/1    1.40194    1.38895 +/- 0.00224\n",
      "       58/1    1.36552    1.38841 +/- 0.00225\n",
      "       59/1    1.37462    1.38809 +/- 0.00222\n",
      "       60/1    1.40104    1.38838 +/- 0.00219\n",
      "       61/1    1.39956    1.38863 +/- 0.00216\n",
      "       62/1    1.38039    1.38845 +/- 0.00212\n",
      "       63/1    1.42002    1.38911 +/- 0.00218\n",
      "       64/1    1.38562    1.38904 +/- 0.00213\n",
      "       65/1    1.41436    1.38954 +/- 0.00215\n",
      "       66/1    1.40517    1.38985 +/- 0.00213\n",
      "       67/1    1.39894    1.39002 +/- 0.00210\n",
      "       68/1    1.40860    1.39038 +/- 0.00209\n",
      "       69/1    1.41209    1.39078 +/- 0.00209\n",
      "       70/1    1.38464    1.39067 +/- 0.00205\n",
      "       71/1    1.39343    1.39071 +/- 0.00201\n",
      "       72/1    1.35353    1.39006 +/- 0.00208\n",
      "       73/1    1.39158    1.39009 +/- 0.00205\n",
      "       74/1    1.38500    1.39000 +/- 0.00201\n",
      "       75/1    1.33833    1.38914 +/- 0.00216\n",
      "       76/1    1.37984    1.38899 +/- 0.00213\n",
      "       77/1    1.36300    1.38857 +/- 0.00214\n",
      "       78/1    1.38781    1.38856 +/- 0.00210\n",
      "       79/1    1.38726    1.38854 +/- 0.00207\n",
      "       80/1    1.38985    1.38856 +/- 0.00204\n",
      "       81/1    1.37477    1.38835 +/- 0.00202\n",
      "       82/1    1.40115    1.38854 +/- 0.00200\n",
      "       83/1    1.38719    1.38852 +/- 0.00197\n",
      "       84/1    1.40510    1.38876 +/- 0.00195\n",
      "       85/1    1.40136    1.38894 +/- 0.00193\n",
      "       86/1    1.39401    1.38901 +/- 0.00191\n",
      "       87/1    1.41094    1.38932 +/- 0.00190\n",
      "       88/1    1.38234    1.38922 +/- 0.00188\n",
      "       89/1    1.39235    1.38926 +/- 0.00186\n",
      "       90/1    1.42776    1.38978 +/- 0.00190\n",
      "       91/1    1.39011    1.38978 +/- 0.00188\n",
      "       92/1    1.38001    1.38965 +/- 0.00186\n",
      "       93/1    1.39926    1.38978 +/- 0.00184\n",
      "       94/1    1.39777    1.38988 +/- 0.00182\n",
      "       95/1    1.40427    1.39006 +/- 0.00180\n",
      "       96/1    1.38875    1.39004 +/- 0.00178\n",
      "       97/1    1.41511    1.39035 +/- 0.00178\n",
      "       98/1    1.40595    1.39054 +/- 0.00177\n",
      "       99/1    1.38185    1.39043 +/- 0.00175\n",
      "      100/1    1.38017    1.39031 +/- 0.00174\n",
      " Creating state point statepoint.100.h5...\n",
      "\n",
      " =======================>     TIMING STATISTICS     <=======================\n",
      "\n",
      " Total time for initialization     = 9.8577e+00 seconds\n",
      "   Reading cross sections          = 9.7601e+00 seconds\n",
      " Total time in simulation          = 3.8725e+00 seconds\n",
      "   Time in transport only          = 3.7037e+00 seconds\n",
      "   Time in inactive batches        = 6.6891e-01 seconds\n",
      "   Time in active batches          = 3.2036e+00 seconds\n",
      "   Time synchronizing fission bank = 9.2982e-02 seconds\n",
      "     Sampling source sites         = 7.9666e-02 seconds\n",
      "     SEND/RECV source sites        = 1.2683e-02 seconds\n",
      "   Time accumulating tallies       = 1.0220e-04 seconds\n",
      "   Time writing statepoints        = 7.1166e-03 seconds\n",
      " Total time for finalization       = 1.1950e-06 seconds\n",
      " Total time elapsed                = 1.3821e+01 seconds\n",
      " Calculation Rate (inactive)       = 224245 particles/second\n",
      " Calculation Rate (active)         = 265324 particles/second\n",
      "\n",
      " ============================>     RESULTS     <============================\n",
      "\n",
      " k-effective (Collision)     = 1.39292 +/- 0.00136\n",
      " k-effective (Track-length)  = 1.39031 +/- 0.00174\n",
      " k-effective (Absorption)    = 1.39324 +/- 0.00086\n",
      " Combined k-effective        = 1.39280 +/- 0.00083\n",
      " Leakage Fraction            = 0.09194 +/- 0.00033\n",
      "\n"
     ]
    }
   ],
   "source": [
    "openmc.run()"
   ]
  },
  {
   "cell_type": "code",
   "execution_count": 22,
   "id": "0c8cecd4-0cbd-4c91-be13-5b83f1290c46",
   "metadata": {},
   "outputs": [],
   "source": [
    "fuel.volume = pi*r_fuel**2*H*(37*91) #cm^3 for 37 fuel pins and 69 FA"
   ]
  },
  {
   "cell_type": "code",
   "execution_count": 23,
   "id": "a81a3467-a406-44cb-a71a-4d2477e8d4bd",
   "metadata": {},
   "outputs": [],
   "source": [
    "model=openmc.model.Model(geometry,materials,settings)\n",
    "operator = openmc.deplete.CoupledOperator(model,\"chain_endfb80_pwr.xml\")\n",
    "\n",
    "power_density = 35 #MW/kg\n",
    "\n",
    "days = 3600*24; #number of seconds in a day\n",
    "\n",
    "time_steps = [0.1*days,0.1*days, 0.1*days, 0.1*days, 0.1*days,\n",
    "              0.25*days, 0.25*days, 0.25*days, 0.25*days, 0.25*days, 0.25*days,\n",
    "              0.5*days, 0.5*days, 0.5*days,0.5*days,\n",
    "              0.75*days, 0.75*days, 0.75*days, 0.75*days,\n",
    "              1*days, 1*days, 1*days, 1*days, 1*days, 1*days, 1*days, 1*days, 1*days, 1*days, 1*days, 1*days, 1*days, 1*days, 1*days, 1*days,\n",
    "              1.5*days, 1.5*days, 1.5*days, 1.5*days, 1.5*days, 1.5*days, 1.5*days, 1.5*days, 1.5*days, 1.5*days,\n",
    "              2*days, 2*days, 2*days, 2*days, 2*days, 2*days, 2*days, 2*days, 2*days, 2*days, 2*days,\n",
    "              5*days, 5*days, 5*days, 5*days,5*days, 5*days, 5*days, 5*days, 5*days, 5*days,5*days, 5*days,\n",
    "              10*days, 10*days, 10*days, 10*days, 10*days, 10*days, 10*days, 10*days, 10*days, 10*days, 10*days, 10*days, 10*days, 10*days,\n",
    "              15*days, 15*days, 15*days, 15*days, 15*days, 15*days, 15*days, 15*days,\n",
    "              20*days, 20*days, 20*days, 20*days, 20*days, 20*days, 20*days, 20*days, 20*days, 20*days, 20*days, 20*days,\n",
    "              30*days, 30*days, 30*days, 30*days, 30*days, 30*days, 30*days, 30*days, 30*days, 30*days, 30*days, 30*days,\n",
    "              30*days, 30*days, 30*days, 30*days, 30*days, 30*days, 30*days, 30*days, 30*days, 30*days, 30*days, 30*days,\n",
    "              30*days, 30*days, 30*days, 30*days, 30*days, 30*days, 30*days, 30*days, 30*days, 30*days, 30*days, 30*days,\n",
    "              40*days, 40*days, 40*days, 40*days, 40*days, 40*days, 40*days, 40*days, 40*days, 40*days,\n",
    "              50*days, 50*days, 50*days, 50*days, 50*days, 50*days, 50*days, 50*days, 50*days, 50*days, 50*days, 50*days,\n",
    "              60*days, 60*days, 60*days, 60*days, 60*days, 60*days, 60*days, 60*days, 60*days, 60*days, 60*days, 60*days,\n",
    "              60*days, 60*days, 60*days, 60*days, 60*days, 60*days, 60*days, 60*days, 60*days, 60*days, 60*days, 60*days,\n",
    "              60*days, 60*days, 60*days, 60*days, 60*days, 60*days, 60*days, 60*days, 60*days, 60*days, 60*days, 60*days,\n",
    "              60*days, 60*days, 60*days, 60*days]\n",
    "\n",
    "\n",
    "cemc = openmc.deplete.CECMIntegrator(operator,time_steps,power_density = power_density,timestep_units='s')\n",
    "\n",
    "#repeat_depletion = False;\n",
    "\n",
    "#if(repeat_depletion):\n",
    "#    cecm.integrate()"
   ]
  },
  {
   "cell_type": "code",
   "execution_count": 24,
   "id": "478095d6-c753-4af0-b17b-3f45fe403b2c",
   "metadata": {},
   "outputs": [
    {
     "name": "stdout",
     "output_type": "stream",
     "text": [
      "                                %%%%%%%%%%%%%%%\n",
      "                           %%%%%%%%%%%%%%%%%%%%%%%%\n",
      "                        %%%%%%%%%%%%%%%%%%%%%%%%%%%%%%\n",
      "                      %%%%%%%%%%%%%%%%%%%%%%%%%%%%%%%%%%\n",
      "                    %%%%%%%%%%%%%%%%%%%%%%%%%%%%%%%%%%%%%%\n",
      "                   %%%%%%%%%%%%%%%%%%%%%%%%%%%%%%%%%%%%%%%%\n",
      "                                    %%%%%%%%%%%%%%%%%%%%%%%%\n",
      "                                     %%%%%%%%%%%%%%%%%%%%%%%%\n",
      "                 ###############      %%%%%%%%%%%%%%%%%%%%%%%%\n",
      "                ##################     %%%%%%%%%%%%%%%%%%%%%%%\n",
      "                ###################     %%%%%%%%%%%%%%%%%%%%%%%\n",
      "                ####################     %%%%%%%%%%%%%%%%%%%%%%\n",
      "                #####################     %%%%%%%%%%%%%%%%%%%%%\n",
      "                ######################     %%%%%%%%%%%%%%%%%%%%\n",
      "                #######################     %%%%%%%%%%%%%%%%%%\n",
      "                 #######################     %%%%%%%%%%%%%%%%%\n",
      "                 ######################     %%%%%%%%%%%%%%%%%\n",
      "                  ####################     %%%%%%%%%%%%%%%%%\n",
      "                    #################     %%%%%%%%%%%%%%%%%\n",
      "                     ###############     %%%%%%%%%%%%%%%%\n",
      "                       ############     %%%%%%%%%%%%%%%\n",
      "                          ########     %%%%%%%%%%%%%%\n",
      "                                      %%%%%%%%%%%\n",
      "\n",
      "                 | The OpenMC Monte Carlo Code\n",
      "       Copyright | 2011-2023 MIT, UChicago Argonne LLC, and contributors\n",
      "         License | https://docs.openmc.org/en/latest/license.html\n",
      "         Version | 0.13.3\n",
      "        Git SHA1 | 50e39a4e20dc9e0f3d7ccf07333f6a5e6c797c8c\n",
      "       Date/Time | 2024-02-07 11:47:49\n",
      "  OpenMP Threads | 192\n",
      "\n",
      " Reading settings XML file...\n",
      " Reading cross sections XML file...\n",
      " Reading materials XML file...\n",
      " Reading geometry XML file...\n",
      " Reading O16 from /home/m240600/OpenMC_CrossSections/lib80x_hdf5/O16.h5\n",
      " Reading O17 from /home/m240600/OpenMC_CrossSections/lib80x_hdf5/O17.h5\n",
      " Reading O18 from /home/m240600/OpenMC_CrossSections/lib80x_hdf5/O18.h5\n",
      " Reading U234 from /home/m240600/OpenMC_CrossSections/lib80x_hdf5/U234.h5\n",
      " Reading U235 from /home/m240600/OpenMC_CrossSections/lib80x_hdf5/U235.h5\n",
      " Reading U236 from /home/m240600/OpenMC_CrossSections/lib80x_hdf5/U236.h5\n",
      " Reading U238 from /home/m240600/OpenMC_CrossSections/lib80x_hdf5/U238.h5\n",
      " Reading C12 from /home/m240600/OpenMC_CrossSections/lib80x_hdf5/C12.h5\n",
      " Reading C13 from /home/m240600/OpenMC_CrossSections/lib80x_hdf5/C13.h5\n",
      " Reading Si28 from /home/m240600/OpenMC_CrossSections/lib80x_hdf5/Si28.h5\n",
      " Reading Si29 from /home/m240600/OpenMC_CrossSections/lib80x_hdf5/Si29.h5\n",
      " Reading Si30 from /home/m240600/OpenMC_CrossSections/lib80x_hdf5/Si30.h5\n",
      " Reading H1 from /home/m240600/OpenMC_CrossSections/lib80x_hdf5/H1.h5\n",
      " Reading H2 from /home/m240600/OpenMC_CrossSections/lib80x_hdf5/H2.h5\n",
      " Reading Li6 from /home/m240600/OpenMC_CrossSections/lib80x_hdf5/Li6.h5\n",
      " Reading Li7 from /home/m240600/OpenMC_CrossSections/lib80x_hdf5/Li7.h5\n",
      " Reading Na23 from /home/m240600/OpenMC_CrossSections/lib80x_hdf5/Na23.h5\n",
      " Reading P31 from /home/m240600/OpenMC_CrossSections/lib80x_hdf5/P31.h5\n",
      " Reading S32 from /home/m240600/OpenMC_CrossSections/lib80x_hdf5/S32.h5\n",
      " Reading S33 from /home/m240600/OpenMC_CrossSections/lib80x_hdf5/S33.h5\n",
      " Reading S34 from /home/m240600/OpenMC_CrossSections/lib80x_hdf5/S34.h5\n",
      " Reading S36 from /home/m240600/OpenMC_CrossSections/lib80x_hdf5/S36.h5\n",
      " Reading Cr50 from /home/m240600/OpenMC_CrossSections/lib80x_hdf5/Cr50.h5\n",
      " Reading Cr52 from /home/m240600/OpenMC_CrossSections/lib80x_hdf5/Cr52.h5\n",
      " Reading Cr53 from /home/m240600/OpenMC_CrossSections/lib80x_hdf5/Cr53.h5\n",
      " Reading Cr54 from /home/m240600/OpenMC_CrossSections/lib80x_hdf5/Cr54.h5\n",
      " Reading Mn55 from /home/m240600/OpenMC_CrossSections/lib80x_hdf5/Mn55.h5\n",
      " Reading Fe54 from /home/m240600/OpenMC_CrossSections/lib80x_hdf5/Fe54.h5\n",
      " Reading Fe56 from /home/m240600/OpenMC_CrossSections/lib80x_hdf5/Fe56.h5\n",
      " Reading Fe57 from /home/m240600/OpenMC_CrossSections/lib80x_hdf5/Fe57.h5\n",
      " Reading Fe58 from /home/m240600/OpenMC_CrossSections/lib80x_hdf5/Fe58.h5\n",
      " Reading Ni58 from /home/m240600/OpenMC_CrossSections/lib80x_hdf5/Ni58.h5\n",
      " Reading Ni60 from /home/m240600/OpenMC_CrossSections/lib80x_hdf5/Ni60.h5\n",
      " Reading Ni61 from /home/m240600/OpenMC_CrossSections/lib80x_hdf5/Ni61.h5\n",
      " Reading Ni62 from /home/m240600/OpenMC_CrossSections/lib80x_hdf5/Ni62.h5\n",
      " Reading Ni64 from /home/m240600/OpenMC_CrossSections/lib80x_hdf5/Ni64.h5\n",
      " Reading c_Graphite from\n",
      " /home/m240600/OpenMC_CrossSections/lib80x_hdf5/c_Graphite.h5\n",
      " Reading c_C_in_SiC from\n",
      " /home/m240600/OpenMC_CrossSections/lib80x_hdf5/c_C_in_SiC.h5\n",
      " Minimum neutron data temperature: 250 K\n",
      " Maximum neutron data temperature: 2500 K\n",
      " Preparing distributed cell instances...\n",
      " Reading plot XML file...\n",
      " Writing summary.h5 file...\n"
     ]
    },
    {
     "ename": "KeyboardInterrupt",
     "evalue": "",
     "output_type": "error",
     "traceback": [
      "\u001b[0;31m---------------------------------------------------------------------------\u001b[0m",
      "\u001b[0;31mKeyboardInterrupt\u001b[0m                         Traceback (most recent call last)",
      "Cell \u001b[0;32mIn[24], line 1\u001b[0m\n\u001b[0;32m----> 1\u001b[0m \u001b[43mcemc\u001b[49m\u001b[38;5;241;43m.\u001b[39;49m\u001b[43mintegrate\u001b[49m\u001b[43m(\u001b[49m\u001b[43m)\u001b[49m\n",
      "File \u001b[0;32m~/.conda/envs/openmc-env/lib/python3.11/site-packages/openmc/deplete/abc.py:797\u001b[0m, in \u001b[0;36mIntegrator.integrate\u001b[0;34m(self, final_step, output)\u001b[0m\n\u001b[1;32m    782\u001b[0m \u001b[38;5;250m\u001b[39m\u001b[38;5;124;03m\"\"\"Perform the entire depletion process across all steps\u001b[39;00m\n\u001b[1;32m    783\u001b[0m \n\u001b[1;32m    784\u001b[0m \u001b[38;5;124;03mParameters\u001b[39;00m\n\u001b[0;32m   (...)\u001b[0m\n\u001b[1;32m    794\u001b[0m \u001b[38;5;124;03m    .. versionadded:: 0.13.1\u001b[39;00m\n\u001b[1;32m    795\u001b[0m \u001b[38;5;124;03m\"\"\"\u001b[39;00m\n\u001b[1;32m    796\u001b[0m \u001b[38;5;28;01mwith\u001b[39;00m change_directory(\u001b[38;5;28mself\u001b[39m\u001b[38;5;241m.\u001b[39moperator\u001b[38;5;241m.\u001b[39moutput_dir):\n\u001b[0;32m--> 797\u001b[0m     conc \u001b[38;5;241m=\u001b[39m \u001b[38;5;28;43mself\u001b[39;49m\u001b[38;5;241;43m.\u001b[39;49m\u001b[43moperator\u001b[49m\u001b[38;5;241;43m.\u001b[39;49m\u001b[43minitial_condition\u001b[49m\u001b[43m(\u001b[49m\u001b[43m)\u001b[49m\n\u001b[1;32m    798\u001b[0m     t, \u001b[38;5;28mself\u001b[39m\u001b[38;5;241m.\u001b[39m_i_res \u001b[38;5;241m=\u001b[39m \u001b[38;5;28mself\u001b[39m\u001b[38;5;241m.\u001b[39m_get_start_data()\n\u001b[1;32m    800\u001b[0m     \u001b[38;5;28;01mfor\u001b[39;00m i, (dt, source_rate) \u001b[38;5;129;01min\u001b[39;00m \u001b[38;5;28menumerate\u001b[39m(\u001b[38;5;28mself\u001b[39m):\n",
      "File \u001b[0;32m~/.conda/envs/openmc-env/lib/python3.11/site-packages/openmc/deplete/coupled_operator.py:407\u001b[0m, in \u001b[0;36mCoupledOperator.initial_condition\u001b[0;34m(self)\u001b[0m\n\u001b[1;32m    405\u001b[0m comm\u001b[38;5;241m.\u001b[39mbarrier()\n\u001b[1;32m    406\u001b[0m \u001b[38;5;28;01mif\u001b[39;00m \u001b[38;5;129;01mnot\u001b[39;00m openmc\u001b[38;5;241m.\u001b[39mlib\u001b[38;5;241m.\u001b[39mis_initialized:\n\u001b[0;32m--> 407\u001b[0m     \u001b[43mopenmc\u001b[49m\u001b[38;5;241;43m.\u001b[39;49m\u001b[43mlib\u001b[49m\u001b[38;5;241;43m.\u001b[39;49m\u001b[43minit\u001b[49m\u001b[43m(\u001b[49m\u001b[43mintracomm\u001b[49m\u001b[38;5;241;43m=\u001b[39;49m\u001b[43mcomm\u001b[49m\u001b[43m)\u001b[49m\n\u001b[1;32m    409\u001b[0m \u001b[38;5;66;03m# Generate tallies in memory\u001b[39;00m\n\u001b[1;32m    410\u001b[0m materials \u001b[38;5;241m=\u001b[39m [openmc\u001b[38;5;241m.\u001b[39mlib\u001b[38;5;241m.\u001b[39mmaterials[\u001b[38;5;28mint\u001b[39m(i)] \u001b[38;5;28;01mfor\u001b[39;00m i \u001b[38;5;129;01min\u001b[39;00m \u001b[38;5;28mself\u001b[39m\u001b[38;5;241m.\u001b[39mburnable_mats]\n",
      "File \u001b[0;32m~/.conda/envs/openmc-env/lib/python3.11/site-packages/openmc/lib/core.py:291\u001b[0m, in \u001b[0;36minit\u001b[0;34m(args, intracomm, output)\u001b[0m\n\u001b[1;32m    288\u001b[0m         intracomm \u001b[38;5;241m=\u001b[39m c_void_p(address)\n\u001b[1;32m    290\u001b[0m \u001b[38;5;28;01mwith\u001b[39;00m quiet_dll(output):\n\u001b[0;32m--> 291\u001b[0m     \u001b[43m_dll\u001b[49m\u001b[38;5;241;43m.\u001b[39;49m\u001b[43mopenmc_init\u001b[49m\u001b[43m(\u001b[49m\u001b[43margc\u001b[49m\u001b[43m,\u001b[49m\u001b[43m \u001b[49m\u001b[43margv\u001b[49m\u001b[43m,\u001b[49m\u001b[43m \u001b[49m\u001b[43mintracomm\u001b[49m\u001b[43m)\u001b[49m\n\u001b[1;32m    292\u001b[0m openmc\u001b[38;5;241m.\u001b[39mlib\u001b[38;5;241m.\u001b[39mis_initialized \u001b[38;5;241m=\u001b[39m \u001b[38;5;28;01mTrue\u001b[39;00m\n",
      "File \u001b[0;32m~/.conda/envs/openmc-env/lib/python3.11/site-packages/openmc/lib/error.py:8\u001b[0m, in \u001b[0;36m_error_handler\u001b[0;34m(err, func, args)\u001b[0m\n\u001b[1;32m      4\u001b[0m \u001b[38;5;28;01mimport\u001b[39;00m \u001b[38;5;21;01mopenmc\u001b[39;00m\u001b[38;5;21;01m.\u001b[39;00m\u001b[38;5;21;01mexceptions\u001b[39;00m \u001b[38;5;28;01mas\u001b[39;00m \u001b[38;5;21;01mexc\u001b[39;00m\n\u001b[1;32m      5\u001b[0m \u001b[38;5;28;01mfrom\u001b[39;00m \u001b[38;5;21;01m.\u001b[39;00m \u001b[38;5;28;01mimport\u001b[39;00m _dll\n\u001b[0;32m----> 8\u001b[0m \u001b[38;5;28;01mdef\u001b[39;00m \u001b[38;5;21m_error_handler\u001b[39m(err, func, args):\n\u001b[1;32m      9\u001b[0m \u001b[38;5;250m    \u001b[39m\u001b[38;5;124;03m\"\"\"Raise exception according to error code.\"\"\"\u001b[39;00m\n\u001b[1;32m     11\u001b[0m     \u001b[38;5;66;03m# Get error code corresponding to global constant.\u001b[39;00m\n",
      "\u001b[0;31mKeyboardInterrupt\u001b[0m: "
     ]
    }
   ],
   "source": [
    "cemc.integrate()"
   ]
  },
  {
   "cell_type": "code",
   "execution_count": null,
   "id": "11bb26d5-e55f-47d7-8c7d-a98fb2f24886",
   "metadata": {},
   "outputs": [],
   "source": [
    "results = openmc.deplete.Results(\"./depletion_results.h5\")"
   ]
  },
  {
   "cell_type": "code",
   "execution_count": null,
   "id": "f65d31f9-bead-4039-b4d3-fd9a160c2581",
   "metadata": {},
   "outputs": [],
   "source": [
    "time, k =results.get_keff()"
   ]
  },
  {
   "cell_type": "code",
   "execution_count": null,
   "id": "465b0786-2a86-4b4e-840d-82ec6b0be3bf",
   "metadata": {},
   "outputs": [],
   "source": [
    "time /=(24*3600*1938.48)/67.85#converts to MWd/kgHM"
   ]
  },
  {
   "cell_type": "code",
   "execution_count": null,
   "id": "b670fc63-6edc-4328-9ed6-b476c1dc7f18",
   "metadata": {},
   "outputs": [],
   "source": [
    "eff=[1]*201"
   ]
  },
  {
   "cell_type": "code",
   "execution_count": null,
   "id": "21938e87-a42f-420f-aa43-c3e304c5578f",
   "metadata": {},
   "outputs": [],
   "source": [
    "def find_roots(x,y):\n",
    "    s = np.abs(np.diff(np.sign(y))).astype(bool)\n",
    "    return x[:-1][s] + np.diff(x)[s]/(np.abs(y[1:][s]/y[:-1][s])+1)\n",
    "\n",
    "z = find_roots(time,eff-k[:,0])\n",
    "z"
   ]
  },
  {
   "cell_type": "code",
   "execution_count": null,
   "id": "4bad4b0e-dcc1-4680-8a23-bdfe0f13aa9d",
   "metadata": {},
   "outputs": [],
   "source": [
    "pyplot.plot(time, k[:, 0],color='orange',marker='o',markersize=3)\n",
    "eff=[1]*201\n",
    "pyplot.plot(time,eff,color='red')\n",
    "pyplot.xlabel(\"MWd/kg\")\n",
    "pyplot.ylabel(\"$k_{eff}\\pm \\sigma$\");\n",
    "pyplot.xlim(0,160)\n",
    "pyplot.ylim(.8,1.5)\n",
    "\n",
    "pyplot.show()"
   ]
  },
  {
   "cell_type": "code",
   "execution_count": null,
   "id": "5d9b0fe0-4742-4547-9ffd-fdc277837385",
   "metadata": {},
   "outputs": [],
   "source": []
  },
  {
   "cell_type": "code",
   "execution_count": null,
   "id": "7a280173-cd94-4ab4-a5d2-a4e476779678",
   "metadata": {},
   "outputs": [],
   "source": []
  }
 ],
 "metadata": {
  "kernelspec": {
   "display_name": "Python 3 (ipykernel)",
   "language": "python",
   "name": "python3"
  },
  "language_info": {
   "codemirror_mode": {
    "name": "ipython",
    "version": 3
   },
   "file_extension": ".py",
   "mimetype": "text/x-python",
   "name": "python",
   "nbconvert_exporter": "python",
   "pygments_lexer": "ipython3",
   "version": "3.11.5"
  }
 },
 "nbformat": 4,
 "nbformat_minor": 5
}
