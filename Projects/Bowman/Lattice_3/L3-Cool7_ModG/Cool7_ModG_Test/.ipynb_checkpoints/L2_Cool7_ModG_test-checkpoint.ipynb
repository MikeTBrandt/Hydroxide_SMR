{
 "cells": [
  {
   "cell_type": "code",
   "execution_count": 1,
   "id": "d222d07d-7e8f-4831-bcc2-5b47e6bc32f8",
   "metadata": {},
   "outputs": [],
   "source": [
    "%matplotlib inline\n",
    "from math import pi, sin, cos\n",
    "import numpy as np\n",
    "import openmc\n",
    "import openmc.deplete\n",
    "from matplotlib import pyplot"
   ]
  },
  {
   "cell_type": "code",
   "execution_count": 2,
   "id": "b5d018ce-2e32-4e8c-86b0-cfaa7ee58ae5",
   "metadata": {},
   "outputs": [
    {
     "name": "stderr",
     "output_type": "stream",
     "text": [
      "/home/m240600/.conda/envs/openmc-env/lib/python3.11/site-packages/openmc/material.py:740: UserWarning: A uranium enrichment of 19.75 was given for Material ID=\"1\". OpenMC assumes the U234/U235 mass ratio is constant at 0.008, which is only valid at low enrichments. Consider setting the isotopic composition manually for enrichments over 5%.\n",
      "  warnings.warn(msg)\n"
     ]
    }
   ],
   "source": [
    "fuel = openmc.Material(name='uo2')\n",
    "fuel.add_element('U',1.0, enrichment=19.75)\n",
    "fuel.add_element('O',2.0)\n",
    "fuel.set_density(\"g/cm3\",10.5)\n",
    "fuel.depletable = True\n",
    "\n",
    "clad_in = openmc.Material(name='graphite')\n",
    "clad_in.add_element('C',1.0)\n",
    "clad_in.set_density(\"g/cm3\",1.5)\n",
    "clad_in.add_s_alpha_beta('c_Graphite')\n",
    "clad_in.depletable = False\n",
    "\n",
    "clad_out = openmc.Material(name='SiC')\n",
    "clad_out.add_element('C',1)\n",
    "clad_out.add_element('Si',1)\n",
    "clad_out.set_density(\"g/cm3\",2.58)\n",
    "clad_out.add_s_alpha_beta('c_C_in_SiC')\n",
    "clad_out.depletable = False\n",
    "\n",
    "coolant = openmc.Material(name='FLiBe')\n",
    "coolant.set_density(\"g/cm3\", 1.94)\n",
    "coolant.add_nuclide('Be9', 9.027871e-2,'wo')\n",
    "coolant.add_nuclide('F19', 7.670254e-1,'wo')\n",
    "coolant.add_nuclide('Li7', 1.426898e-1,'wo')\n",
    "coolant.add_nuclide('Li6', 6.116890e-6,'wo')\n",
    "coolant.depletable = False\n",
    "\n",
    "moderator = openmc.Material(name='graphite')\n",
    "moderator.add_element('C',1.0)\n",
    "moderator.set_density(\"g/cc\",1.5)\n",
    "moderator.add_s_alpha_beta('c_Graphite')\n",
    "moderator.depletable = False\n",
    "\n",
    "e_moderator = openmc.Material(name='graphite')\n",
    "e_moderator.add_element('C',1.0)\n",
    "e_moderator.set_density(\"g/cc\",1.5)\n",
    "e_moderator.add_s_alpha_beta('c_Graphite')\n",
    "e_moderator.depletable = False\n",
    "\n",
    "materials = openmc.Materials([fuel,clad_in,clad_out,coolant,moderator,e_moderator])\n",
    "materials.export_to_xml()"
   ]
  },
  {
   "cell_type": "code",
   "execution_count": 3,
   "id": "4b54f5de-ccdf-4c6f-8a9d-65a04f321c7e",
   "metadata": {},
   "outputs": [],
   "source": [
    "r_fuel   = 0.35\n",
    "r_clad_1 = 0.5\n",
    "r_clad_2 = 0.6\n",
    "\n",
    "r_pt_in  = 7.5 #inner radius of the graphite pressure tube\n",
    "r_pt_out = 8.5 #outer radius of the graphite pressure tube\n",
    "\n",
    "lattice_pitch = 18\n",
    "\n",
    "H= 132.25 #core height in cm\n",
    "D= 185.35 #core diameter in cm\n",
    "\n",
    "ring_radii = np.array([0.0, 2.1, 4.2, 6.2])\n",
    "\n",
    "surf_fuel = openmc.model.RightCircularCylinder((0,0,-H/2),H,r_fuel)\n",
    "\n",
    "surf_clad_1 = openmc.model.RightCircularCylinder((0,0,-H/2),H,r_clad_1)\n",
    "surf_clad_2 = openmc.model.RightCircularCylinder((0,0,-H/2),H,r_clad_2)\n",
    "\n",
    "surf_pt_1 = openmc.model.RightCircularCylinder((0,0,-H/2),H,r_pt_in)\n",
    "surf_pt_2 = openmc.model.RightCircularCylinder((0,0,-H/2),H,r_pt_out)"
   ]
  },
  {
   "cell_type": "code",
   "execution_count": 4,
   "id": "e1f7589a-6b72-4e54-a37f-7111795b4ccc",
   "metadata": {},
   "outputs": [],
   "source": [
    "radial_surf = [openmc.model.RightCircularCylinder((0,0,-H/2),H,r) for r in\n",
    "               (ring_radii[:-1] + ring_radii[1:])/2]\n",
    "\n",
    "coolant_cells = []\n",
    "for i in range(ring_radii.size):\n",
    "    if i == 0:\n",
    "        coolant_region = -radial_surf[i]\n",
    "    elif i == ring_radii.size - 1:\n",
    "        coolant_region = +radial_surf[i-1] & -surf_pt_1\n",
    "    else:\n",
    "        coolant_region = +radial_surf[i-1] & -radial_surf[i]\n",
    "\n",
    "    coolant_cells.append(openmc.Cell(fill=coolant,region=coolant_region))"
   ]
  },
  {
   "cell_type": "code",
   "execution_count": 5,
   "id": "0cd947f1-69e7-434f-a736-9fd98112be54",
   "metadata": {},
   "outputs": [
    {
     "data": {
      "text/plain": [
       "<matplotlib.image.AxesImage at 0x7fe8cab54c90>"
      ]
     },
     "execution_count": 5,
     "metadata": {},
     "output_type": "execute_result"
    },
    {
     "data": {
      "image/png": "[encoded data removed]",
      "text/plain": [
       "<Figure size 258.065x259.74 with 1 Axes>"
      ]
     },
     "metadata": {},
     "output_type": "display_data"
    }
   ],
   "source": [
    "plot_args = {'width':(lattice_pitch,lattice_pitch)}\n",
    "bundle_universe = openmc.Universe(cells=coolant_cells)\n",
    "bundle_universe.plot(**plot_args)"
   ]
  },
  {
   "cell_type": "code",
   "execution_count": 6,
   "id": "6749981f-154f-46be-8659-e8804db4ac64",
   "metadata": {},
   "outputs": [],
   "source": [
    "coolant_cells[0-4].temperature = 973\n",
    "\n",
    "fuel_cell = openmc.Cell(fill=fuel, region=-surf_fuel)\n",
    "fuel_cell.temperature = 1473\n",
    "\n",
    "clad_cell_1 = openmc.Cell(fill=clad_in, region=+surf_fuel & -surf_clad_1)\n",
    "clad_cell_1.temperature = 1273\n",
    "\n",
    "clad_cell_2 = openmc.Cell(fill=clad_out, region=+surf_clad_1 & -surf_clad_2)\n",
    "clad_cell_2.temperature = 973\n",
    "\n",
    "pin_universe = openmc.Universe(cells=(fuel_cell,clad_cell_1,clad_cell_2))"
   ]
  },
  {
   "cell_type": "code",
   "execution_count": 7,
   "id": "bd5e349b-4a12-4be2-ba1c-e3b108cc8ede",
   "metadata": {},
   "outputs": [
    {
     "data": {
      "text/plain": [
       "<matplotlib.image.AxesImage at 0x7fe8caa9e6d0>"
      ]
     },
     "execution_count": 7,
     "metadata": {},
     "output_type": "execute_result"
    },
    {
     "data": {
      "image/png": "[encoded data removed]",
      "text/plain": [
       "<Figure size 258.065x259.74 with 1 Axes>"
      ]
     },
     "metadata": {},
     "output_type": "display_data"
    }
   ],
   "source": [
    "pin_universe.plot(**{'width':(2*r_clad_2,2*r_clad_2)})"
   ]
  },
  {
   "cell_type": "code",
   "execution_count": 8,
   "id": "5f936801-db5a-4b7c-8236-900c94afb214",
   "metadata": {},
   "outputs": [],
   "source": [
    "num_pins = [1, 6, 12, 18]\n",
    "angles = [0, 0, 15, 0]\n",
    "\n",
    "for i, (r, n, a) in enumerate(zip(ring_radii, num_pins, angles)):\n",
    "    for j in range(n):\n",
    "        theta = (a + j/n*360)*pi/180.\n",
    "        x = r*cos(theta)\n",
    "        y = r*sin(theta)\n",
    "\n",
    "        pin_boundary = openmc.ZCylinder(x0=x,y0=y,r=r_clad_2)\n",
    "        coolant_cells[i].region &= +pin_boundary\n",
    "\n",
    "        pin = openmc.Cell(fill=pin_universe, region=-pin_boundary)\n",
    "        pin.translation = (x, y, 0)\n",
    "        pin.id = (i + 1)*100 + j\n",
    "        bundle_universe.add_cell(pin)"
   ]
  },
  {
   "cell_type": "code",
   "execution_count": 9,
   "id": "b010f535-2e30-41a5-8363-4b4fcc79b038",
   "metadata": {},
   "outputs": [
    {
     "data": {
      "text/plain": [
       "<matplotlib.image.AxesImage at 0x7fe8caad2dd0>"
      ]
     },
     "execution_count": 9,
     "metadata": {},
     "output_type": "execute_result"
    },
    {
     "data": {
      "image/png": "[encoded data removed]",
      "text/plain": [
       "<Figure size 258.065x259.74 with 1 Axes>"
      ]
     },
     "metadata": {},
     "output_type": "display_data"
    }
   ],
   "source": [
    "bundle_universe.plot(**plot_args)"
   ]
  },
  {
   "cell_type": "code",
   "execution_count": 10,
   "id": "cd3bed0b-ab96-4e67-985a-e3ce922f4794",
   "metadata": {},
   "outputs": [],
   "source": [
    "lattice_boundary = openmc.model.RectangularParallelepiped(-lattice_pitch/2,lattice_pitch/2,-lattice_pitch/2,lattice_pitch/2,-H/2,H/2)\n",
    "\n",
    "pt=openmc.Cell(fill=clad_in, region= +surf_pt_1 & -surf_pt_2)\n",
    "pt.temperature = 973\n",
    "\n",
    "bundle_universe.add_cell(pt)\n",
    "moderator_cell=openmc.Cell(fill=moderator, region=-lattice_boundary & +surf_pt_2)\n",
    "moderator_cell.temperature = 973\n",
    "\n",
    "bundle_universe.add_cell(moderator_cell)"
   ]
  },
  {
   "cell_type": "code",
   "execution_count": 11,
   "id": "c413764d-fd86-4d61-9393-f2452314802b",
   "metadata": {},
   "outputs": [
    {
     "data": {
      "text/plain": [
       "<matplotlib.image.AxesImage at 0x7fe8c296f790>"
      ]
     },
     "execution_count": 11,
     "metadata": {},
     "output_type": "execute_result"
    },
    {
     "data": {
      "image/png": "[encoded data removed]",
      "text/plain": [
       "<Figure size 258.065x259.74 with 1 Axes>"
      ]
     },
     "metadata": {},
     "output_type": "display_data"
    }
   ],
   "source": [
    "bdu=bundle_universe\n",
    "bdu.plot(**plot_args)"
   ]
  },
  {
   "cell_type": "code",
   "execution_count": 12,
   "id": "bec70538-4d3e-4dc4-a5fe-19fe7e7cf958",
   "metadata": {},
   "outputs": [],
   "source": [
    "external_moderator=openmc.Cell(fill=e_moderator, region=-lattice_boundary)\n",
    "emu = openmc.Universe(cells=[external_moderator])"
   ]
  },
  {
   "cell_type": "code",
   "execution_count": 13,
   "id": "0097bdab-cd1d-4e1d-99d2-240884ac70a1",
   "metadata": {},
   "outputs": [],
   "source": [
    "core_body = openmc.model.RightCircularCylinder((0,0,-H/2),H,D/2, boundary_type='vacuum')\n",
    "\n",
    "N_assy = 9\n",
    "CL = openmc.RectLattice(); #Core Lattice\n",
    "CL.center = (0.,0.)\n",
    "CL.dimension = [N_assy,N_assy];\n",
    "CL.lower_left = [-N_assy/2.*lattice_pitch,-N_assy/2.*lattice_pitch]\n",
    "CL.pitch= [lattice_pitch,lattice_pitch]\n",
    "CL.universes = [\n",
    "    [emu,emu,bdu,bdu,bdu,bdu,bdu,emu,emu],\n",
    "    [emu,bdu,bdu,bdu,bdu,bdu,bdu,bdu,emu],\n",
    "    [bdu,bdu,bdu,bdu,bdu,bdu,bdu,bdu,bdu],\n",
    "    [bdu,bdu,bdu,bdu,bdu,bdu,bdu,bdu,bdu],\n",
    "    [bdu,bdu,bdu,bdu,bdu,bdu,bdu,bdu,bdu],\n",
    "    [bdu,bdu,bdu,bdu,bdu,bdu,bdu,bdu,bdu],\n",
    "    [bdu,bdu,bdu,bdu,bdu,bdu,bdu,bdu,bdu],\n",
    "    [emu,bdu,bdu,bdu,bdu,bdu,bdu,bdu,emu],    \n",
    "    [emu,emu,bdu,bdu,bdu,bdu,bdu,emu,emu]\n",
    "]\n",
    "CL.outer=emu\n",
    "\n",
    "C = openmc.Universe();\n",
    "core_cell = openmc.Cell();\n",
    "core_cell.region = -core_body;\n",
    "core_cell.fill = CL;\n",
    "C.add_cell(core_cell);"
   ]
  },
  {
   "cell_type": "code",
   "execution_count": 14,
   "id": "a2d91042-26ea-471d-98b9-e077550b4bcb",
   "metadata": {},
   "outputs": [],
   "source": [
    "geometry = openmc.Geometry(C)\n",
    "geometry.export_to_xml()\n",
    "\n",
    "materials=openmc.Materials(geometry.get_all_materials().values())\n",
    "materials.export_to_xml()"
   ]
  },
  {
   "cell_type": "code",
   "execution_count": 15,
   "id": "d55a5d5f-dc6c-4461-8f5e-31a5ae5bad49",
   "metadata": {},
   "outputs": [
    {
     "data": {
      "image/png": "[encoded data removed]",
      "text/plain": [
       "<IPython.core.display.Image object>"
      ]
     },
     "execution_count": 15,
     "metadata": {},
     "output_type": "execute_result"
    }
   ],
   "source": [
    "plot = openmc.Plot.from_geometry(geometry)\n",
    "#plot.basis='yz'\n",
    "#plot.origin=(7,0,0)\n",
    "plot.color_by = 'material'\n",
    "plot.colors = {\n",
    "    fuel: 'yellow',\n",
    "    clad_in: 'grey',\n",
    "    clad_out: 'white',\n",
    "    coolant: 'blue',\n",
    "    moderator: 'green',\n",
    "    e_moderator: 'green',\n",
    "}\n",
    "plot.to_ipython_image()"
   ]
  },
  {
   "cell_type": "code",
   "execution_count": 16,
   "id": "60207a52-6388-4e35-8747-c7ea07461fe8",
   "metadata": {},
   "outputs": [],
   "source": [
    "settings = openmc.Settings()\n",
    "settings.particles = 10000\n",
    "settings.batches = 100\n",
    "settings.inactive = 15\n",
    "settings.temperature={'method':'interpolation','range':(250, 2500)}\n",
    "box = openmc.stats.Box(lower_left = (-D/2,-D/2,-H/2),\n",
    "                      upper_right = (D/2,D/2,H/2),\n",
    "                      only_fissionable=True);\n",
    "src = openmc.Source(space=box);\n",
    "settings.source = src\n",
    "settings.export_to_xml()"
   ]
  },
  {
   "cell_type": "code",
   "execution_count": 17,
   "id": "3b1552af-b1a8-44ab-a437-3336ef7bb462",
   "metadata": {},
   "outputs": [],
   "source": [
    "cell_filter = openmc.CellFilter(fuel_cell)\n",
    "\n",
    "energy_bins = np.logspace(-3,7,num=1001)\n",
    "energy_filter = openmc.EnergyFilter(values=energy_bins)\n",
    "\n",
    "flux_tally = openmc.Tally(name='flux')\n",
    "flux_tally.scores = ['flux']\n",
    "flux_tally.filters = [cell_filter,energy_filter]\n",
    "\n",
    "tallies = openmc.Tallies([flux_tally])\n",
    "\n",
    "tallies.export_to_xml()"
   ]
  },
  {
   "cell_type": "code",
   "execution_count": 18,
   "id": "a3afca27-22ad-4e67-9d5e-6f6f86c3a91d",
   "metadata": {},
   "outputs": [
    {
     "name": "stdout",
     "output_type": "stream",
     "text": [
      "                                %%%%%%%%%%%%%%%\n",
      "                           %%%%%%%%%%%%%%%%%%%%%%%%\n",
      "                        %%%%%%%%%%%%%%%%%%%%%%%%%%%%%%\n",
      "                      %%%%%%%%%%%%%%%%%%%%%%%%%%%%%%%%%%\n",
      "                    %%%%%%%%%%%%%%%%%%%%%%%%%%%%%%%%%%%%%%\n",
      "                   %%%%%%%%%%%%%%%%%%%%%%%%%%%%%%%%%%%%%%%%\n",
      "                                    %%%%%%%%%%%%%%%%%%%%%%%%\n",
      "                                     %%%%%%%%%%%%%%%%%%%%%%%%\n",
      "                 ###############      %%%%%%%%%%%%%%%%%%%%%%%%\n",
      "                ##################     %%%%%%%%%%%%%%%%%%%%%%%\n",
      "                ###################     %%%%%%%%%%%%%%%%%%%%%%%\n",
      "                ####################     %%%%%%%%%%%%%%%%%%%%%%\n",
      "                #####################     %%%%%%%%%%%%%%%%%%%%%\n",
      "                ######################     %%%%%%%%%%%%%%%%%%%%\n",
      "                #######################     %%%%%%%%%%%%%%%%%%\n",
      "                 #######################     %%%%%%%%%%%%%%%%%\n",
      "                 ######################     %%%%%%%%%%%%%%%%%\n",
      "                  ####################     %%%%%%%%%%%%%%%%%\n",
      "                    #################     %%%%%%%%%%%%%%%%%\n",
      "                     ###############     %%%%%%%%%%%%%%%%\n",
      "                       ############     %%%%%%%%%%%%%%%\n",
      "                          ########     %%%%%%%%%%%%%%\n",
      "                                      %%%%%%%%%%%\n",
      "\n",
      "                 | The OpenMC Monte Carlo Code\n",
      "       Copyright | 2011-2023 MIT, UChicago Argonne LLC, and contributors\n",
      "         License | https://docs.openmc.org/en/latest/license.html\n",
      "         Version | 0.13.3\n",
      "        Git SHA1 | 50e39a4e20dc9e0f3d7ccf07333f6a5e6c797c8c\n",
      "       Date/Time | 2023-11-12 20:28:04\n",
      "  OpenMP Threads | 192\n",
      "\n",
      " Reading settings XML file...\n",
      " Reading cross sections XML file...\n",
      " Reading materials XML file...\n",
      " Reading geometry XML file...\n",
      " Reading U234 from /home/m240600/OpenMC_CrossSections/lib80x_hdf5/U234.h5\n",
      " Reading U235 from /home/m240600/OpenMC_CrossSections/lib80x_hdf5/U235.h5\n",
      " Reading U238 from /home/m240600/OpenMC_CrossSections/lib80x_hdf5/U238.h5\n",
      " Reading U236 from /home/m240600/OpenMC_CrossSections/lib80x_hdf5/U236.h5\n",
      " Reading O16 from /home/m240600/OpenMC_CrossSections/lib80x_hdf5/O16.h5\n",
      " Reading O17 from /home/m240600/OpenMC_CrossSections/lib80x_hdf5/O17.h5\n",
      " Reading O18 from /home/m240600/OpenMC_CrossSections/lib80x_hdf5/O18.h5\n",
      " Reading C12 from /home/m240600/OpenMC_CrossSections/lib80x_hdf5/C12.h5\n",
      " Reading C13 from /home/m240600/OpenMC_CrossSections/lib80x_hdf5/C13.h5\n",
      " Reading Si28 from /home/m240600/OpenMC_CrossSections/lib80x_hdf5/Si28.h5\n",
      " Reading Si29 from /home/m240600/OpenMC_CrossSections/lib80x_hdf5/Si29.h5\n",
      " Reading Si30 from /home/m240600/OpenMC_CrossSections/lib80x_hdf5/Si30.h5\n",
      " Reading Be9 from /home/m240600/OpenMC_CrossSections/lib80x_hdf5/Be9.h5\n",
      " Reading F19 from /home/m240600/OpenMC_CrossSections/lib80x_hdf5/F19.h5\n",
      " Reading Li7 from /home/m240600/OpenMC_CrossSections/lib80x_hdf5/Li7.h5\n",
      " Reading Li6 from /home/m240600/OpenMC_CrossSections/lib80x_hdf5/Li6.h5\n",
      " Reading c_Graphite from\n",
      " /home/m240600/OpenMC_CrossSections/lib80x_hdf5/c_Graphite.h5\n",
      " Reading c_C_in_SiC from\n",
      " /home/m240600/OpenMC_CrossSections/lib80x_hdf5/c_C_in_SiC.h5\n",
      " Minimum neutron data temperature: 250 K\n",
      " Maximum neutron data temperature: 2500 K\n",
      " Reading tallies XML file...\n",
      " Preparing distributed cell instances...\n",
      " Reading plot XML file...\n",
      " Writing summary.h5 file...\n",
      " Maximum neutron transport energy: 20000000 eV for O17\n",
      " Initializing source particles...\n",
      "\n",
      " ====================>     K EIGENVALUE SIMULATION     <====================\n",
      "\n",
      "  Bat./Gen.      k            Average k\n",
      "  =========   ========   ====================\n",
      "        1/1    0.75579\n",
      "        2/1    0.89006\n",
      "        3/1    0.92119\n",
      "        4/1    0.95108\n",
      "        5/1    0.94772\n",
      "        6/1    0.96635\n",
      "        7/1    0.98068\n",
      "        8/1    0.98185\n",
      "        9/1    0.95134\n",
      "       10/1    0.95366\n",
      "       11/1    0.95685\n",
      "       12/1    0.97232\n",
      "       13/1    0.96677\n",
      "       14/1    0.95952\n",
      "       15/1    0.96190\n",
      "       16/1    0.97938\n",
      "       17/1    0.94142    0.96040 +/- 0.01898\n",
      "       18/1    0.95672    0.95917 +/- 0.01103\n",
      "       19/1    0.96019    0.95942 +/- 0.00780\n",
      "       20/1    0.96766    0.96107 +/- 0.00626\n",
      "       21/1    0.95784    0.96053 +/- 0.00514\n",
      "       22/1    0.97713    0.96290 +/- 0.00495\n",
      "       23/1    0.98095    0.96516 +/- 0.00484\n",
      "       24/1    0.99051    0.96798 +/- 0.00512\n",
      "       25/1    0.97182    0.96836 +/- 0.00459\n",
      "       26/1    0.96584    0.96813 +/- 0.00416\n",
      "       27/1    0.95115    0.96672 +/- 0.00405\n",
      "       28/1    0.94538    0.96507 +/- 0.00407\n",
      "       29/1    0.96448    0.96503 +/- 0.00377\n",
      "       30/1    0.97304    0.96557 +/- 0.00355\n",
      "       31/1    0.96847    0.96575 +/- 0.00333\n",
      "       32/1    0.95647    0.96520 +/- 0.00317\n",
      "       33/1    0.98306    0.96619 +/- 0.00315\n",
      "       34/1    0.94916    0.96530 +/- 0.00311\n",
      "       35/1    0.94554    0.96431 +/- 0.00311\n",
      "       36/1    0.92677    0.96252 +/- 0.00346\n",
      "       37/1    0.97860    0.96325 +/- 0.00338\n",
      "       38/1    0.94710    0.96255 +/- 0.00330\n",
      "       39/1    0.93739    0.96150 +/- 0.00333\n",
      "       40/1    0.96899    0.96180 +/- 0.00321\n",
      "       41/1    0.95710    0.96162 +/- 0.00309\n",
      "       42/1    0.94499    0.96100 +/- 0.00304\n",
      "       43/1    0.95589    0.96082 +/- 0.00293\n",
      "       44/1    0.93206    0.95983 +/- 0.00300\n",
      "       45/1    0.96127    0.95988 +/- 0.00290\n",
      "       46/1    0.96735    0.96012 +/- 0.00281\n",
      "       47/1    0.93398    0.95930 +/- 0.00284\n",
      "       48/1    0.95370    0.95913 +/- 0.00276\n",
      "       49/1    0.95687    0.95907 +/- 0.00268\n",
      "       50/1    0.94550    0.95868 +/- 0.00263\n",
      "       51/1    0.93651    0.95806 +/- 0.00263\n",
      "       52/1    0.95311    0.95793 +/- 0.00256\n",
      "       53/1    0.94566    0.95761 +/- 0.00251\n",
      "       54/1    0.98149    0.95822 +/- 0.00252\n",
      "       55/1    0.95129    0.95804 +/- 0.00246\n",
      "       56/1    0.94753    0.95779 +/- 0.00242\n",
      "       57/1    0.96307    0.95791 +/- 0.00236\n",
      "       58/1    0.94743    0.95767 +/- 0.00232\n",
      "       59/1    0.95287    0.95756 +/- 0.00227\n",
      "       60/1    0.96129    0.95764 +/- 0.00222\n",
      "       61/1    0.96386    0.95778 +/- 0.00218\n",
      "       62/1    0.95586    0.95774 +/- 0.00213\n",
      "       63/1    0.94968    0.95757 +/- 0.00209\n",
      "       64/1    0.97930    0.95801 +/- 0.00210\n",
      "       65/1    0.96016    0.95806 +/- 0.00205\n",
      "       66/1    0.95784    0.95805 +/- 0.00201\n",
      "       67/1    0.94942    0.95789 +/- 0.00198\n",
      "       68/1    0.97563    0.95822 +/- 0.00197\n",
      "       69/1    0.93767    0.95784 +/- 0.00197\n",
      "       70/1    0.97326    0.95812 +/- 0.00196\n",
      "       71/1    0.96419    0.95823 +/- 0.00192\n",
      "       72/1    0.98437    0.95869 +/- 0.00194\n",
      "       73/1    0.97643    0.95899 +/- 0.00193\n",
      "       74/1    0.96145    0.95904 +/- 0.00190\n",
      "       75/1    0.97495    0.95930 +/- 0.00189\n",
      "       76/1    0.96354    0.95937 +/- 0.00186\n",
      "       77/1    0.95104    0.95924 +/- 0.00183\n",
      "       78/1    0.95954    0.95924 +/- 0.00180\n",
      "       79/1    0.96774    0.95937 +/- 0.00178\n",
      "       80/1    0.97345    0.95959 +/- 0.00177\n",
      "       81/1    0.94316    0.95934 +/- 0.00176\n",
      "       82/1    0.94037    0.95906 +/- 0.00175\n",
      "       83/1    0.96378    0.95913 +/- 0.00173\n",
      "       84/1    0.96446    0.95920 +/- 0.00171\n",
      "       85/1    0.93833    0.95891 +/- 0.00171\n",
      "       86/1    0.95173    0.95881 +/- 0.00169\n",
      "       87/1    0.96676    0.95892 +/- 0.00167\n",
      "       88/1    0.98793    0.95931 +/- 0.00169\n",
      "       89/1    0.97203    0.95949 +/- 0.00168\n",
      "       90/1    0.98444    0.95982 +/- 0.00169\n",
      "       91/1    0.95649    0.95977 +/- 0.00167\n",
      "       92/1    0.94593    0.95959 +/- 0.00165\n",
      "       93/1    0.96493    0.95966 +/- 0.00163\n",
      "       94/1    0.96667    0.95975 +/- 0.00162\n",
      "       95/1    0.99854    0.96024 +/- 0.00167\n",
      "       96/1    0.94527    0.96005 +/- 0.00166\n",
      "       97/1    0.95930    0.96004 +/- 0.00164\n",
      "       98/1    0.95580    0.95999 +/- 0.00162\n",
      "       99/1    0.93654    0.95971 +/- 0.00162\n",
      "      100/1    0.93667    0.95944 +/- 0.00163\n",
      " Creating state point statepoint.100.h5...\n",
      "\n",
      " =======================>     TIMING STATISTICS     <=======================\n",
      "\n",
      " Total time for initialization     = 6.0350e+00 seconds\n",
      "   Reading cross sections          = 5.9726e+00 seconds\n",
      " Total time in simulation          = 7.1944e+00 seconds\n",
      "   Time in transport only          = 6.3686e+00 seconds\n",
      "   Time in inactive batches        = 1.2251e+00 seconds\n",
      "   Time in active batches          = 5.9693e+00 seconds\n",
      "   Time synchronizing fission bank = 8.2448e-02 seconds\n",
      "     Sampling source sites         = 7.0592e-02 seconds\n",
      "     SEND/RECV source sites        = 1.1307e-02 seconds\n",
      "   Time accumulating tallies       = 6.6957e-01 seconds\n",
      "   Time writing statepoints        = 7.8577e-03 seconds\n",
      " Total time for finalization       = 1.2983e-03 seconds\n",
      " Total time elapsed                = 1.3291e+01 seconds\n",
      " Calculation Rate (inactive)       = 122436 particles/second\n",
      " Calculation Rate (active)         = 142395 particles/second\n",
      "\n",
      " ============================>     RESULTS     <============================\n",
      "\n",
      " k-effective (Collision)     = 0.95944 +/- 0.00117\n",
      " k-effective (Track-length)  = 0.95944 +/- 0.00163\n",
      " k-effective (Absorption)    = 0.95914 +/- 0.00119\n",
      " Combined k-effective        = 0.95930 +/- 0.00106\n",
      " Leakage Fraction            = 0.26069 +/- 0.00056\n",
      "\n"
     ]
    }
   ],
   "source": [
    "openmc.run()"
   ]
  },
  {
   "cell_type": "code",
   "execution_count": 19,
   "id": "75a92df5-1f5a-492e-84fd-caf529321eee",
   "metadata": {},
   "outputs": [
    {
     "data": {
      "image/png": "[encoded data removed]",
      "text/plain": [
       "<Figure size 640x480 with 1 Axes>"
      ]
     },
     "metadata": {},
     "output_type": "display_data"
    }
   ],
   "source": [
    "sp = openmc.StatePoint('statepoint.100.h5')\n",
    "flux = sp.get_tally(name='flux')\n",
    "flux_df = flux.get_pandas_dataframe()\n",
    "flux_vals = flux_df['mean'].to_numpy()\n",
    "\n",
    "energy_x = 0.5*(energy_bins[0:-1]+energy_bins[1:])\n",
    "\n",
    "pyplot.loglog(energy_x,flux_vals)\n",
    "pyplot.grid()\n",
    "pyplot.xlabel('Energy [eV]')\n",
    "pyplot.ylabel('flux [n/cm**2-s]')\n",
    "pyplot.yticks([1e-11,1e-10,1e-9,1e-8,1e-7,1e-6,1e-5,1e-4,1e-3,1e-2]);"
   ]
  },
  {
   "cell_type": "code",
   "execution_count": null,
   "id": "0c8cecd4-0cbd-4c91-be13-5b83f1290c46",
   "metadata": {},
   "outputs": [],
   "source": [
    "fuel.volume = pi*r_fuel**2*H*(37*69) #cm^3 for 37 fuel pins and 69 FA"
   ]
  },
  {
   "cell_type": "code",
   "execution_count": null,
   "id": "a81a3467-a406-44cb-a71a-4d2477e8d4bd",
   "metadata": {},
   "outputs": [],
   "source": [
    "model=openmc.model.Model(geometry,materials,settings)\n",
    "operator = openmc.deplete.CoupledOperator(model,\"chain_endfb80_pwr.xml\")\n",
    "\n",
    "power_density = 35 #MW/kg\n",
    "\n",
    "days = 3600*24; #number of seconds in a day\n",
    "\n",
    "time_steps = [0.1*days,0.1*days, 0.1*days, 0.1*days, 0.1*days,\n",
    "              0.25*days, 0.25*days, 0.25*days, 0.25*days, 0.25*days, 0.25*days,\n",
    "              0.5*days, 0.5*days, 0.5*days,0.5*days,\n",
    "              0.75*days, 0.75*days, 0.75*days, 0.75*days,\n",
    "              1*days, 1*days, 1*days, 1*days, 1*days, 1*days, 1*days, 1*days, 1*days, 1*days, 1*days, 1*days, 1*days, 1*days, 1*days, 1*days,\n",
    "              1.5*days, 1.5*days, 1.5*days, 1.5*days, 1.5*days, 1.5*days, 1.5*days, 1.5*days, 1.5*days, 1.5*days,\n",
    "              2*days, 2*days, 2*days, 2*days, 2*days, 2*days, 2*days, 2*days, 2*days, 2*days, 2*days,\n",
    "              5*days, 5*days, 5*days, 5*days,5*days, 5*days, 5*days, 5*days, 5*days, 5*days,5*days, 5*days,\n",
    "              10*days, 10*days, 10*days, 10*days, 10*days, 10*days, 10*days, 10*days, 10*days, 10*days, 10*days, 10*days, 10*days, 10*days,\n",
    "              15*days, 15*days, 15*days, 15*days, 15*days, 15*days, 15*days, 15*days,\n",
    "              20*days, 20*days, 20*days, 20*days, 20*days, 20*days, 20*days, 20*days, 20*days, 20*days, 20*days, 20*days,\n",
    "              30*days, 30*days, 30*days, 30*days, 30*days, 30*days, 30*days, 30*days, 30*days, 30*days, 30*days, 30*days,\n",
    "              30*days, 30*days, 30*days, 30*days, 30*days, 30*days, 30*days, 30*days, 30*days, 30*days, 30*days, 30*days,\n",
    "              30*days, 30*days, 30*days, 30*days, 30*days, 30*days, 30*days, 30*days, 30*days, 30*days, 30*days, 30*days,\n",
    "              40*days, 40*days, 40*days, 40*days, 40*days, 40*days, 40*days, 40*days, 40*days, 40*days,\n",
    "              50*days, 50*days, 50*days, 50*days, 50*days, 50*days, 50*days, 50*days, 50*days, 50*days, 50*days, 50*days,\n",
    "              60*days, 60*days, 60*days, 60*days, 60*days, 60*days, 60*days, 60*days, 60*days, 60*days, 60*days, 60*days,\n",
    "              60*days, 60*days, 60*days, 60*days, 60*days, 60*days, 60*days, 60*days, 60*days, 60*days, 60*days, 60*days,\n",
    "              60*days, 60*days, 60*days, 60*days, 60*days, 60*days, 60*days, 60*days, 60*days, 60*days, 60*days, 60*days,\n",
    "              60*days, 60*days, 60*days, 60*days]\n",
    "\n",
    "\n",
    "cemc = openmc.deplete.CECMIntegrator(operator,time_steps,power_density = power_density,timestep_units='s')\n",
    "\n",
    "#repeat_depletion = False;\n",
    "\n",
    "#if(repeat_depletion):\n",
    "#    cecm.integrate()"
   ]
  },
  {
   "cell_type": "code",
   "execution_count": null,
   "id": "478095d6-c753-4af0-b17b-3f45fe403b2c",
   "metadata": {},
   "outputs": [],
   "source": [
    "cemc.integrate()"
   ]
  },
  {
   "cell_type": "code",
   "execution_count": null,
   "id": "11bb26d5-e55f-47d7-8c7d-a98fb2f24886",
   "metadata": {},
   "outputs": [],
   "source": [
    "results = openmc.deplete.Results(\"./depletion_results.h5\")"
   ]
  },
  {
   "cell_type": "code",
   "execution_count": null,
   "id": "f65d31f9-bead-4039-b4d3-fd9a160c2581",
   "metadata": {},
   "outputs": [],
   "source": [
    "time, k =results.get_keff()"
   ]
  },
  {
   "cell_type": "code",
   "execution_count": null,
   "id": "465b0786-2a86-4b4e-840d-82ec6b0be3bf",
   "metadata": {},
   "outputs": [],
   "source": [
    "time /=(24*3600*1201.75)/42.06 #converts to MWd/kgHM"
   ]
  },
  {
   "cell_type": "code",
   "execution_count": null,
   "id": "b670fc63-6edc-4328-9ed6-b476c1dc7f18",
   "metadata": {},
   "outputs": [],
   "source": [
    "eff=[1]*201"
   ]
  },
  {
   "cell_type": "code",
   "execution_count": null,
   "id": "21938e87-a42f-420f-aa43-c3e304c5578f",
   "metadata": {},
   "outputs": [],
   "source": [
    "def find_roots(x,y):\n",
    "    s = np.abs(np.diff(np.sign(y))).astype(bool)\n",
    "    return x[:-1][s] + np.diff(x)[s]/(np.abs(y[1:][s]/y[:-1][s])+1)\n",
    "\n",
    "z = find_roots(time,eff-k[:,0])\n",
    "z"
   ]
  },
  {
   "cell_type": "code",
   "execution_count": null,
   "id": "4bad4b0e-dcc1-4680-8a23-bdfe0f13aa9d",
   "metadata": {},
   "outputs": [],
   "source": [
    "pyplot.plot(time, k[:, 0],color='green',marker='o',markersize=3)\n",
    "eff=[1]*201\n",
    "pyplot.plot(time,eff,color='red')\n",
    "pyplot.xlabel(\"MWd/kg\")\n",
    "pyplot.ylabel(\"$k_{eff}\\pm \\sigma$\");\n",
    "\n",
    "pyplot.show()"
   ]
  },
  {
   "cell_type": "code",
   "execution_count": null,
   "id": "cd4d6908-bff1-475b-b672-684ff8f06517",
   "metadata": {},
   "outputs": [],
   "source": []
  }
 ],
 "metadata": {
  "kernelspec": {
   "display_name": "Python 3 (ipykernel)",
   "language": "python",
   "name": "python3"
  },
  "language_info": {
   "codemirror_mode": {
    "name": "ipython",
    "version": 3
   },
   "file_extension": ".py",
   "mimetype": "text/x-python",
   "name": "python",
   "nbconvert_exporter": "python",
   "pygments_lexer": "ipython3",
   "version": "3.11.5"
  }
 },
 "nbformat": 4,
 "nbformat_minor": 5
}
