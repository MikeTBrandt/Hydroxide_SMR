{
 "cells": [
  {
   "cell_type": "code",
   "execution_count": 1,
   "id": "d222d07d-7e8f-4831-bcc2-5b47e6bc32f8",
   "metadata": {},
   "outputs": [],
   "source": [
    "%matplotlib inline\n",
    "from math import pi, sin, cos\n",
    "import numpy as np\n",
    "import openmc\n",
    "import openmc.deplete\n",
    "from matplotlib import pyplot"
   ]
  },
  {
   "cell_type": "code",
   "execution_count": 4,
   "id": "b5d018ce-2e32-4e8c-86b0-cfaa7ee58ae5",
   "metadata": {},
   "outputs": [
    {
     "name": "stderr",
     "output_type": "stream",
     "text": [
      "/home/m240600/.conda/envs/openmc-env/lib/python3.11/site-packages/openmc/material.py:740: UserWarning: A uranium enrichment of 19.75 was given for Material ID=\"6\". OpenMC assumes the U234/U235 mass ratio is constant at 0.008, which is only valid at low enrichments. Consider setting the isotopic composition manually for enrichments over 5%.\n",
      "  warnings.warn(msg)\n"
     ]
    }
   ],
   "source": [
    "fuel = openmc.Material(name='uo2')\n",
    "fuel.add_element('U',1.0, enrichment=19.75)\n",
    "fuel.add_element('O',2.0)\n",
    "fuel.set_density=(\"g/cm3\",10.5)\n",
    "fuel.depletable = True\n",
    "\n",
    "clad_in = openmc.Material(name='graphite')\n",
    "clad_in.add_element('C',1.0)\n",
    "clad_in.set_density=(\"g/cm3\",1.5)\n",
    "clad_in.add_s_alpha_beta('c_Graphite')\n",
    "clad_in.depletable = False\n",
    "\n",
    "clad_out = openmc.Material(name='SiC')\n",
    "clad_out.add_element('C',1.0)\n",
    "clad_out.add_element('Si',1.0)\n",
    "clad_out.set_density=(\"g/cm3\",2.58)\n",
    "clad_out.add_s_alpha_beta('c_Graphite')\n",
    "clad_out.depletable = False\n",
    "\n",
    "#coolant = openmc.Material(name='FLiBe')\n",
    "#coolant.set_density=(\"g/cm3\", 1.94)\n",
    "#coolant.add_nuclide('Be9', 9.027871e-2,'wo')\n",
    "#coolant.add_nuclide('F19', 7.670254e-1,'wo')\n",
    "#coolant.add_nuclide('Li7', 1.426898e-1,'wo')\n",
    "#coolant.add_nuclide('Li6', 6.116890e-6,'wo')\n",
    "#coolant.depletable = False\n",
    "\n",
    "moderator = openmc.Material(name='graphite')\n",
    "moderator.add_element('C',1.0)\n",
    "moderator.set_density=(\"g/cc\",1.5)\n",
    "moderator.add_s_alpha_beta('c_Graphite')\n",
    "moderator.depletable = False\n",
    "\n",
    "e_moderator = openmc.Material(name='graphite')\n",
    "e_moderator.add_element('C',1.0)\n",
    "e_moderator.set_density=(\"g/cc\",1.5)\n",
    "e_moderator.add_s_alpha_beta('c_Graphite')\n",
    "e_moderator.depletable = False\n",
    "\n",
    "materials = openmc.Materials([fuel,clad_in,clad_out,moderator,e_moderator])\n",
    "materials.export_to_xml()"
   ]
  },
  {
   "cell_type": "code",
   "execution_count": 5,
   "id": "4b54f5de-ccdf-4c6f-8a9d-65a04f321c7e",
   "metadata": {},
   "outputs": [],
   "source": [
    "r_fuel   = 0.35\n",
    "r_clad_1 = 0.5\n",
    "r_clad_2 = 0.6\n",
    "\n",
    "r_pt_in  = 7.5 #inner radius of the graphite pressure tube\n",
    "r_pt_out = 8.5 #outer radius of the graphite pressure tube\n",
    "\n",
    "lattice_pitch = 18\n",
    "\n",
    "H= 132.25 #core height in cm\n",
    "D= 185.35 #core diameter in cm\n",
    "\n",
    "ring_radii = np.array([0.0, 2.1, 4.2, 6.2])\n",
    "\n",
    "surf_fuel = openmc.model.RightCircularCylinder((0,0,-H/2),H,r_fuel)\n",
    "\n",
    "surf_clad_1 = openmc.model.RightCircularCylinder((0,0,-H/2),H,r_clad_1)\n",
    "surf_clad_2 = openmc.model.RightCircularCylinder((0,0,-H/2),H,r_clad_2)\n",
    "\n",
    "surf_pt_1 = openmc.model.RightCircularCylinder((0,0,-H/2),H,r_pt_in)\n",
    "surf_pt_2 = openmc.model.RightCircularCylinder((0,0,-H/2),H,r_pt_out)"
   ]
  },
  {
   "cell_type": "code",
   "execution_count": 8,
   "id": "e1f7589a-6b72-4e54-a37f-7111795b4ccc",
   "metadata": {},
   "outputs": [],
   "source": [
    "radial_surf = [openmc.model.RightCircularCylinder((0,0,-H/2),H,r) for r in\n",
    "               (ring_radii[:-1] + ring_radii[1:])/2]\n",
    "\n",
    "coolant_cells = []\n",
    "for i in range(ring_radii.size):\n",
    "    if i == 0:\n",
    "        coolant_region = -radial_surf[i]\n",
    "    elif i == ring_radii.size - 1:\n",
    "        coolant_region = +radial_surf[i-1] & -surf_pt_1\n",
    "    else:\n",
    "        coolant_region = +radial_surf[i-1] & -radial_surf[i]\n",
    "\n",
    "    coolant_cells.append(openmc.Cell(region=coolant_region))"
   ]
  },
  {
   "cell_type": "code",
   "execution_count": 9,
   "id": "0cd947f1-69e7-434f-a736-9fd98112be54",
   "metadata": {},
   "outputs": [
    {
     "data": {
      "text/plain": [
       "<matplotlib.image.AxesImage at 0x7f706afcd2d0>"
      ]
     },
     "execution_count": 9,
     "metadata": {},
     "output_type": "execute_result"
    },
    {
     "data": {
      "image/png": "[encoded data removed]",
      "text/plain": [
       "<Figure size 258.065x259.74 with 1 Axes>"
      ]
     },
     "metadata": {},
     "output_type": "display_data"
    }
   ],
   "source": [
    "plot_args = {'width':(lattice_pitch,lattice_pitch)}\n",
    "bundle_universe = openmc.Universe(cells=coolant_cells)\n",
    "bundle_universe.plot(**plot_args)"
   ]
  },
  {
   "cell_type": "code",
   "execution_count": 10,
   "id": "6749981f-154f-46be-8659-e8804db4ac64",
   "metadata": {},
   "outputs": [],
   "source": [
    "coolant_cells[0-4].temperature = 973\n",
    "\n",
    "fuel_cell = openmc.Cell(fill=fuel, region=-surf_fuel)\n",
    "fuel_cell.temperature = 1473\n",
    "\n",
    "clad_cell_1 = openmc.Cell(fill=clad_in, region=+surf_fuel & -surf_clad_1)\n",
    "clad_cell_1.temperature = 1273\n",
    "\n",
    "clad_cell_2 = openmc.Cell(fill=clad_out, region=+surf_clad_1 & -surf_clad_2)\n",
    "clad_cell_2.temperature = 973\n",
    "\n",
    "pin_universe = openmc.Universe(cells=(fuel_cell,clad_cell_1,clad_cell_2))"
   ]
  },
  {
   "cell_type": "code",
   "execution_count": 11,
   "id": "bd5e349b-4a12-4be2-ba1c-e3b108cc8ede",
   "metadata": {},
   "outputs": [
    {
     "data": {
      "text/plain": [
       "<matplotlib.image.AxesImage at 0x7f7065947990>"
      ]
     },
     "execution_count": 11,
     "metadata": {},
     "output_type": "execute_result"
    },
    {
     "data": {
      "image/png": "[encoded data removed]",
      "text/plain": [
       "<Figure size 258.065x259.74 with 1 Axes>"
      ]
     },
     "metadata": {},
     "output_type": "display_data"
    }
   ],
   "source": [
    "pin_universe.plot(**{'width':(2*r_clad_2,2*r_clad_2)})"
   ]
  },
  {
   "cell_type": "code",
   "execution_count": 12,
   "id": "5f936801-db5a-4b7c-8236-900c94afb214",
   "metadata": {},
   "outputs": [],
   "source": [
    "num_pins = [1, 6, 12, 18]\n",
    "angles = [0, 0, 15, 0]\n",
    "\n",
    "for i, (r, n, a) in enumerate(zip(ring_radii, num_pins, angles)):\n",
    "    for j in range(n):\n",
    "        theta = (a + j/n*360)*pi/180.\n",
    "        x = r*cos(theta)\n",
    "        y = r*sin(theta)\n",
    "\n",
    "        pin_boundary = openmc.ZCylinder(x0=x,y0=y,r=r_clad_2)\n",
    "        coolant_cells[i].region &= +pin_boundary\n",
    "\n",
    "        pin = openmc.Cell(fill=pin_universe, region=-pin_boundary)\n",
    "        pin.translation = (x, y, 0)\n",
    "        pin.id = (i + 1)*100 + j\n",
    "        bundle_universe.add_cell(pin)"
   ]
  },
  {
   "cell_type": "code",
   "execution_count": 13,
   "id": "b010f535-2e30-41a5-8363-4b4fcc79b038",
   "metadata": {},
   "outputs": [
    {
     "data": {
      "text/plain": [
       "<matplotlib.image.AxesImage at 0x7f705d7a0090>"
      ]
     },
     "execution_count": 13,
     "metadata": {},
     "output_type": "execute_result"
    },
    {
     "data": {
      "image/png": "[encoded data removed]",
      "text/plain": [
       "<Figure size 258.065x259.74 with 1 Axes>"
      ]
     },
     "metadata": {},
     "output_type": "display_data"
    }
   ],
   "source": [
    "bundle_universe.plot(**plot_args)"
   ]
  },
  {
   "cell_type": "code",
   "execution_count": 14,
   "id": "cd3bed0b-ab96-4e67-985a-e3ce922f4794",
   "metadata": {},
   "outputs": [],
   "source": [
    "lattice_boundary = openmc.model.RectangularParallelepiped(-lattice_pitch/2,lattice_pitch/2,-lattice_pitch/2,lattice_pitch/2,-H/2,H/2)\n",
    "\n",
    "pt=openmc.Cell(fill=clad_in, region= +surf_pt_1 & -surf_pt_2)\n",
    "pt.temperature = 973\n",
    "\n",
    "bundle_universe.add_cell(pt)\n",
    "moderator_cell=openmc.Cell(fill=moderator, region=-lattice_boundary & +surf_pt_2)\n",
    "moderator_cell.temperature = 973\n",
    "\n",
    "bundle_universe.add_cell(moderator_cell)"
   ]
  },
  {
   "cell_type": "code",
   "execution_count": 15,
   "id": "c413764d-fd86-4d61-9393-f2452314802b",
   "metadata": {},
   "outputs": [
    {
     "data": {
      "text/plain": [
       "<matplotlib.image.AxesImage at 0x7f705d82f950>"
      ]
     },
     "execution_count": 15,
     "metadata": {},
     "output_type": "execute_result"
    },
    {
     "data": {
      "image/png": "[encoded data removed]",
      "text/plain": [
       "<Figure size 258.065x259.74 with 1 Axes>"
      ]
     },
     "metadata": {},
     "output_type": "display_data"
    }
   ],
   "source": [
    "bdu=bundle_universe\n",
    "bdu.plot(**plot_args)"
   ]
  },
  {
   "cell_type": "code",
   "execution_count": 16,
   "id": "bec70538-4d3e-4dc4-a5fe-19fe7e7cf958",
   "metadata": {},
   "outputs": [],
   "source": [
    "external_moderator=openmc.Cell(fill=e_moderator, region=-lattice_boundary)\n",
    "emu = openmc.Universe(cells=[external_moderator])"
   ]
  },
  {
   "cell_type": "code",
   "execution_count": 17,
   "id": "0097bdab-cd1d-4e1d-99d2-240884ac70a1",
   "metadata": {},
   "outputs": [],
   "source": [
    "core_body = openmc.model.RightCircularCylinder((0,0,-H/2),H,D/2, boundary_type='vacuum')\n",
    "\n",
    "N_assy = 9\n",
    "CL = openmc.RectLattice(); #Core Lattice\n",
    "CL.center = (0.,0.)\n",
    "CL.dimension = [N_assy,N_assy];\n",
    "CL.lower_left = [-N_assy/2.*lattice_pitch,-N_assy/2.*lattice_pitch]\n",
    "CL.pitch= [lattice_pitch,lattice_pitch]\n",
    "CL.universes = [\n",
    "    [emu,emu,bdu,bdu,bdu,bdu,bdu,emu,emu],\n",
    "    [emu,bdu,bdu,bdu,bdu,bdu,bdu,bdu,emu],\n",
    "    [bdu,bdu,bdu,bdu,bdu,bdu,bdu,bdu,bdu],\n",
    "    [bdu,bdu,bdu,bdu,bdu,bdu,bdu,bdu,bdu],\n",
    "    [bdu,bdu,bdu,bdu,bdu,bdu,bdu,bdu,bdu],\n",
    "    [bdu,bdu,bdu,bdu,bdu,bdu,bdu,bdu,bdu],\n",
    "    [bdu,bdu,bdu,bdu,bdu,bdu,bdu,bdu,bdu],\n",
    "    [emu,bdu,bdu,bdu,bdu,bdu,bdu,bdu,emu],    \n",
    "    [emu,emu,bdu,bdu,bdu,bdu,bdu,emu,emu]\n",
    "]\n",
    "CL.outer=emu\n",
    "\n",
    "C = openmc.Universe();\n",
    "core_cell = openmc.Cell();\n",
    "core_cell.region = -core_body;\n",
    "core_cell.fill = CL;\n",
    "C.add_cell(core_cell);"
   ]
  },
  {
   "cell_type": "code",
   "execution_count": 18,
   "id": "a2d91042-26ea-471d-98b9-e077550b4bcb",
   "metadata": {},
   "outputs": [],
   "source": [
    "geometry = openmc.Geometry(C)\n",
    "geometry.export_to_xml()\n",
    "\n",
    "materials=openmc.Materials(geometry.get_all_materials().values())\n",
    "materials.export_to_xml()"
   ]
  },
  {
   "cell_type": "code",
   "execution_count": 21,
   "id": "d55a5d5f-dc6c-4461-8f5e-31a5ae5bad49",
   "metadata": {},
   "outputs": [
    {
     "data": {
      "image/png": "[encoded data removed]",
      "text/plain": [
       "<IPython.core.display.Image object>"
      ]
     },
     "execution_count": 21,
     "metadata": {},
     "output_type": "execute_result"
    }
   ],
   "source": [
    "plot = openmc.Plot.from_geometry(geometry)\n",
    "#plot.basis='yz'\n",
    "#plot.origin=(7,0,0)\n",
    "plot.color_by = 'material'\n",
    "plot.colors = {\n",
    "    fuel: 'yellow',\n",
    "    clad_in: 'grey',\n",
    "    clad_out: 'white',\n",
    "    moderator: 'green',\n",
    "    e_moderator: 'green',\n",
    "}\n",
    "plot.to_ipython_image()"
   ]
  },
  {
   "cell_type": "code",
   "execution_count": 24,
   "id": "60207a52-6388-4e35-8747-c7ea07461fe8",
   "metadata": {},
   "outputs": [],
   "source": [
    "settings = openmc.Settings()\n",
    "settings.particles = 10000\n",
    "settings.batches = 100\n",
    "settings.inactive = 15\n",
    "settings.temperature={'method':'interpolation','range':(250, 2500)}\n",
    "box = openmc.stats.Box(lower_left = (-D/2,-D/2,-H/2),\n",
    "                      upper_right = (D/2,D/2,H/2),\n",
    "                      only_fissionable=True);\n",
    "src = openmc.Source(space=box);\n",
    "settings.source = src\n",
    "settings.export_to_xml()"
   ]
  },
  {
   "cell_type": "code",
   "execution_count": 25,
   "id": "3b1552af-b1a8-44ab-a437-3336ef7bb462",
   "metadata": {},
   "outputs": [],
   "source": [
    "cell_filter = openmc.CellFilter(fuel_cell)\n",
    "\n",
    "energy_bins = np.logspace(-3,7,num=1001)\n",
    "energy_filter = openmc.EnergyFilter(values=energy_bins)\n",
    "\n",
    "flux_tally = openmc.Tally(name='flux')\n",
    "flux_tally.scores = ['flux']\n",
    "flux_tally.filters = [cell_filter,energy_filter]\n",
    "\n",
    "tallies = openmc.Tallies([flux_tally])\n",
    "\n",
    "tallies.export_to_xml()"
   ]
  },
  {
   "cell_type": "code",
   "execution_count": 26,
   "id": "a3afca27-22ad-4e67-9d5e-6f6f86c3a91d",
   "metadata": {},
   "outputs": [
    {
     "name": "stdout",
     "output_type": "stream",
     "text": [
      "                                %%%%%%%%%%%%%%%\n",
      "                           %%%%%%%%%%%%%%%%%%%%%%%%\n",
      "                        %%%%%%%%%%%%%%%%%%%%%%%%%%%%%%\n",
      "                      %%%%%%%%%%%%%%%%%%%%%%%%%%%%%%%%%%\n",
      "                    %%%%%%%%%%%%%%%%%%%%%%%%%%%%%%%%%%%%%%\n",
      "                   %%%%%%%%%%%%%%%%%%%%%%%%%%%%%%%%%%%%%%%%\n",
      "                                    %%%%%%%%%%%%%%%%%%%%%%%%\n",
      "                                     %%%%%%%%%%%%%%%%%%%%%%%%\n",
      "                 ###############      %%%%%%%%%%%%%%%%%%%%%%%%\n",
      "                ##################     %%%%%%%%%%%%%%%%%%%%%%%\n",
      "                ###################     %%%%%%%%%%%%%%%%%%%%%%%\n",
      "                ####################     %%%%%%%%%%%%%%%%%%%%%%\n",
      "                #####################     %%%%%%%%%%%%%%%%%%%%%\n",
      "                ######################     %%%%%%%%%%%%%%%%%%%%\n",
      "                #######################     %%%%%%%%%%%%%%%%%%\n",
      "                 #######################     %%%%%%%%%%%%%%%%%\n",
      "                 ######################     %%%%%%%%%%%%%%%%%\n",
      "                  ####################     %%%%%%%%%%%%%%%%%\n",
      "                    #################     %%%%%%%%%%%%%%%%%\n",
      "                     ###############     %%%%%%%%%%%%%%%%\n",
      "                       ############     %%%%%%%%%%%%%%%\n",
      "                          ########     %%%%%%%%%%%%%%\n",
      "                                      %%%%%%%%%%%\n",
      "\n",
      "                 | The OpenMC Monte Carlo Code\n",
      "       Copyright | 2011-2023 MIT, UChicago Argonne LLC, and contributors\n",
      "         License | https://docs.openmc.org/en/latest/license.html\n",
      "         Version | 0.13.3\n",
      "        Git SHA1 | 50e39a4e20dc9e0f3d7ccf07333f6a5e6c797c8c\n",
      "       Date/Time | 2023-10-25 19:06:13\n",
      "  OpenMP Threads | 192\n",
      "\n",
      " Reading settings XML file...\n",
      " Reading cross sections XML file...\n",
      " Reading materials XML file...\n",
      " Reading geometry XML file...\n",
      " Reading U234 from /home/m240600/OpenMC_CrossSections/lib80x_hdf5/U234.h5\n",
      " Reading U235 from /home/m240600/OpenMC_CrossSections/lib80x_hdf5/U235.h5\n",
      " Reading U238 from /home/m240600/OpenMC_CrossSections/lib80x_hdf5/U238.h5\n",
      " Reading U236 from /home/m240600/OpenMC_CrossSections/lib80x_hdf5/U236.h5\n",
      " Reading O16 from /home/m240600/OpenMC_CrossSections/lib80x_hdf5/O16.h5\n",
      " Reading O17 from /home/m240600/OpenMC_CrossSections/lib80x_hdf5/O17.h5\n",
      " Reading O18 from /home/m240600/OpenMC_CrossSections/lib80x_hdf5/O18.h5\n",
      " Reading C12 from /home/m240600/OpenMC_CrossSections/lib80x_hdf5/C12.h5\n",
      " Reading C13 from /home/m240600/OpenMC_CrossSections/lib80x_hdf5/C13.h5\n",
      " Reading Si28 from /home/m240600/OpenMC_CrossSections/lib80x_hdf5/Si28.h5\n",
      " Reading Si29 from /home/m240600/OpenMC_CrossSections/lib80x_hdf5/Si29.h5\n",
      " Reading Si30 from /home/m240600/OpenMC_CrossSections/lib80x_hdf5/Si30.h5\n",
      " Reading c_Graphite from\n",
      " /home/m240600/OpenMC_CrossSections/lib80x_hdf5/c_Graphite.h5\n",
      " Minimum neutron data temperature: 250 K\n",
      " Maximum neutron data temperature: 2500 K\n",
      " Reading tallies XML file...\n",
      " Preparing distributed cell instances...\n",
      " Reading plot XML file...\n",
      " Writing summary.h5 file...\n",
      " Maximum neutron transport energy: 20000000 eV for O17\n",
      " Initializing source particles...\n",
      "\n",
      " ====================>     K EIGENVALUE SIMULATION     <====================\n",
      "\n",
      "  Bat./Gen.      k            Average k\n",
      "  =========   ========   ====================\n",
      "        1/1    1.41764\n",
      "        2/1    1.45850\n",
      "        3/1    1.44427\n",
      "        4/1    1.46108\n",
      "        5/1    1.42077\n",
      "        6/1    1.45068\n",
      "        7/1    1.47088\n",
      "        8/1    1.46112\n",
      "        9/1    1.45782\n",
      "       10/1    1.46131\n",
      "       11/1    1.50985\n",
      "       12/1    1.46857\n",
      "       13/1    1.46684\n",
      "       14/1    1.49237\n",
      "       15/1    1.46771\n",
      "       16/1    1.47132\n",
      "       17/1    1.47715    1.47423 +/- 0.00292\n",
      "       18/1    1.47486    1.47444 +/- 0.00170\n",
      "       19/1    1.46868    1.47300 +/- 0.00187\n",
      "       20/1    1.44148    1.46670 +/- 0.00647\n",
      "       21/1    1.47243    1.46765 +/- 0.00537\n",
      "       22/1    1.46975    1.46795 +/- 0.00455\n",
      "       23/1    1.48071    1.46955 +/- 0.00425\n",
      "       24/1    1.46450    1.46899 +/- 0.00379\n",
      "       25/1    1.45152    1.46724 +/- 0.00381\n",
      "       26/1    1.48085    1.46848 +/- 0.00366\n",
      "       27/1    1.45820    1.46762 +/- 0.00345\n",
      "       28/1    1.43079    1.46479 +/- 0.00426\n",
      "       29/1    1.47595    1.46558 +/- 0.00402\n",
      "       30/1    1.49900    1.46781 +/- 0.00436\n",
      "       31/1    1.45784    1.46719 +/- 0.00412\n",
      "       32/1    1.47372    1.46757 +/- 0.00389\n",
      "       33/1    1.49475    1.46908 +/- 0.00397\n",
      "       34/1    1.46377    1.46880 +/- 0.00376\n",
      "       35/1    1.48670    1.46970 +/- 0.00368\n",
      "       36/1    1.49928    1.47111 +/- 0.00377\n",
      "       37/1    1.48010    1.47152 +/- 0.00362\n",
      "       38/1    1.46896    1.47140 +/- 0.00346\n",
      "       39/1    1.47941    1.47174 +/- 0.00333\n",
      "       40/1    1.43951    1.47045 +/- 0.00344\n",
      "       41/1    1.49097    1.47124 +/- 0.00340\n",
      "       42/1    1.50068    1.47233 +/- 0.00345\n",
      "       43/1    1.46113    1.47193 +/- 0.00335\n",
      "       44/1    1.46816    1.47180 +/- 0.00323\n",
      "       45/1    1.46689    1.47163 +/- 0.00313\n",
      "       46/1    1.49156    1.47228 +/- 0.00309\n",
      "       47/1    1.46077    1.47192 +/- 0.00302\n",
      "       48/1    1.46611    1.47174 +/- 0.00293\n",
      "       49/1    1.49793    1.47251 +/- 0.00294\n",
      "       50/1    1.47951    1.47271 +/- 0.00287\n",
      "       51/1    1.48024    1.47292 +/- 0.00279\n",
      "       52/1    1.46204    1.47263 +/- 0.00273\n",
      "       53/1    1.48624    1.47299 +/- 0.00268\n",
      "       54/1    1.46692    1.47283 +/- 0.00262\n",
      "       55/1    1.47242    1.47282 +/- 0.00255\n",
      "       56/1    1.45708    1.47244 +/- 0.00252\n",
      "       57/1    1.47842    1.47258 +/- 0.00246\n",
      "       58/1    1.45482    1.47217 +/- 0.00244\n",
      "       59/1    1.45615    1.47180 +/- 0.00241\n",
      "       60/1    1.46000    1.47154 +/- 0.00237\n",
      "       61/1    1.47108    1.47153 +/- 0.00232\n",
      "       62/1    1.48229    1.47176 +/- 0.00228\n",
      "       63/1    1.49447    1.47223 +/- 0.00228\n",
      "       64/1    1.46797    1.47214 +/- 0.00224\n",
      "       65/1    1.48081    1.47232 +/- 0.00220\n",
      "       66/1    1.52172    1.47329 +/- 0.00236\n",
      "       67/1    1.47669    1.47335 +/- 0.00232\n",
      "       68/1    1.49346    1.47373 +/- 0.00231\n",
      "       69/1    1.47919    1.47383 +/- 0.00226\n",
      "       70/1    1.48127    1.47397 +/- 0.00223\n",
      "       71/1    1.47681    1.47402 +/- 0.00219\n",
      "       72/1    1.46164    1.47380 +/- 0.00216\n",
      "       73/1    1.48638    1.47402 +/- 0.00213\n",
      "       74/1    1.53340    1.47502 +/- 0.00233\n",
      "       75/1    1.44433    1.47451 +/- 0.00234\n",
      "       76/1    1.48975    1.47476 +/- 0.00232\n",
      "       77/1    1.51491    1.47541 +/- 0.00237\n",
      "       78/1    1.48239    1.47552 +/- 0.00234\n",
      "       79/1    1.48629    1.47569 +/- 0.00230\n",
      "       80/1    1.48503    1.47583 +/- 0.00227\n",
      "       81/1    1.50350    1.47625 +/- 0.00228\n",
      "       82/1    1.45944    1.47600 +/- 0.00226\n",
      "       83/1    1.45712    1.47572 +/- 0.00224\n",
      "       84/1    1.46137    1.47552 +/- 0.00222\n",
      "       85/1    1.46616    1.47538 +/- 0.00219\n",
      "       86/1    1.46617    1.47525 +/- 0.00216\n",
      "       87/1    1.47052    1.47519 +/- 0.00213\n",
      "       88/1    1.47464    1.47518 +/- 0.00210\n",
      "       89/1    1.46624    1.47506 +/- 0.00208\n",
      "       90/1    1.48787    1.47523 +/- 0.00206\n",
      "       91/1    1.49256    1.47546 +/- 0.00204\n",
      "       92/1    1.51027    1.47591 +/- 0.00207\n",
      "       93/1    1.48518    1.47603 +/- 0.00204\n",
      "       94/1    1.47304    1.47599 +/- 0.00202\n",
      "       95/1    1.48066    1.47605 +/- 0.00199\n",
      "       96/1    1.48948    1.47621 +/- 0.00198\n",
      "       97/1    1.47255    1.47617 +/- 0.00195\n",
      "       98/1    1.48944    1.47633 +/- 0.00194\n",
      "       99/1    1.49255    1.47652 +/- 0.00192\n",
      "      100/1    1.45325    1.47625 +/- 0.00192\n",
      " Creating state point statepoint.100.h5...\n",
      "\n",
      " =======================>     TIMING STATISTICS     <=======================\n",
      "\n",
      " Total time for initialization     = 4.0979e+00 seconds\n",
      "   Reading cross sections          = 4.0304e+00 seconds\n",
      " Total time in simulation          = 3.9940e+00 seconds\n",
      "   Time in transport only          = 3.1794e+00 seconds\n",
      "   Time in inactive batches        = 4.7027e-01 seconds\n",
      "   Time in active batches          = 3.5237e+00 seconds\n",
      "   Time synchronizing fission bank = 9.1342e-02 seconds\n",
      "     Sampling source sites         = 7.8173e-02 seconds\n",
      "     SEND/RECV source sites        = 1.2598e-02 seconds\n",
      "   Time accumulating tallies       = 6.4713e-01 seconds\n",
      "   Time writing statepoints        = 6.9214e-03 seconds\n",
      " Total time for finalization       = 2.3424e-03 seconds\n",
      " Total time elapsed                = 8.1561e+00 seconds\n",
      " Calculation Rate (inactive)       = 318967 particles/second\n",
      " Calculation Rate (active)         = 241223 particles/second\n",
      "\n",
      " ============================>     RESULTS     <============================\n",
      "\n",
      " k-effective (Collision)     = 1.47630 +/- 0.00150\n",
      " k-effective (Track-length)  = 1.47625 +/- 0.00192\n",
      " k-effective (Absorption)    = 1.47532 +/- 0.00108\n",
      " Combined k-effective        = 1.47568 +/- 0.00085\n",
      " Leakage Fraction            = 0.01034 +/- 0.00014\n",
      "\n"
     ]
    }
   ],
   "source": [
    "openmc.run()"
   ]
  },
  {
   "cell_type": "code",
   "execution_count": 27,
   "id": "75a92df5-1f5a-492e-84fd-caf529321eee",
   "metadata": {},
   "outputs": [
    {
     "data": {
      "text/plain": [
       "Text(0, 0.5, 'flux [n/cm**2-s]')"
      ]
     },
     "execution_count": 27,
     "metadata": {},
     "output_type": "execute_result"
    },
    {
     "data": {
      "image/png": "[encoded data removed]",
      "text/plain": [
       "<Figure size 640x480 with 1 Axes>"
      ]
     },
     "metadata": {},
     "output_type": "display_data"
    }
   ],
   "source": [
    "sp = openmc.StatePoint('statepoint.100.h5')\n",
    "flux = sp.get_tally(name='flux')\n",
    "flux_df = flux.get_pandas_dataframe()\n",
    "flux_vals = flux_df['mean'].to_numpy()\n",
    "\n",
    "energy_x = 0.5*(energy_bins[0:-1]+energy_bins[1:])\n",
    "\n",
    "pyplot.loglog(energy_x,flux_vals)\n",
    "pyplot.grid()\n",
    "pyplot.xlabel('Energy [eV]')\n",
    "pyplot.ylabel('flux [n/cm**2-s]')"
   ]
  },
  {
   "cell_type": "code",
   "execution_count": null,
   "id": "0c8cecd4-0cbd-4c91-be13-5b83f1290c46",
   "metadata": {},
   "outputs": [],
   "source": [
    "fuel.volume = pi*r_fuel**2*H*(37*69) #cm^3 for 37 fuel pins and 69 FA"
   ]
  },
  {
   "cell_type": "code",
   "execution_count": null,
   "id": "a81a3467-a406-44cb-a71a-4d2477e8d4bd",
   "metadata": {},
   "outputs": [],
   "source": [
    "model=openmc.model.Model(geometry,materials,settings)\n",
    "operator = openmc.deplete.CoupledOperator(model,\"chain_endfb80_pwr.xml\")\n",
    "\n",
    "power_density = 35 #MW/kg\n",
    "\n",
    "days = 3600*24; #number of seconds in a day\n",
    "\n",
    "time_steps = [0.1*days,0.1*days, 0.1*days, 0.1*days, 0.1*days,\n",
    "              0.25*days, 0.25*days, 0.25*days, 0.25*days, 0.25*days, 0.25*days,\n",
    "              0.5*days, 0.5*days, 0.5*days,0.5*days,\n",
    "              0.75*days, 0.75*days, 0.75*days, 0.75*days,\n",
    "              1*days, 1*days, 1*days, 1*days, 1*days, 1*days, 1*days, 1*days, 1*days, 1*days, 1*days, 1*days, 1*days, 1*days, 1*days, 1*days,\n",
    "              1.5*days, 1.5*days, 1.5*days, 1.5*days, 1.5*days, 1.5*days, 1.5*days, 1.5*days, 1.5*days, 1.5*days,\n",
    "              2*days, 2*days, 2*days, 2*days, 2*days, 2*days, 2*days, 2*days, 2*days, 2*days, 2*days,\n",
    "              5*days, 5*days, 5*days, 5*days,5*days, 5*days, 5*days, 5*days, 5*days, 5*days,5*days, 5*days,\n",
    "              10*days, 10*days, 10*days, 10*days, 10*days, 10*days, 10*days, 10*days, 10*days, 10*days, 10*days, 10*days, 10*days, 10*days,\n",
    "              15*days, 15*days, 15*days, 15*days, 15*days, 15*days, 15*days, 15*days,\n",
    "              20*days, 20*days, 20*days, 20*days, 20*days, 20*days, 20*days, 20*days, 20*days, 20*days, 20*days, 20*days,\n",
    "              30*days, 30*days, 30*days, 30*days, 30*days, 30*days, 30*days, 30*days, 30*days, 30*days, 30*days, 30*days,\n",
    "              30*days, 30*days, 30*days, 30*days, 30*days, 30*days, 30*days, 30*days, 30*days, 30*days, 30*days, 30*days,\n",
    "              30*days, 30*days, 30*days, 30*days, 30*days, 30*days, 30*days, 30*days, 30*days, 30*days, 30*days, 30*days,\n",
    "              40*days, 40*days, 40*days, 40*days, 40*days, 40*days, 40*days, 40*days, 40*days, 40*days,\n",
    "              50*days, 50*days, 50*days, 50*days, 50*days, 50*days, 50*days, 50*days, 50*days, 50*days, 50*days, 50*days,\n",
    "              60*days, 60*days, 60*days, 60*days, 60*days, 60*days, 60*days, 60*days, 60*days, 60*days, 60*days, 60*days,\n",
    "              60*days, 60*days, 60*days, 60*days, 60*days, 60*days, 60*days, 60*days, 60*days, 60*days, 60*days, 60*days,\n",
    "              60*days, 60*days, 60*days, 60*days, 60*days, 60*days, 60*days, 60*days, 60*days, 60*days, 60*days, 60*days,\n",
    "              60*days, 60*days, 60*days, 60*days]\n",
    "\n",
    "\n",
    "cemc = openmc.deplete.CECMIntegrator(operator,time_steps,power_density = power_density,timestep_units='s')\n",
    "\n",
    "#repeat_depletion = False;\n",
    "\n",
    "#if(repeat_depletion):\n",
    "#    cecm.integrate()"
   ]
  },
  {
   "cell_type": "code",
   "execution_count": null,
   "id": "478095d6-c753-4af0-b17b-3f45fe403b2c",
   "metadata": {},
   "outputs": [],
   "source": [
    "cemc.integrate()"
   ]
  },
  {
   "cell_type": "code",
   "execution_count": null,
   "id": "11bb26d5-e55f-47d7-8c7d-a98fb2f24886",
   "metadata": {},
   "outputs": [],
   "source": [
    "results = openmc.deplete.Results(\"./depletion_results.h5\")"
   ]
  },
  {
   "cell_type": "code",
   "execution_count": null,
   "id": "f65d31f9-bead-4039-b4d3-fd9a160c2581",
   "metadata": {},
   "outputs": [],
   "source": [
    "time, k =results.get_keff()"
   ]
  },
  {
   "cell_type": "code",
   "execution_count": null,
   "id": "465b0786-2a86-4b4e-840d-82ec6b0be3bf",
   "metadata": {},
   "outputs": [],
   "source": [
    "time /=(24*3600*1201.75)/42.06 #converts to MWd/kgHM"
   ]
  },
  {
   "cell_type": "code",
   "execution_count": null,
   "id": "b670fc63-6edc-4328-9ed6-b476c1dc7f18",
   "metadata": {},
   "outputs": [],
   "source": [
    "eff=[1]*201"
   ]
  },
  {
   "cell_type": "code",
   "execution_count": null,
   "id": "21938e87-a42f-420f-aa43-c3e304c5578f",
   "metadata": {},
   "outputs": [],
   "source": [
    "def find_roots(x,y):\n",
    "    s = np.abs(np.diff(np.sign(y))).astype(bool)\n",
    "    return x[:-1][s] + np.diff(x)[s]/(np.abs(y[1:][s]/y[:-1][s])+1)\n",
    "\n",
    "z = find_roots(time,eff-k[:,0])\n",
    "z"
   ]
  },
  {
   "cell_type": "code",
   "execution_count": null,
   "id": "4bad4b0e-dcc1-4680-8a23-bdfe0f13aa9d",
   "metadata": {},
   "outputs": [],
   "source": [
    "pyplot.plot(time, k[:, 0],color='green',marker='o',markersize=3)\n",
    "eff=[1]*201\n",
    "pyplot.plot(time,eff,color='red')\n",
    "pyplot.xlabel(\"MWd/kg\")\n",
    "pyplot.ylabel(\"$k_{eff}\\pm \\sigma$\");\n",
    "\n",
    "pyplot.show()"
   ]
  },
  {
   "cell_type": "code",
   "execution_count": null,
   "id": "cd4d6908-bff1-475b-b672-684ff8f06517",
   "metadata": {},
   "outputs": [],
   "source": []
  }
 ],
 "metadata": {
  "kernelspec": {
   "display_name": "Python 3 (ipykernel)",
   "language": "python",
   "name": "python3"
  },
  "language_info": {
   "codemirror_mode": {
    "name": "ipython",
    "version": 3
   },
   "file_extension": ".py",
   "mimetype": "text/x-python",
   "name": "python",
   "nbconvert_exporter": "python",
   "pygments_lexer": "ipython3",
   "version": "3.11.5"
  }
 },
 "nbformat": 4,
 "nbformat_minor": 5
}
