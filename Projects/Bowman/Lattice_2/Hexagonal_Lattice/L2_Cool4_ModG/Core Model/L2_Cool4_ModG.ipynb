{
 "cells": [
  {
   "cell_type": "code",
   "execution_count": 3,
   "id": "d222d07d-7e8f-4831-bcc2-5b47e6bc32f8",
   "metadata": {},
   "outputs": [],
   "source": [
    "%matplotlib inline\n",
    "from math import pi, sin, cos\n",
    "import numpy as np\n",
    "import openmc\n",
    "import openmc.deplete\n",
    "from matplotlib import pyplot"
   ]
  },
  {
   "cell_type": "code",
   "execution_count": 4,
   "id": "b5d018ce-2e32-4e8c-86b0-cfaa7ee58ae5",
   "metadata": {},
   "outputs": [
    {
     "name": "stderr",
     "output_type": "stream",
     "text": [
      "/home/m240600/.conda/envs/openmc-env/lib/python3.11/site-packages/openmc/material.py:740: UserWarning: A uranium enrichment of 19.75 was given for Material ID=\"1\". OpenMC assumes the U234/U235 mass ratio is constant at 0.008, which is only valid at low enrichments. Consider setting the isotopic composition manually for enrichments over 5%.\n",
      "  warnings.warn(msg)\n"
     ]
    }
   ],
   "source": [
    "fuel = openmc.Material(name='uo2')\n",
    "fuel.add_element('U',1.0, enrichment=19.75)\n",
    "fuel.add_element('O',2.0)\n",
    "fuel.set_density(\"g/cm3\",10.5)\n",
    "fuel.depletable = True\n",
    "\n",
    "clad_in = openmc.Material(name='graphite')\n",
    "clad_in.add_element('C',1.0)\n",
    "clad_in.set_density(\"g/cm3\",1.5)\n",
    "clad_in.add_s_alpha_beta('c_Graphite')\n",
    "clad_in.depletable = False\n",
    "\n",
    "clad_out = openmc.Material(name='SiC')\n",
    "clad_out.add_element('C',1)\n",
    "clad_out.add_element('Si',1)\n",
    "clad_out.set_density(\"g/cm3\",2.58)\n",
    "clad_out.add_s_alpha_beta('c_Graphite')\n",
    "clad_out.depletable = False\n",
    "\n",
    "naoh = openmc.Material(name='NaOH')\n",
    "naoh.set_density(\"g/cm3\", 1.76)\n",
    "naoh.add_nuclide('Na23', 0.57478656, 'wo')\n",
    "naoh.add_nuclide('O16',  0.39984656, 'wo')\n",
    "naoh.add_nuclide('O17',  0.00016150, 'wo')\n",
    "naoh.add_nuclide('H1',   0.02519782, 'wo')\n",
    "naoh.add_nuclide('H2',   0.00000755, 'wo')\n",
    "\n",
    "\n",
    "lioh = openmc.Material(name='LiOH')\n",
    "lioh.set_density(\"g/cm3\", 1.39)\n",
    "lioh.add_nuclide('Li6', 0.00001251904, 'wo')\n",
    "lioh.add_nuclide('Li7', 0.2929339,'wo')\n",
    "lioh.add_nuclide('O16', 0.6657193, 'wo')\n",
    "lioh.add_nuclide('O17', 0.0002688907, 'wo')\n",
    "lioh.add_nuclide('H1',  0.04195279, 'wo')\n",
    "lioh.add_nuclide('H2',  0.00001257524, 'wo')\n",
    "\n",
    "coolant = openmc.Material.mix_materials([lioh, naoh], [.24562, .75438],'vo')\n",
    "coolant.set_density(\"g/cc\", 1.670)\n",
    "                    \n",
    "moderator = openmc.Material(name='graphite')\n",
    "moderator.add_element('C',1.0)\n",
    "moderator.set_density(\"g/cc\",1.5)\n",
    "moderator.add_s_alpha_beta('c_Graphite')\n",
    "moderator.depletable = False\n",
    "\n",
    "e_moderator = openmc.Material(name='graphite')\n",
    "e_moderator.add_element('C',1.0)\n",
    "e_moderator.set_density(\"g/cc\",1.5)\n",
    "e_moderator.add_s_alpha_beta('c_Graphite')\n",
    "e_moderator.depletable = False\n",
    "\n",
    "materials = openmc.Materials([fuel,clad_in,clad_out,coolant,moderator,e_moderator])\n",
    "materials.export_to_xml()"
   ]
  },
  {
   "cell_type": "code",
   "execution_count": 5,
   "id": "4b54f5de-ccdf-4c6f-8a9d-65a04f321c7e",
   "metadata": {},
   "outputs": [],
   "source": [
    "r_fuel   = 0.35\n",
    "r_clad_1 = 0.5\n",
    "r_clad_2 = 0.6\n",
    "\n",
    "r_pt_in  = 7.5 #inner radius of the graphite pressure tube\n",
    "r_pt_out = 8.5 #outer radius of the graphite pressure tube\n",
    "\n",
    "lattice_pitch = 18\n",
    "\n",
    "H= 143.165 #core height in cm\n",
    "D= 175 #core diameter in cm\n",
    "\n",
    "ring_radii = np.array([0.0, 2.1, 4.2, 6.2])\n",
    "\n",
    "surf_fuel = openmc.model.RightCircularCylinder((0,0,-H/2),H,r_fuel)\n",
    "\n",
    "surf_clad_1 = openmc.model.RightCircularCylinder((0,0,-H/2),H,r_clad_1)\n",
    "surf_clad_2 = openmc.model.RightCircularCylinder((0,0,-H/2),H,r_clad_2)\n",
    "\n",
    "surf_pt_1 = openmc.model.RightCircularCylinder((0,0,-H/2),H,r_pt_in)\n",
    "surf_pt_2 = openmc.model.RightCircularCylinder((0,0,-H/2),H,r_pt_out)"
   ]
  },
  {
   "cell_type": "code",
   "execution_count": 6,
   "id": "e1f7589a-6b72-4e54-a37f-7111795b4ccc",
   "metadata": {},
   "outputs": [],
   "source": [
    "radial_surf = [openmc.model.RightCircularCylinder((0,0,-H/2),H,r) for r in\n",
    "               (ring_radii[:-1] + ring_radii[1:])/2]\n",
    "\n",
    "coolant_cells = []\n",
    "for i in range(ring_radii.size):\n",
    "    if i == 0:\n",
    "        coolant_region = -radial_surf[i]\n",
    "    elif i == ring_radii.size - 1:\n",
    "        coolant_region = +radial_surf[i-1] & -surf_pt_1\n",
    "    else:\n",
    "        coolant_region = +radial_surf[i-1] & -radial_surf[i]\n",
    "\n",
    "    coolant_cells.append(openmc.Cell(fill=coolant, region=coolant_region))"
   ]
  },
  {
   "cell_type": "code",
   "execution_count": 7,
   "id": "0cd947f1-69e7-434f-a736-9fd98112be54",
   "metadata": {},
   "outputs": [
    {
     "data": {
      "text/plain": [
       "<matplotlib.image.AxesImage at 0x7fb8187c3f50>"
      ]
     },
     "execution_count": 7,
     "metadata": {},
     "output_type": "execute_result"
    },
    {
     "data": {
      "image/png": "[encoded data removed]",
      "text/plain": [
       "<Figure size 258.065x259.74 with 1 Axes>"
      ]
     },
     "metadata": {},
     "output_type": "display_data"
    }
   ],
   "source": [
    "plot_args = {'width':(lattice_pitch,lattice_pitch)}\n",
    "bundle_universe = openmc.Universe(cells=coolant_cells)\n",
    "bundle_universe.plot(**plot_args)"
   ]
  },
  {
   "cell_type": "code",
   "execution_count": 8,
   "id": "6749981f-154f-46be-8659-e8804db4ac64",
   "metadata": {},
   "outputs": [],
   "source": [
    "coolant_cells[0-4].temperature = 973\n",
    "\n",
    "fuel_cell = openmc.Cell(fill=fuel, region=-surf_fuel)\n",
    "fuel_cell.temperature = 1473\n",
    "\n",
    "clad_cell_1 = openmc.Cell(fill=clad_in, region=+surf_fuel & -surf_clad_1)\n",
    "clad_cell_1.temperature = 1273\n",
    "\n",
    "clad_cell_2 = openmc.Cell(fill=clad_out, region=+surf_clad_1 & -surf_clad_2)\n",
    "clad_cell_2.temperature = 973\n",
    "\n",
    "pin_universe = openmc.Universe(cells=(fuel_cell,clad_cell_1,clad_cell_2))"
   ]
  },
  {
   "cell_type": "code",
   "execution_count": 9,
   "id": "bd5e349b-4a12-4be2-ba1c-e3b108cc8ede",
   "metadata": {},
   "outputs": [
    {
     "data": {
      "text/plain": [
       "<matplotlib.image.AxesImage at 0x7fb3d89be1d0>"
      ]
     },
     "execution_count": 9,
     "metadata": {},
     "output_type": "execute_result"
    },
    {
     "data": {
      "image/png": "[encoded data removed]",
      "text/plain": [
       "<Figure size 258.065x259.74 with 1 Axes>"
      ]
     },
     "metadata": {},
     "output_type": "display_data"
    }
   ],
   "source": [
    "pin_universe.plot(**{'width':(2*r_clad_2,2*r_clad_2)})"
   ]
  },
  {
   "cell_type": "code",
   "execution_count": 10,
   "id": "5f936801-db5a-4b7c-8236-900c94afb214",
   "metadata": {},
   "outputs": [],
   "source": [
    "num_pins = [1, 6, 12, 18]\n",
    "angles = [0, 0, 15, 0]\n",
    "\n",
    "for i, (r, n, a) in enumerate(zip(ring_radii, num_pins, angles)):\n",
    "    for j in range(n):\n",
    "        theta = (a + j/n*360)*pi/180.\n",
    "        x = r*cos(theta)\n",
    "        y = r*sin(theta)\n",
    "\n",
    "        pin_boundary = openmc.ZCylinder(x0=x,y0=y,r=r_clad_2)\n",
    "        coolant_cells[i].region &= +pin_boundary\n",
    "\n",
    "        pin = openmc.Cell(fill=pin_universe, region=-pin_boundary)\n",
    "        pin.translation = (x, y, 0)\n",
    "        pin.id = (i + 1)*100 + j\n",
    "        bundle_universe.add_cell(pin)"
   ]
  },
  {
   "cell_type": "code",
   "execution_count": 11,
   "id": "b010f535-2e30-41a5-8363-4b4fcc79b038",
   "metadata": {},
   "outputs": [
    {
     "data": {
      "text/plain": [
       "<matplotlib.image.AxesImage at 0x7fb3d5b82c10>"
      ]
     },
     "execution_count": 11,
     "metadata": {},
     "output_type": "execute_result"
    },
    {
     "data": {
      "image/png": "[encoded data removed]",
      "text/plain": [
       "<Figure size 258.065x259.74 with 1 Axes>"
      ]
     },
     "metadata": {},
     "output_type": "display_data"
    }
   ],
   "source": [
    "bundle_universe.plot(**plot_args)"
   ]
  },
  {
   "cell_type": "code",
   "execution_count": 12,
   "id": "d0a54644-81fa-4739-8d38-12ddbde152d7",
   "metadata": {},
   "outputs": [],
   "source": [
    "lattice_boundary = openmc.model.RightCircularCylinder((0,0,-H/2),H,lattice_pitch/2)"
   ]
  },
  {
   "cell_type": "code",
   "execution_count": 13,
   "id": "cd3bed0b-ab96-4e67-985a-e3ce922f4794",
   "metadata": {},
   "outputs": [],
   "source": [
    "pt=openmc.Cell(fill=clad_in, region= +surf_pt_1 & -surf_pt_2)\n",
    "pt.temperature = 973\n",
    "\n",
    "bundle_universe.add_cell(pt)\n",
    "moderator_cell=openmc.Cell(fill = moderator,region=+surf_pt_2)\n",
    "moderator_cell.temperature = 973\n",
    "\n",
    "bundle_universe.add_cell(moderator_cell)"
   ]
  },
  {
   "cell_type": "code",
   "execution_count": 14,
   "id": "c413764d-fd86-4d61-9393-f2452314802b",
   "metadata": {},
   "outputs": [
    {
     "data": {
      "text/plain": [
       "<matplotlib.image.AxesImage at 0x7fb3cda40950>"
      ]
     },
     "execution_count": 14,
     "metadata": {},
     "output_type": "execute_result"
    },
    {
     "data": {
      "image/png": "[encoded data removed]",
      "text/plain": [
       "<Figure size 258.065x259.74 with 1 Axes>"
      ]
     },
     "metadata": {},
     "output_type": "display_data"
    }
   ],
   "source": [
    "bdu=bundle_universe\n",
    "bdu.plot(**{'width':(2*9,2*9)})"
   ]
  },
  {
   "cell_type": "code",
   "execution_count": 15,
   "id": "bec70538-4d3e-4dc4-a5fe-19fe7e7cf958",
   "metadata": {},
   "outputs": [],
   "source": [
    "external_moderator=openmc.Cell(fill=e_moderator)\n",
    "emu = openmc.Universe(cells=[external_moderator])"
   ]
  },
  {
   "cell_type": "code",
   "execution_count": 16,
   "id": "b9431c91-edda-4438-a4e3-d47b0e904b13",
   "metadata": {},
   "outputs": [],
   "source": [
    "lattice = openmc.HexLattice()"
   ]
  },
  {
   "cell_type": "code",
   "execution_count": 17,
   "id": "a1b57eb2-a9b7-4158-bfaf-9705aba21042",
   "metadata": {},
   "outputs": [],
   "source": [
    "lattice.center = (0,0)\n",
    "lattice.pitch = (18,)\n",
    "lattice.outer = emu"
   ]
  },
  {
   "cell_type": "code",
   "execution_count": 18,
   "id": "b40bfed0-3cac-4134-8045-a02d25bf4dbd",
   "metadata": {},
   "outputs": [
    {
     "name": "stdout",
     "output_type": "stream",
     "text": [
      "                        (0, 0)\n",
      "                  (0,23)      (0, 1)\n",
      "            (0,22)      (1, 0)      (0, 2)\n",
      "      (0,21)      (1,17)      (1, 1)      (0, 3)\n",
      "(0,20)      (1,16)      (2, 0)      (1, 2)      (0, 4)\n",
      "      (1,15)      (2,11)      (2, 1)      (1, 3)\n",
      "(0,19)      (2,10)      (3, 0)      (2, 2)      (0, 5)\n",
      "      (1,14)      (3, 5)      (3, 1)      (1, 4)\n",
      "(0,18)      (2, 9)      (4, 0)      (2, 3)      (0, 6)\n",
      "      (1,13)      (3, 4)      (3, 2)      (1, 5)\n",
      "(0,17)      (2, 8)      (3, 3)      (2, 4)      (0, 7)\n",
      "      (1,12)      (2, 7)      (2, 5)      (1, 6)\n",
      "(0,16)      (1,11)      (2, 6)      (1, 7)      (0, 8)\n",
      "      (0,15)      (1,10)      (1, 8)      (0, 9)\n",
      "            (0,14)      (1, 9)      (0,10)\n",
      "                  (0,13)      (0,11)\n",
      "                        (0,12)\n"
     ]
    }
   ],
   "source": [
    "print(lattice.show_indices(num_rings=5))"
   ]
  },
  {
   "cell_type": "code",
   "execution_count": 19,
   "id": "67bf54c1-f7b3-442e-9208-e460f9dfe172",
   "metadata": {},
   "outputs": [],
   "source": [
    "outer_ring = [bdu]*24\n",
    "ring_1 = [bdu]*18\n",
    "ring_2 = [bdu]*12\n",
    "ring_3 = [bdu]*6\n",
    "inner_ring = [bdu]"
   ]
  },
  {
   "cell_type": "code",
   "execution_count": 20,
   "id": "8b1e6498-4a9f-4c1a-a790-1b3b028c0010",
   "metadata": {},
   "outputs": [
    {
     "name": "stdout",
     "output_type": "stream",
     "text": [
      "HexLattice\n",
      "\tID             =\t4\n",
      "\tName           =\t\n",
      "\tOrientation    =\ty\n",
      "\t# Rings        =\t5\n",
      "\t# Axial        =\tNone\n",
      "\tCenter         =\t(0, 0)\n",
      "\tPitch          =\t(18,)\n",
      "\tOuter          =\t3\n",
      "\tUniverses      \n",
      "    1\n",
      "   1 1\n",
      "  1 1 1\n",
      " 1 1 1 1\n",
      "1 1 1 1 1\n",
      " 1 1 1 1\n",
      "1 1 1 1 1\n",
      " 1 1 1 1\n",
      "1 1 1 1 1\n",
      " 1 1 1 1\n",
      "1 1 1 1 1\n",
      " 1 1 1 1\n",
      "1 1 1 1 1\n",
      " 1 1 1 1\n",
      "  1 1 1\n",
      "   1 1\n",
      "    1\n"
     ]
    }
   ],
   "source": [
    "lattice.universes = [outer_ring,\n",
    "                     ring_1,\n",
    "                     ring_2,\n",
    "                     ring_3,\n",
    "                     inner_ring]\n",
    "print(lattice)"
   ]
  },
  {
   "cell_type": "code",
   "execution_count": 21,
   "id": "98d15e85-ffb9-4a89-ad46-1e34f8dabaf2",
   "metadata": {},
   "outputs": [],
   "source": [
    "core_body = openmc.model.RightCircularCylinder((0,0,-H/2),H,D/2, boundary_type='vacuum')\n",
    "main_cell = openmc.Cell(fill=lattice, region=-core_body)\n",
    "geometry = openmc.Geometry([main_cell])\n",
    "lattice.orientation='x'\n",
    "geometry.export_to_xml()"
   ]
  },
  {
   "cell_type": "code",
   "execution_count": 22,
   "id": "d55a5d5f-dc6c-4461-8f5e-31a5ae5bad49",
   "metadata": {},
   "outputs": [
    {
     "data": {
      "image/png": "[encoded data removed]",
      "text/plain": [
       "<IPython.core.display.Image object>"
      ]
     },
     "execution_count": 22,
     "metadata": {},
     "output_type": "execute_result"
    }
   ],
   "source": [
    "plot = openmc.Plot.from_geometry(geometry)\n",
    "#plot.basis='yz'\n",
    "#plot.origin=(7,0,0)\n",
    "plot.color_by = 'material'\n",
    "plot.colors = {\n",
    "    fuel: 'yellow',\n",
    "    clad_in: 'grey',\n",
    "    clad_out: 'pink',\n",
    "    coolant: 'blue',\n",
    "    moderator: 'purple',\n",
    "    e_moderator: 'pink',\n",
    "}\n",
    "plot.to_ipython_image()"
   ]
  },
  {
   "cell_type": "code",
   "execution_count": 23,
   "id": "60207a52-6388-4e35-8747-c7ea07461fe8",
   "metadata": {},
   "outputs": [],
   "source": [
    "settings = openmc.Settings()\n",
    "settings.particles = 200000\n",
    "settings.batches = 300\n",
    "settings.inactive = 15\n",
    "settings.temperature={'method':'interpolation','range':(250, 2500)}\n",
    "box = openmc.stats.Box(lower_left = (-D/2,-D/2,-H/2),\n",
    "                      upper_right = (D/2,D/2,H/2),\n",
    "                      only_fissionable=True);\n",
    "src = openmc.Source(space=box);\n",
    "settings.source = src\n",
    "settings.export_to_xml()"
   ]
  },
  {
   "cell_type": "code",
   "execution_count": 24,
   "id": "3b1552af-b1a8-44ab-a437-3336ef7bb462",
   "metadata": {},
   "outputs": [],
   "source": [
    "tallies_file = openmc.Tallies()"
   ]
  },
  {
   "cell_type": "code",
   "execution_count": 25,
   "id": "d7e2615c-a59e-4f59-9158-fc01dbbf2cb3",
   "metadata": {
    "scrolled": true
   },
   "outputs": [
    {
     "name": "stderr",
     "output_type": "stream",
     "text": [
      "/home/m240600/.conda/envs/openmc-env/lib/python3.11/site-packages/openmc/mixin.py:70: IDWarning: Another Filter instance already exists with id=1.\n",
      "  warn(msg, IDWarning)\n"
     ]
    }
   ],
   "source": [
    "therm_abs_rate = openmc.Tally(name = 'therm. abs. rate')\n",
    "therm_abs_rate.scores = ['absorption']\n",
    "therm_abs_rate.filters = [openmc.EnergyFilter([0., 0.625])]\n",
    "tallies_file.append(therm_abs_rate)\n",
    "\n",
    "fuel_therm_abs_rate = openmc.Tally(name='fuel therm. abs.rate')\n",
    "fuel_therm_abs_rate.scores = ['absorption']\n",
    "fuel_therm_abs_rate.filters = [openmc.EnergyFilter([0., 0.625]),openmc.CellFilter([fuel_cell])]\n",
    "tallies_file.append(fuel_therm_abs_rate)\n",
    "\n",
    "tallies_file.export_to_xml()"
   ]
  },
  {
   "cell_type": "code",
   "execution_count": null,
   "id": "a3afca27-22ad-4e67-9d5e-6f6f86c3a91d",
   "metadata": {},
   "outputs": [
    {
     "name": "stdout",
     "output_type": "stream",
     "text": [
      "                                %%%%%%%%%%%%%%%\n",
      "                           %%%%%%%%%%%%%%%%%%%%%%%%\n",
      "                        %%%%%%%%%%%%%%%%%%%%%%%%%%%%%%\n",
      "                      %%%%%%%%%%%%%%%%%%%%%%%%%%%%%%%%%%\n",
      "                    %%%%%%%%%%%%%%%%%%%%%%%%%%%%%%%%%%%%%%\n",
      "                   %%%%%%%%%%%%%%%%%%%%%%%%%%%%%%%%%%%%%%%%\n",
      "                                    %%%%%%%%%%%%%%%%%%%%%%%%\n",
      "                                     %%%%%%%%%%%%%%%%%%%%%%%%\n",
      "                 ###############      %%%%%%%%%%%%%%%%%%%%%%%%\n",
      "                ##################     %%%%%%%%%%%%%%%%%%%%%%%\n",
      "                ###################     %%%%%%%%%%%%%%%%%%%%%%%\n",
      "                ####################     %%%%%%%%%%%%%%%%%%%%%%\n",
      "                #####################     %%%%%%%%%%%%%%%%%%%%%\n",
      "                ######################     %%%%%%%%%%%%%%%%%%%%\n",
      "                #######################     %%%%%%%%%%%%%%%%%%\n",
      "                 #######################     %%%%%%%%%%%%%%%%%\n",
      "                 ######################     %%%%%%%%%%%%%%%%%\n",
      "                  ####################     %%%%%%%%%%%%%%%%%\n",
      "                    #################     %%%%%%%%%%%%%%%%%\n",
      "                     ###############     %%%%%%%%%%%%%%%%\n",
      "                       ############     %%%%%%%%%%%%%%%\n",
      "                          ########     %%%%%%%%%%%%%%\n",
      "                                      %%%%%%%%%%%\n",
      "\n",
      "                 | The OpenMC Monte Carlo Code\n",
      "       Copyright | 2011-2023 MIT, UChicago Argonne LLC, and contributors\n",
      "         License | https://docs.openmc.org/en/latest/license.html\n",
      "         Version | 0.13.3\n",
      "        Git SHA1 | 50e39a4e20dc9e0f3d7ccf07333f6a5e6c797c8c\n",
      "       Date/Time | 2023-11-16 08:44:58\n",
      "  OpenMP Threads | 192\n",
      "\n",
      " Reading settings XML file...\n",
      " Reading cross sections XML file...\n",
      " Reading materials XML file...\n",
      " Reading geometry XML file...\n",
      " Reading U234 from /home/m240600/OpenMC_CrossSections/lib80x_hdf5/U234.h5\n",
      " Reading U235 from /home/m240600/OpenMC_CrossSections/lib80x_hdf5/U235.h5\n",
      " Reading U238 from /home/m240600/OpenMC_CrossSections/lib80x_hdf5/U238.h5\n",
      " Reading U236 from /home/m240600/OpenMC_CrossSections/lib80x_hdf5/U236.h5\n",
      " Reading O16 from /home/m240600/OpenMC_CrossSections/lib80x_hdf5/O16.h5\n",
      " Reading O17 from /home/m240600/OpenMC_CrossSections/lib80x_hdf5/O17.h5\n",
      " Reading O18 from /home/m240600/OpenMC_CrossSections/lib80x_hdf5/O18.h5\n",
      " Reading C12 from /home/m240600/OpenMC_CrossSections/lib80x_hdf5/C12.h5\n",
      " Reading C13 from /home/m240600/OpenMC_CrossSections/lib80x_hdf5/C13.h5\n",
      " Reading Si28 from /home/m240600/OpenMC_CrossSections/lib80x_hdf5/Si28.h5\n",
      " Reading Si29 from /home/m240600/OpenMC_CrossSections/lib80x_hdf5/Si29.h5\n",
      " Reading Si30 from /home/m240600/OpenMC_CrossSections/lib80x_hdf5/Si30.h5\n",
      " Reading Li6 from /home/m240600/OpenMC_CrossSections/lib80x_hdf5/Li6.h5\n",
      " Reading Li7 from /home/m240600/OpenMC_CrossSections/lib80x_hdf5/Li7.h5\n",
      " Reading H1 from /home/m240600/OpenMC_CrossSections/lib80x_hdf5/H1.h5\n",
      " Reading H2 from /home/m240600/OpenMC_CrossSections/lib80x_hdf5/H2.h5\n",
      " Reading Na23 from /home/m240600/OpenMC_CrossSections/lib80x_hdf5/Na23.h5\n",
      " Reading c_Graphite from\n",
      " /home/m240600/OpenMC_CrossSections/lib80x_hdf5/c_Graphite.h5\n",
      " Minimum neutron data temperature: 250 K\n",
      " Maximum neutron data temperature: 2500 K\n",
      " Reading tallies XML file...\n",
      " Preparing distributed cell instances...\n",
      " Reading plot XML file...\n",
      " Writing summary.h5 file...\n",
      " Maximum neutron transport energy: 20000000 eV for O17\n",
      " Initializing source particles...\n",
      "\n",
      " ====================>     K EIGENVALUE SIMULATION     <====================\n",
      "\n",
      "  Bat./Gen.      k            Average k\n",
      "  =========   ========   ====================\n",
      "        1/1    1.23830\n",
      "        2/1    1.32096\n",
      "        3/1    1.35957\n",
      "        4/1    1.37803\n",
      "        5/1    1.38444\n",
      "        6/1    1.39681\n",
      "        7/1    1.39381\n",
      "        8/1    1.39319\n",
      "        9/1    1.39971\n",
      "       10/1    1.41256\n",
      "       11/1    1.40585\n",
      "       12/1    1.41209\n",
      "       13/1    1.40749\n",
      "       14/1    1.41185\n",
      "       15/1    1.40948\n",
      "       16/1    1.41443\n",
      "       17/1    1.41093    1.41268 +/- 0.00175\n",
      "       18/1    1.40611    1.41049 +/- 0.00241\n",
      "       19/1    1.41566    1.41178 +/- 0.00214\n",
      "       20/1    1.42025    1.41348 +/- 0.00237\n",
      "       21/1    1.40978    1.41286 +/- 0.00203\n",
      "       22/1    1.41483    1.41314 +/- 0.00174\n",
      "       23/1    1.40889    1.41261 +/- 0.00160\n",
      "       24/1    1.40745    1.41204 +/- 0.00152\n",
      "       25/1    1.41597    1.41243 +/- 0.00142\n",
      "       26/1    1.40930    1.41215 +/- 0.00131\n",
      "       27/1    1.41921    1.41273 +/- 0.00133\n",
      "       28/1    1.40543    1.41217 +/- 0.00135\n",
      "       29/1    1.41042    1.41205 +/- 0.00126\n",
      "       30/1    1.41332    1.41213 +/- 0.00117\n",
      "       31/1    1.41074    1.41205 +/- 0.00110\n",
      "       32/1    1.41437    1.41218 +/- 0.00104\n",
      "       33/1    1.41664    1.41243 +/- 0.00101\n",
      "       34/1    1.42190    1.41293 +/- 0.00108\n",
      "       35/1    1.40767    1.41267 +/- 0.00106\n",
      "       36/1    1.41238    1.41265 +/- 0.00101\n",
      "       37/1    1.40839    1.41246 +/- 0.00098\n",
      "       38/1    1.40839    1.41228 +/- 0.00095\n",
      "       39/1    1.41074    1.41222 +/- 0.00091\n",
      "       40/1    1.40486    1.41192 +/- 0.00092\n",
      "       41/1    1.41376    1.41199 +/- 0.00089\n",
      "       42/1    1.41447    1.41209 +/- 0.00086\n",
      "       43/1    1.41034    1.41202 +/- 0.00083\n",
      "       44/1    1.41102    1.41199 +/- 0.00080\n",
      "       45/1    1.41350    1.41204 +/- 0.00078\n",
      "       46/1    1.40615    1.41185 +/- 0.00078\n",
      "       47/1    1.41224    1.41186 +/- 0.00075\n",
      "       48/1    1.41276    1.41189 +/- 0.00073\n",
      "       49/1    1.41430    1.41196 +/- 0.00071\n",
      "       50/1    1.41478    1.41204 +/- 0.00070\n",
      "       51/1    1.41029    1.41199 +/- 0.00068\n",
      "       52/1    1.40637    1.41184 +/- 0.00068\n",
      "       53/1    1.40999    1.41179 +/- 0.00066\n",
      "       54/1    1.40982    1.41174 +/- 0.00065\n",
      "       55/1    1.41394    1.41180 +/- 0.00063\n",
      "       56/1    1.41058    1.41177 +/- 0.00062\n",
      "       57/1    1.41145    1.41176 +/- 0.00060\n",
      "       58/1    1.41606    1.41186 +/- 0.00060\n",
      "       59/1    1.40979    1.41181 +/- 0.00058\n",
      "       60/1    1.41206    1.41182 +/- 0.00057\n",
      "       61/1    1.41789    1.41195 +/- 0.00057\n",
      "       62/1    1.41377    1.41199 +/- 0.00056\n",
      "       63/1    1.41200    1.41199 +/- 0.00055\n",
      "       64/1    1.40942    1.41194 +/- 0.00054\n",
      "       65/1    1.41790    1.41205 +/- 0.00054\n",
      "       66/1    1.42246    1.41226 +/- 0.00057\n",
      "       67/1    1.42004    1.41241 +/- 0.00058\n",
      "       68/1    1.41027    1.41237 +/- 0.00057\n",
      "       69/1    1.41162    1.41235 +/- 0.00056\n",
      "       70/1    1.41031    1.41232 +/- 0.00055\n",
      "       71/1    1.41144    1.41230 +/- 0.00054\n",
      "       72/1    1.40999    1.41226 +/- 0.00053\n",
      "       73/1    1.41226    1.41226 +/- 0.00052\n",
      "       74/1    1.40845    1.41220 +/- 0.00052\n",
      "       75/1    1.41466    1.41224 +/- 0.00051\n",
      "       76/1    1.41619    1.41230 +/- 0.00051\n",
      "       77/1    1.41094    1.41228 +/- 0.00050\n",
      "       78/1    1.41371    1.41230 +/- 0.00049\n",
      "       79/1    1.40491    1.41219 +/- 0.00050\n",
      "       80/1    1.41119    1.41217 +/- 0.00049\n",
      "       81/1    1.41150    1.41216 +/- 0.00048\n",
      "       82/1    1.41625    1.41222 +/- 0.00048\n",
      "       83/1    1.41594    1.41228 +/- 0.00048\n",
      "       84/1    1.41485    1.41231 +/- 0.00047\n",
      "       85/1    1.41026    1.41229 +/- 0.00046\n",
      "       86/1    1.40943    1.41225 +/- 0.00046\n",
      "       87/1    1.41638    1.41230 +/- 0.00046\n",
      "       88/1    1.41366    1.41232 +/- 0.00045\n",
      "       89/1    1.41384    1.41234 +/- 0.00045\n",
      "       90/1    1.41350    1.41236 +/- 0.00044\n",
      "       91/1    1.41308    1.41237 +/- 0.00043\n",
      "       92/1    1.41375    1.41238 +/- 0.00043\n",
      "       93/1    1.41101    1.41237 +/- 0.00042\n",
      "       94/1    1.40813    1.41231 +/- 0.00042\n",
      "       95/1    1.41025    1.41229 +/- 0.00042\n",
      "       96/1    1.41346    1.41230 +/- 0.00041\n",
      "       97/1    1.41006    1.41227 +/- 0.00041\n",
      "       98/1    1.41198    1.41227 +/- 0.00040\n",
      "       99/1    1.41626    1.41232 +/- 0.00040\n",
      "      100/1    1.41927    1.41240 +/- 0.00040\n",
      "      101/1    1.41074    1.41238 +/- 0.00040\n",
      "      102/1    1.41678    1.41243 +/- 0.00040\n",
      "      103/1    1.41188    1.41243 +/- 0.00039\n",
      "      104/1    1.41470    1.41245 +/- 0.00039\n",
      "      105/1    1.40788    1.41240 +/- 0.00039\n",
      "      106/1    1.40435    1.41231 +/- 0.00040\n",
      "      107/1    1.41091    1.41230 +/- 0.00039\n",
      "      108/1    1.40996    1.41227 +/- 0.00039\n",
      "      109/1    1.40933    1.41224 +/- 0.00039\n",
      "      110/1    1.41406    1.41226 +/- 0.00038\n",
      "      111/1    1.41178    1.41225 +/- 0.00038\n",
      "      112/1    1.41430    1.41227 +/- 0.00037\n",
      "      113/1    1.41217    1.41227 +/- 0.00037\n",
      "      114/1    1.40693    1.41222 +/- 0.00037\n",
      "      115/1    1.40747    1.41217 +/- 0.00037\n",
      "      116/1    1.41663    1.41222 +/- 0.00037\n",
      "      117/1    1.41255    1.41222 +/- 0.00037\n",
      "      118/1    1.41647    1.41226 +/- 0.00036\n",
      "      119/1    1.40894    1.41223 +/- 0.00036\n",
      "      120/1    1.41605    1.41227 +/- 0.00036\n",
      "      121/1    1.41021    1.41225 +/- 0.00036\n",
      "      122/1    1.40922    1.41222 +/- 0.00036\n",
      "      123/1    1.40893    1.41219 +/- 0.00035\n",
      "      124/1    1.41534    1.41222 +/- 0.00035\n",
      "      125/1    1.41347    1.41223 +/- 0.00035\n",
      "      126/1    1.41151    1.41222 +/- 0.00035\n",
      "      127/1    1.40900    1.41219 +/- 0.00034\n",
      "      128/1    1.41335    1.41220 +/- 0.00034\n",
      "      129/1    1.41195    1.41220 +/- 0.00034\n",
      "      130/1    1.41419    1.41222 +/- 0.00033\n",
      "      131/1    1.41221    1.41222 +/- 0.00033\n",
      "      132/1    1.41459    1.41224 +/- 0.00033\n",
      "      133/1    1.41579    1.41227 +/- 0.00033\n",
      "      134/1    1.41737    1.41231 +/- 0.00033\n",
      "      135/1    1.40971    1.41229 +/- 0.00033\n",
      "      136/1    1.41100    1.41228 +/- 0.00032\n",
      "      137/1    1.41195    1.41228 +/- 0.00032\n",
      "      138/1    1.41301    1.41228 +/- 0.00032\n",
      "      139/1    1.40905    1.41226 +/- 0.00032\n",
      "      140/1    1.41338    1.41226 +/- 0.00031\n",
      "      141/1    1.41400    1.41228 +/- 0.00031\n",
      "      142/1    1.41616    1.41231 +/- 0.00031\n",
      "      143/1    1.42014    1.41237 +/- 0.00031\n",
      "      144/1    1.41336    1.41238 +/- 0.00031\n",
      "      145/1    1.41016    1.41236 +/- 0.00031\n",
      "      146/1    1.40913    1.41234 +/- 0.00031\n",
      "      147/1    1.40648    1.41229 +/- 0.00031\n",
      "      148/1    1.41139    1.41229 +/- 0.00031\n",
      "      149/1    1.41087    1.41227 +/- 0.00031\n",
      "      150/1    1.41796    1.41232 +/- 0.00031\n",
      "      151/1    1.41325    1.41232 +/- 0.00030\n",
      "      152/1    1.41512    1.41234 +/- 0.00030\n",
      "      153/1    1.41598    1.41237 +/- 0.00030\n",
      "      154/1    1.40785    1.41234 +/- 0.00030\n",
      "      155/1    1.40676    1.41230 +/- 0.00030\n",
      "      156/1    1.41551    1.41232 +/- 0.00030\n",
      "      157/1    1.41412    1.41233 +/- 0.00030\n",
      "      158/1    1.40418    1.41228 +/- 0.00030\n",
      "      159/1    1.41092    1.41227 +/- 0.00030\n",
      "      160/1    1.41630    1.41229 +/- 0.00030\n",
      "      161/1    1.41131    1.41229 +/- 0.00030\n",
      "      162/1    1.41529    1.41231 +/- 0.00030\n",
      "      163/1    1.40810    1.41228 +/- 0.00030\n",
      "      164/1    1.41253    1.41228 +/- 0.00029\n",
      "      165/1    1.41338    1.41229 +/- 0.00029\n",
      "      166/1    1.41955    1.41234 +/- 0.00029\n",
      "      167/1    1.41588    1.41236 +/- 0.00029\n",
      "      168/1    1.41255    1.41236 +/- 0.00029\n",
      "      169/1    1.41033    1.41235 +/- 0.00029\n",
      "      170/1    1.41123    1.41234 +/- 0.00029\n",
      "      171/1    1.41143    1.41234 +/- 0.00029\n",
      "      172/1    1.40424    1.41228 +/- 0.00029\n",
      "      173/1    1.41602    1.41231 +/- 0.00029\n",
      "      174/1    1.40875    1.41229 +/- 0.00029\n",
      "      175/1    1.40796    1.41226 +/- 0.00029\n",
      "      176/1    1.40792    1.41223 +/- 0.00029\n",
      "      177/1    1.41056    1.41222 +/- 0.00028\n",
      "      178/1    1.40927    1.41220 +/- 0.00028\n",
      "      179/1    1.40818    1.41218 +/- 0.00028\n",
      "      180/1    1.41195    1.41218 +/- 0.00028\n",
      "      181/1    1.41578    1.41220 +/- 0.00028\n",
      "      182/1    1.42064    1.41225 +/- 0.00028\n",
      "      183/1    1.40785    1.41222 +/- 0.00028\n",
      "      184/1    1.40879    1.41220 +/- 0.00028\n",
      "      185/1    1.41058    1.41219 +/- 0.00028\n",
      "      186/1    1.40923    1.41218 +/- 0.00028\n",
      "      187/1    1.41253    1.41218 +/- 0.00028\n",
      "      188/1    1.40711    1.41215 +/- 0.00028\n",
      "      189/1    1.40624    1.41211 +/- 0.00028\n",
      "      190/1    1.40655    1.41208 +/- 0.00028\n",
      "      191/1    1.41447    1.41210 +/- 0.00028\n",
      "      192/1    1.41019    1.41209 +/- 0.00027\n",
      "      193/1    1.40694    1.41206 +/- 0.00027\n",
      "      194/1    1.41068    1.41205 +/- 0.00027\n",
      "      195/1    1.40881    1.41203 +/- 0.00027\n",
      "      196/1    1.41176    1.41203 +/- 0.00027\n",
      "      197/1    1.40606    1.41200 +/- 0.00027\n",
      "      198/1    1.41055    1.41199 +/- 0.00027\n",
      "      199/1    1.40981    1.41198 +/- 0.00027\n",
      "      200/1    1.41059    1.41197 +/- 0.00027\n",
      "      201/1    1.40637    1.41194 +/- 0.00027\n",
      "      202/1    1.41509    1.41196 +/- 0.00027\n",
      "      203/1    1.40657    1.41193 +/- 0.00027\n",
      "      204/1    1.41272    1.41193 +/- 0.00027\n",
      "      205/1    1.40540    1.41190 +/- 0.00027\n",
      "      206/1    1.41393    1.41191 +/- 0.00027\n",
      "      207/1    1.41785    1.41194 +/- 0.00027\n",
      "      208/1    1.41371    1.41195 +/- 0.00026\n",
      "      209/1    1.41745    1.41198 +/- 0.00026\n",
      "      210/1    1.41336    1.41198 +/- 0.00026\n",
      "      211/1    1.41254    1.41199 +/- 0.00026\n",
      "      212/1    1.41329    1.41199 +/- 0.00026\n",
      "      213/1    1.41029    1.41198 +/- 0.00026\n",
      "      214/1    1.40963    1.41197 +/- 0.00026\n",
      "      215/1    1.41396    1.41198 +/- 0.00026\n",
      "      216/1    1.41177    1.41198 +/- 0.00026\n",
      "      217/1    1.41369    1.41199 +/- 0.00025\n",
      "      218/1    1.41022    1.41198 +/- 0.00025\n",
      "      219/1    1.41756    1.41201 +/- 0.00025\n",
      "      220/1    1.40795    1.41199 +/- 0.00025\n",
      "      221/1    1.40836    1.41197 +/- 0.00025\n",
      "      222/1    1.41254    1.41197 +/- 0.00025\n",
      "      223/1    1.41229    1.41198 +/- 0.00025\n",
      "      224/1    1.40611    1.41195 +/- 0.00025\n",
      "      225/1    1.40819    1.41193 +/- 0.00025\n",
      "      226/1    1.41310    1.41194 +/- 0.00025\n",
      "      227/1    1.41312    1.41194 +/- 0.00025\n",
      "      228/1    1.40100    1.41189 +/- 0.00025\n",
      "      229/1    1.41269    1.41189 +/- 0.00025\n",
      "      230/1    1.40407    1.41186 +/- 0.00025\n",
      "      231/1    1.40846    1.41184 +/- 0.00025\n",
      "      232/1    1.40993    1.41183 +/- 0.00025\n",
      "      233/1    1.41247    1.41183 +/- 0.00025\n",
      "      234/1    1.40527    1.41181 +/- 0.00025\n",
      "      235/1    1.41115    1.41180 +/- 0.00025\n",
      "      236/1    1.41338    1.41181 +/- 0.00025\n",
      "      237/1    1.41503    1.41182 +/- 0.00025\n",
      "      238/1    1.40342    1.41179 +/- 0.00025\n",
      "      239/1    1.41628    1.41181 +/- 0.00025\n",
      "      240/1    1.41619    1.41183 +/- 0.00025\n",
      "      241/1    1.40908    1.41181 +/- 0.00025\n",
      "      242/1    1.41683    1.41184 +/- 0.00025\n",
      "      243/1    1.41782    1.41186 +/- 0.00025\n",
      "      244/1    1.40893    1.41185 +/- 0.00025\n",
      "      245/1    1.41329    1.41186 +/- 0.00025\n",
      "      246/1    1.41502    1.41187 +/- 0.00025\n",
      "      247/1    1.41143    1.41187 +/- 0.00024\n",
      "      248/1    1.41773    1.41189 +/- 0.00024\n",
      "      249/1    1.40966    1.41188 +/- 0.00024\n",
      "      250/1    1.41279    1.41189 +/- 0.00024\n",
      "      251/1    1.40692    1.41187 +/- 0.00024\n",
      "      252/1    1.41052    1.41186 +/- 0.00024\n",
      "      253/1    1.40752    1.41184 +/- 0.00024\n",
      "      254/1    1.41189    1.41184 +/- 0.00024\n",
      "      255/1    1.40849    1.41183 +/- 0.00024\n",
      "      256/1    1.41788    1.41185 +/- 0.00024\n",
      "      257/1    1.41395    1.41186 +/- 0.00024\n",
      "      258/1    1.39851    1.41181 +/- 0.00024\n",
      "      259/1    1.41768    1.41183 +/- 0.00024\n",
      "      260/1    1.41173    1.41183 +/- 0.00024\n",
      "      261/1    1.41345    1.41184 +/- 0.00024\n",
      "      262/1    1.40592    1.41181 +/- 0.00024\n",
      "      263/1    1.41659    1.41183 +/- 0.00024\n",
      "      264/1    1.41812    1.41186 +/- 0.00024\n",
      "      265/1    1.41000    1.41185 +/- 0.00024\n",
      "      266/1    1.40994    1.41184 +/- 0.00024\n",
      "      267/1    1.41377    1.41185 +/- 0.00024\n",
      "      268/1    1.41021    1.41184 +/- 0.00024\n",
      "      269/1    1.40469    1.41182 +/- 0.00024\n",
      "      270/1    1.40795    1.41180 +/- 0.00024\n",
      "      271/1    1.41239    1.41180 +/- 0.00024\n",
      "      272/1    1.40986    1.41180 +/- 0.00024\n",
      "      273/1    1.40554    1.41177 +/- 0.00024\n",
      "      274/1    1.40906    1.41176 +/- 0.00024\n",
      "      275/1    1.40931    1.41175 +/- 0.00024\n",
      "      276/1    1.41187    1.41175 +/- 0.00024\n",
      "      277/1    1.40919    1.41174 +/- 0.00024\n"
     ]
    }
   ],
   "source": [
    "openmc.run()"
   ]
  },
  {
   "cell_type": "code",
   "execution_count": null,
   "id": "61d7f291-be6e-44f2-9df6-df7d0da7cd3c",
   "metadata": {},
   "outputs": [],
   "source": [
    "sp = openmc.StatePoint('statepoint.100.h5')"
   ]
  },
  {
   "cell_type": "code",
   "execution_count": null,
   "id": "dff63ef5-4fdb-4ec9-825d-2d8d00335bac",
   "metadata": {},
   "outputs": [],
   "source": [
    "therm_abs_rate = sp.get_tally(name='therm. abs. rate')\n",
    "fuel_therm_abs_rate = sp.get_tally(name='fuel therm. abs.rate')\n",
    "therm_util = fuel_therm_abs_rate /therm_abs_rate\n",
    "therm_util.get_pandas_dataframe()"
   ]
  },
  {
   "cell_type": "code",
   "execution_count": null,
   "id": "0c8cecd4-0cbd-4c91-be13-5b83f1290c46",
   "metadata": {},
   "outputs": [],
   "source": [
    "fuel.volume = pi*r_fuel**2*H*(37*69) #cm^3 for 37 fuel pins and 69 FA"
   ]
  },
  {
   "cell_type": "code",
   "execution_count": null,
   "id": "a81a3467-a406-44cb-a71a-4d2477e8d4bd",
   "metadata": {},
   "outputs": [],
   "source": [
    "model=openmc.model.Model(geometry,materials,settings)\n",
    "operator = openmc.deplete.CoupledOperator(model,\"chain_endfb80_pwr.xml\")\n",
    "\n",
    "power_density = 35 #MW/kg\n",
    "\n",
    "days = 3600*24; #number of seconds in a day\n",
    "\n",
    "time_steps = [0.1*days,0.1*days, 0.1*days, 0.1*days, 0.1*days,\n",
    "              0.25*days, 0.25*days, 0.25*days, 0.25*days, 0.25*days, 0.25*days,\n",
    "              0.5*days, 0.5*days, 0.5*days,0.5*days,\n",
    "              0.75*days, 0.75*days, 0.75*days, 0.75*days,\n",
    "              1*days, 1*days, 1*days, 1*days, 1*days, 1*days, 1*days, 1*days, 1*days, 1*days, 1*days, 1*days, 1*days, 1*days, 1*days, 1*days,\n",
    "              1.5*days, 1.5*days, 1.5*days, 1.5*days, 1.5*days, 1.5*days, 1.5*days, 1.5*days, 1.5*days, 1.5*days,\n",
    "              2*days, 2*days, 2*days, 2*days, 2*days, 2*days, 2*days, 2*days, 2*days, 2*days, 2*days,\n",
    "              5*days, 5*days, 5*days, 5*days,5*days, 5*days, 5*days, 5*days, 5*days, 5*days,5*days, 5*days,\n",
    "              10*days, 10*days, 10*days, 10*days, 10*days, 10*days, 10*days, 10*days, 10*days, 10*days, 10*days, 10*days, 10*days, 10*days,\n",
    "              15*days, 15*days, 15*days, 15*days, 15*days, 15*days, 15*days, 15*days,\n",
    "              20*days, 20*days, 20*days, 20*days, 20*days, 20*days, 20*days, 20*days, 20*days, 20*days, 20*days, 20*days,\n",
    "              30*days, 30*days, 30*days, 30*days, 30*days, 30*days, 30*days, 30*days, 30*days, 30*days, 30*days, 30*days,\n",
    "              30*days, 30*days, 30*days, 30*days, 30*days, 30*days, 30*days, 30*days, 30*days, 30*days, 30*days, 30*days,\n",
    "              30*days, 30*days, 30*days, 30*days, 30*days, 30*days, 30*days, 30*days, 30*days, 30*days, 30*days, 30*days,\n",
    "              40*days, 40*days, 40*days, 40*days, 40*days, 40*days, 40*days, 40*days, 40*days, 40*days,\n",
    "              50*days, 50*days, 50*days, 50*days, 50*days, 50*days, 50*days, 50*days, 50*days, 50*days, 50*days, 50*days,\n",
    "              60*days, 60*days, 60*days, 60*days, 60*days, 60*days, 60*days, 60*days, 60*days, 60*days, 60*days, 60*days,\n",
    "              60*days, 60*days, 60*days, 60*days, 60*days, 60*days, 60*days, 60*days, 60*days, 60*days, 60*days, 60*days,\n",
    "              60*days, 60*days, 60*days, 60*days, 60*days, 60*days, 60*days, 60*days, 60*days, 60*days, 60*days, 60*days,\n",
    "              60*days, 60*days, 60*days, 60*days]\n",
    "\n",
    "\n",
    "cemc = openmc.deplete.CECMIntegrator(operator,time_steps,power_density = power_density,timestep_units='s')\n"
   ]
  },
  {
   "cell_type": "code",
   "execution_count": null,
   "id": "478095d6-c753-4af0-b17b-3f45fe403b2c",
   "metadata": {},
   "outputs": [],
   "source": [
    "cemc.integrate()"
   ]
  },
  {
   "cell_type": "code",
   "execution_count": null,
   "id": "11bb26d5-e55f-47d7-8c7d-a98fb2f24886",
   "metadata": {},
   "outputs": [],
   "source": [
    "results = openmc.deplete.Results(\"./depletion_results.h5\")"
   ]
  },
  {
   "cell_type": "code",
   "execution_count": null,
   "id": "f65d31f9-bead-4039-b4d3-fd9a160c2581",
   "metadata": {},
   "outputs": [],
   "source": [
    "time, k =results.get_keff()"
   ]
  },
  {
   "cell_type": "code",
   "execution_count": null,
   "id": "465b0786-2a86-4b4e-840d-82ec6b0be3bf",
   "metadata": {},
   "outputs": [],
   "source": [
    "time /=(24*3600*1301.5)/45.55 #converts to MWd/kgHM"
   ]
  },
  {
   "cell_type": "code",
   "execution_count": null,
   "id": "b670fc63-6edc-4328-9ed6-b476c1dc7f18",
   "metadata": {},
   "outputs": [],
   "source": [
    "eff=[1]*201"
   ]
  },
  {
   "cell_type": "code",
   "execution_count": null,
   "id": "21938e87-a42f-420f-aa43-c3e304c5578f",
   "metadata": {},
   "outputs": [],
   "source": [
    "def find_roots(x,y):\n",
    "    s = np.abs(np.diff(np.sign(y))).astype(bool)\n",
    "    return x[:-1][s] + np.diff(x)[s]/(np.abs(y[1:][s]/y[:-1][s])+1)\n",
    "\n",
    "z = find_roots(time,eff-k[:,0])\n",
    "z"
   ]
  },
  {
   "cell_type": "code",
   "execution_count": null,
   "id": "4bad4b0e-dcc1-4680-8a23-bdfe0f13aa9d",
   "metadata": {},
   "outputs": [],
   "source": [
    "pyplot.plot(time, k[:, 0],color='green',marker='o',markersize=3)\n",
    "eff=[1]*201\n",
    "pyplot.plot(time,eff,color='red')\n",
    "pyplot.xlabel(\"MWd/kg\")\n",
    "pyplot.ylabel(\"$k_{eff}\\pm \\sigma$\");\n",
    "\n",
    "pyplot.show()"
   ]
  }
 ],
 "metadata": {
  "kernelspec": {
   "display_name": "Python 3 (ipykernel)",
   "language": "python",
   "name": "python3"
  },
  "language_info": {
   "codemirror_mode": {
    "name": "ipython",
    "version": 3
   },
   "file_extension": ".py",
   "mimetype": "text/x-python",
   "name": "python",
   "nbconvert_exporter": "python",
   "pygments_lexer": "ipython3",
   "version": "3.11.5"
  }
 },
 "nbformat": 4,
 "nbformat_minor": 5
}
