{
 "cells": [
  {
   "cell_type": "code",
   "execution_count": 1,
   "id": "d222d07d-7e8f-4831-bcc2-5b47e6bc32f8",
   "metadata": {},
   "outputs": [],
   "source": [
    "%matplotlib inline\n",
    "from math import pi, sin, cos\n",
    "import numpy as np\n",
    "import openmc\n",
    "import openmc.deplete\n",
    "from matplotlib import pyplot"
   ]
  },
  {
   "cell_type": "code",
   "execution_count": 2,
   "id": "b5d018ce-2e32-4e8c-86b0-cfaa7ee58ae5",
   "metadata": {},
   "outputs": [
    {
     "name": "stderr",
     "output_type": "stream",
     "text": [
      "/home/m240600/.conda/envs/openmc-env/lib/python3.11/site-packages/openmc/material.py:740: UserWarning: A uranium enrichment of 19.75 was given for Material ID=\"1\". OpenMC assumes the U234/U235 mass ratio is constant at 0.008, which is only valid at low enrichments. Consider setting the isotopic composition manually for enrichments over 5%.\n",
      "  warnings.warn(msg)\n"
     ]
    }
   ],
   "source": [
    "fuel = openmc.Material(name='uo2')\n",
    "fuel.add_element('U',1.0, enrichment=19.75)\n",
    "fuel.add_element('O',2.0)\n",
    "fuel.set_density=(\"g/cc\",10.5)\n",
    "fuel.depletable = True\n",
    "\n",
    "clad_in = openmc.Material(name='graphite')\n",
    "clad_in.add_element('C',1.0)\n",
    "clad_in.set_density=(\"g/cc\",1.5)\n",
    "clad_in.depletable = False\n",
    "\n",
    "clad_out = openmc.Material(name='SiC')\n",
    "clad_out.add_element('C',1.0)\n",
    "clad_out.add_element('Si',1.0)\n",
    "clad_out.set_density=(\"g/cc\",2.58)\n",
    "clad_out.depletable = False\n",
    "\n",
    "coolant = openmc.Material(name='LiOH+NaOH')\n",
    "coolant.add_element('Li',.3, enrichment=99.995, enrichment_target='Li7',enrichment_type='ao')\n",
    "coolant.add_element('H',1.0)\n",
    "coolant.add_element('O',1.0)\n",
    "coolant.add_element('Na',.7)\n",
    "coolant.set_density('g/cc', 1.670)\n",
    "coolant.depletable = False\n",
    "\n",
    "moderator = openmc.Material(name='graphite')\n",
    "moderator.add_element('C',1.0)\n",
    "moderator.set_density=(\"g/cc\",1.5)\n",
    "moderator.add_s_alpha_beta('c_Graphite')\n",
    "moderator.depletable = False\n",
    "\n",
    "e_moderator = openmc.Material(name='graphite')\n",
    "e_moderator.add_element('C',1.0)\n",
    "e_moderator.set_density=(\"g/cc\",1.5)\n",
    "e_moderator.add_s_alpha_beta('c_Graphite')\n",
    "e_moderator.depletable = False\n",
    "\n",
    "materials = openmc.Materials([fuel,clad_in,clad_out,coolant,moderator])\n",
    "materials.export_to_xml()"
   ]
  },
  {
   "cell_type": "code",
   "execution_count": 3,
   "id": "4b54f5de-ccdf-4c6f-8a9d-65a04f321c7e",
   "metadata": {},
   "outputs": [],
   "source": [
    "r_fuel   = 0.35\n",
    "r_clad_1 = 0.5\n",
    "r_clad_2 = 0.6\n",
    "\n",
    "r_pt_in  = 7.5 #inner radius of the graphite pressure tube\n",
    "r_pt_out = 8.5 #outer radius of the graphite pressure tube\n",
    "\n",
    "lattice_pitch = 18\n",
    "\n",
    "H=163.345 #core height in cm\n",
    "D=H #core diameter in cm\n",
    "\n",
    "ring_radii = np.array([0.0, 2.1, 4.2, 6.2])\n",
    "\n",
    "surf_fuel = openmc.model.RightCircularCylinder((0,0,-81.6725),163.345,r_fuel)\n",
    "\n",
    "surf_clad_1 = openmc.model.RightCircularCylinder((0,0,-81.6725),163.345,r_clad_1)\n",
    "surf_clad_2 = openmc.model.RightCircularCylinder((0,0,-81.6725),163.345,r_clad_2)\n",
    "\n",
    "surf_pt_1 = openmc.model.RightCircularCylinder((0,0,-81.6725),163.345,r_pt_in)\n",
    "surf_pt_2 = openmc.model.RightCircularCylinder((0,0,-81.6725),163.345,r_pt_out)"
   ]
  },
  {
   "cell_type": "code",
   "execution_count": 4,
   "id": "e1f7589a-6b72-4e54-a37f-7111795b4ccc",
   "metadata": {},
   "outputs": [],
   "source": [
    "radial_surf = [openmc.model.RightCircularCylinder((0,0,-81.6725),163.345,r) for r in\n",
    "               (ring_radii[:-1] + ring_radii[1:])/2]\n",
    "\n",
    "coolant_cells = []\n",
    "for i in range(ring_radii.size):\n",
    "    if i == 0:\n",
    "        coolant_region = -radial_surf[i]\n",
    "    elif i == ring_radii.size - 1:\n",
    "        coolant_region = +radial_surf[i-1] & -surf_pt_1\n",
    "    else:\n",
    "        coolant_region = +radial_surf[i-1] & -radial_surf[i]\n",
    "\n",
    "    coolant_cells.append(openmc.Cell(fill=coolant, region=coolant_region))"
   ]
  },
  {
   "cell_type": "code",
   "execution_count": 5,
   "id": "0cd947f1-69e7-434f-a736-9fd98112be54",
   "metadata": {},
   "outputs": [
    {
     "data": {
      "text/plain": [
       "<matplotlib.image.AxesImage at 0x7f55e491a010>"
      ]
     },
     "execution_count": 5,
     "metadata": {},
     "output_type": "execute_result"
    },
    {
     "data": {
      "image/png": "[encoded data removed]",
      "text/plain": [
       "<Figure size 258.065x259.74 with 1 Axes>"
      ]
     },
     "metadata": {},
     "output_type": "display_data"
    }
   ],
   "source": [
    "plot_args = {'width':(lattice_pitch,lattice_pitch)}\n",
    "bundle_universe = openmc.Universe(cells=coolant_cells)\n",
    "bundle_universe.plot(**plot_args)"
   ]
  },
  {
   "cell_type": "code",
   "execution_count": 6,
   "id": "6749981f-154f-46be-8659-e8804db4ac64",
   "metadata": {},
   "outputs": [],
   "source": [
    "coolant.temperature = 973\n",
    "\n",
    "fuel_cell = openmc.Cell(fill=fuel, region=-surf_fuel)\n",
    "fuel_cell.temperature = 1473\n",
    "\n",
    "clad_cell_1 = openmc.Cell(fill=clad_in, region=+surf_fuel & -surf_clad_1)\n",
    "clad_cell_1.temperature = 1273\n",
    "\n",
    "clad_cell_2 = openmc.Cell(fill=clad_out, region=+surf_clad_1 & -surf_clad_2)\n",
    "clad_cell_2.temperature = 973\n",
    "\n",
    "pin_universe = openmc.Universe(cells=(fuel_cell,clad_cell_1,clad_cell_2))"
   ]
  },
  {
   "cell_type": "code",
   "execution_count": 7,
   "id": "bd5e349b-4a12-4be2-ba1c-e3b108cc8ede",
   "metadata": {},
   "outputs": [
    {
     "data": {
      "text/plain": [
       "<matplotlib.image.AxesImage at 0x7f55edfe4790>"
      ]
     },
     "execution_count": 7,
     "metadata": {},
     "output_type": "execute_result"
    },
    {
     "data": {
      "image/png": "[encoded data removed]",
      "text/plain": [
       "<Figure size 258.065x259.74 with 1 Axes>"
      ]
     },
     "metadata": {},
     "output_type": "display_data"
    }
   ],
   "source": [
    "pin_universe.plot(**{'width':(2*r_clad_2,2*r_clad_2)})"
   ]
  },
  {
   "cell_type": "code",
   "execution_count": 8,
   "id": "5f936801-db5a-4b7c-8236-900c94afb214",
   "metadata": {},
   "outputs": [],
   "source": [
    "num_pins = [1, 6, 12, 18]\n",
    "angles = [0, 0, 15, 0]\n",
    "\n",
    "for i, (r, n, a) in enumerate(zip(ring_radii, num_pins, angles)):\n",
    "    for j in range(n):\n",
    "        theta = (a + j/n*360)*pi/180.\n",
    "        x = r*cos(theta)\n",
    "        y = r*sin(theta)\n",
    "\n",
    "        pin_boundary = openmc.ZCylinder(x0=x,y0=y,r=r_clad_2)\n",
    "        coolant_cells[i].region &= +pin_boundary\n",
    "\n",
    "        pin = openmc.Cell(fill=pin_universe, region=-pin_boundary)\n",
    "        pin.translation = (x, y, 0)\n",
    "        pin.id = (i + 1)*100 + j\n",
    "        bundle_universe.add_cell(pin)"
   ]
  },
  {
   "cell_type": "code",
   "execution_count": 9,
   "id": "b010f535-2e30-41a5-8363-4b4fcc79b038",
   "metadata": {},
   "outputs": [
    {
     "data": {
      "text/plain": [
       "<matplotlib.image.AxesImage at 0x7f55e4846f10>"
      ]
     },
     "execution_count": 9,
     "metadata": {},
     "output_type": "execute_result"
    },
    {
     "data": {
      "image/png": "[encoded data removed]",
      "text/plain": [
       "<Figure size 258.065x259.74 with 1 Axes>"
      ]
     },
     "metadata": {},
     "output_type": "display_data"
    }
   ],
   "source": [
    "bundle_universe.plot(**plot_args)"
   ]
  },
  {
   "cell_type": "code",
   "execution_count": 10,
   "id": "cd3bed0b-ab96-4e67-985a-e3ce922f4794",
   "metadata": {},
   "outputs": [],
   "source": [
    "lattice_boundary = openmc.model.RectangularParallelepiped(-lattice_pitch/2,lattice_pitch/2,-lattice_pitch/2,lattice_pitch/2,-81.6726,81.6726)\n",
    "\n",
    "pt=openmc.Cell(fill=clad_in, region= +surf_pt_1 & -surf_pt_2)\n",
    "pt.temperature = 973\n",
    "\n",
    "bundle_universe.add_cell(pt)\n",
    "moderator_cell=openmc.Cell(fill=moderator, region=-lattice_boundary & +surf_pt_2)\n",
    "moderator_cell.temperature = 973\n",
    "\n",
    "bundle_universe.add_cell(moderator_cell)"
   ]
  },
  {
   "cell_type": "code",
   "execution_count": 11,
   "id": "c413764d-fd86-4d61-9393-f2452314802b",
   "metadata": {},
   "outputs": [
    {
     "data": {
      "text/plain": [
       "<matplotlib.image.AxesImage at 0x7f55dc6c1390>"
      ]
     },
     "execution_count": 11,
     "metadata": {},
     "output_type": "execute_result"
    },
    {
     "data": {
      "image/png": "[encoded data removed]",
      "text/plain": [
       "<Figure size 258.065x259.74 with 1 Axes>"
      ]
     },
     "metadata": {},
     "output_type": "display_data"
    }
   ],
   "source": [
    "bdu=bundle_universe\n",
    "bdu.plot(**plot_args)"
   ]
  },
  {
   "cell_type": "code",
   "execution_count": 12,
   "id": "bec70538-4d3e-4dc4-a5fe-19fe7e7cf958",
   "metadata": {},
   "outputs": [],
   "source": [
    "external_moderator=openmc.Cell(fill=e_moderator, region=-lattice_boundary)\n",
    "emu = openmc.Universe(cells=[external_moderator])"
   ]
  },
  {
   "cell_type": "code",
   "execution_count": 13,
   "id": "0097bdab-cd1d-4e1d-99d2-240884ac70a1",
   "metadata": {},
   "outputs": [],
   "source": [
    "core_body = openmc.model.RightCircularCylinder((0,0,-H/2),H,D/2, boundary_type='reflective')\n",
    "\n",
    "N_assy = 9\n",
    "CL = openmc.RectLattice(); #Core Lattice\n",
    "CL.center = (0.,0.)\n",
    "CL.dimension = [N_assy,N_assy];\n",
    "CL.lower_left = [-N_assy/2.*lattice_pitch,-N_assy/2.*lattice_pitch]\n",
    "CL.pitch= [lattice_pitch,lattice_pitch]\n",
    "CL.universes = [\n",
    "    [emu,emu,bdu,bdu,bdu,bdu,bdu,emu,emu],\n",
    "    [emu,bdu,bdu,bdu,bdu,bdu,bdu,bdu,emu],\n",
    "    [bdu,bdu,bdu,bdu,bdu,bdu,bdu,bdu,bdu],\n",
    "    [bdu,bdu,bdu,bdu,bdu,bdu,bdu,bdu,bdu],\n",
    "    [bdu,bdu,bdu,bdu,bdu,bdu,bdu,bdu,bdu],\n",
    "    [bdu,bdu,bdu,bdu,bdu,bdu,bdu,bdu,bdu],\n",
    "    [bdu,bdu,bdu,bdu,bdu,bdu,bdu,bdu,bdu],\n",
    "    [emu,bdu,bdu,bdu,bdu,bdu,bdu,bdu,emu],    \n",
    "    [emu,emu,bdu,bdu,bdu,bdu,bdu,emu,emu]\n",
    "]\n",
    "CL.outer=emu\n",
    "\n",
    "C = openmc.Universe();\n",
    "core_cell = openmc.Cell();\n",
    "core_cell.region = -core_body;\n",
    "core_cell.fill = CL;\n",
    "C.add_cell(core_cell);"
   ]
  },
  {
   "cell_type": "code",
   "execution_count": 14,
   "id": "a2d91042-26ea-471d-98b9-e077550b4bcb",
   "metadata": {},
   "outputs": [],
   "source": [
    "geometry = openmc.Geometry(C)\n",
    "geometry.export_to_xml()\n",
    "\n",
    "materials=openmc.Materials(geometry.get_all_materials().values())\n",
    "materials.export_to_xml()"
   ]
  },
  {
   "cell_type": "code",
   "execution_count": 15,
   "id": "d55a5d5f-dc6c-4461-8f5e-31a5ae5bad49",
   "metadata": {},
   "outputs": [
    {
     "data": {
      "image/png": "[encoded data removed]",
      "text/plain": [
       "<IPython.core.display.Image object>"
      ]
     },
     "execution_count": 15,
     "metadata": {},
     "output_type": "execute_result"
    }
   ],
   "source": [
    "plot = openmc.Plot.from_geometry(geometry)\n",
    "#plot.basis='yz'\n",
    "#plot.origin=(7,0,0)\n",
    "plot.color_by = 'material'\n",
    "plot.colors = {\n",
    "    fuel: 'yellow',\n",
    "    clad_in: 'grey',\n",
    "    clad_out: 'white',\n",
    "    coolant: 'blue',\n",
    "    moderator: 'green',\n",
    "    e_moderator: 'green',\n",
    "}\n",
    "plot.to_ipython_image()"
   ]
  },
  {
   "cell_type": "code",
   "execution_count": 16,
   "id": "60207a52-6388-4e35-8747-c7ea07461fe8",
   "metadata": {},
   "outputs": [],
   "source": [
    "settings = openmc.Settings()\n",
    "settings.particles = 1000\n",
    "settings.batches = 200\n",
    "settings.inactive = 15\n",
    "settings.temperature={'method':'interpolation','range':(250, 2500)}\n",
    "box = openmc.stats.Box(lower_left = (-D/2,-D/2,-H/2),\n",
    "                      upper_right = (D/2,D/2,H/2),\n",
    "                      only_fissionable=True);\n",
    "src = openmc.Source(space=box);\n",
    "settings.source = src\n",
    "settings.export_to_xml()"
   ]
  },
  {
   "cell_type": "code",
   "execution_count": 17,
   "id": "3b1552af-b1a8-44ab-a437-3336ef7bb462",
   "metadata": {},
   "outputs": [],
   "source": [
    "fuel_tally = openmc.Tally()\n",
    "fuel_tally.filters = [openmc.DistribcellFilter(fuel_cell)]"
   ]
  },
  {
   "cell_type": "code",
   "execution_count": 18,
   "id": "a3afca27-22ad-4e67-9d5e-6f6f86c3a91d",
   "metadata": {},
   "outputs": [
    {
     "name": "stdout",
     "output_type": "stream",
     "text": [
      "                                %%%%%%%%%%%%%%%\n",
      "                           %%%%%%%%%%%%%%%%%%%%%%%%\n",
      "                        %%%%%%%%%%%%%%%%%%%%%%%%%%%%%%\n",
      "                      %%%%%%%%%%%%%%%%%%%%%%%%%%%%%%%%%%\n",
      "                    %%%%%%%%%%%%%%%%%%%%%%%%%%%%%%%%%%%%%%\n",
      "                   %%%%%%%%%%%%%%%%%%%%%%%%%%%%%%%%%%%%%%%%\n",
      "                                    %%%%%%%%%%%%%%%%%%%%%%%%\n",
      "                                     %%%%%%%%%%%%%%%%%%%%%%%%\n",
      "                 ###############      %%%%%%%%%%%%%%%%%%%%%%%%\n",
      "                ##################     %%%%%%%%%%%%%%%%%%%%%%%\n",
      "                ###################     %%%%%%%%%%%%%%%%%%%%%%%\n",
      "                ####################     %%%%%%%%%%%%%%%%%%%%%%\n",
      "                #####################     %%%%%%%%%%%%%%%%%%%%%\n",
      "                ######################     %%%%%%%%%%%%%%%%%%%%\n",
      "                #######################     %%%%%%%%%%%%%%%%%%\n",
      "                 #######################     %%%%%%%%%%%%%%%%%\n",
      "                 ######################     %%%%%%%%%%%%%%%%%\n",
      "                  ####################     %%%%%%%%%%%%%%%%%\n",
      "                    #################     %%%%%%%%%%%%%%%%%\n",
      "                     ###############     %%%%%%%%%%%%%%%%\n",
      "                       ############     %%%%%%%%%%%%%%%\n",
      "                          ########     %%%%%%%%%%%%%%\n",
      "                                      %%%%%%%%%%%\n",
      "\n",
      "                 | The OpenMC Monte Carlo Code\n",
      "       Copyright | 2011-2023 MIT, UChicago Argonne LLC, and contributors\n",
      "         License | https://docs.openmc.org/en/latest/license.html\n",
      "         Version | 0.13.3\n",
      "        Git SHA1 | 50e39a4e20dc9e0f3d7ccf07333f6a5e6c797c8c\n",
      "       Date/Time | 2023-10-11 11:16:04\n",
      "  OpenMP Threads | 192\n",
      "\n",
      " Reading settings XML file...\n",
      " Reading cross sections XML file...\n",
      " Reading materials XML file...\n",
      " Reading geometry XML file...\n",
      " Reading U234 from /home/m240600/OpenMC_CrossSections/lib80x_hdf5/U234.h5\n",
      " Reading U235 from /home/m240600/OpenMC_CrossSections/lib80x_hdf5/U235.h5\n",
      " Reading U238 from /home/m240600/OpenMC_CrossSections/lib80x_hdf5/U238.h5\n",
      " Reading U236 from /home/m240600/OpenMC_CrossSections/lib80x_hdf5/U236.h5\n",
      " Reading O16 from /home/m240600/OpenMC_CrossSections/lib80x_hdf5/O16.h5\n",
      " Reading O17 from /home/m240600/OpenMC_CrossSections/lib80x_hdf5/O17.h5\n",
      " Reading O18 from /home/m240600/OpenMC_CrossSections/lib80x_hdf5/O18.h5\n",
      " Reading C12 from /home/m240600/OpenMC_CrossSections/lib80x_hdf5/C12.h5\n",
      " Reading C13 from /home/m240600/OpenMC_CrossSections/lib80x_hdf5/C13.h5\n",
      " Reading Si28 from /home/m240600/OpenMC_CrossSections/lib80x_hdf5/Si28.h5\n",
      " Reading Si29 from /home/m240600/OpenMC_CrossSections/lib80x_hdf5/Si29.h5\n",
      " Reading Si30 from /home/m240600/OpenMC_CrossSections/lib80x_hdf5/Si30.h5\n",
      " Reading Li6 from /home/m240600/OpenMC_CrossSections/lib80x_hdf5/Li6.h5\n",
      " Reading Li7 from /home/m240600/OpenMC_CrossSections/lib80x_hdf5/Li7.h5\n",
      " Reading H1 from /home/m240600/OpenMC_CrossSections/lib80x_hdf5/H1.h5\n",
      " Reading H2 from /home/m240600/OpenMC_CrossSections/lib80x_hdf5/H2.h5\n",
      " Reading Na23 from /home/m240600/OpenMC_CrossSections/lib80x_hdf5/Na23.h5\n",
      " Reading c_Graphite from\n",
      " /home/m240600/OpenMC_CrossSections/lib80x_hdf5/c_Graphite.h5\n",
      " Minimum neutron data temperature: 250 K\n",
      " Maximum neutron data temperature: 2500 K\n",
      " Preparing distributed cell instances...\n",
      " Reading plot XML file...\n",
      " Writing summary.h5 file...\n",
      " Maximum neutron transport energy: 20000000 eV for O17\n",
      " Initializing source particles...\n",
      "\n",
      " ====================>     K EIGENVALUE SIMULATION     <====================\n",
      "\n",
      "  Bat./Gen.      k            Average k\n",
      "  =========   ========   ====================\n",
      "        1/1    1.41292\n",
      "        2/1    1.44789\n",
      "        3/1    1.49992\n",
      "        4/1    1.50546\n",
      "        5/1    1.47617\n",
      "        6/1    1.44991\n",
      "        7/1    1.45924\n",
      "        8/1    1.42374\n",
      "        9/1    1.48973\n",
      "       10/1    1.50943\n",
      "       11/1    1.57261\n",
      "       12/1    1.55782\n",
      "       13/1    1.50324\n",
      "       14/1    1.47635\n",
      "       15/1    1.53544\n",
      "       16/1    1.51601\n",
      "       17/1    1.52352    1.51976 +/- 0.00375\n",
      "       18/1    1.47794    1.50582 +/- 0.01411\n",
      "       19/1    1.43476    1.48806 +/- 0.02037\n",
      "       20/1    1.52314    1.49507 +/- 0.01727\n",
      "       21/1    1.52421    1.49993 +/- 0.01491\n",
      "       22/1    1.52402    1.50337 +/- 0.01307\n",
      "       23/1    1.48301    1.50083 +/- 0.01160\n",
      "       24/1    1.57275    1.50882 +/- 0.01298\n",
      "       25/1    1.53200    1.51113 +/- 0.01184\n",
      "       26/1    1.47289    1.50766 +/- 0.01126\n",
      "       27/1    1.50074    1.50708 +/- 0.01029\n",
      "       28/1    1.57065    1.51197 +/- 0.01066\n",
      "       29/1    1.52609    1.51298 +/- 0.00992\n",
      "       30/1    1.58228    1.51760 +/- 0.01032\n",
      "       31/1    1.47396    1.51487 +/- 0.01004\n",
      "       32/1    1.48838    1.51331 +/- 0.00955\n",
      "       33/1    1.49810    1.51247 +/- 0.00905\n",
      "       34/1    1.49122    1.51135 +/- 0.00863\n",
      "       35/1    1.49962    1.51076 +/- 0.00821\n",
      "       36/1    1.51595    1.51101 +/- 0.00781\n",
      "       37/1    1.50691    1.51082 +/- 0.00745\n",
      "       38/1    1.48465    1.50969 +/- 0.00721\n",
      "       39/1    1.50245    1.50938 +/- 0.00691\n",
      "       40/1    1.43715    1.50650 +/- 0.00723\n",
      "       41/1    1.53340    1.50753 +/- 0.00702\n",
      "       42/1    1.39581    1.50339 +/- 0.00792\n",
      "       43/1    1.46899    1.50216 +/- 0.00773\n",
      "       44/1    1.46594    1.50091 +/- 0.00757\n",
      "       45/1    1.50937    1.50120 +/- 0.00732\n",
      "       46/1    1.55061    1.50279 +/- 0.00725\n",
      "       47/1    1.52696    1.50355 +/- 0.00706\n",
      "       48/1    1.45677    1.50213 +/- 0.00699\n",
      "       49/1    1.53467    1.50309 +/- 0.00685\n",
      "       50/1    1.50463    1.50313 +/- 0.00665\n",
      "       51/1    1.46700    1.50213 +/- 0.00654\n",
      "       52/1    1.49532    1.50194 +/- 0.00636\n",
      "       53/1    1.52506    1.50255 +/- 0.00622\n",
      "       54/1    1.51622    1.50290 +/- 0.00607\n",
      "       55/1    1.48855    1.50254 +/- 0.00593\n",
      "       56/1    1.54657    1.50362 +/- 0.00588\n",
      "       57/1    1.53937    1.50447 +/- 0.00580\n",
      "       58/1    1.49753    1.50431 +/- 0.00567\n",
      "       59/1    1.58169    1.50607 +/- 0.00581\n",
      "       60/1    1.46684    1.50519 +/- 0.00575\n",
      "       61/1    1.42802    1.50352 +/- 0.00587\n",
      "       62/1    1.57584    1.50505 +/- 0.00594\n",
      "       63/1    1.54007    1.50578 +/- 0.00586\n",
      "       64/1    1.51023    1.50587 +/- 0.00574\n",
      "       65/1    1.58456    1.50745 +/- 0.00584\n",
      "       66/1    1.48588    1.50703 +/- 0.00574\n",
      "       67/1    1.55402    1.50793 +/- 0.00570\n",
      "       68/1    1.50599    1.50789 +/- 0.00559\n",
      "       69/1    1.44233    1.50668 +/- 0.00562\n",
      "       70/1    1.42786    1.50525 +/- 0.00570\n",
      "       71/1    1.48675    1.50492 +/- 0.00561\n",
      "       72/1    1.52666    1.50530 +/- 0.00552\n",
      "       73/1    1.55129    1.50609 +/- 0.00548\n",
      "       74/1    1.47894    1.50563 +/- 0.00541\n",
      "       75/1    1.57035    1.50671 +/- 0.00543\n",
      "       76/1    1.58859    1.50805 +/- 0.00550\n",
      "       77/1    1.46358    1.50733 +/- 0.00546\n",
      "       78/1    1.46592    1.50668 +/- 0.00541\n",
      "       79/1    1.56181    1.50754 +/- 0.00540\n",
      "       80/1    1.50605    1.50751 +/- 0.00532\n",
      "       81/1    1.52089    1.50772 +/- 0.00524\n",
      "       82/1    1.49928    1.50759 +/- 0.00516\n",
      "       83/1    1.42355    1.50636 +/- 0.00523\n",
      "       84/1    1.50838    1.50639 +/- 0.00516\n",
      "       85/1    1.42720    1.50525 +/- 0.00521\n",
      "       86/1    1.55422    1.50594 +/- 0.00518\n",
      "       87/1    1.52480    1.50621 +/- 0.00511\n",
      "       88/1    1.58520    1.50729 +/- 0.00516\n",
      "       89/1    1.55894    1.50799 +/- 0.00513\n",
      "       90/1    1.48879    1.50773 +/- 0.00507\n",
      "       91/1    1.53446    1.50808 +/- 0.00502\n",
      "       92/1    1.49775    1.50795 +/- 0.00495\n",
      "       93/1    1.52194    1.50813 +/- 0.00489\n",
      "       94/1    1.52116    1.50829 +/- 0.00483\n",
      "       95/1    1.52615    1.50851 +/- 0.00478\n",
      "       96/1    1.61689    1.50985 +/- 0.00490\n",
      "       97/1    1.50041    1.50974 +/- 0.00485\n",
      "       98/1    1.54356    1.51014 +/- 0.00480\n",
      "       99/1    1.44351    1.50935 +/- 0.00481\n",
      "      100/1    1.45208    1.50868 +/- 0.00480\n",
      "      101/1    1.45296    1.50803 +/- 0.00479\n",
      "      102/1    1.50420    1.50799 +/- 0.00474\n",
      "      103/1    1.63555    1.50944 +/- 0.00490\n",
      "      104/1    1.57192    1.51014 +/- 0.00490\n",
      "      105/1    1.51588    1.51020 +/- 0.00484\n",
      "      106/1    1.52095    1.51032 +/- 0.00479\n",
      "      107/1    1.51647    1.51039 +/- 0.00474\n",
      "      108/1    1.54532    1.51076 +/- 0.00470\n",
      "      109/1    1.53640    1.51103 +/- 0.00466\n",
      "      110/1    1.56419    1.51159 +/- 0.00464\n",
      "      111/1    1.49776    1.51145 +/- 0.00460\n",
      "      112/1    1.46880    1.51101 +/- 0.00457\n",
      "      113/1    1.44320    1.51032 +/- 0.00458\n",
      "      114/1    1.52966    1.51051 +/- 0.00453\n",
      "      115/1    1.54476    1.51086 +/- 0.00450\n",
      "      116/1    1.48502    1.51060 +/- 0.00446\n",
      "      117/1    1.64531    1.51192 +/- 0.00461\n",
      "      118/1    1.56756    1.51246 +/- 0.00460\n",
      "      119/1    1.56885    1.51300 +/- 0.00459\n",
      "      120/1    1.49407    1.51282 +/- 0.00455\n",
      "      121/1    1.54098    1.51309 +/- 0.00451\n",
      "      122/1    1.49159    1.51289 +/- 0.00447\n",
      "      123/1    1.47164    1.51251 +/- 0.00445\n",
      "      124/1    1.52866    1.51265 +/- 0.00441\n",
      "      125/1    1.44459    1.51204 +/- 0.00441\n",
      "      126/1    1.42260    1.51123 +/- 0.00445\n",
      "      127/1    1.54132    1.51150 +/- 0.00442\n",
      "      128/1    1.42129    1.51070 +/- 0.00445\n",
      "      129/1    1.50137    1.51062 +/- 0.00441\n",
      "      130/1    1.54161    1.51089 +/- 0.00438\n",
      "      131/1    1.44023    1.51028 +/- 0.00438\n",
      "      132/1    1.57788    1.51086 +/- 0.00439\n",
      "      133/1    1.49297    1.51070 +/- 0.00435\n",
      "      134/1    1.49127    1.51054 +/- 0.00432\n",
      "      135/1    1.42929    1.50986 +/- 0.00433\n",
      "      136/1    1.50559    1.50983 +/- 0.00430\n",
      "      137/1    1.50611    1.50980 +/- 0.00426\n",
      "      138/1    1.48022    1.50956 +/- 0.00424\n",
      "      139/1    1.56762    1.51003 +/- 0.00423\n",
      "      140/1    1.50510    1.50999 +/- 0.00419\n",
      "      141/1    1.46815    1.50965 +/- 0.00417\n",
      "      142/1    1.46782    1.50933 +/- 0.00415\n",
      "      143/1    1.56428    1.50975 +/- 0.00414\n",
      "      144/1    1.47377    1.50948 +/- 0.00412\n",
      "      145/1    1.57814    1.51000 +/- 0.00412\n",
      "      146/1    1.55528    1.51035 +/- 0.00411\n",
      "      147/1    1.57119    1.51081 +/- 0.00410\n",
      "      148/1    1.48905    1.51065 +/- 0.00407\n",
      "      149/1    1.51625    1.51069 +/- 0.00404\n",
      "      150/1    1.39690    1.50985 +/- 0.00410\n",
      "      151/1    1.55043    1.51014 +/- 0.00408\n",
      "      152/1    1.52514    1.51025 +/- 0.00405\n",
      "      153/1    1.42494    1.50964 +/- 0.00407\n",
      "      154/1    1.61688    1.51041 +/- 0.00411\n",
      "      155/1    1.45558    1.51002 +/- 0.00410\n",
      "      156/1    1.51963    1.51008 +/- 0.00407\n",
      "      157/1    1.46079    1.50974 +/- 0.00406\n",
      "      158/1    1.58497    1.51026 +/- 0.00407\n",
      "      159/1    1.43205    1.50972 +/- 0.00407\n",
      "      160/1    1.41018    1.50903 +/- 0.00410\n",
      "      161/1    1.49466    1.50893 +/- 0.00408\n",
      "      162/1    1.51051    1.50895 +/- 0.00405\n",
      "      163/1    1.52074    1.50902 +/- 0.00402\n",
      "      164/1    1.41693    1.50841 +/- 0.00404\n",
      "      165/1    1.51982    1.50848 +/- 0.00402\n",
      "      166/1    1.49867    1.50842 +/- 0.00399\n",
      "      167/1    1.44319    1.50799 +/- 0.00399\n",
      "      168/1    1.47303    1.50776 +/- 0.00397\n",
      "      169/1    1.48861    1.50764 +/- 0.00394\n",
      "      170/1    1.49725    1.50757 +/- 0.00392\n",
      "      171/1    1.42395    1.50703 +/- 0.00393\n",
      "      172/1    1.37755    1.50621 +/- 0.00399\n",
      "      173/1    1.53941    1.50642 +/- 0.00397\n",
      "      174/1    1.52817    1.50656 +/- 0.00395\n",
      "      175/1    1.39648    1.50587 +/- 0.00398\n",
      "      176/1    1.61199    1.50653 +/- 0.00401\n",
      "      177/1    1.50166    1.50650 +/- 0.00399\n",
      "      178/1    1.50674    1.50650 +/- 0.00396\n",
      "      179/1    1.56932    1.50688 +/- 0.00396\n",
      "      180/1    1.44301    1.50649 +/- 0.00395\n",
      "      181/1    1.48772    1.50638 +/- 0.00393\n",
      "      182/1    1.51520    1.50643 +/- 0.00391\n",
      "      183/1    1.50175    1.50641 +/- 0.00388\n",
      "      184/1    1.52382    1.50651 +/- 0.00386\n",
      "      185/1    1.50592    1.50651 +/- 0.00384\n",
      "      186/1    1.48863    1.50640 +/- 0.00382\n",
      "      187/1    1.53051    1.50654 +/- 0.00380\n",
      "      188/1    1.49523    1.50648 +/- 0.00378\n",
      "      189/1    1.48028    1.50632 +/- 0.00376\n",
      "      190/1    1.43060    1.50589 +/- 0.00376\n",
      "      191/1    1.49460    1.50583 +/- 0.00374\n",
      "      192/1    1.58966    1.50630 +/- 0.00375\n",
      "      193/1    1.51487    1.50635 +/- 0.00373\n",
      "      194/1    1.49459    1.50628 +/- 0.00371\n",
      "      195/1    1.46055    1.50603 +/- 0.00370\n",
      "      196/1    1.51564    1.50608 +/- 0.00368\n",
      "      197/1    1.45436    1.50580 +/- 0.00367\n",
      "      198/1    1.49092    1.50572 +/- 0.00365\n",
      "      199/1    1.44538    1.50539 +/- 0.00364\n",
      "      200/1    1.56711    1.50572 +/- 0.00364\n",
      " Creating state point statepoint.200.h5...\n",
      "\n",
      " =======================>     TIMING STATISTICS     <=======================\n",
      "\n",
      " Total time for initialization     = 4.6423e+00 seconds\n",
      "   Reading cross sections          = 4.5761e+00 seconds\n",
      " Total time in simulation          = 2.6671e+00 seconds\n",
      "   Time in transport only          = 2.5788e+00 seconds\n",
      "   Time in inactive batches        = 2.0171e-01 seconds\n",
      "   Time in active batches          = 2.4654e+00 seconds\n",
      "   Time synchronizing fission bank = 2.2581e-02 seconds\n",
      "     Sampling source sites         = 1.8472e-02 seconds\n",
      "     SEND/RECV source sites        = 3.5241e-03 seconds\n",
      "   Time accumulating tallies       = 1.9234e-04 seconds\n",
      "   Time writing statepoints        = 1.2569e-02 seconds\n",
      " Total time for finalization       = 1.0890e-06 seconds\n",
      " Total time elapsed                = 7.3585e+00 seconds\n",
      " Calculation Rate (inactive)       = 74363.3 particles/second\n",
      " Calculation Rate (active)         = 75038.7 particles/second\n",
      "\n",
      " ============================>     RESULTS     <============================\n",
      "\n",
      " k-effective (Collision)     = 1.50586 +/- 0.00290\n",
      " k-effective (Track-length)  = 1.50572 +/- 0.00364\n",
      " k-effective (Absorption)    = 1.51059 +/- 0.00197\n",
      " Combined k-effective        = 1.50913 +/- 0.00167\n",
      " Leakage Fraction            = 0.00000 +/- 0.00000\n",
      "\n"
     ]
    }
   ],
   "source": [
    "openmc.run()"
   ]
  },
  {
   "cell_type": "code",
   "execution_count": null,
   "id": "0c8cecd4-0cbd-4c91-be13-5b83f1290c46",
   "metadata": {},
   "outputs": [],
   "source": []
  }
 ],
 "metadata": {
  "kernelspec": {
   "display_name": "Python 3 (ipykernel)",
   "language": "python",
   "name": "python3"
  },
  "language_info": {
   "codemirror_mode": {
    "name": "ipython",
    "version": 3
   },
   "file_extension": ".py",
   "mimetype": "text/x-python",
   "name": "python",
   "nbconvert_exporter": "python",
   "pygments_lexer": "ipython3",
   "version": "3.11.5"
  }
 },
 "nbformat": 4,
 "nbformat_minor": 5
}
