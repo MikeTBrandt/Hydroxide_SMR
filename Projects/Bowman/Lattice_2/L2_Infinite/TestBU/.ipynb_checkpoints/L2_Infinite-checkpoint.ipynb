{
 "cells": [
  {
   "cell_type": "code",
   "execution_count": 2,
   "id": "d222d07d-7e8f-4831-bcc2-5b47e6bc32f8",
   "metadata": {},
   "outputs": [],
   "source": [
    "%matplotlib inline\n",
    "from math import pi, sin, cos\n",
    "import numpy as np\n",
    "import openmc\n",
    "import openmc.deplete\n",
    "from matplotlib import pyplot"
   ]
  },
  {
   "cell_type": "code",
   "execution_count": 3,
   "id": "b5d018ce-2e32-4e8c-86b0-cfaa7ee58ae5",
   "metadata": {},
   "outputs": [
    {
     "name": "stderr",
     "output_type": "stream",
     "text": [
      "/home/m240600/.conda/envs/openmc-env/lib/python3.11/site-packages/openmc/material.py:740: UserWarning: A uranium enrichment of 19.75 was given for Material ID=\"1\". OpenMC assumes the U234/U235 mass ratio is constant at 0.008, which is only valid at low enrichments. Consider setting the isotopic composition manually for enrichments over 5%.\n",
      "  warnings.warn(msg)\n"
     ]
    }
   ],
   "source": [
    "fuel = openmc.Material(name='uo2')\n",
    "fuel.add_element('U',1.0, enrichment=19.75)\n",
    "fuel.add_element('O',2.0)\n",
    "fuel.set_density=(\"g/cc\",10.5)\n",
    "fuel.depletable = True\n",
    "\n",
    "clad_in = openmc.Material(name='graphite')\n",
    "clad_in.add_element('C',1.0)\n",
    "clad_in.set_density=(\"g/cc\",1.5)\n",
    "clad_in.add_s_alpha_beta('c_Graphite')\n",
    "clad_in.depletable = False\n",
    "\n",
    "clad_out = openmc.Material(name='SiC')\n",
    "clad_out.add_element('C',1.0)\n",
    "clad_out.add_element('Si',1.0)\n",
    "clad_out.set_density=(\"g/cc\",2.58)\n",
    "clad_out.add_s_alpha_beta('c_Graphite')\n",
    "clad_out.depletable = False\n",
    "\n",
    "coolant = openmc.Material(name='LiOH+NaOH')\n",
    "coolant.add_element('Li',.3, enrichment=99.995, enrichment_target='Li7',enrichment_type='ao')\n",
    "coolant.add_element('H',1.0)\n",
    "coolant.add_element('O',1.0)\n",
    "coolant.add_element('Na',.7)\n",
    "coolant.set_density('g/cc', 1.670)\n",
    "coolant.depletable = False\n",
    "\n",
    "moderator = openmc.Material(name='graphite')\n",
    "moderator.add_element('C',1.0)\n",
    "moderator.set_density=(\"g/cc\",1.5)\n",
    "moderator.add_s_alpha_beta('c_Graphite')\n",
    "moderator.depletable = False\n",
    "\n",
    "materials = openmc.Materials([fuel,clad_in,clad_out,coolant,moderator])\n",
    "materials.export_to_xml()"
   ]
  },
  {
   "cell_type": "code",
   "execution_count": 4,
   "id": "4b54f5de-ccdf-4c6f-8a9d-65a04f321c7e",
   "metadata": {},
   "outputs": [],
   "source": [
    "r_fuel   = 0.35\n",
    "r_clad_1 = 0.5\n",
    "r_clad_2 = 0.6\n",
    "\n",
    "r_pt_in  = 7.5 #inner radius of the graphite pressure tube\n",
    "r_pt_out = 8.5 #outer radius of the graphite pressure tube\n",
    "\n",
    "lattice_pitch = 18\n",
    "\n",
    "H=163.345 #core height in cm\n",
    "D=H #core diameter in cm\n",
    "\n",
    "ring_radii = np.array([0.0, 2.1, 4.2, 6.2])\n",
    "\n",
    "surf_fuel = openmc.model.RightCircularCylinder((0,0,-81.6725),163.345,r_fuel)\n",
    "\n",
    "surf_clad_1 = openmc.model.RightCircularCylinder((0,0,-81.6725),163.345,r_clad_1)\n",
    "surf_clad_2 = openmc.model.RightCircularCylinder((0,0,-81.6725),163.345,r_clad_2)\n",
    "\n",
    "surf_pt_1 = openmc.model.RightCircularCylinder((0,0,-81.6725),163.345,r_pt_in)\n",
    "surf_pt_2 = openmc.model.RightCircularCylinder((0,0,-81.6725),163.345,r_pt_out)"
   ]
  },
  {
   "cell_type": "code",
   "execution_count": 5,
   "id": "e1f7589a-6b72-4e54-a37f-7111795b4ccc",
   "metadata": {},
   "outputs": [],
   "source": [
    "radial_surf = [openmc.model.RightCircularCylinder((0,0,-81.6725),163.345,r) for r in\n",
    "               (ring_radii[:-1] + ring_radii[1:])/2]\n",
    "\n",
    "coolant_cells = []\n",
    "for i in range(ring_radii.size):\n",
    "    if i == 0:\n",
    "        coolant_region = -radial_surf[i]\n",
    "    elif i == ring_radii.size - 1:\n",
    "        coolant_region = +radial_surf[i-1] & -surf_pt_1\n",
    "    else:\n",
    "        coolant_region = +radial_surf[i-1] & -radial_surf[i]\n",
    "\n",
    "    coolant_cells.append(openmc.Cell(fill=coolant, region=coolant_region))"
   ]
  },
  {
   "cell_type": "code",
   "execution_count": 6,
   "id": "0cd947f1-69e7-434f-a736-9fd98112be54",
   "metadata": {},
   "outputs": [
    {
     "data": {
      "text/plain": [
       "<matplotlib.image.AxesImage at 0x7ff0145c9510>"
      ]
     },
     "execution_count": 6,
     "metadata": {},
     "output_type": "execute_result"
    },
    {
     "data": {
      "image/png": "[encoded data removed]",
      "text/plain": [
       "<Figure size 258.065x259.74 with 1 Axes>"
      ]
     },
     "metadata": {},
     "output_type": "display_data"
    }
   ],
   "source": [
    "plot_args = {'width':(lattice_pitch,lattice_pitch)}\n",
    "bundle_universe = openmc.Universe(cells=coolant_cells)\n",
    "bundle_universe.plot(**plot_args)"
   ]
  },
  {
   "cell_type": "code",
   "execution_count": 7,
   "id": "6749981f-154f-46be-8659-e8804db4ac64",
   "metadata": {},
   "outputs": [],
   "source": [
    "coolant.temperature = 973\n",
    "\n",
    "fuel_cell = openmc.Cell(fill=fuel, region=-surf_fuel)\n",
    "fuel_cell.temperature = 1473\n",
    "\n",
    "clad_cell_1 = openmc.Cell(fill=clad_in, region=+surf_fuel & -surf_clad_1)\n",
    "clad_cell_1.temperature = 1273\n",
    "\n",
    "clad_cell_2 = openmc.Cell(fill=clad_out, region=+surf_clad_1 & -surf_clad_2)\n",
    "clad_cell_2.temperature = 973\n",
    "\n",
    "pin_universe = openmc.Universe(cells=(fuel_cell,clad_cell_1,clad_cell_2))"
   ]
  },
  {
   "cell_type": "code",
   "execution_count": 8,
   "id": "bd5e349b-4a12-4be2-ba1c-e3b108cc8ede",
   "metadata": {},
   "outputs": [
    {
     "data": {
      "text/plain": [
       "<matplotlib.image.AxesImage at 0x7febafe5db10>"
      ]
     },
     "execution_count": 8,
     "metadata": {},
     "output_type": "execute_result"
    },
    {
     "data": {
      "image/png": "[encoded data removed]",
      "text/plain": [
       "<Figure size 258.065x259.74 with 1 Axes>"
      ]
     },
     "metadata": {},
     "output_type": "display_data"
    }
   ],
   "source": [
    "pin_universe.plot(**{'width':(2*r_clad_2,2*r_clad_2)})"
   ]
  },
  {
   "cell_type": "code",
   "execution_count": 9,
   "id": "5f936801-db5a-4b7c-8236-900c94afb214",
   "metadata": {},
   "outputs": [],
   "source": [
    "num_pins = [1, 6, 12, 18]\n",
    "angles = [0, 0, 15, 0]\n",
    "\n",
    "for i, (r, n, a) in enumerate(zip(ring_radii, num_pins, angles)):\n",
    "    for j in range(n):\n",
    "        theta = (a + j/n*360)*pi/180.\n",
    "        x = r*cos(theta)\n",
    "        y = r*sin(theta)\n",
    "\n",
    "        pin_boundary = openmc.ZCylinder(x0=x,y0=y,r=r_clad_2)\n",
    "        coolant_cells[i].region &= +pin_boundary\n",
    "\n",
    "        pin = openmc.Cell(fill=pin_universe, region=-pin_boundary)\n",
    "        pin.translation = (x, y, 0)\n",
    "        pin.id = (i + 1)*100 + j\n",
    "        bundle_universe.add_cell(pin)"
   ]
  },
  {
   "cell_type": "code",
   "execution_count": 10,
   "id": "b010f535-2e30-41a5-8363-4b4fcc79b038",
   "metadata": {},
   "outputs": [
    {
     "data": {
      "text/plain": [
       "<matplotlib.image.AxesImage at 0x7febafe9d790>"
      ]
     },
     "execution_count": 10,
     "metadata": {},
     "output_type": "execute_result"
    },
    {
     "data": {
      "image/png": "[encoded data removed]",
      "text/plain": [
       "<Figure size 258.065x259.74 with 1 Axes>"
      ]
     },
     "metadata": {},
     "output_type": "display_data"
    }
   ],
   "source": [
    "bundle_universe.plot(**plot_args)"
   ]
  },
  {
   "cell_type": "code",
   "execution_count": 11,
   "id": "cd3bed0b-ab96-4e67-985a-e3ce922f4794",
   "metadata": {},
   "outputs": [],
   "source": [
    "lattice_boundary = openmc.model.RectangularParallelepiped(-lattice_pitch/2,lattice_pitch/2,-lattice_pitch/2,lattice_pitch/2,-81.6726,81.6726,boundary_type = 'reflective')\n",
    "\n",
    "pt=openmc.Cell(fill=clad_in, region= +surf_pt_1 & -surf_pt_2)\n",
    "pt.temperature = 973\n",
    "\n",
    "bundle_universe.add_cell(pt)\n",
    "moderator_cell=openmc.Cell(fill=moderator, region=-lattice_boundary & +surf_pt_2)\n",
    "moderator_cell.temperature = 973\n",
    "\n",
    "bundle_universe.add_cell(moderator_cell)"
   ]
  },
  {
   "cell_type": "code",
   "execution_count": 12,
   "id": "c413764d-fd86-4d61-9393-f2452314802b",
   "metadata": {},
   "outputs": [
    {
     "data": {
      "text/plain": [
       "<matplotlib.image.AxesImage at 0x7febafd50a90>"
      ]
     },
     "execution_count": 12,
     "metadata": {},
     "output_type": "execute_result"
    },
    {
     "data": {
      "image/png": "[encoded data removed]",
      "text/plain": [
       "<Figure size 258.065x259.74 with 1 Axes>"
      ]
     },
     "metadata": {},
     "output_type": "display_data"
    }
   ],
   "source": [
    "bdu=bundle_universe\n",
    "bdu.plot(**plot_args)"
   ]
  },
  {
   "cell_type": "code",
   "execution_count": 13,
   "id": "a2d91042-26ea-471d-98b9-e077550b4bcb",
   "metadata": {},
   "outputs": [],
   "source": [
    "geometry = openmc.Geometry(bdu)\n",
    "geometry.export_to_xml()\n",
    "\n",
    "materials=openmc.Materials(geometry.get_all_materials().values())\n",
    "materials.export_to_xml()"
   ]
  },
  {
   "cell_type": "code",
   "execution_count": 14,
   "id": "d55a5d5f-dc6c-4461-8f5e-31a5ae5bad49",
   "metadata": {},
   "outputs": [
    {
     "data": {
      "image/png": "[encoded data removed]",
      "text/plain": [
       "<IPython.core.display.Image object>"
      ]
     },
     "execution_count": 14,
     "metadata": {},
     "output_type": "execute_result"
    }
   ],
   "source": [
    "plot = openmc.Plot.from_geometry(geometry)\n",
    "#plot.basis='xz'\n",
    "#plot.origin=(0,0,-81.6725)\n",
    "plot.color_by = 'material'\n",
    "plot.colors = {\n",
    "    fuel: 'yellow',\n",
    "    clad_in: 'grey',\n",
    "    clad_out: 'white',\n",
    "    coolant: 'blue',\n",
    "    moderator: 'green',\n",
    "}\n",
    "plot.to_ipython_image()"
   ]
  },
  {
   "cell_type": "code",
   "execution_count": 15,
   "id": "60207a52-6388-4e35-8747-c7ea07461fe8",
   "metadata": {},
   "outputs": [],
   "source": [
    "settings = openmc.Settings()\n",
    "settings.particles = 1000\n",
    "settings.batches = 100\n",
    "settings.inactive = 15\n",
    "settings.temperature={'method':'interpolation','range':(250, 2500)}\n",
    "box = openmc.stats.Box(lower_left = (-lattice_pitch/2,-lattice_pitch/2,-H/2),\n",
    "                      upper_right = (lattice_pitch/2,lattice_pitch/2,H/2),\n",
    "                      only_fissionable=True);\n",
    "src = openmc.Source(space=box);\n",
    "settings.source = src\n",
    "settings.export_to_xml()"
   ]
  },
  {
   "cell_type": "code",
   "execution_count": 16,
   "id": "3b1552af-b1a8-44ab-a437-3336ef7bb462",
   "metadata": {},
   "outputs": [],
   "source": [
    "fuel_tally = openmc.Tally()\n",
    "fuel_tally.filters = [openmc.DistribcellFilter(fuel_cell)]"
   ]
  },
  {
   "cell_type": "code",
   "execution_count": 17,
   "id": "a3afca27-22ad-4e67-9d5e-6f6f86c3a91d",
   "metadata": {},
   "outputs": [
    {
     "name": "stdout",
     "output_type": "stream",
     "text": [
      "                                %%%%%%%%%%%%%%%\n",
      "                           %%%%%%%%%%%%%%%%%%%%%%%%\n",
      "                        %%%%%%%%%%%%%%%%%%%%%%%%%%%%%%\n",
      "                      %%%%%%%%%%%%%%%%%%%%%%%%%%%%%%%%%%\n",
      "                    %%%%%%%%%%%%%%%%%%%%%%%%%%%%%%%%%%%%%%\n",
      "                   %%%%%%%%%%%%%%%%%%%%%%%%%%%%%%%%%%%%%%%%\n",
      "                                    %%%%%%%%%%%%%%%%%%%%%%%%\n",
      "                                     %%%%%%%%%%%%%%%%%%%%%%%%\n",
      "                 ###############      %%%%%%%%%%%%%%%%%%%%%%%%\n",
      "                ##################     %%%%%%%%%%%%%%%%%%%%%%%\n",
      "                ###################     %%%%%%%%%%%%%%%%%%%%%%%\n",
      "                ####################     %%%%%%%%%%%%%%%%%%%%%%\n",
      "                #####################     %%%%%%%%%%%%%%%%%%%%%\n",
      "                ######################     %%%%%%%%%%%%%%%%%%%%\n",
      "                #######################     %%%%%%%%%%%%%%%%%%\n",
      "                 #######################     %%%%%%%%%%%%%%%%%\n",
      "                 ######################     %%%%%%%%%%%%%%%%%\n",
      "                  ####################     %%%%%%%%%%%%%%%%%\n",
      "                    #################     %%%%%%%%%%%%%%%%%\n",
      "                     ###############     %%%%%%%%%%%%%%%%\n",
      "                       ############     %%%%%%%%%%%%%%%\n",
      "                          ########     %%%%%%%%%%%%%%\n",
      "                                      %%%%%%%%%%%\n",
      "\n",
      "                 | The OpenMC Monte Carlo Code\n",
      "       Copyright | 2011-2023 MIT, UChicago Argonne LLC, and contributors\n",
      "         License | https://docs.openmc.org/en/latest/license.html\n",
      "         Version | 0.13.3\n",
      "        Git SHA1 | 50e39a4e20dc9e0f3d7ccf07333f6a5e6c797c8c\n",
      "       Date/Time | 2023-10-11 20:11:25\n",
      "  OpenMP Threads | 192\n",
      "\n",
      " Reading settings XML file...\n",
      " Reading cross sections XML file...\n",
      " Reading materials XML file...\n",
      " Reading geometry XML file...\n",
      " Reading U234 from /home/m240600/OpenMC_CrossSections/lib80x_hdf5/U234.h5\n",
      " Reading U235 from /home/m240600/OpenMC_CrossSections/lib80x_hdf5/U235.h5\n",
      " Reading U238 from /home/m240600/OpenMC_CrossSections/lib80x_hdf5/U238.h5\n",
      " Reading U236 from /home/m240600/OpenMC_CrossSections/lib80x_hdf5/U236.h5\n",
      " Reading O16 from /home/m240600/OpenMC_CrossSections/lib80x_hdf5/O16.h5\n",
      " Reading O17 from /home/m240600/OpenMC_CrossSections/lib80x_hdf5/O17.h5\n",
      " Reading O18 from /home/m240600/OpenMC_CrossSections/lib80x_hdf5/O18.h5\n",
      " Reading C12 from /home/m240600/OpenMC_CrossSections/lib80x_hdf5/C12.h5\n",
      " Reading C13 from /home/m240600/OpenMC_CrossSections/lib80x_hdf5/C13.h5\n",
      " Reading Si28 from /home/m240600/OpenMC_CrossSections/lib80x_hdf5/Si28.h5\n",
      " Reading Si29 from /home/m240600/OpenMC_CrossSections/lib80x_hdf5/Si29.h5\n",
      " Reading Si30 from /home/m240600/OpenMC_CrossSections/lib80x_hdf5/Si30.h5\n",
      " Reading Li6 from /home/m240600/OpenMC_CrossSections/lib80x_hdf5/Li6.h5\n",
      " Reading Li7 from /home/m240600/OpenMC_CrossSections/lib80x_hdf5/Li7.h5\n",
      " Reading H1 from /home/m240600/OpenMC_CrossSections/lib80x_hdf5/H1.h5\n",
      " Reading H2 from /home/m240600/OpenMC_CrossSections/lib80x_hdf5/H2.h5\n",
      " Reading Na23 from /home/m240600/OpenMC_CrossSections/lib80x_hdf5/Na23.h5\n",
      " Reading c_Graphite from\n",
      " /home/m240600/OpenMC_CrossSections/lib80x_hdf5/c_Graphite.h5\n",
      " Minimum neutron data temperature: 250 K\n",
      " Maximum neutron data temperature: 2500 K\n",
      " Preparing distributed cell instances...\n",
      " Reading plot XML file...\n",
      " Writing summary.h5 file...\n",
      " Maximum neutron transport energy: 20000000 eV for O17\n",
      " Initializing source particles...\n",
      "\n",
      " ====================>     K EIGENVALUE SIMULATION     <====================\n",
      "\n",
      "  Bat./Gen.      k            Average k\n",
      "  =========   ========   ====================\n",
      "        1/1    1.48653\n",
      "        2/1    1.46167\n",
      "        3/1    1.54164\n",
      "        4/1    1.55527\n",
      "        5/1    1.51031\n",
      "        6/1    1.49844\n",
      "        7/1    1.44056\n",
      "        8/1    1.48772\n",
      "        9/1    1.52508\n",
      "       10/1    1.50472\n",
      "       11/1    1.55864\n",
      "       12/1    1.51095\n",
      "       13/1    1.49598\n",
      "       14/1    1.58729\n",
      "       15/1    1.50618\n",
      "       16/1    1.38787\n",
      "       17/1    1.48593    1.43690 +/- 0.04903\n",
      "       18/1    1.62148    1.49843 +/- 0.06773\n",
      "       19/1    1.54360    1.50972 +/- 0.04920\n",
      "       20/1    1.50480    1.50874 +/- 0.03812\n",
      "       21/1    1.52085    1.51075 +/- 0.03119\n",
      "       22/1    1.53097    1.51364 +/- 0.02652\n",
      "       23/1    1.52120    1.51459 +/- 0.02299\n",
      "       24/1    1.50727    1.51377 +/- 0.02029\n",
      "       25/1    1.39775    1.50217 +/- 0.02154\n",
      "       26/1    1.52065    1.50385 +/- 0.01956\n",
      "       27/1    1.56383    1.50885 +/- 0.01854\n",
      "       28/1    1.58053    1.51436 +/- 0.01792\n",
      "       29/1    1.50513    1.51370 +/- 0.01661\n",
      "       30/1    1.50178    1.51291 +/- 0.01548\n",
      "       31/1    1.51609    1.51311 +/- 0.01448\n",
      "       32/1    1.50118    1.51241 +/- 0.01362\n",
      "       33/1    1.60163    1.51736 +/- 0.01377\n",
      "       34/1    1.45647    1.51416 +/- 0.01341\n",
      "       35/1    1.54789    1.51584 +/- 0.01283\n",
      "       36/1    1.59030    1.51939 +/- 0.01271\n",
      "       37/1    1.52138    1.51948 +/- 0.01212\n",
      "       38/1    1.53007    1.51994 +/- 0.01159\n",
      "       39/1    1.49036    1.51871 +/- 0.01116\n",
      "       40/1    1.46721    1.51665 +/- 0.01090\n",
      "       41/1    1.51805    1.51670 +/- 0.01048\n",
      "       42/1    1.42511    1.51331 +/- 0.01064\n",
      "       43/1    1.45130    1.51110 +/- 0.01049\n",
      "       44/1    1.53895    1.51206 +/- 0.01016\n",
      "       45/1    1.46739    1.51057 +/- 0.00993\n",
      "       46/1    1.53549    1.51137 +/- 0.00964\n",
      "       47/1    1.45729    1.50968 +/- 0.00949\n",
      "       48/1    1.41813    1.50691 +/- 0.00960\n",
      "       49/1    1.49533    1.50657 +/- 0.00932\n",
      "       50/1    1.51662    1.50685 +/- 0.00906\n",
      "       51/1    1.46917    1.50581 +/- 0.00886\n",
      "       52/1    1.44938    1.50428 +/- 0.00875\n",
      "       53/1    1.46411    1.50322 +/- 0.00859\n",
      "       54/1    1.58156    1.50523 +/- 0.00860\n",
      "       55/1    1.45225    1.50391 +/- 0.00849\n",
      "       56/1    1.51032    1.50406 +/- 0.00828\n",
      "       57/1    1.64406    1.50740 +/- 0.00874\n",
      "       58/1    1.55267    1.50845 +/- 0.00860\n",
      "       59/1    1.50988    1.50848 +/- 0.00840\n",
      "       60/1    1.51222    1.50857 +/- 0.00821\n",
      "       61/1    1.44136    1.50711 +/- 0.00816\n",
      "       62/1    1.50827    1.50713 +/- 0.00799\n",
      "       63/1    1.49914    1.50696 +/- 0.00782\n",
      "       64/1    1.51793    1.50719 +/- 0.00766\n",
      "       65/1    1.71062    1.51126 +/- 0.00854\n",
      "       66/1    1.50256    1.51109 +/- 0.00837\n",
      "       67/1    1.62788    1.51333 +/- 0.00851\n",
      "       68/1    1.53431    1.51373 +/- 0.00836\n",
      "       69/1    1.44918    1.51253 +/- 0.00829\n",
      "       70/1    1.49938    1.51229 +/- 0.00814\n",
      "       71/1    1.54000    1.51279 +/- 0.00801\n",
      "       72/1    1.46931    1.51203 +/- 0.00791\n",
      "       73/1    1.52516    1.51225 +/- 0.00777\n",
      "       74/1    1.56913    1.51322 +/- 0.00770\n",
      "       75/1    1.48027    1.51267 +/- 0.00759\n",
      "       76/1    1.56115    1.51346 +/- 0.00751\n",
      "       77/1    1.44627    1.51238 +/- 0.00746\n",
      "       78/1    1.41553    1.51084 +/- 0.00750\n",
      "       79/1    1.54422    1.51136 +/- 0.00740\n",
      "       80/1    1.49984    1.51118 +/- 0.00729\n",
      "       81/1    1.47847    1.51069 +/- 0.00720\n",
      "       82/1    1.50756    1.51064 +/- 0.00709\n",
      "       83/1    1.50806    1.51060 +/- 0.00698\n",
      "       84/1    1.51383    1.51065 +/- 0.00688\n",
      "       85/1    1.52411    1.51084 +/- 0.00679\n",
      "       86/1    1.47352    1.51032 +/- 0.00671\n",
      "       87/1    1.46210    1.50965 +/- 0.00665\n",
      "       88/1    1.47871    1.50922 +/- 0.00657\n",
      "       89/1    1.49004    1.50897 +/- 0.00649\n",
      "       90/1    1.39654    1.50747 +/- 0.00657\n",
      "       91/1    1.48206    1.50713 +/- 0.00649\n",
      "       92/1    1.56142    1.50784 +/- 0.00645\n",
      "       93/1    1.42109    1.50672 +/- 0.00646\n",
      "       94/1    1.64901    1.50853 +/- 0.00663\n",
      "       95/1    1.52565    1.50874 +/- 0.00655\n",
      "       96/1    1.48313    1.50842 +/- 0.00648\n",
      "       97/1    1.53261    1.50872 +/- 0.00640\n",
      "       98/1    1.52211    1.50888 +/- 0.00633\n",
      "       99/1    1.56941    1.50960 +/- 0.00629\n",
      "      100/1    1.50706    1.50957 +/- 0.00622\n",
      " Creating state point statepoint.100.h5...\n",
      "\n",
      " =======================>     TIMING STATISTICS     <=======================\n",
      "\n",
      " Total time for initialization     = 4.3171e+00 seconds\n",
      "   Reading cross sections          = 4.2614e+00 seconds\n",
      " Total time in simulation          = 1.0906e+00 seconds\n",
      "   Time in transport only          = 1.0719e+00 seconds\n",
      "   Time in inactive batches        = 1.6849e-01 seconds\n",
      "   Time in active batches          = 9.2212e-01 seconds\n",
      "   Time synchronizing fission bank = 7.7953e-03 seconds\n",
      "     Sampling source sites         = 5.7824e-03 seconds\n",
      "     SEND/RECV source sites        = 1.7650e-03 seconds\n",
      "   Time accumulating tallies       = 8.4833e-05 seconds\n",
      "   Time writing statepoints        = 3.6952e-03 seconds\n",
      " Total time for finalization       = 8.1900e-07 seconds\n",
      " Total time elapsed                = 5.4515e+00 seconds\n",
      " Calculation Rate (inactive)       = 89024 particles/second\n",
      " Calculation Rate (active)         = 92178.8 particles/second\n",
      "\n",
      " ============================>     RESULTS     <============================\n",
      "\n",
      " k-effective (Collision)     = 1.51139 +/- 0.00517\n",
      " k-effective (Track-length)  = 1.50957 +/- 0.00622\n",
      " k-effective (Absorption)    = 1.51213 +/- 0.00271\n",
      " Combined k-effective        = 1.51192 +/- 0.00252\n",
      " Leakage Fraction            = 0.00000 +/- 0.00000\n",
      "\n"
     ]
    }
   ],
   "source": [
    "openmc.run()"
   ]
  },
  {
   "cell_type": "code",
   "execution_count": null,
   "id": "f81e7aa2-6aae-4f49-a597-a774fb4f3d79",
   "metadata": {},
   "outputs": [],
   "source": [
    "fuel.volume = pi*r_fuel**2*H*37"
   ]
  },
  {
   "cell_type": "code",
   "execution_count": null,
   "id": "0c8cecd4-0cbd-4c91-be13-5b83f1290c46",
   "metadata": {},
   "outputs": [],
   "source": [
    "model=openmc.model.Model(geometry,materials,settings)\n",
    "#operator = openmc.deplete.CoupledOperator(model,\"chain_endfb80_pwr.xml\")\n",
    "operator = openmc.deplete.CoupledOperator(model,\"chain_endfb71_pwr.xml\")\n",
    "\n",
    "power_density = 35\n",
    "\n",
    "#time_steps = [0.1, 0.1, 0.1, 0.1, 0.1, 0.1, 0.1, 0.1, 0.1, 0.1, 0.1, 0.1, 0.1, 0.1, 0.1, 0.1, 0.1, 0.1, 0.1, \n",
    "#              0.1, 0.1, 0.1, 0.1, 0.1, 0.1, 0.1, 0.1, 0.1, 0.1, 0.1, 0.25, 0.25, 0.25, 0.25, 0.25, 0.25, 0.25, \n",
    "#              0.25, 0.25, 0.25, 0.25, 0.25, 0.25, 0.25, 0.25, 0.25, 0.25, 0.25, 0.25, 0.5, 0.5, 0.5, 0.5, 0.5, \n",
    "#              0.5, 0.5, 0.5, 0.5, 0.5, 0.5, 0.5, 0.5, 0.5, 0.5, 0.5, 0.5, 0.5, 0.5, 0.5, 0.5, 0.5, 0.5, 0.5, \n",
    "#              0.5, 0.75, 0.75, 0.75, 0.75, 0.75, 0.75, 0.75, 0.75, 0.75, 0.75, 0.75, 0.75, 0.75, 0.75, 0.75, \n",
    "#              0.75, 0.75, 0.75, 0.75, 0.75, 0.75, 0.75, 0.75, 0.75, 0.75, 0.75, 0.75, 0.75, 0.75, 0.75, 0.75, \n",
    "#              0.75, 0.75, 0.75, 0.75, 1, 1, 1, 1, 1, 1, 1, 1, 1, 1, 1, 1, 1, 1, 1, 1, 1, 1, 1, 1, 1, 1, 1, 1, \n",
    "#              1, 1, 1, 1, 1, 1, 1, 1, 1, 1, 1, 1, 1, 1, 1, 1, 1, 1, 1, 1, 1, 1, 1.5, 1.5, 1.5, 1.5, 1.5, 1.5, \n",
    "#              1.5, 1.5, 1.5, 1.5, 1.5, 1.5, 1.5, 1.5, 1.5, 1.5, 1.5, 1.5, 1.5, 1.5, 1.5, 1.5, 1.5, 1.5, 1.5, \n",
    "#              1.5, 1.5, 1.5, 1.5, 1.5, 1.5, 1.5, 1.5, 1.5, 1.5, 1.5, 1.5, 1.5, 1.5, 1.5, 1.5, 1.5, 1.5, 1.5, \n",
    "#              1.5]\n",
    "\n",
    "days = 3600.*24.;\n",
    "time_steps = [0.1*days, 0.25*days, 0.5*days, 1.15*days, 30*days]\n",
    "\n",
    "\n",
    "cemc = openmc.deplete.CECMIntegrator(operator,time_steps,power_density = power_density,timestep_units='MWd/kg')\n",
    "\n",
    "#repeat_depletion = False;\n",
    "\n",
    "#if(repeat_depletion):\n",
    "#    cecm.integrate()"
   ]
  },
  {
   "cell_type": "code",
   "execution_count": null,
   "id": "d0db934f-c8e3-45da-b4e7-0df3a08810ea",
   "metadata": {},
   "outputs": [],
   "source": [
    "cemc.integrate()"
   ]
  },
  {
   "cell_type": "code",
   "execution_count": 18,
   "id": "05b6a2c6-81f0-4358-bb61-2277f695c2a6",
   "metadata": {},
   "outputs": [],
   "source": [
    "results = openmc.deplete.Results(\"./depletion_results.h5\")"
   ]
  },
  {
   "cell_type": "code",
   "execution_count": 19,
   "id": "8e2d705e-09ad-458e-ada3-8218dce18ff9",
   "metadata": {},
   "outputs": [],
   "source": [
    "time, k =results.get_keff()"
   ]
  },
  {
   "cell_type": "code",
   "execution_count": 20,
   "id": "8cd63c3b-7dbc-4bfb-b475-d08b390465e4",
   "metadata": {},
   "outputs": [
    {
     "data": {
      "text/plain": [
       "array([0.000e+00, 1.000e-01, 2.000e-01, 3.000e-01, 4.000e-01, 5.000e-01,\n",
       "       6.000e-01, 7.000e-01, 8.000e-01, 9.000e-01, 1.000e+00, 1.100e+00,\n",
       "       1.200e+00, 1.300e+00, 1.400e+00, 1.500e+00, 1.600e+00, 1.700e+00,\n",
       "       1.800e+00, 1.900e+00, 2.000e+00, 2.100e+00, 2.200e+00, 2.300e+00,\n",
       "       2.400e+00, 2.500e+00, 2.600e+00, 2.700e+00, 2.800e+00, 2.900e+00,\n",
       "       3.000e+00, 3.250e+00, 3.500e+00, 3.750e+00, 4.000e+00, 4.250e+00,\n",
       "       4.500e+00, 4.750e+00, 5.000e+00, 5.250e+00, 5.500e+00, 5.750e+00,\n",
       "       6.000e+00, 6.250e+00, 6.500e+00, 6.750e+00, 7.000e+00, 7.250e+00,\n",
       "       7.500e+00, 7.750e+00, 8.250e+00, 8.750e+00, 9.250e+00, 9.750e+00,\n",
       "       1.025e+01, 1.075e+01, 1.125e+01, 1.175e+01, 1.225e+01, 1.275e+01,\n",
       "       1.325e+01, 1.375e+01, 1.425e+01, 1.475e+01, 1.525e+01, 1.575e+01,\n",
       "       1.625e+01, 1.675e+01, 1.725e+01, 1.775e+01, 1.825e+01, 1.875e+01,\n",
       "       1.925e+01, 1.975e+01, 2.025e+01, 2.100e+01, 2.175e+01, 2.250e+01,\n",
       "       2.325e+01, 2.400e+01, 2.475e+01, 2.550e+01, 2.625e+01, 2.700e+01,\n",
       "       2.775e+01, 2.850e+01, 2.925e+01, 3.000e+01, 3.075e+01, 3.150e+01,\n",
       "       3.225e+01, 3.300e+01, 3.375e+01, 3.450e+01, 3.525e+01, 3.600e+01,\n",
       "       3.675e+01, 3.750e+01, 3.825e+01, 3.900e+01, 3.975e+01, 4.050e+01,\n",
       "       4.125e+01, 4.200e+01, 4.275e+01, 4.350e+01, 4.425e+01, 4.500e+01,\n",
       "       4.575e+01, 4.650e+01, 4.750e+01, 4.850e+01, 4.950e+01, 5.050e+01,\n",
       "       5.150e+01, 5.250e+01, 5.350e+01, 5.450e+01, 5.550e+01, 5.650e+01,\n",
       "       5.750e+01, 5.850e+01, 5.950e+01, 6.050e+01, 6.150e+01, 6.250e+01,\n",
       "       6.350e+01, 6.450e+01, 6.550e+01, 6.650e+01, 6.750e+01, 6.850e+01,\n",
       "       6.950e+01, 7.050e+01, 7.150e+01, 7.250e+01, 7.350e+01, 7.450e+01,\n",
       "       7.550e+01, 7.650e+01, 7.750e+01, 7.850e+01, 7.950e+01, 8.050e+01,\n",
       "       8.150e+01, 8.250e+01, 8.350e+01, 8.450e+01, 8.550e+01, 8.650e+01,\n",
       "       8.750e+01, 8.850e+01, 8.950e+01, 9.050e+01, 9.150e+01, 9.250e+01,\n",
       "       9.400e+01, 9.550e+01, 9.700e+01, 9.850e+01, 1.000e+02, 1.015e+02,\n",
       "       1.030e+02, 1.045e+02, 1.060e+02, 1.075e+02, 1.090e+02, 1.105e+02,\n",
       "       1.120e+02, 1.135e+02, 1.150e+02, 1.165e+02, 1.180e+02, 1.195e+02,\n",
       "       1.210e+02, 1.225e+02, 1.240e+02, 1.255e+02, 1.270e+02, 1.285e+02,\n",
       "       1.300e+02, 1.315e+02, 1.330e+02, 1.345e+02, 1.360e+02, 1.375e+02,\n",
       "       1.390e+02, 1.405e+02, 1.420e+02, 1.435e+02, 1.450e+02, 1.465e+02,\n",
       "       1.480e+02, 1.495e+02, 1.510e+02, 1.525e+02, 1.540e+02, 1.555e+02,\n",
       "       1.570e+02, 1.585e+02, 1.600e+02])"
      ]
     },
     "execution_count": 20,
     "metadata": {},
     "output_type": "execute_result"
    }
   ],
   "source": [
    "#time /=(24*3600*1392)/48.72\n",
    "#time\n",
    "\n",
    "time /= days"
   ]
  },
  {
   "cell_type": "code",
   "execution_count": 21,
   "id": "f122858c-0cd0-455f-885f-765dede70fbd",
   "metadata": {},
   "outputs": [
    {
     "data": {
      "text/plain": [
       "array([[1.50402554, 0.00285808],\n",
       "       [1.49977216, 0.0027462 ],\n",
       "       [1.49758958, 0.00254482],\n",
       "       [1.4964137 , 0.00248219],\n",
       "       [1.49880307, 0.00258759],\n",
       "       [1.49984706, 0.0024915 ],\n",
       "       [1.4915003 , 0.0026853 ],\n",
       "       [1.49850054, 0.00249293],\n",
       "       [1.49127915, 0.00259509],\n",
       "       [1.49700071, 0.00257165],\n",
       "       [1.49133827, 0.00264338],\n",
       "       [1.4985639 , 0.00242312],\n",
       "       [1.49570954, 0.00272898],\n",
       "       [1.4892778 , 0.00281499],\n",
       "       [1.49448439, 0.00268529],\n",
       "       [1.49829851, 0.00255733],\n",
       "       [1.49244212, 0.00263208],\n",
       "       [1.48902631, 0.00278996],\n",
       "       [1.49097847, 0.00280877],\n",
       "       [1.48620896, 0.00266595],\n",
       "       [1.49191502, 0.00284123],\n",
       "       [1.49162985, 0.00288795],\n",
       "       [1.49248266, 0.00275555],\n",
       "       [1.48696069, 0.00276025],\n",
       "       [1.48963181, 0.00297565],\n",
       "       [1.48744192, 0.00304644],\n",
       "       [1.49029571, 0.00307038],\n",
       "       [1.48312286, 0.00308025],\n",
       "       [1.48514246, 0.00258967],\n",
       "       [1.48788609, 0.00249911],\n",
       "       [1.48700522, 0.00271271],\n",
       "       [1.48577488, 0.00260603],\n",
       "       [1.48302863, 0.00273661],\n",
       "       [1.48034961, 0.00257773],\n",
       "       [1.48311077, 0.00285139],\n",
       "       [1.47573515, 0.00268733],\n",
       "       [1.48275251, 0.00199887],\n",
       "       [1.47066575, 0.00264749],\n",
       "       [1.47331471, 0.00261704],\n",
       "       [1.48034697, 0.00273046],\n",
       "       [1.47701067, 0.0025091 ],\n",
       "       [1.47617955, 0.00258945],\n",
       "       [1.47392489, 0.00270437],\n",
       "       [1.47161735, 0.00237021],\n",
       "       [1.4707089 , 0.00286248],\n",
       "       [1.47013603, 0.00282573],\n",
       "       [1.47068474, 0.00201917],\n",
       "       [1.46556787, 0.00255596],\n",
       "       [1.46875577, 0.00276933],\n",
       "       [1.46860459, 0.00266413],\n",
       "       [1.46365139, 0.00257236],\n",
       "       [1.4656538 , 0.00258774],\n",
       "       [1.46106864, 0.00286614],\n",
       "       [1.45972715, 0.00266045],\n",
       "       [1.45593489, 0.00270575],\n",
       "       [1.45068696, 0.00265173],\n",
       "       [1.45288026, 0.0025144 ],\n",
       "       [1.44692196, 0.00265679],\n",
       "       [1.45287283, 0.00236005],\n",
       "       [1.46029537, 0.00285219],\n",
       "       [1.44445273, 0.00262839],\n",
       "       [1.45142644, 0.00225455],\n",
       "       [1.45203023, 0.00275658],\n",
       "       [1.44730038, 0.00315563],\n",
       "       [1.44307349, 0.00266958],\n",
       "       [1.44117102, 0.00262569],\n",
       "       [1.43948517, 0.00245449],\n",
       "       [1.44068137, 0.00276404],\n",
       "       [1.43734439, 0.00296645],\n",
       "       [1.43838198, 0.00296287],\n",
       "       [1.43366019, 0.00268978],\n",
       "       [1.43472484, 0.00265273],\n",
       "       [1.43167406, 0.00254296],\n",
       "       [1.42963578, 0.00312398],\n",
       "       [1.4252362 , 0.00238416],\n",
       "       [1.42779722, 0.0028202 ],\n",
       "       [1.423698  , 0.00286529],\n",
       "       [1.4260218 , 0.00240392],\n",
       "       [1.42260234, 0.00277866],\n",
       "       [1.41584855, 0.0028292 ],\n",
       "       [1.40938397, 0.00251265],\n",
       "       [1.41183602, 0.00235092],\n",
       "       [1.41298208, 0.00260347],\n",
       "       [1.40960463, 0.00263569],\n",
       "       [1.40645794, 0.00263927],\n",
       "       [1.40439509, 0.00285606],\n",
       "       [1.40008352, 0.00265874],\n",
       "       [1.405634  , 0.00254353],\n",
       "       [1.39542968, 0.00302525],\n",
       "       [1.39422779, 0.00249947],\n",
       "       [1.38955706, 0.00267446],\n",
       "       [1.397488  , 0.00269985],\n",
       "       [1.38827805, 0.00300308],\n",
       "       [1.38520536, 0.00255456],\n",
       "       [1.38604231, 0.00273069],\n",
       "       [1.38409739, 0.00283739],\n",
       "       [1.38672056, 0.0031716 ],\n",
       "       [1.37693767, 0.00276941],\n",
       "       [1.37819017, 0.00295759],\n",
       "       [1.37725591, 0.00292445],\n",
       "       [1.37497169, 0.00277108],\n",
       "       [1.37569017, 0.00264489],\n",
       "       [1.37156363, 0.00257566],\n",
       "       [1.3686559 , 0.00278731],\n",
       "       [1.36818268, 0.00296791],\n",
       "       [1.35900647, 0.00273985],\n",
       "       [1.35633759, 0.00250702],\n",
       "       [1.36323969, 0.00263661],\n",
       "       [1.35518592, 0.00265271],\n",
       "       [1.35672109, 0.00268057],\n",
       "       [1.35271772, 0.00252989],\n",
       "       [1.34868683, 0.00275448],\n",
       "       [1.34415865, 0.00249709],\n",
       "       [1.34578058, 0.00313003],\n",
       "       [1.33719567, 0.00288861],\n",
       "       [1.33807516, 0.00252216],\n",
       "       [1.33755138, 0.00226142],\n",
       "       [1.34035174, 0.00243858],\n",
       "       [1.3341393 , 0.00270851],\n",
       "       [1.32952649, 0.00260963],\n",
       "       [1.32435395, 0.00280272],\n",
       "       [1.32386324, 0.00260848],\n",
       "       [1.3237989 , 0.00274844],\n",
       "       [1.31350033, 0.00263094],\n",
       "       [1.31894998, 0.00274857],\n",
       "       [1.30982201, 0.00260024],\n",
       "       [1.31123615, 0.00243432],\n",
       "       [1.30214092, 0.00265406],\n",
       "       [1.30063879, 0.00235577],\n",
       "       [1.30183004, 0.002486  ],\n",
       "       [1.29495494, 0.00261776],\n",
       "       [1.29532972, 0.00280982],\n",
       "       [1.29098163, 0.00301547],\n",
       "       [1.28613627, 0.00230468],\n",
       "       [1.28693459, 0.00276416],\n",
       "       [1.27798024, 0.00248447],\n",
       "       [1.27900666, 0.00252393],\n",
       "       [1.27975936, 0.00260787],\n",
       "       [1.2697972 , 0.00263068],\n",
       "       [1.27249426, 0.00261079],\n",
       "       [1.27087651, 0.00264402],\n",
       "       [1.26654514, 0.00246253],\n",
       "       [1.26699484, 0.00258686],\n",
       "       [1.26530558, 0.00263568],\n",
       "       [1.26026325, 0.00274026],\n",
       "       [1.24993541, 0.00257958],\n",
       "       [1.2514267 , 0.00279893],\n",
       "       [1.24725123, 0.00275902],\n",
       "       [1.24588261, 0.00263342],\n",
       "       [1.23887509, 0.00252562],\n",
       "       [1.23881398, 0.00284428],\n",
       "       [1.23600328, 0.00247878],\n",
       "       [1.23138283, 0.00309835],\n",
       "       [1.23493697, 0.00247511],\n",
       "       [1.226306  , 0.00274776],\n",
       "       [1.22081631, 0.0026656 ],\n",
       "       [1.21313242, 0.00252745],\n",
       "       [1.22019963, 0.00271794],\n",
       "       [1.21073593, 0.00263082],\n",
       "       [1.21148611, 0.00284111],\n",
       "       [1.20456192, 0.00268117],\n",
       "       [1.19437048, 0.00243953],\n",
       "       [1.19528326, 0.00277121],\n",
       "       [1.18747302, 0.00212117],\n",
       "       [1.18727178, 0.00234868],\n",
       "       [1.17685333, 0.00271897],\n",
       "       [1.17897877, 0.00210448],\n",
       "       [1.1663754 , 0.00231474],\n",
       "       [1.16714838, 0.00267747],\n",
       "       [1.16500055, 0.00258124],\n",
       "       [1.16083788, 0.00241292],\n",
       "       [1.15269693, 0.00218317],\n",
       "       [1.15167605, 0.00244907],\n",
       "       [1.14396211, 0.00243878],\n",
       "       [1.13852605, 0.00278844],\n",
       "       [1.13277173, 0.00280819],\n",
       "       [1.13118457, 0.0024038 ],\n",
       "       [1.12723232, 0.00260897],\n",
       "       [1.12215845, 0.00211939],\n",
       "       [1.11831905, 0.00258569],\n",
       "       [1.11280206, 0.0024022 ],\n",
       "       [1.10499655, 0.00250527],\n",
       "       [1.10563184, 0.00243862],\n",
       "       [1.09470247, 0.00211101],\n",
       "       [1.09901473, 0.00249209],\n",
       "       [1.08859833, 0.00253988],\n",
       "       [1.08633202, 0.00261954],\n",
       "       [1.08080637, 0.00294105],\n",
       "       [1.08021743, 0.00289718],\n",
       "       [1.07071044, 0.0030601 ],\n",
       "       [1.07156614, 0.00257262],\n",
       "       [1.06721554, 0.00251719],\n",
       "       [1.05860346, 0.00244949],\n",
       "       [1.05556588, 0.00256843],\n",
       "       [1.04978687, 0.00241131],\n",
       "       [1.05024888, 0.00247467],\n",
       "       [1.04307403, 0.00237436],\n",
       "       [1.03926809, 0.00244468],\n",
       "       [1.03322297, 0.00265357],\n",
       "       [1.03060816, 0.00269284],\n",
       "       [1.02328543, 0.00255164]])"
      ]
     },
     "execution_count": 21,
     "metadata": {},
     "output_type": "execute_result"
    }
   ],
   "source": [
    "k"
   ]
  },
  {
   "cell_type": "code",
   "execution_count": 22,
   "id": "cf58e073-0868-452b-89c6-8a0eb812d116",
   "metadata": {},
   "outputs": [
    {
     "data": {
      "image/png": "[encoded data removed]",
      "text/plain": [
       "<Figure size 640x480 with 1 Axes>"
      ]
     },
     "metadata": {},
     "output_type": "display_data"
    }
   ],
   "source": [
    "pyplot.errorbar(time, k[:, 0],color='green',marker='.',markersize=1)\n",
    "#pyplot.xlabel(\"MWd/kg\")\n",
    "pyplot.xlabel(\"time [days]\");\n",
    "pyplot.ylabel(\"$k_{eff}\\pm \\sigma$\");"
   ]
  },
  {
   "cell_type": "code",
   "execution_count": null,
   "id": "11b1ecdb-8eba-4463-b8e5-74f2e09beff0",
   "metadata": {},
   "outputs": [],
   "source": []
  }
 ],
 "metadata": {
  "kernelspec": {
   "display_name": "Python 3 (ipykernel)",
   "language": "python",
   "name": "python3"
  },
  "language_info": {
   "codemirror_mode": {
    "name": "ipython",
    "version": 3
   },
   "file_extension": ".py",
   "mimetype": "text/x-python",
   "name": "python",
   "nbconvert_exporter": "python",
   "pygments_lexer": "ipython3",
   "version": "3.9.16"
  }
 },
 "nbformat": 4,
 "nbformat_minor": 5
}
