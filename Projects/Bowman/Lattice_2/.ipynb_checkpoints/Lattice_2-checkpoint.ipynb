{
 "cells": [
  {
   "cell_type": "code",
   "execution_count": 1,
   "id": "d222d07d-7e8f-4831-bcc2-5b47e6bc32f8",
   "metadata": {},
   "outputs": [],
   "source": [
    "%matplotlib inline\n",
    "from math import pi, sin, cos\n",
    "import numpy as np\n",
    "import openmc"
   ]
  },
  {
   "cell_type": "code",
   "execution_count": 2,
   "id": "b5d018ce-2e32-4e8c-86b0-cfaa7ee58ae5",
   "metadata": {},
   "outputs": [
    {
     "name": "stderr",
     "output_type": "stream",
     "text": [
      "/home/m240600/.conda/envs/openmc-env/lib/python3.11/site-packages/openmc/material.py:740: UserWarning: A uranium enrichment of 19.75 was given for Material ID=\"1\". OpenMC assumes the U234/U235 mass ratio is constant at 0.008, which is only valid at low enrichments. Consider setting the isotopic composition manually for enrichments over 5%.\n",
      "  warnings.warn(msg)\n"
     ]
    }
   ],
   "source": [
    "fuel = openmc.Material(name='uo2')\n",
    "fuel.add_element('U',1.0,enrichment=19.75)\n",
    "fuel.add_element('O',2.0)\n",
    "fuel.temperature = 1473\n",
    "\n",
    "clad_in = openmc.Material(name='graphite')\n",
    "clad_in.add_element('C',1.0)\n",
    "clad_in.temperature = 1273\n",
    "\n",
    "clad_out = openmc.Material(name='SiC')\n",
    "clad_out.add_element('C',1.0)\n",
    "clad_out.add_element('Si',1.0)\n",
    "clad_out.temperature = 973\n",
    "\n",
    "coolant = openmc.Material(name='LiOH+NaOH')\n",
    "coolant.add_element('Li',1.0, enrichment=99.995, enrichment_target='Li7',enrichment_type='ao')\n",
    "coolant.add_element('H',1.0)\n",
    "coolant.add_element('O',1.0)\n",
    "coolant.add_element('Na',1.0)\n",
    "coolant.add_s_alpha_beta('c_H_in_H2O')\n",
    "coolant.set_density('g/cm3', 1.670)\n",
    "coolant.temperature = 973 \n",
    "\n",
    "moderator = openmc.Material(name='graphite')\n",
    "moderator.add_element('C',1.0)\n",
    "moderator.temperature = 973 \n",
    "\n",
    "materials = openmc.Materials([fuel,clad_in,clad_out,coolant,moderator])\n",
    "materials.export_to_xml()"
   ]
  },
  {
   "cell_type": "code",
   "execution_count": 3,
   "id": "4b54f5de-ccdf-4c6f-8a9d-65a04f321c7e",
   "metadata": {},
   "outputs": [],
   "source": [
    "r_fuel   = 0.35\n",
    "r_clad_1 = 0.5\n",
    "r_clad_2 = 0.6\n",
    "\n",
    "r_pt_in  = 7.5 #inner radius of the graphite pressure tube\n",
    "r_pt_out = 8.5 #outer radius of the graphite pressure tube\n",
    "\n",
    "lattice_pitch = 18\n",
    "\n",
    "ring_radii = np.array([0.0, 2.1, 4.2, 6.2])"
   ]
  },
  {
   "cell_type": "code",
   "execution_count": 4,
   "id": "e1f7589a-6b72-4e54-a37f-7111795b4ccc",
   "metadata": {},
   "outputs": [],
   "source": [
    "radial_surf = [openmc.ZCylinder(r=r) for r in\n",
    "               (ring_radii[:-1] + ring_radii[1:])/2]\n",
    "\n",
    "water_cells = []\n",
    "for i in range(ring_radii.size):\n",
    "    if i == 0:\n",
    "        water_region = -radial_surf[i]\n",
    "    elif i == ring_radii.size - 1:\n",
    "        water_region = +radial_surf[i-1]\n",
    "    else:\n",
    "        water_region = +radial_surf[i-1] & -radial_surf[i]\n",
    "\n",
    "    water_cells.append(openmc.Cell(fill=coolant, region=water_region))"
   ]
  },
  {
   "cell_type": "code",
   "execution_count": 5,
   "id": "0cd947f1-69e7-434f-a736-9fd98112be54",
   "metadata": {},
   "outputs": [
    {
     "data": {
      "text/plain": [
       "<matplotlib.image.AxesImage at 0x7f70ed588a90>"
      ]
     },
     "execution_count": 5,
     "metadata": {},
     "output_type": "execute_result"
    },
    {
     "data": {
      "image/png": "[encoded data removed]",
      "text/plain": [
       "<Figure size 258.065x259.74 with 1 Axes>"
      ]
     },
     "metadata": {},
     "output_type": "display_data"
    }
   ],
   "source": [
    "plot_args = {'width':(lattice_pitch,lattice_pitch)}\n",
    "bundle_universe = openmc.Universe(cells=water_cells)\n",
    "bundle_universe.plot(**plot_args)"
   ]
  },
  {
   "cell_type": "code",
   "execution_count": 6,
   "id": "6749981f-154f-46be-8659-e8804db4ac64",
   "metadata": {},
   "outputs": [],
   "source": [
    "core_top = openmc.ZPlane(81.6725)\n",
    "core_bottom = openmc.ZPlane(-81.6725)\n",
    "\n",
    "surf_fuel = openmc.ZCylinder(r=r_fuel)\n",
    "\n",
    "surf_clad_1 = openmc.ZCylinder(r=r_clad_1)\n",
    "surf_clad_2 = openmc.ZCylinder(r=r_clad_2)\n",
    "\n",
    "surf_pt_1 = openmc.ZCylinder(r=r_pt_in)\n",
    "surf_pt_2 = openmc.ZCylinder(r=r_pt_out)\n",
    "                               \n",
    "fuel_cell = openmc.Cell(fill=fuel, region=-surf_fuel & +core_bottom & -core_top)\n",
    "\n",
    "clad_cell_1 = openmc.Cell(fill=clad_in, region=+surf_fuel & -surf_clad_1 & +core_bottom & -core_top)\n",
    "clad_cell_2 = openmc.Cell(fill=clad_out, region=+surf_clad_1 & -surf_clad_2 & +core_bottom & -core_top)\n",
    "\n",
    "coolant_cell = openmc.Cell(fill=coolant, region= -surf_pt_1 & +surf_clad_2 & +core_bottom & -core_top)\n",
    "\n",
    "pin_universe = openmc.Universe(cells=(fuel_cell,clad_cell_1,clad_cell_2))"
   ]
  },
  {
   "cell_type": "code",
   "execution_count": 13,
   "id": "bd5e349b-4a12-4be2-ba1c-e3b108cc8ede",
   "metadata": {},
   "outputs": [
    {
     "data": {
      "text/plain": [
       "<matplotlib.image.AxesImage at 0x7f70e3bb1610>"
      ]
     },
     "execution_count": 13,
     "metadata": {},
     "output_type": "execute_result"
    },
    {
     "data": {
      "image/png": "[encoded data removed]",
      "text/plain": [
       "<Figure size 258.065x259.74 with 1 Axes>"
      ]
     },
     "metadata": {},
     "output_type": "display_data"
    }
   ],
   "source": [
    "pin_universe.plot(**{'width':(2*r_clad_2,2*r_clad_2)})"
   ]
  },
  {
   "cell_type": "code",
   "execution_count": 8,
   "id": "5f936801-db5a-4b7c-8236-900c94afb214",
   "metadata": {},
   "outputs": [],
   "source": [
    "num_pins = [1, 6, 12, 18]\n",
    "angles = [0, 0, 15, 0]\n",
    "\n",
    "for i, (r, n, a) in enumerate(zip(ring_radii, num_pins, angles)):\n",
    "    for j in range(n):\n",
    "        theta = (a + j/n*360)*pi/180.\n",
    "        x = r*cos(theta)\n",
    "        y = r*sin(theta)\n",
    "\n",
    "        pin_boundary = openmc.ZCylinder(x0=x, y0=y, r=r_clad_2)\n",
    "        water_cells[i].region &= +pin_boundary\n",
    "\n",
    "        pin = openmc.Cell(fill=pin_universe, region=-pin_boundary)\n",
    "        pin.translation = (x, y, 0)\n",
    "        pin.id = (i + 1)*100 + j\n",
    "        bundle_universe.add_cell(pin)"
   ]
  },
  {
   "cell_type": "code",
   "execution_count": 9,
   "id": "b010f535-2e30-41a5-8363-4b4fcc79b038",
   "metadata": {},
   "outputs": [
    {
     "data": {
      "text/plain": [
       "<matplotlib.image.AxesImage at 0x7f70e4570a90>"
      ]
     },
     "execution_count": 9,
     "metadata": {},
     "output_type": "execute_result"
    },
    {
     "data": {
      "image/png": "[encoded data removed]",
      "text/plain": [
       "<Figure size 258.065x259.74 with 1 Axes>"
      ]
     },
     "metadata": {},
     "output_type": "display_data"
    }
   ],
   "source": [
    "bundle_universe.plot(**plot_args)"
   ]
  },
  {
   "cell_type": "code",
   "execution_count": 20,
   "id": "cd3bed0b-ab96-4e67-985a-e3ce922f4794",
   "metadata": {},
   "outputs": [],
   "source": [
    "pt_inner = openmc.ZCylinder(r=r_pt_in)\n",
    "pt_outer = openmc.ZCylinder(r=r_pt_out)\n",
    "lattice_boundary = openmc.model.RectangularParallelepiped(-lattice_pitch/2,lattice_pitch/2,-lattice_pitch/2,lattice_pitch/2,-81.6725,81.6725)\n",
    "\n",
    "pt=openmc.Cell(fill=clad_in, region= +pt_inner & -pt_outer)\n",
    "moderator_cell=openmc.Cell(fill=moderator, region=-lattice_boundary & +pt_outer)\n",
    "\n",
    "bundle = openmc.Cell(fill=bundle_universe, region=-pt_inner)\n",
    "lattice_universe = openmc.Universe(cells=[bundle,pt,moderator_cell])"
   ]
  },
  {
   "cell_type": "code",
   "execution_count": null,
   "id": "bec70538-4d3e-4dc4-a5fe-19fe7e7cf958",
   "metadata": {},
   "outputs": [],
   "source": [
    "external_moderator=openmc.Cell(fill=moderator, region=-lattice_boundary)"
   ]
  },
  {
   "cell_type": "code",
   "execution_count": 17,
   "id": "a2d91042-26ea-471d-98b9-e077550b4bcb",
   "metadata": {},
   "outputs": [],
   "source": [
    "geometry = openmc.Geometry(root_universe)\n",
    "geometry.export_to_xml()\n",
    "\n",
    "materials=openmc.Materials(geometry.get_all_materials().values())\n",
    "materials.export_to_xml()"
   ]
  },
  {
   "cell_type": "code",
   "execution_count": 19,
   "id": "d55a5d5f-dc6c-4461-8f5e-31a5ae5bad49",
   "metadata": {},
   "outputs": [
    {
     "data": {
      "image/png": "[encoded data removed]",
      "text/plain": [
       "<IPython.core.display.Image object>"
      ]
     },
     "execution_count": 19,
     "metadata": {},
     "output_type": "execute_result"
    }
   ],
   "source": [
    "plot = openmc.Plot.from_geometry(geometry)\n",
    "plot.color_by = 'material'\n",
    "plot.colors = {\n",
    "    fuel: 'yellow',\n",
    "    clad_cell_1: 'silver',\n",
    "    clad_cell_1: 'yellow',\n",
    "    coolant: 'blue',\n",
    "    moderator: 'green',\n",
    "}\n",
    "plot.to_ipython_image()"
   ]
  },
  {
   "cell_type": "code",
   "execution_count": null,
   "id": "60207a52-6388-4e35-8747-c7ea07461fe8",
   "metadata": {},
   "outputs": [],
   "source": [
    "settings = openmc.Settings()\n",
    "settings.particles = 1000\n",
    "settings.batches = 20\n",
    "settings.inactive = 10\n",
    "settings.source = openmc.Source(space=openmc.stats.Point())\n",
    "settings.export_to_xml()"
   ]
  },
  {
   "cell_type": "code",
   "execution_count": null,
   "id": "3b1552af-b1a8-44ab-a437-3336ef7bb462",
   "metadata": {},
   "outputs": [],
   "source": [
    "fuel_tally = openmc.Tally()\n",
    "fuel_tally.filters = [openmc.DistribcellFilter(fuel_cell)"
   ]
  }
 ],
 "metadata": {
  "kernelspec": {
   "display_name": "Python 3 (ipykernel)",
   "language": "python",
   "name": "python3"
  },
  "language_info": {
   "codemirror_mode": {
    "name": "ipython",
    "version": 3
   },
   "file_extension": ".py",
   "mimetype": "text/x-python",
   "name": "python",
   "nbconvert_exporter": "python",
   "pygments_lexer": "ipython3",
   "version": "3.11.5"
  }
 },
 "nbformat": 4,
 "nbformat_minor": 5
}
