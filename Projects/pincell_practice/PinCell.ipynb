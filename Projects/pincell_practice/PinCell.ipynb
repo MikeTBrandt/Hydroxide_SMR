{
 "cells": [
  {
   "cell_type": "code",
   "execution_count": 1,
   "id": "fd56266b-8010-420c-bf3a-efcc30b1a849",
   "metadata": {},
   "outputs": [],
   "source": [
    "%matplotlib inline\n",
    "import openmc"
   ]
  },
  {
   "cell_type": "code",
   "execution_count": 2,
   "id": "d4d865c4-f17f-47b6-baed-6dc0061f3fd6",
   "metadata": {},
   "outputs": [],
   "source": [
    "uo2 = openmc.Material(1,\"uo2\")"
   ]
  },
  {
   "cell_type": "code",
   "execution_count": 3,
   "id": "a7cae2aa-11ec-4d03-bfdd-e5ed5cf69047",
   "metadata": {},
   "outputs": [],
   "source": [
    "uo2.add_nuclide('U235',0.03)\n",
    "uo2.add_nuclide('U238',0.97)\n",
    "uo2.add_nuclide('O16',2)\n",
    "uo2.set_density('g/cm3',10.0)"
   ]
  },
  {
   "cell_type": "code",
   "execution_count": 4,
   "id": "68988e22-eaeb-44f0-aca9-a4513b52adb2",
   "metadata": {},
   "outputs": [],
   "source": [
    "uo2.set_density('g/cm3',10.0)"
   ]
  },
  {
   "cell_type": "code",
   "execution_count": 5,
   "id": "ea9188b0-1d39-423d-be28-1fcde664f997",
   "metadata": {},
   "outputs": [],
   "source": [
    "zirconium = openmc.Material(name='zirconium')\n",
    "zirconium.add_element('Zr',1.0)\n",
    "zirconium.set_density('g/cm3',6.6)\n",
    "\n",
    "water = openmc.Material(name='water')\n",
    "water.add_nuclide('H1',2.0)\n",
    "water.add_nuclide('O16',1.0)\n",
    "water.set_density('g/cm3',1.0)"
   ]
  },
  {
   "cell_type": "code",
   "execution_count": 6,
   "id": "fb3fc68a-c8aa-454e-b5d1-08bea89aac93",
   "metadata": {},
   "outputs": [],
   "source": [
    "water.add_s_alpha_beta('c_H_in_H2O')"
   ]
  },
  {
   "cell_type": "code",
   "execution_count": 7,
   "id": "be753368-dd0c-442e-b148-5279bc17212c",
   "metadata": {},
   "outputs": [],
   "source": [
    "materials = openmc.Materials([uo2,zirconium,water])"
   ]
  },
  {
   "cell_type": "code",
   "execution_count": 8,
   "id": "a919972b-ae76-4c84-b240-65b82b0fffce",
   "metadata": {},
   "outputs": [
    {
     "name": "stdout",
     "output_type": "stream",
     "text": [
      "<?xml version='1.0' encoding='utf-8'?>\n",
      "<materials>\n",
      "  <material depletable=\"true\" id=\"1\" name=\"uo2\">\n",
      "    <density units=\"g/cm3\" value=\"10.0\" />\n",
      "    <nuclide ao=\"0.03\" name=\"U235\" />\n",
      "    <nuclide ao=\"0.97\" name=\"U238\" />\n",
      "    <nuclide ao=\"2\" name=\"O16\" />\n",
      "  </material>\n",
      "  <material id=\"2\" name=\"zirconium\">\n",
      "    <density units=\"g/cm3\" value=\"6.6\" />\n",
      "    <nuclide ao=\"0.5145\" name=\"Zr90\" />\n",
      "    <nuclide ao=\"0.1122\" name=\"Zr91\" />\n",
      "    <nuclide ao=\"0.1715\" name=\"Zr92\" />\n",
      "    <nuclide ao=\"0.1738\" name=\"Zr94\" />\n",
      "    <nuclide ao=\"0.028\" name=\"Zr96\" />\n",
      "  </material>\n",
      "  <material id=\"3\" name=\"water\">\n",
      "    <density units=\"g/cm3\" value=\"1.0\" />\n",
      "    <nuclide ao=\"2.0\" name=\"H1\" />\n",
      "    <nuclide ao=\"1.0\" name=\"O16\" />\n",
      "    <sab name=\"c_H_in_H2O\" />\n",
      "  </material>\n",
      "</materials>\n"
     ]
    }
   ],
   "source": [
    "materials.export_to_xml()\n",
    "!cat materials.xml"
   ]
  },
  {
   "cell_type": "code",
   "execution_count": 9,
   "id": "990e1e9b-0ffc-4161-8db9-8aca7cdf696d",
   "metadata": {},
   "outputs": [],
   "source": [
    "water.remove_nuclide('O16')\n",
    "water.add_element('O',1.0)\n",
    "\n",
    "materials.export_to_xml()"
   ]
  },
  {
   "cell_type": "code",
   "execution_count": 10,
   "id": "44274db2-d248-411d-8d10-9e37ef7ed54b",
   "metadata": {},
   "outputs": [],
   "source": [
    "uo2_three = openmc.Material()\n",
    "uo2_three.add_element('U',1.0, enrichment=3.0)\n",
    "uo2_three.add_element('O',2.0)\n",
    "uo2_three.set_density('g/cm3',10.0)"
   ]
  },
  {
   "cell_type": "code",
   "execution_count": 11,
   "id": "2ca565e9-6969-4267-8933-5e08d40c34c3",
   "metadata": {},
   "outputs": [],
   "source": [
    "puo2 = openmc.Material()\n",
    "puo2.add_nuclide('Pu239',0.94)\n",
    "puo2.add_nuclide('Pu240',0.06)\n",
    "puo2.add_nuclide('O16',2.0)\n",
    "puo2.set_density('g/cm3',11.5)\n",
    "\n",
    "mox = openmc.Material.mix_materials([uo2, puo2],[0.97, 0.03], 'wo')"
   ]
  },
  {
   "cell_type": "code",
   "execution_count": 12,
   "id": "4c07df37-ec26-4a75-af5c-9cfc2f08d5d6",
   "metadata": {},
   "outputs": [],
   "source": [
    "sphere = openmc.Sphere(r=1.0)"
   ]
  },
  {
   "cell_type": "code",
   "execution_count": 13,
   "id": "e742cf36-37b7-4c99-b99b-360e20d5de04",
   "metadata": {},
   "outputs": [],
   "source": [
    "inside_sphere = -sphere\n",
    "outside_sphere = +sphere"
   ]
  },
  {
   "cell_type": "code",
   "execution_count": 14,
   "id": "10f7b668-af3b-4d3c-9b3f-0b169c9d287d",
   "metadata": {},
   "outputs": [
    {
     "data": {
      "text/plain": [
       "(array([-1., -1.,  0.]), array([1., 1., 1.]))"
      ]
     },
     "execution_count": 14,
     "metadata": {},
     "output_type": "execute_result"
    }
   ],
   "source": [
    "z_plane = openmc.ZPlane(0)\n",
    "northern_hemisphere = -sphere & +z_plane\n",
    "northern_hemisphere.bounding_box"
   ]
  },
  {
   "cell_type": "code",
   "execution_count": 15,
   "id": "eede15e6-f171-431a-ad46-8727ccdbc4de",
   "metadata": {},
   "outputs": [],
   "source": [
    "cell = openmc.Cell()\n",
    "cell.region = northern_hemisphere\n",
    "cell.fill = water"
   ]
  },
  {
   "cell_type": "code",
   "execution_count": 17,
   "id": "9d580665-72c7-45c0-9e18-0bed82265e2f",
   "metadata": {},
   "outputs": [
    {
     "data": {
      "text/plain": [
       "<matplotlib.image.AxesImage at 0x7fbb134a7910>"
      ]
     },
     "execution_count": 17,
     "metadata": {},
     "output_type": "execute_result"
    },
    {
     "data": {
      "image/png": "[encoded data removed]",
      "text/plain": [
       "<Figure size 258.065x259.74 with 1 Axes>"
      ]
     },
     "metadata": {},
     "output_type": "display_data"
    }
   ],
   "source": [
    "universe = openmc.Universe()\n",
    "universe.add_cell(cell)\n",
    "universe.plot(width=(2.0, 2.0), origin=(0.0, 0.0, 0.1))"
   ]
  },
  {
   "cell_type": "code",
   "execution_count": 18,
   "id": "31af7f7e-6779-449e-bba5-d30b29fc85b1",
   "metadata": {},
   "outputs": [
    {
     "data": {
      "text/plain": [
       "<matplotlib.image.AxesImage at 0x7fbf588a4b50>"
      ]
     },
     "execution_count": 18,
     "metadata": {},
     "output_type": "execute_result"
    },
    {
     "data": {
      "image/png": "[encoded data removed]",
      "text/plain": [
       "<Figure size 258.065x259.74 with 1 Axes>"
      ]
     },
     "metadata": {},
     "output_type": "display_data"
    }
   ],
   "source": [
    "universe.plot(width=(2.0, 2.0), basis='xz')"
   ]
  },
  {
   "cell_type": "code",
   "execution_count": 20,
   "id": "348aebf7-f1e3-4c22-857a-460695a2803a",
   "metadata": {},
   "outputs": [],
   "source": [
    "fuel_outer_radius = openmc.ZCylinder(r=0.39)\n",
    "clad_inner_radius = openmc.ZCylinder(r=0.40)\n",
    "clad_outer_radius = openmc.ZCylinder(r=0.46)"
   ]
  },
  {
   "cell_type": "code",
   "execution_count": 22,
   "id": "fd0cdff5-3511-4959-abbd-8bca65b84312",
   "metadata": {},
   "outputs": [],
   "source": [
    "fuel_region = -fuel_outer_radius\n",
    "gap_region = +fuel_outer_radius & -clad_inner_radius\n",
    "clad_region = +clad_inner_radius & -clad_outer_radius"
   ]
  },
  {
   "cell_type": "code",
   "execution_count": 23,
   "id": "7a9f51cb-59ae-4e0f-a90b-02ed34f3de5c",
   "metadata": {},
   "outputs": [],
   "source": [
    "fuel = openmc.Cell(name='fuel')\n",
    "fuel.fill=uo2\n",
    "fuel.region=fuel_region\n",
    "\n",
    "gap=openmc.Cell(name='air gap')\n",
    "gap.region=gap_region\n",
    "\n",
    "clad = openmc.Cell(name='clad')\n",
    "clad.fill=zirconium\n",
    "clad.region=clad_region"
   ]
  },
  {
   "cell_type": "code",
   "execution_count": 25,
   "id": "3bb026f2-8421-4a49-9c80-8d0901f1b7b0",
   "metadata": {},
   "outputs": [],
   "source": [
    "pitch = 1.26\n",
    "left = openmc.XPlane(-pitch/2,boundary_type='reflective')\n",
    "right = openmc.XPlane(pitch/2,boundary_type='reflective')\n",
    "bottom = openmc.YPlane(-pitch/2,boundary_type='reflective')\n",
    "top = openmc.YPlane(pitch/2,boundary_type='reflective')"
   ]
  },
  {
   "cell_type": "code",
   "execution_count": 26,
   "id": "fb240f45-0e11-4762-a8ee-773f9e5d6c0b",
   "metadata": {},
   "outputs": [],
   "source": [
    "water_region = +left & -right & +bottom & -top & +clad_outer_radius\n",
    "\n",
    "moderator = openmc.Cell(name='moderator')\n",
    "moderator.fill = water\n",
    "moderator.region = water_region"
   ]
  },
  {
   "cell_type": "code",
   "execution_count": 28,
   "id": "5a473476-c80e-43cf-9f26-fc1434363aaf",
   "metadata": {},
   "outputs": [],
   "source": [
    "root_universe = openmc.Universe(cells=(fuel, gap, clad, moderator))\n",
    "geometry = openmc.Geometry()\n",
    "geometry.root_universe=root_universe\n",
    "geometry.export_to_xml()"
   ]
  },
  {
   "cell_type": "code",
   "execution_count": 29,
   "id": "43cb1bfc-2f0b-44e4-81e2-e89e8a63a515",
   "metadata": {},
   "outputs": [],
   "source": [
    "point = openmc.stats.Point((0,0,0))\n",
    "source = openmc.Source(space=point)"
   ]
  },
  {
   "cell_type": "code",
   "execution_count": 30,
   "id": "a7c5ec2c-47b7-40c4-8661-f452293ea97b",
   "metadata": {},
   "outputs": [],
   "source": [
    "settings = openmc.Settings()\n",
    "settings.source = source\n",
    "settings.batches = 100\n",
    "settings.inactive = 10\n",
    "settings.particles = 1000"
   ]
  },
  {
   "cell_type": "code",
   "execution_count": 31,
   "id": "c00b39e8-d8ad-4eb6-93de-7bc687ccfe63",
   "metadata": {},
   "outputs": [],
   "source": [
    "settings.export_to_xml()"
   ]
  },
  {
   "cell_type": "code",
   "execution_count": 32,
   "id": "e98d6947-d5c7-4d57-ae47-424b8ed0e529",
   "metadata": {},
   "outputs": [],
   "source": [
    "cell_filter = openmc.CellFilter(fuel)\n",
    "tally=openmc.Tally(1)\n",
    "tally.filters = [cell_filter]"
   ]
  },
  {
   "cell_type": "code",
   "execution_count": 33,
   "id": "e7d9db20-aa05-492c-8595-0c259c1fbcd6",
   "metadata": {},
   "outputs": [],
   "source": [
    "tally.nuclides = ['U235']\n",
    "tally.scores = ['total','fission','absorption','(n,gamma)']"
   ]
  },
  {
   "cell_type": "code",
   "execution_count": 34,
   "id": "4fbdb368-6999-4871-ae61-de4f051a2e44",
   "metadata": {},
   "outputs": [],
   "source": [
    "tallies = openmc.Tallies([tally])\n",
    "tallies.export_to_xml()"
   ]
  },
  {
   "cell_type": "code",
   "execution_count": 35,
   "id": "683a172c-b042-42c2-8b0e-b9f7d005a4ea",
   "metadata": {},
   "outputs": [
    {
     "name": "stdout",
     "output_type": "stream",
     "text": [
      "                                %%%%%%%%%%%%%%%\n",
      "                           %%%%%%%%%%%%%%%%%%%%%%%%\n",
      "                        %%%%%%%%%%%%%%%%%%%%%%%%%%%%%%\n",
      "                      %%%%%%%%%%%%%%%%%%%%%%%%%%%%%%%%%%\n",
      "                    %%%%%%%%%%%%%%%%%%%%%%%%%%%%%%%%%%%%%%\n",
      "                   %%%%%%%%%%%%%%%%%%%%%%%%%%%%%%%%%%%%%%%%\n",
      "                                    %%%%%%%%%%%%%%%%%%%%%%%%\n",
      "                                     %%%%%%%%%%%%%%%%%%%%%%%%\n",
      "                 ###############      %%%%%%%%%%%%%%%%%%%%%%%%\n",
      "                ##################     %%%%%%%%%%%%%%%%%%%%%%%\n",
      "                ###################     %%%%%%%%%%%%%%%%%%%%%%%\n",
      "                ####################     %%%%%%%%%%%%%%%%%%%%%%\n",
      "                #####################     %%%%%%%%%%%%%%%%%%%%%\n",
      "                ######################     %%%%%%%%%%%%%%%%%%%%\n",
      "                #######################     %%%%%%%%%%%%%%%%%%\n",
      "                 #######################     %%%%%%%%%%%%%%%%%\n",
      "                 ######################     %%%%%%%%%%%%%%%%%\n",
      "                  ####################     %%%%%%%%%%%%%%%%%\n",
      "                    #################     %%%%%%%%%%%%%%%%%\n",
      "                     ###############     %%%%%%%%%%%%%%%%\n",
      "                       ############     %%%%%%%%%%%%%%%\n",
      "                          ########     %%%%%%%%%%%%%%\n",
      "                                      %%%%%%%%%%%\n",
      "\n",
      "                 | The OpenMC Monte Carlo Code\n",
      "       Copyright | 2011-2023 MIT, UChicago Argonne LLC, and contributors\n",
      "         License | https://docs.openmc.org/en/latest/license.html\n",
      "         Version | 0.13.3\n",
      "        Git SHA1 | 50e39a4e20dc9e0f3d7ccf07333f6a5e6c797c8c\n",
      "       Date/Time | 2023-09-11 20:57:29\n",
      "  OpenMP Threads | 192\n",
      "\n",
      " Reading settings XML file...\n",
      " Reading cross sections XML file...\n",
      " Reading materials XML file...\n",
      " Reading geometry XML file...\n",
      " Reading U235 from /home/m240600/OpenMC_CrossSections/lib80x_hdf5/U235.h5\n",
      " Reading U238 from /home/m240600/OpenMC_CrossSections/lib80x_hdf5/U238.h5\n",
      " Reading O16 from /home/m240600/OpenMC_CrossSections/lib80x_hdf5/O16.h5\n",
      " Reading Zr90 from /home/m240600/OpenMC_CrossSections/lib80x_hdf5/Zr90.h5\n",
      " Reading Zr91 from /home/m240600/OpenMC_CrossSections/lib80x_hdf5/Zr91.h5\n",
      " Reading Zr92 from /home/m240600/OpenMC_CrossSections/lib80x_hdf5/Zr92.h5\n",
      " Reading Zr94 from /home/m240600/OpenMC_CrossSections/lib80x_hdf5/Zr94.h5\n",
      " Reading Zr96 from /home/m240600/OpenMC_CrossSections/lib80x_hdf5/Zr96.h5\n",
      " Reading H1 from /home/m240600/OpenMC_CrossSections/lib80x_hdf5/H1.h5\n",
      " Reading O17 from /home/m240600/OpenMC_CrossSections/lib80x_hdf5/O17.h5\n",
      " Reading O18 from /home/m240600/OpenMC_CrossSections/lib80x_hdf5/O18.h5\n",
      " Reading c_H_in_H2O from\n",
      " /home/m240600/OpenMC_CrossSections/lib80x_hdf5/c_H_in_H2O.h5\n",
      " Minimum neutron data temperature: 294 K\n",
      " Maximum neutron data temperature: 294 K\n",
      " Reading tallies XML file...\n",
      " Preparing distributed cell instances...\n",
      " Reading plot XML file...\n",
      " Writing summary.h5 file...\n",
      " Maximum neutron transport energy: 20000000 eV for Zr90\n",
      " Initializing source particles...\n",
      "\n",
      " ====================>     K EIGENVALUE SIMULATION     <====================\n",
      "\n",
      "  Bat./Gen.      k            Average k\n",
      "  =========   ========   ====================\n",
      "        1/1    1.50009\n",
      "        2/1    1.35278\n",
      "        3/1    1.43285\n",
      "        4/1    1.33273\n",
      "        5/1    1.43933\n",
      "        6/1    1.34848\n",
      "        7/1    1.40939\n",
      "        8/1    1.31870\n",
      "        9/1    1.32835\n",
      "       10/1    1.36075\n",
      "       11/1    1.37313\n",
      "       12/1    1.41724    1.39518 +/- 0.02206\n",
      "       13/1    1.28755    1.35931 +/- 0.03807\n",
      "       14/1    1.36788    1.36145 +/- 0.02700\n",
      "       15/1    1.39355    1.36787 +/- 0.02188\n",
      "       16/1    1.47137    1.38512 +/- 0.02483\n",
      "       17/1    1.37646    1.38388 +/- 0.02103\n",
      "       18/1    1.29762    1.37310 +/- 0.02116\n",
      "       19/1    1.33979    1.36940 +/- 0.01903\n",
      "       20/1    1.40613    1.37307 +/- 0.01741\n",
      "       21/1    1.36892    1.37270 +/- 0.01575\n",
      "       22/1    1.42529    1.37708 +/- 0.01503\n",
      "       23/1    1.41221    1.37978 +/- 0.01409\n",
      "       24/1    1.48443    1.38726 +/- 0.01503\n",
      "       25/1    1.43428    1.39039 +/- 0.01434\n",
      "       26/1    1.40850    1.39152 +/- 0.01346\n",
      "       27/1    1.43739    1.39422 +/- 0.01293\n",
      "       28/1    1.35842    1.39223 +/- 0.01235\n",
      "       29/1    1.39739    1.39250 +/- 0.01169\n",
      "       30/1    1.38091    1.39192 +/- 0.01110\n",
      "       31/1    1.45209    1.39479 +/- 0.01094\n",
      "       32/1    1.35142    1.39282 +/- 0.01062\n",
      "       33/1    1.45454    1.39550 +/- 0.01050\n",
      "       34/1    1.42968    1.39692 +/- 0.01015\n",
      "       35/1    1.29572    1.39288 +/- 0.01054\n",
      "       36/1    1.34700    1.39111 +/- 0.01028\n",
      "       37/1    1.36441    1.39012 +/- 0.00994\n",
      "       38/1    1.46173    1.39268 +/- 0.00992\n",
      "       39/1    1.45685    1.39489 +/- 0.00982\n",
      "       40/1    1.35289    1.39349 +/- 0.00959\n",
      "       41/1    1.40580    1.39389 +/- 0.00928\n",
      "       42/1    1.38403    1.39358 +/- 0.00900\n",
      "       43/1    1.47471    1.39604 +/- 0.00906\n",
      "       44/1    1.36974    1.39527 +/- 0.00882\n",
      "       45/1    1.42312    1.39606 +/- 0.00860\n",
      "       46/1    1.46405    1.39795 +/- 0.00857\n",
      "       47/1    1.34361    1.39648 +/- 0.00846\n",
      "       48/1    1.36816    1.39574 +/- 0.00827\n",
      "       49/1    1.35424    1.39467 +/- 0.00813\n",
      "       50/1    1.39402    1.39466 +/- 0.00792\n",
      "       51/1    1.38169    1.39434 +/- 0.00773\n",
      "       52/1    1.46347    1.39599 +/- 0.00772\n",
      "       53/1    1.32907    1.39443 +/- 0.00770\n",
      "       54/1    1.33788    1.39315 +/- 0.00763\n",
      "       55/1    1.31813    1.39148 +/- 0.00765\n",
      "       56/1    1.38027    1.39123 +/- 0.00748\n",
      "       57/1    1.44125    1.39230 +/- 0.00740\n",
      "       58/1    1.39674    1.39239 +/- 0.00724\n",
      "       59/1    1.38897    1.39232 +/- 0.00709\n",
      "       60/1    1.34764    1.39143 +/- 0.00701\n",
      "       61/1    1.41571    1.39190 +/- 0.00688\n",
      "       62/1    1.39012    1.39187 +/- 0.00675\n",
      "       63/1    1.35207    1.39112 +/- 0.00666\n",
      "       64/1    1.46119    1.39242 +/- 0.00667\n",
      "       65/1    1.44788    1.39342 +/- 0.00662\n",
      "       66/1    1.38362    1.39325 +/- 0.00651\n",
      "       67/1    1.46814    1.39456 +/- 0.00652\n",
      "       68/1    1.44809    1.39549 +/- 0.00648\n",
      "       69/1    1.47750    1.39688 +/- 0.00652\n",
      "       70/1    1.38394    1.39666 +/- 0.00641\n",
      "       71/1    1.31793    1.39537 +/- 0.00644\n",
      "       72/1    1.41556    1.39570 +/- 0.00634\n",
      "       73/1    1.40219    1.39580 +/- 0.00624\n",
      "       74/1    1.45253    1.39669 +/- 0.00620\n",
      "       75/1    1.41987    1.39704 +/- 0.00612\n",
      "       76/1    1.34692    1.39628 +/- 0.00607\n",
      "       77/1    1.47291    1.39743 +/- 0.00609\n",
      "       78/1    1.39643    1.39741 +/- 0.00600\n",
      "       79/1    1.41444    1.39766 +/- 0.00592\n",
      "       80/1    1.44635    1.39835 +/- 0.00587\n",
      "       81/1    1.41163    1.39854 +/- 0.00579\n",
      "       82/1    1.43199    1.39901 +/- 0.00573\n",
      "       83/1    1.42457    1.39936 +/- 0.00566\n",
      "       84/1    1.32631    1.39837 +/- 0.00567\n",
      "       85/1    1.46791    1.39930 +/- 0.00567\n",
      "       86/1    1.42361    1.39962 +/- 0.00561\n",
      "       87/1    1.39251    1.39952 +/- 0.00553\n",
      "       88/1    1.34463    1.39882 +/- 0.00551\n",
      "       89/1    1.38250    1.39861 +/- 0.00544\n",
      "       90/1    1.33977    1.39788 +/- 0.00542\n",
      "       91/1    1.35662    1.39737 +/- 0.00538\n",
      "       92/1    1.48421    1.39843 +/- 0.00542\n",
      "       93/1    1.38795    1.39830 +/- 0.00535\n",
      "       94/1    1.38851    1.39818 +/- 0.00529\n",
      "       95/1    1.47657    1.39911 +/- 0.00531\n",
      "       96/1    1.40083    1.39913 +/- 0.00525\n",
      "       97/1    1.41118    1.39927 +/- 0.00519\n",
      "       98/1    1.42921    1.39961 +/- 0.00514\n",
      "       99/1    1.38606    1.39945 +/- 0.00508\n",
      "      100/1    1.39089    1.39936 +/- 0.00503\n",
      " Creating state point statepoint.100.h5...\n",
      "\n",
      " =======================>     TIMING STATISTICS     <=======================\n",
      "\n",
      " Total time for initialization     = 1.3842e+00 seconds\n",
      "   Reading cross sections          = 1.3499e+00 seconds\n",
      " Total time in simulation          = 1.7134e+00 seconds\n",
      "   Time in transport only          = 1.2900e+00 seconds\n",
      "   Time in inactive batches        = 1.3814e-01 seconds\n",
      "   Time in active batches          = 1.5753e+00 seconds\n",
      "   Time synchronizing fission bank = 1.1104e-02 seconds\n",
      "     Sampling source sites         = 8.7472e-03 seconds\n",
      "     SEND/RECV source sites        = 2.1294e-03 seconds\n",
      "   Time accumulating tallies       = 3.8473e-01 seconds\n",
      "   Time writing statepoints        = 1.6840e-02 seconds\n",
      " Total time for finalization       = 9.6785e-05 seconds\n",
      " Total time elapsed                = 3.1508e+00 seconds\n",
      " Calculation Rate (inactive)       = 72390.5 particles/second\n",
      " Calculation Rate (active)         = 57133.3 particles/second\n",
      "\n",
      " ============================>     RESULTS     <============================\n",
      "\n",
      " k-effective (Collision)     = 1.39922 +/- 0.00414\n",
      " k-effective (Track-length)  = 1.39936 +/- 0.00503\n",
      " k-effective (Absorption)    = 1.40018 +/- 0.00301\n",
      " Combined k-effective        = 1.40000 +/- 0.00292\n",
      " Leakage Fraction            = 0.00000 +/- 0.00000\n",
      "\n"
     ]
    }
   ],
   "source": [
    "openmc.run()"
   ]
  },
  {
   "cell_type": "code",
   "execution_count": 36,
   "id": "1c79721c-253e-4a70-b501-ad156459be2d",
   "metadata": {},
   "outputs": [
    {
     "name": "stdout",
     "output_type": "stream",
     "text": [
      " ============================>     TALLY 1     <============================\n",
      "\n",
      " Cell 2\n",
      "   U235\n",
      "     Total Reaction Rate                  0.732182 +/- 0.00250891\n",
      "     Fission Rate                         0.54912 +/- 0.00205346\n",
      "     Absorption Rate                      0.660262 +/- 0.00242271\n",
      "     (n,gamma)                            0.111142 +/- 0.00038303\n"
     ]
    }
   ],
   "source": [
    "!cat tallies.out"
   ]
  },
  {
   "cell_type": "code",
   "execution_count": 37,
   "id": "83c65263-0912-4685-9d25-e4d9bc1159bc",
   "metadata": {},
   "outputs": [],
   "source": [
    "plot = openmc.Plot()\n",
    "plot.filename = 'pinplot'\n",
    "plot.width = (pitch,pitch)\n",
    "plot.pixels=(200,200)\n",
    "plot.color_by = 'material'\n",
    "plot.colors={uo2: 'yellow', water:'blue'}"
   ]
  },
  {
   "cell_type": "code",
   "execution_count": 38,
   "id": "c6a1e00b-9876-4ddb-b0c8-4d28f568da99",
   "metadata": {},
   "outputs": [],
   "source": [
    "plots = openmc.Plots([plot])\n",
    "plots.export_to_xml()"
   ]
  },
  {
   "cell_type": "code",
   "execution_count": 39,
   "id": "da78e508-7f5f-46d5-ac97-4bb446df8fab",
   "metadata": {},
   "outputs": [
    {
     "name": "stdout",
     "output_type": "stream",
     "text": [
      "                                %%%%%%%%%%%%%%%\n",
      "                           %%%%%%%%%%%%%%%%%%%%%%%%\n",
      "                        %%%%%%%%%%%%%%%%%%%%%%%%%%%%%%\n",
      "                      %%%%%%%%%%%%%%%%%%%%%%%%%%%%%%%%%%\n",
      "                    %%%%%%%%%%%%%%%%%%%%%%%%%%%%%%%%%%%%%%\n",
      "                   %%%%%%%%%%%%%%%%%%%%%%%%%%%%%%%%%%%%%%%%\n",
      "                                    %%%%%%%%%%%%%%%%%%%%%%%%\n",
      "                                     %%%%%%%%%%%%%%%%%%%%%%%%\n",
      "                 ###############      %%%%%%%%%%%%%%%%%%%%%%%%\n",
      "                ##################     %%%%%%%%%%%%%%%%%%%%%%%\n",
      "                ###################     %%%%%%%%%%%%%%%%%%%%%%%\n",
      "                ####################     %%%%%%%%%%%%%%%%%%%%%%\n",
      "                #####################     %%%%%%%%%%%%%%%%%%%%%\n",
      "                ######################     %%%%%%%%%%%%%%%%%%%%\n",
      "                #######################     %%%%%%%%%%%%%%%%%%\n",
      "                 #######################     %%%%%%%%%%%%%%%%%\n",
      "                 ######################     %%%%%%%%%%%%%%%%%\n",
      "                  ####################     %%%%%%%%%%%%%%%%%\n",
      "                    #################     %%%%%%%%%%%%%%%%%\n",
      "                     ###############     %%%%%%%%%%%%%%%%\n",
      "                       ############     %%%%%%%%%%%%%%%\n",
      "                          ########     %%%%%%%%%%%%%%\n",
      "                                      %%%%%%%%%%%\n",
      "\n",
      "                 | The OpenMC Monte Carlo Code\n",
      "       Copyright | 2011-2023 MIT, UChicago Argonne LLC, and contributors\n",
      "         License | https://docs.openmc.org/en/latest/license.html\n",
      "         Version | 0.13.3\n",
      "        Git SHA1 | 50e39a4e20dc9e0f3d7ccf07333f6a5e6c797c8c\n",
      "       Date/Time | 2023-09-11 21:01:07\n",
      "  OpenMP Threads | 192\n",
      "\n",
      " Reading settings XML file...\n",
      " Reading cross sections XML file...\n",
      " Reading materials XML file...\n",
      " Reading geometry XML file...\n",
      " Reading tallies XML file...\n",
      " Preparing distributed cell instances...\n",
      " Reading plot XML file...\n",
      "\n",
      " =======================>     PLOTTING SUMMARY     <========================\n",
      "\n",
      "Plot ID: 3\n",
      "Plot file: pinplot.png\n",
      "Universe depth: -1\n",
      "Plot Type: Slice\n",
      "Origin: 0 0 0\n",
      "Width: 1.26 1.26\n",
      "Coloring: Materials\n",
      "Basis: XY\n",
      "Pixels: 200 200\n",
      "\n",
      " Processing plot 3: pinplot.png...\n"
     ]
    }
   ],
   "source": [
    "openmc.plot_geometry()"
   ]
  },
  {
   "cell_type": "code",
   "execution_count": 40,
   "id": "41985d62-c73f-449a-8a2c-fc56ed30a7ee",
   "metadata": {},
   "outputs": [
    {
     "data": {
      "image/png": "[encoded data removed]",
      "text/plain": [
       "<IPython.core.display.Image object>"
      ]
     },
     "execution_count": 40,
     "metadata": {},
     "output_type": "execute_result"
    }
   ],
   "source": [
    "from IPython.display import Image\n",
    "Image(\"pinplot.png\")"
   ]
  },
  {
   "cell_type": "code",
   "execution_count": 41,
   "id": "42fbc995-b206-473d-a5ec-d2ddeed239ec",
   "metadata": {},
   "outputs": [
    {
     "data": {
      "image/png": "[encoded data removed]",
      "text/plain": [
       "<IPython.core.display.Image object>"
      ]
     },
     "execution_count": 41,
     "metadata": {},
     "output_type": "execute_result"
    }
   ],
   "source": [
    "plot.to_ipython_image()"
   ]
  },
  {
   "cell_type": "code",
   "execution_count": null,
   "id": "c915bda8-c0d7-4d38-b785-90b02d5a44fd",
   "metadata": {},
   "outputs": [],
   "source": []
  }
 ],
 "metadata": {
  "kernelspec": {
   "display_name": "Python 3 (ipykernel)",
   "language": "python",
   "name": "python3"
  },
  "language_info": {
   "codemirror_mode": {
    "name": "ipython",
    "version": 3
   },
   "file_extension": ".py",
   "mimetype": "text/x-python",
   "name": "python",
   "nbconvert_exporter": "python",
   "pygments_lexer": "ipython3",
   "version": "3.11.5"
  }
 },
 "nbformat": 4,
 "nbformat_minor": 5
}
